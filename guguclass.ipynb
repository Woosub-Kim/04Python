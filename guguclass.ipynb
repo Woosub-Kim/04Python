{
 "cells": [
  {
   "cell_type": "code",
   "execution_count": null,
   "metadata": {},
   "outputs": [],
   "source": [
    "def guguclass(n):\n",
    "    for  i in range(1,10):\n",
    "        for j in range(n, n+4):\n",
    "            print('%dX%d=%2d'%(j,i,i*j), end=' ')\n",
    "        print()\n",
    "    print()\n",
    "print('구구클래스 재현');guguclass(2);guguclass(6);"
   ]
  }
 ],
 "metadata": {
  "kernelspec": {
   "display_name": "Python 3",
   "language": "python",
   "name": "python3"
  },
  "language_info": {
   "codemirror_mode": {
    "name": "ipython",
    "version": 3
   },
   "file_extension": ".py",
   "mimetype": "text/x-python",
   "name": "python",
   "nbconvert_exporter": "python",
   "pygments_lexer": "ipython3",
   "version": "3.7.4"
  }
 },
 "nbformat": 4,
 "nbformat_minor": 2
}
