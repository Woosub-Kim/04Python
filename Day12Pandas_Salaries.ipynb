{
 "cells": [
  {
   "cell_type": "markdown",
   "metadata": {},
   "source": [
    "# Pandas 응용 Salaries\n",
    "sort_values  \n",
    "value_counts  \n",
    "str.contains()  "
   ]
  },
  {
   "cell_type": "code",
   "execution_count": 1,
   "metadata": {},
   "outputs": [],
   "source": [
    "import pandas as pd\n",
    "import numpy as np\n",
    "import matplotlib.pyplot as plt"
   ]
  },
  {
   "cell_type": "code",
   "execution_count": 2,
   "metadata": {},
   "outputs": [],
   "source": [
    "df = pd.read_csv('./D11/Salaries1.csv', index_col=0)"
   ]
  },
  {
   "cell_type": "code",
   "execution_count": 3,
   "metadata": {},
   "outputs": [],
   "source": [
    "salary = df.drop(['Notes', 'Status', 'Id'], axis=1)"
   ]
  },
  {
   "cell_type": "code",
   "execution_count": 4,
   "metadata": {},
   "outputs": [
    {
     "name": "stdout",
     "output_type": "stream",
     "text": [
      "75601.13714620461\n",
      "245131.88\n",
      "36198    Captain, Fire Suppression\n",
      "Name: JobTitle, dtype: object\n",
      "0    NATHANIEL FORD\n",
      "Name: EmployeeName, dtype: object\n",
      "Year\n",
      "2011     63595.956517\n",
      "2012    106964.140280\n",
      "Name: BasePay, dtype: float64\n",
      "Year\n",
      "2011     63595.956517\n",
      "2012    106964.140280\n",
      "Name: BasePay, dtype: float64\n",
      "1697\n",
      "1408\n"
     ]
    },
    {
     "data": {
      "text/plain": [
       "array(['general manager-metropolitan transit authority',\n",
       "       'captain iii (police department)',\n",
       "       'wire rope cable maintenance mechanic', ...,\n",
       "       'communications dispatcher 2', 'cfdntal sctry to city atty',\n",
       "       'rep, comm status of women'], dtype=object)"
      ]
     },
     "execution_count": 4,
     "metadata": {},
     "output_type": "execute_result"
    }
   ],
   "source": [
    "#BasePay의 평균\n",
    "print(salary.BasePay.mean())\n",
    "#OverPay의 최대값\n",
    "print(salary.OvertimePay.max())\n",
    "#'JOSEPH SRISCOLL'의 JOB TITLE\n",
    "print(salary[salary.EmployeeName=='Joseph Driscoll'].JobTitle)\n",
    "#TotalPayBenefits의 최고액을 수령하는 사람의 이름\n",
    "print(salary[salary.TotalPayBenefits==salary.TotalPayBenefits.max()].EmployeeName)\n",
    "#2011,2012년의 BasePay의 연도별 평균페이\n",
    "print(salary[(salary.Year==2011)|(salary.Year==2012)].groupby('Year').BasePay.mean())\n",
    "print(salary.groupby('Year').BasePay.mean()[[2011,2012]])\n",
    "#JobTitle종류의 수\n",
    "print(len(salary.JobTitle.unique()))\n",
    "#JobTitle종류의 수(대소문자 구분없음)\n",
    "print(len(salary.JobTitle.apply(lambda x:x.lower()).unique()))\n",
    "salary.JobTitle.apply(lambda x:x.lower()).unique()"
   ]
  },
  {
   "cell_type": "code",
   "execution_count": 5,
   "metadata": {},
   "outputs": [
    {
     "name": "stdout",
     "output_type": "stream",
     "text": [
      "transit operator    3040\n",
      "registered nurse    2222\n",
      "firefighter         1487\n",
      "special nurse       1464\n",
      "deputy sheriff      1273\n",
      "Name: jobtitle, dtype: int64\n",
      "200\n",
      "204\n"
     ]
    },
    {
     "data": {
      "text/plain": [
       "5"
      ]
     },
     "execution_count": 5,
     "metadata": {},
     "output_type": "execute_result"
    }
   ],
   "source": [
    "# JobTitle에서 가장 많은 Job 상위 5개\n",
    "salary['jobtitle'] = salary.JobTitle.apply(lambda x:x.lower())\n",
    "salary.groupby('jobtitle').Agency.count().sort_values(ascending=False)[:5]\n",
    "print(salary.jobtitle.value_counts()[:5])\n",
    "# 2011년 오직 한 사람만 종사한 job의 갯수\n",
    "print(sum(salary[salary.Year==2011].jobtitle.value_counts()==1))\n",
    "# 2011년도에 'Chef'인 사람의 수(대소문자)\n",
    "#print(sum(salary[salary.Year==2011].jobtitle.apply(lambda x:True if 'chief' in x else False)))\n",
    "print(sum(salary[salary.Year==2011].jobtitle.apply(lambda x:'chief' in x )))\n",
    "sum(salary[salary.Year==2011].jobtitle=='chef')\n",
    "[j for j in salary.jobtitle if 'chef' in j]\n",
    "\n",
    "sum(salary.jobtitle.str.contains('chef'))"
   ]
  },
  {
   "cell_type": "code",
   "execution_count": null,
   "metadata": {},
   "outputs": [],
   "source": []
  }
 ],
 "metadata": {
  "kernelspec": {
   "display_name": "Python 3",
   "language": "python",
   "name": "python3"
  },
  "language_info": {
   "codemirror_mode": {
    "name": "ipython",
    "version": 3
   },
   "file_extension": ".py",
   "mimetype": "text/x-python",
   "name": "python",
   "nbconvert_exporter": "python",
   "pygments_lexer": "ipython3",
   "version": "3.7.4"
  }
 },
 "nbformat": 4,
 "nbformat_minor": 2
}
