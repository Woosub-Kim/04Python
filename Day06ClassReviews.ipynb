{
 "cells": [
  {
   "cell_type": "markdown",
   "metadata": {},
   "source": [
    "### Class"
   ]
  },
  {
   "cell_type": "code",
   "execution_count": null,
   "metadata": {},
   "outputs": [],
   "source": [
    "# 자주 함께 사용하는 변수와 함수를 묶어서 클래스로 만들어서 사용..\n",
    "# 변수 - 속성(attribute)\n",
    "# 함수 - 메소드(method)\n",
    "# 클래스는 복사해서 사용 => 객체(object, instance)"
   ]
  },
  {
   "cell_type": "code",
   "execution_count": 5,
   "metadata": {},
   "outputs": [],
   "source": [
    "class MyClass:\n",
    "    var = '안녕하세요'   # 클래스 변수 - 모든 객체에서 접근\n",
    "    def sayHello(self, x):\n",
    "        self.var = x\n",
    "        print(self.var)   # 인스턴스 변수 - 특정 객체에서만 공유"
   ]
  },
  {
   "cell_type": "code",
   "execution_count": 6,
   "metadata": {},
   "outputs": [],
   "source": [
    "obj = MyClass()"
   ]
  },
  {
   "cell_type": "code",
   "execution_count": 7,
   "metadata": {
    "collapsed": true
   },
   "outputs": [
    {
     "data": {
      "text/plain": [
       "'안녕하세요'"
      ]
     },
     "execution_count": 7,
     "metadata": {},
     "output_type": "execute_result"
    }
   ],
   "source": [
    "obj.var"
   ]
  },
  {
   "cell_type": "code",
   "execution_count": 8,
   "metadata": {
    "collapsed": true
   },
   "outputs": [
    {
     "name": "stdout",
     "output_type": "stream",
     "text": [
      "hello\n"
     ]
    }
   ],
   "source": [
    "obj.sayHello('hello')"
   ]
  },
  {
   "cell_type": "code",
   "execution_count": 9,
   "metadata": {},
   "outputs": [],
   "source": [
    "mc = MyClass()"
   ]
  },
  {
   "cell_type": "code",
   "execution_count": 10,
   "metadata": {
    "collapsed": true
   },
   "outputs": [
    {
     "data": {
      "text/plain": [
       "'안녕하세요'"
      ]
     },
     "execution_count": 10,
     "metadata": {},
     "output_type": "execute_result"
    }
   ],
   "source": [
    "mc.var"
   ]
  },
  {
   "cell_type": "code",
   "execution_count": 11,
   "metadata": {
    "collapsed": true
   },
   "outputs": [
    {
     "name": "stdout",
     "output_type": "stream",
     "text": [
      "Python\n"
     ]
    }
   ],
   "source": [
    "mc.sayHello('Python')"
   ]
  },
  {
   "cell_type": "code",
   "execution_count": null,
   "metadata": {},
   "outputs": [],
   "source": []
  },
  {
   "cell_type": "code",
   "execution_count": 16,
   "metadata": {},
   "outputs": [],
   "source": [
    "class MyClass:\n",
    "    var = '안녕하세요!!'\n",
    "    def sayHello(self):\n",
    "        param1 = '안녕'\n",
    "        self.param2 = '하이'\n",
    "        print(param1)\n",
    "        print(self.var)"
   ]
  },
  {
   "cell_type": "code",
   "execution_count": 17,
   "metadata": {},
   "outputs": [],
   "source": [
    "mc = MyClass()"
   ]
  },
  {
   "cell_type": "code",
   "execution_count": 18,
   "metadata": {},
   "outputs": [
    {
     "name": "stdout",
     "output_type": "stream",
     "text": [
      "안녕\n",
      "안녕하세요!!\n"
     ]
    }
   ],
   "source": [
    "mc.sayHello()"
   ]
  },
  {
   "cell_type": "code",
   "execution_count": null,
   "metadata": {},
   "outputs": [],
   "source": []
  },
  {
   "cell_type": "code",
   "execution_count": 20,
   "metadata": {},
   "outputs": [],
   "source": [
    "class MyClass:\n",
    "    def sayHello(self):\n",
    "        print('안녕하세요')\n",
    "    def sayBye(self, name):\n",
    "        print('{}! 다음에 보자!'.format(name))"
   ]
  },
  {
   "cell_type": "code",
   "execution_count": 21,
   "metadata": {},
   "outputs": [],
   "source": [
    "obj = MyClass()"
   ]
  },
  {
   "cell_type": "code",
   "execution_count": 22,
   "metadata": {},
   "outputs": [
    {
     "name": "stdout",
     "output_type": "stream",
     "text": [
      "안녕하세요\n"
     ]
    }
   ],
   "source": [
    "obj.sayHello()"
   ]
  },
  {
   "cell_type": "code",
   "execution_count": 23,
   "metadata": {},
   "outputs": [
    {
     "name": "stdout",
     "output_type": "stream",
     "text": [
      "yuna! 다음에 보자!\n"
     ]
    }
   ],
   "source": [
    "obj.sayBye('yuna')"
   ]
  },
  {
   "cell_type": "code",
   "execution_count": null,
   "metadata": {},
   "outputs": [],
   "source": []
  },
  {
   "cell_type": "code",
   "execution_count": 25,
   "metadata": {},
   "outputs": [],
   "source": [
    "class MyClass:\n",
    "    def __init__(self):\n",
    "        self.var = '안녕하세요!'\n",
    "        print('MyClass 인스턴스 객체가 생성되었습니다')"
   ]
  },
  {
   "cell_type": "code",
   "execution_count": 26,
   "metadata": {},
   "outputs": [
    {
     "name": "stdout",
     "output_type": "stream",
     "text": [
      "MyClass 인스턴스 객체가 생성되었습니다\n"
     ]
    }
   ],
   "source": [
    "mc = MyClass()"
   ]
  },
  {
   "cell_type": "code",
   "execution_count": null,
   "metadata": {},
   "outputs": [],
   "source": []
  },
  {
   "cell_type": "code",
   "execution_count": 38,
   "metadata": {},
   "outputs": [],
   "source": [
    "class MyClass:\n",
    "    def sayHello(self):\n",
    "        print('안녕하세요')\n",
    "    def __del__(self):\n",
    "        print('MyClass 인스턴스 객체가 메모리에서 제거됩니다.')"
   ]
  },
  {
   "cell_type": "code",
   "execution_count": 39,
   "metadata": {},
   "outputs": [],
   "source": [
    "mc = MyClass()"
   ]
  },
  {
   "cell_type": "code",
   "execution_count": 40,
   "metadata": {
    "collapsed": true
   },
   "outputs": [
    {
     "name": "stdout",
     "output_type": "stream",
     "text": [
      "안녕하세요\n"
     ]
    }
   ],
   "source": [
    "mc.sayHello()"
   ]
  },
  {
   "cell_type": "code",
   "execution_count": 41,
   "metadata": {
    "collapsed": true
   },
   "outputs": [
    {
     "name": "stdout",
     "output_type": "stream",
     "text": [
      "MyClass 인스턴스 객체가 메모리에서 제거됩니다.\n"
     ]
    }
   ],
   "source": [
    "del mc"
   ]
  },
  {
   "cell_type": "code",
   "execution_count": 42,
   "metadata": {},
   "outputs": [],
   "source": [
    "class Add:\n",
    "    def add(self, n1, n2):\n",
    "        return n1+n2\n",
    "    \n",
    "class Multiply:\n",
    "    def multiply(self, n1, n2):\n",
    "        return n1*n2\n",
    "    \n",
    "class Calculator(Add, Multiply):\n",
    "    def sub(self, n1, n2):\n",
    "        return n1 - n2"
   ]
  },
  {
   "cell_type": "code",
   "execution_count": 44,
   "metadata": {},
   "outputs": [],
   "source": [
    "cc = Calculator()"
   ]
  },
  {
   "cell_type": "code",
   "execution_count": 45,
   "metadata": {},
   "outputs": [
    {
     "data": {
      "text/plain": [
       "2"
      ]
     },
     "execution_count": 45,
     "metadata": {},
     "output_type": "execute_result"
    }
   ],
   "source": [
    "cc.sub(4,2)"
   ]
  },
  {
   "cell_type": "code",
   "execution_count": 46,
   "metadata": {},
   "outputs": [
    {
     "data": {
      "text/plain": [
       "6"
      ]
     },
     "execution_count": 46,
     "metadata": {},
     "output_type": "execute_result"
    }
   ],
   "source": [
    "cc.add(4,2)"
   ]
  },
  {
   "cell_type": "code",
   "execution_count": 48,
   "metadata": {},
   "outputs": [
    {
     "data": {
      "text/plain": [
       "8"
      ]
     },
     "execution_count": 48,
     "metadata": {},
     "output_type": "execute_result"
    }
   ],
   "source": [
    "cc.multiply(4,2)"
   ]
  },
  {
   "cell_type": "code",
   "execution_count": null,
   "metadata": {},
   "outputs": [],
   "source": []
  },
  {
   "cell_type": "code",
   "execution_count": 49,
   "metadata": {},
   "outputs": [],
   "source": [
    "class Add:\n",
    "    def add(self, n1, n2):\n",
    "        return n1+n2\n",
    "    \n",
    "class Calculator(Add):\n",
    "    def sub(self, n1, n2):\n",
    "        return n1-n2"
   ]
  },
  {
   "cell_type": "code",
   "execution_count": 50,
   "metadata": {},
   "outputs": [],
   "source": [
    "cc = Calculator()"
   ]
  },
  {
   "cell_type": "code",
   "execution_count": 51,
   "metadata": {},
   "outputs": [
    {
     "data": {
      "text/plain": [
       "6"
      ]
     },
     "execution_count": 51,
     "metadata": {},
     "output_type": "execute_result"
    }
   ],
   "source": [
    "cc.add(2,4)"
   ]
  },
  {
   "cell_type": "code",
   "execution_count": 52,
   "metadata": {},
   "outputs": [
    {
     "data": {
      "text/plain": [
       "-2"
      ]
     },
     "execution_count": 52,
     "metadata": {},
     "output_type": "execute_result"
    }
   ],
   "source": [
    "cc.sub(2,4)"
   ]
  },
  {
   "cell_type": "code",
   "execution_count": null,
   "metadata": {},
   "outputs": [],
   "source": []
  },
  {
   "cell_type": "code",
   "execution_count": 3,
   "metadata": {},
   "outputs": [
    {
     "name": "stdout",
     "output_type": "stream",
     "text": [
      "?? \n"
     ]
    }
   ],
   "source": [
    "class Note:\n",
    "    \n",
    "    def __init__(self, contents=''):\n",
    "        self.contents = contents\n",
    "        \n",
    "    def write_contents(self, contents):\n",
    "        self.contents = contents\n",
    "        \n",
    "    def remove_contents(self):\n",
    "        self.contents = ''\n",
    "        \n",
    "    def __str__(self):\n",
    "        print('객체를 프린트할 때 실행되는 함수')\n",
    "        return self.contents\n",
    "class Notebook(Note):\n",
    "    def __init__(self, contents='', subject=''):\n",
    "        self.contents = contents\n",
    "        self.subject = subject\n",
    "    def remove_contents(self):\n",
    "        self.contents = ''\n",
    "        self.subject = ''\n",
    "    def write_subject(self, subject):\n",
    "        self.subject = subject\n",
    "\n",
    "nb = Notebook()\n",
    "nb.write_contents('python')\n",
    "nb.write_subject('progamming')\n",
    "nb.remove_contents()\n",
    "print('??',nb.contents)\n",
    "       \n",
    "        "
   ]
  },
  {
   "cell_type": "code",
   "execution_count": 9,
   "metadata": {},
   "outputs": [],
   "source": [
    "nt = Note()\n",
    "nt.write_contents('Python')"
   ]
  },
  {
   "cell_type": "code",
   "execution_count": 10,
   "metadata": {},
   "outputs": [
    {
     "name": "stdout",
     "output_type": "stream",
     "text": [
      "객체를 프린트할 때 실행되는 함수\n",
      "Python\n"
     ]
    }
   ],
   "source": [
    "print(nt)"
   ]
  },
  {
   "cell_type": "code",
   "execution_count": 72,
   "metadata": {},
   "outputs": [],
   "source": [
    "nt.write_contents('hello')"
   ]
  },
  {
   "cell_type": "code",
   "execution_count": 73,
   "metadata": {},
   "outputs": [
    {
     "name": "stdout",
     "output_type": "stream",
     "text": [
      "hello\n"
     ]
    }
   ],
   "source": [
    "print(nt)"
   ]
  },
  {
   "cell_type": "code",
   "execution_count": 74,
   "metadata": {},
   "outputs": [],
   "source": [
    "nt.remove_contents()"
   ]
  },
  {
   "cell_type": "code",
   "execution_count": 75,
   "metadata": {},
   "outputs": [
    {
     "name": "stdout",
     "output_type": "stream",
     "text": [
      "\n"
     ]
    }
   ],
   "source": [
    "print(nt)"
   ]
  },
  {
   "cell_type": "code",
   "execution_count": 18,
   "metadata": {},
   "outputs": [
    {
     "name": "stdout",
     "output_type": "stream",
     "text": [
      "저의 이름은 Park이고, 제 나이는 24살 입니다\n",
      "저의 이름은 Park이고, 제 나이는 24살 입니다\n",
      "제 급여는 360이고 제 입사일은 20200101입니다.\n",
      "열일한다\n",
      "Park와 Park가 만났다\n"
     ]
    }
   ],
   "source": [
    "class Person():\n",
    "    def __init__(self, name, age, gender):\n",
    "        \n",
    "        self.name = name\n",
    "        self.age = age\n",
    "        self.gender = gender\n",
    "    def about_me(self):\n",
    "        print('저의 이름은 {}이고, 제 나이는 {}살 입니다'.format(self.name,self.age))\n",
    "    def __add__(self,x):\n",
    "        print('{}와 {}가 만났다'.format(self.name, x.name))\n",
    "\n",
    "#class Employee(Person):\n",
    "#    pass\n",
    "\n",
    "class Employee(Person):\n",
    "    # 생성자 오버라이딩\n",
    "    def __init__(self, name, age, gender, salary, hire_date):\n",
    "        super().__init__(name,age,gender)\n",
    "        self.salary = salary\n",
    "        self.hire_date = hire_date\n",
    "    def do_work(self):\n",
    "        print('열일한다')\n",
    "    # 멤버메소드 오버라이딩\n",
    "    def about_me(self):\n",
    "        super().about_me()\n",
    "        print('제 급여는 {}이고 제 입사일은 {}입니다.'.format(self.salary, self.hire_date))\n",
    "        \n",
    "# main\n",
    "pr = Person('Park', 24, 'M')\n",
    "pr.about_me()\n",
    "em = Employee('Park', 24, 'M', 360, '20200101')\n",
    "em.about_me()\n",
    "em.do_work()\n",
    "pr+em"
   ]
  },
  {
   "cell_type": "code",
   "execution_count": null,
   "metadata": {},
   "outputs": [],
   "source": [
    "# __??__()함수 시리즈\n",
    "# __init__() 생성자\n",
    "# __str__() 프린트시\n",
    "# __add__() __sub__() __mul__() __div__() 연산 정의"
   ]
  }
 ],
 "metadata": {
  "kernelspec": {
   "display_name": "Python 3",
   "language": "python",
   "name": "python3"
  },
  "language_info": {
   "codemirror_mode": {
    "name": "ipython",
    "version": 3
   },
   "file_extension": ".py",
   "mimetype": "text/x-python",
   "name": "python",
   "nbconvert_exporter": "python",
   "pygments_lexer": "ipython3",
   "version": "3.7.4"
  }
 },
 "nbformat": 4,
 "nbformat_minor": 2
}
