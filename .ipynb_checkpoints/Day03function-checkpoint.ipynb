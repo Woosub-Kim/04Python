{
 "cells": [
  {
   "cell_type": "markdown",
   "metadata": {},
   "source": [
    "# Function"
   ]
  },
  {
   "cell_type": "code",
   "execution_count": 35,
   "metadata": {},
   "outputs": [
    {
     "name": "stdout",
     "output_type": "stream",
     "text": [
      "55\n",
      "55\n"
     ]
    }
   ],
   "source": [
    "#정수 매개변수 하나를 받아서 1부터 자기자신 까지의 합을 리턴하는 함수\n",
    "def summation1(n):\n",
    "    if n == 1: return 1\n",
    "    return n+summation1(n-1)\n",
    "def summation2(n):\n",
    "    total = 0\n",
    "    for i in range(1, n+1):\n",
    "        total += i\n",
    "    return total\n",
    "# main\n",
    "print(summation1(10))\n",
    "print(summation2(10))"
   ]
  },
  {
   "cell_type": "code",
   "execution_count": 25,
   "metadata": {},
   "outputs": [
    {
     "name": "stdout",
     "output_type": "stream",
     "text": [
      "Hello, python!!\n"
     ]
    }
   ],
   "source": [
    "# 매개변수 없이 실행하면 'Hello Python' 출력하는 함수\n",
    "def helloPy():\n",
    "    print('Hello, python!!')\n",
    "# main\n",
    "helloPy()"
   ]
  },
  {
   "cell_type": "code",
   "execution_count": 31,
   "metadata": {},
   "outputs": [
    {
     "name": "stdout",
     "output_type": "stream",
     "text": [
      "hello! Kim\n",
      "hi! Lee\n"
     ]
    }
   ],
   "source": [
    "# 이름을 매개변수로 받아 'Hello 이름'출력하는 함수\n",
    "def hello(name):\n",
    "    print('hello!', name)\n",
    "def hi(name):\n",
    "    print('hi! {}'.format(name))\n",
    "# main\n",
    "hello('Kim')\n",
    "hi('Lee')"
   ]
  },
  {
   "cell_type": "code",
   "execution_count": 33,
   "metadata": {},
   "outputs": [
    {
     "name": "stdout",
     "output_type": "stream",
     "text": [
      "3\n",
      "-1\n",
      "2\n",
      "0.5\n",
      "(3, -1, 2, 0.5)\n"
     ]
    }
   ],
   "source": [
    "# 두개의 정수 매개변수를 받아서 사칙연산 결과를 리턴하는 함수\n",
    "\n",
    "def add(n1,n2):\n",
    "    return n1+n2\n",
    "def sub(n1, n2):\n",
    "    return n1-n2\n",
    "def mulBy(n1,n2):\n",
    "    return n1*n2\n",
    "def divBy(n1,n2):\n",
    "    return n1/n2\n",
    "def fourcal(n1, n2):\n",
    "    a = add(n1,n2)\n",
    "    s = sub(n1,n2)\n",
    "    m = mulBy(n1,n2)\n",
    "    d = divBy(n1,n2)\n",
    "    return(a,s,m,d)\n",
    "# main\n",
    "print(add(1,2))\n",
    "print(sub(1,2))\n",
    "print(mulBy(1,2))\n",
    "print(divBy(1,2))\n",
    "print(fourcal(1,2))"
   ]
  },
  {
   "cell_type": "code",
   "execution_count": 36,
   "metadata": {},
   "outputs": [
    {
     "name": "stdout",
     "output_type": "stream",
     "text": [
      "(30, 10, 60, 20.0)\n"
     ]
    }
   ],
   "source": [
    "# 세 정수를 받아서 최대 최소 합 평균을 리턴하기\n",
    "def threenum(a,b,c):\n",
    "    maximum = max(a,b,c)\n",
    "    minimum = min(a,b,c)\n",
    "    total = a+b+c\n",
    "    avg = total/3\n",
    "    return(maximum, minimum, total, avg)\n",
    "# main\n",
    "print(threenum(10, 20, 30))"
   ]
  },
  {
   "cell_type": "code",
   "execution_count": 37,
   "metadata": {},
   "outputs": [
    {
     "name": "stdout",
     "output_type": "stream",
     "text": [
      "3\n",
      "3\n"
     ]
    }
   ],
   "source": [
    "# 임의의 정수를 받은 후 절대값을 출력하는 함수\n",
    "def absolute(num):\n",
    "    if num<0: return num*-1\n",
    "    return num\n",
    "# main\n",
    "print(absolute(-3))\n",
    "print(absolute(3))"
   ]
  },
  {
   "cell_type": "code",
   "execution_count": 40,
   "metadata": {},
   "outputs": [
    {
     "name": "stdout",
     "output_type": "stream",
     "text": [
      "당신의 아이디는 woosubgo\n",
      "당신의 아이디는 woosubgo\n"
     ]
    }
   ],
   "source": [
    "# 이메일을 받아서 '당신의 아이디는 {}'\n",
    "def idprinter(email):\n",
    "    yourID = email[:email.index('@')]\n",
    "    print('당신의 아이디는 {}'.format(yourID))\n",
    "def emailf(e):\n",
    "    yourID = e.split('@')[0]\n",
    "    print('당신의 아이디는 {}'.format(yourID))\n",
    "# main\n",
    "idprinter('woosubgo@naver.com')\n",
    "emailf('woosubgo@naver.com')"
   ]
  },
  {
   "cell_type": "code",
   "execution_count": 50,
   "metadata": {},
   "outputs": [
    {
     "name": "stdout",
     "output_type": "stream",
     "text": [
      "------------\n",
      "Name: kws\n",
      "E-mail: woosubgo@naver.com\n",
      "Address: Seoul\n",
      "------------\n"
     ]
    }
   ],
   "source": [
    "# 명함 찍어주는 함수 \n",
    "# 이름, 이메일주소, 주소를 입력받은 후 아래와 같이 출력\n",
    "#Name: 성호 \n",
    "#E-mail: sungho@hanmail.net\n",
    "#Address: Seoul\n",
    "def businesscard(name, email, addr):\n",
    "    print('------------\\nName: {}\\nE-mail: {}\\nAddress: {}\\n------------'.format(name,email,addr))\n",
    "# main\n",
    "businesscard('kws', 'woosubgo@naver.com', 'Seoul')"
   ]
  },
  {
   "cell_type": "code",
   "execution_count": 59,
   "metadata": {},
   "outputs": [
    {
     "data": {
      "text/plain": [
       "78.53981633974483"
      ]
     },
     "execution_count": 59,
     "metadata": {},
     "output_type": "execute_result"
    }
   ],
   "source": [
    "# 반지름을 받아 원의 넓이를 반환하는 함수: pi*(r**2), pi=3.14\n",
    "import math\n",
    "def circleArea(r):\n",
    "    return math.pi*r*r\n",
    "# main\n",
    "circleArea(5)"
   ]
  },
  {
   "cell_type": "markdown",
   "metadata": {},
   "source": [
    "# 가변매개변수/키워드매개변수"
   ]
  },
  {
   "cell_type": "code",
   "execution_count": 41,
   "metadata": {},
   "outputs": [
    {
     "data": {
      "text/plain": [
       "3.75"
      ]
     },
     "execution_count": 41,
     "metadata": {},
     "output_type": "execute_result"
    }
   ],
   "source": [
    "# 가변매개변수를 활용한 평균구하기\n",
    "def avg(a,*b):\n",
    "    total = sum(b)+a\n",
    "    count = len(b)+1\n",
    "    return total/count\n",
    "# main\n",
    "avg(1,2,5,7)"
   ]
  },
  {
   "cell_type": "code",
   "execution_count": 44,
   "metadata": {},
   "outputs": [
    {
     "name": "stdout",
     "output_type": "stream",
     "text": [
      "1\n",
      "{'a': 1, 'b': 2, 'c': 3}\n"
     ]
    }
   ],
   "source": [
    "#키워드 매개변수\n",
    "def test_kwargs(arg, **kwargs):\n",
    "    print(arg)\n",
    "    print(kwargs)\n",
    "# main\n",
    "test_kwargs(1,a=1, b=2, c=3)"
   ]
  },
  {
   "cell_type": "code",
   "execution_count": 62,
   "metadata": {},
   "outputs": [
    {
     "name": "stdout",
     "output_type": "stream",
     "text": [
      "10\n",
      "24\n"
     ]
    }
   ],
   "source": [
    "#여러 개의 변수를 받아서 매개변수(일반매개변수, 가변매개변수 하나씩)\n",
    "#일반매개변수가 sum이면 기변매개변수 값을 더하고 \n",
    "#mul이면 곱하여 리턴하는 함수\n",
    "def calculator(caltype,*args):\n",
    "    if(caltype=='sum'):return sum(args)\n",
    "    elif caltype=='mul':\n",
    "        total = 1\n",
    "        for i in args:\n",
    "            total *= i\n",
    "        return total\n",
    "# main\n",
    "print(calculator('sum',1,2,3,4))\n",
    "print(calculator('mul',1,2,3,4))"
   ]
  },
  {
   "cell_type": "markdown",
   "metadata": {},
   "source": [
    "# 기본매개변수"
   ]
  },
  {
   "cell_type": "code",
   "execution_count": 64,
   "metadata": {},
   "outputs": [
    {
     "name": "stdout",
     "output_type": "stream",
     "text": [
      "Hello Kim!!!\n",
      "Hello everybody!!!\n"
     ]
    }
   ],
   "source": [
    "#기본매개변수(default)\n",
    "#이름을 입력하면 => 'Hello, {이름}!!!'\n",
    "#이름을 입력하지 않으면 =>'Hello, everybody!!!'\n",
    "def helloFunc(name='everybody'):\n",
    "    print('Hello {}!!!'.format(name))\n",
    "# main\n",
    "helloFunc('Kim')\n",
    "helloFunc()\n",
    "    \n",
    "    "
   ]
  },
  {
   "cell_type": "markdown",
   "metadata": {},
   "source": [
    "# lambda"
   ]
  },
  {
   "cell_type": "code",
   "execution_count": 9,
   "metadata": {},
   "outputs": [
    {
     "data": {
      "text/plain": [
       "27"
      ]
     },
     "execution_count": 9,
     "metadata": {},
     "output_type": "execute_result"
    }
   ],
   "source": [
    "power = lambda x,y:x**y\n",
    "power(3,3)"
   ]
  },
  {
   "cell_type": "markdown",
   "metadata": {},
   "source": [
    "# 재귀함수 "
   ]
  },
  {
   "cell_type": "code",
   "execution_count": 14,
   "metadata": {},
   "outputs": [
    {
     "data": {
      "text/plain": [
       "120"
      ]
     },
     "execution_count": 14,
     "metadata": {},
     "output_type": "execute_result"
    }
   ],
   "source": [
    "def factorial(n):\n",
    "    if n==0:return 1\n",
    "    return n*factorial(n-1)\n",
    "# main\n",
    "factorial(5)\n"
   ]
  },
  {
   "cell_type": "code",
   "execution_count": 13,
   "metadata": {},
   "outputs": [
    {
     "name": "stdout",
     "output_type": "stream",
     "text": [
      "1\n",
      "1\n",
      "2\n",
      "3\n",
      "5\n",
      "8\n",
      "13\n",
      "21\n",
      "34\n",
      "55\n"
     ]
    }
   ],
   "source": [
    "def fibonacci(n):\n",
    "    if n == 1 or n==2:\n",
    "        return 1\n",
    "    return fibonacci(n-1)+fibonacci(n-2)\n",
    "# main\n",
    "for i in range(1,11):\n",
    "    print(fibonacci(i))"
   ]
  }
 ],
 "metadata": {
  "kernelspec": {
   "display_name": "Python 3",
   "language": "python",
   "name": "python3"
  },
  "language_info": {
   "codemirror_mode": {
    "name": "ipython",
    "version": 3
   },
   "file_extension": ".py",
   "mimetype": "text/x-python",
   "name": "python",
   "nbconvert_exporter": "python",
   "pygments_lexer": "ipython3",
   "version": "3.7.4"
  }
 },
 "nbformat": 4,
 "nbformat_minor": 2
}
