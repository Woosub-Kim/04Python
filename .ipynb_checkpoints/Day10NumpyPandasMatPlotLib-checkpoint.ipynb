{
 "cells": [
  {
   "cell_type": "markdown",
   "metadata": {},
   "source": [
    "# numpy"
   ]
  },
  {
   "cell_type": "code",
   "execution_count": 2,
   "metadata": {},
   "outputs": [],
   "source": [
    "import numpy as np"
   ]
  },
  {
   "cell_type": "markdown",
   "metadata": {},
   "source": [
    "### array"
   ]
  },
  {
   "cell_type": "code",
   "execution_count": 11,
   "metadata": {},
   "outputs": [
    {
     "name": "stdout",
     "output_type": "stream",
     "text": [
      "[1. 4. 5. 6.]\n",
      "[1 2 3 5]\n"
     ]
    }
   ],
   "source": [
    "# creation\n",
    "test_arr = np.array([1,4,5,6], float)\n",
    "print(test_arr)\n",
    "test_arr2 = np.array([1,2,3,'5'], int)\n",
    "print(test_arr2)"
   ]
  },
  {
   "cell_type": "code",
   "execution_count": 21,
   "metadata": {},
   "outputs": [
    {
     "name": "stdout",
     "output_type": "stream",
     "text": [
      "4.0\n",
      "6.0\n",
      "[4. 5.]\n",
      "[1.]\n",
      "[4. 5. 6.]\n"
     ]
    }
   ],
   "source": [
    "# indexing/slicing\n",
    "print(test_arr[1])\n",
    "print(test_arr[3])\n",
    "print(test_arr[1:3])\n",
    "print(test_arr[:1])\n",
    "print(test_arr[1:])"
   ]
  },
  {
   "cell_type": "code",
   "execution_count": 25,
   "metadata": {},
   "outputs": [
    {
     "name": "stdout",
     "output_type": "stream",
     "text": [
      "<class 'numpy.float64'>\n",
      "float64\n",
      "(4,)\n"
     ]
    }
   ],
   "source": [
    "print(type(test_arr[1]))\n",
    "print(test_array.dtype)\n",
    "print(test_array.shape) # 길이와 차원을 tuple로 반환"
   ]
  },
  {
   "cell_type": "code",
   "execution_count": 26,
   "metadata": {},
   "outputs": [
    {
     "data": {
      "text/plain": [
       "array(['1', '3', '4', '8'], dtype='<U11')"
      ]
     },
     "execution_count": 26,
     "metadata": {},
     "output_type": "execute_result"
    }
   ],
   "source": [
    "np.array([1,3,4,'8'])"
   ]
  },
  {
   "cell_type": "code",
   "execution_count": 27,
   "metadata": {},
   "outputs": [
    {
     "data": {
      "text/plain": [
       "array([1., 3., 4., 8.])"
      ]
     },
     "execution_count": 27,
     "metadata": {},
     "output_type": "execute_result"
    }
   ],
   "source": [
    "np.array([1,3,4,'8'],float)"
   ]
  },
  {
   "cell_type": "code",
   "execution_count": 32,
   "metadata": {},
   "outputs": [
    {
     "name": "stdout",
     "output_type": "stream",
     "text": [
      "(3, 4)\n",
      "2\n"
     ]
    }
   ],
   "source": [
    "mat = np.array([[1,3,5,7],[2,4,5,8],[5,4,2,3]])\n",
    "print(mat.shape)\n",
    "print(mat.ndim)"
   ]
  },
  {
   "cell_type": "markdown",
   "metadata": {},
   "source": [
    "### reshape"
   ]
  },
  {
   "cell_type": "code",
   "execution_count": 36,
   "metadata": {},
   "outputs": [
    {
     "name": "stdout",
     "output_type": "stream",
     "text": [
      "[[1 2 3 4]\n",
      " [1 2 3 8]]\n"
     ]
    }
   ],
   "source": [
    "test_list = [[1,2,3,4],[1,2,3,8]]\n",
    "test_mat = np.array(test_list)\n",
    "print(test_mat)"
   ]
  },
  {
   "cell_type": "code",
   "execution_count": 44,
   "metadata": {},
   "outputs": [
    {
     "name": "stdout",
     "output_type": "stream",
     "text": [
      "(2, 4)\n"
     ]
    }
   ],
   "source": [
    "print(test_mat.shape)"
   ]
  },
  {
   "cell_type": "code",
   "execution_count": 46,
   "metadata": {},
   "outputs": [
    {
     "name": "stdout",
     "output_type": "stream",
     "text": [
      "[1 2 3 4 1 2 3 8]\n"
     ]
    }
   ],
   "source": [
    "test_mat.reshape(8,).shape\n",
    "print(test_mat.reshape(8,))"
   ]
  },
  {
   "cell_type": "code",
   "execution_count": 47,
   "metadata": {},
   "outputs": [
    {
     "name": "stdout",
     "output_type": "stream",
     "text": [
      "[[[1 2]\n",
      "  [3 4]]\n",
      "\n",
      " [[1 2]\n",
      "  [3 8]]]\n",
      "3\n"
     ]
    }
   ],
   "source": [
    "print(test_mat.reshape(2,2,2))\n",
    "print(test_mat.reshape(2,2,2).ndim)"
   ]
  },
  {
   "cell_type": "code",
   "execution_count": 50,
   "metadata": {},
   "outputs": [],
   "source": [
    "# test_mat.reshape(2,3,2) size는 일치해야 한다 "
   ]
  },
  {
   "cell_type": "markdown",
   "metadata": {},
   "source": [
    "### Indexing"
   ]
  },
  {
   "cell_type": "code",
   "execution_count": 65,
   "metadata": {},
   "outputs": [
    {
     "name": "stdout",
     "output_type": "stream",
     "text": [
      "[[1 2 3]\n",
      " [4 5 6]]\n",
      "(2, 3)\n",
      "2\n",
      "6\n",
      "4\n",
      "[[10  2  3]\n",
      " [ 4  5  6]]\n"
     ]
    }
   ],
   "source": [
    "ts = np.array([[1,2,3],[4.5,5,6]], int)\n",
    "print(ts)\n",
    "print(ts.shape)\n",
    "print(ts[0,1])\n",
    "print(ts[-1,-1])\n",
    "print(ts[1,0])\n",
    "ts[0,0]=10\n",
    "print(ts)\n"
   ]
  },
  {
   "cell_type": "code",
   "execution_count": 85,
   "metadata": {},
   "outputs": [
    {
     "name": "stdout",
     "output_type": "stream",
     "text": [
      "[[ 1  2  3  4  5]\n",
      " [ 6  7  8  9 10]]\n",
      "8\n",
      "----------\n",
      "[2 3]\n",
      "----------\n",
      "[ 8  9 10]\n",
      "----------\n",
      "[[3 4]\n",
      " [8 9]]\n",
      "----------\n",
      "[[2 4]\n",
      " [7 9]]\n",
      "----------\n",
      "[4 5]\n"
     ]
    }
   ],
   "source": [
    "tm = np.array([[1,2,3,4,5],[6,7,8,9,10]])\n",
    "# 행: row(가로), 하나의 데이터값 \n",
    "# 열: column(세로), 하나의 특성값(feature) \n",
    "# 2차원의 인덱싱 arr[행idx,열idx]\n",
    "print(tm)\n",
    "# 8을 출력\n",
    "print(tm[1,2])\n",
    "print('-'*10)\n",
    "\n",
    "# 2,3을 출력\n",
    "print(tm[0,1:3])\n",
    "print('-'*10)\n",
    "\n",
    "# 8,9,10을 출력\n",
    "print(tm[1,2:])\n",
    "print('-'*10)\n",
    "\n",
    "# 3,4,8,9를 출력 \n",
    "print(tm[:,2:4])\n",
    "print('-'*10)\n",
    "\n",
    "#2,4,7,9를 출력 \n",
    "print(tm[:,1::2])\n",
    "print('-'*10)\n",
    "\n",
    "# 4,5\n",
    "print(tm[0,3:])"
   ]
  },
  {
   "cell_type": "markdown",
   "metadata": {},
   "source": [
    "### arange()"
   ]
  },
  {
   "cell_type": "code",
   "execution_count": 93,
   "metadata": {},
   "outputs": [
    {
     "name": "stdout",
     "output_type": "stream",
     "text": [
      "[0, 1, 2, 3, 4, 5, 6, 7, 8, 9]\n",
      "[5, 6, 7, 8, 9, 10]\n",
      "[1, 4, 7, 10]\n",
      "[1 3 5 7 9]\n",
      "[ 1.   1.5  2.   2.5  3.   3.5  4.   4.5  5.   5.5  6.   6.5  7.   7.5\n",
      "  8.   8.5  9.   9.5 10.  10.5]\n"
     ]
    }
   ],
   "source": [
    "# vs range\n",
    "print(list(range(10)))\n",
    "print(list(range(5,11)))\n",
    "print(list(range(1,11,3)))\n",
    "print(np.arange(1,11,2))\n",
    "print(np.arange(1,11,0.5))\n",
    "# print(range(1,11,0.5)) range로 step에 float넣으면 에러남(TypeError)"
   ]
  },
  {
   "cell_type": "code",
   "execution_count": 94,
   "metadata": {
    "collapsed": true
   },
   "outputs": [
    {
     "data": {
      "text/plain": [
       "array([ 1.  ,  1.01,  1.02,  1.03,  1.04,  1.05,  1.06,  1.07,  1.08,\n",
       "        1.09,  1.1 ,  1.11,  1.12,  1.13,  1.14,  1.15,  1.16,  1.17,\n",
       "        1.18,  1.19,  1.2 ,  1.21,  1.22,  1.23,  1.24,  1.25,  1.26,\n",
       "        1.27,  1.28,  1.29,  1.3 ,  1.31,  1.32,  1.33,  1.34,  1.35,\n",
       "        1.36,  1.37,  1.38,  1.39,  1.4 ,  1.41,  1.42,  1.43,  1.44,\n",
       "        1.45,  1.46,  1.47,  1.48,  1.49,  1.5 ,  1.51,  1.52,  1.53,\n",
       "        1.54,  1.55,  1.56,  1.57,  1.58,  1.59,  1.6 ,  1.61,  1.62,\n",
       "        1.63,  1.64,  1.65,  1.66,  1.67,  1.68,  1.69,  1.7 ,  1.71,\n",
       "        1.72,  1.73,  1.74,  1.75,  1.76,  1.77,  1.78,  1.79,  1.8 ,\n",
       "        1.81,  1.82,  1.83,  1.84,  1.85,  1.86,  1.87,  1.88,  1.89,\n",
       "        1.9 ,  1.91,  1.92,  1.93,  1.94,  1.95,  1.96,  1.97,  1.98,\n",
       "        1.99,  2.  ,  2.01,  2.02,  2.03,  2.04,  2.05,  2.06,  2.07,\n",
       "        2.08,  2.09,  2.1 ,  2.11,  2.12,  2.13,  2.14,  2.15,  2.16,\n",
       "        2.17,  2.18,  2.19,  2.2 ,  2.21,  2.22,  2.23,  2.24,  2.25,\n",
       "        2.26,  2.27,  2.28,  2.29,  2.3 ,  2.31,  2.32,  2.33,  2.34,\n",
       "        2.35,  2.36,  2.37,  2.38,  2.39,  2.4 ,  2.41,  2.42,  2.43,\n",
       "        2.44,  2.45,  2.46,  2.47,  2.48,  2.49,  2.5 ,  2.51,  2.52,\n",
       "        2.53,  2.54,  2.55,  2.56,  2.57,  2.58,  2.59,  2.6 ,  2.61,\n",
       "        2.62,  2.63,  2.64,  2.65,  2.66,  2.67,  2.68,  2.69,  2.7 ,\n",
       "        2.71,  2.72,  2.73,  2.74,  2.75,  2.76,  2.77,  2.78,  2.79,\n",
       "        2.8 ,  2.81,  2.82,  2.83,  2.84,  2.85,  2.86,  2.87,  2.88,\n",
       "        2.89,  2.9 ,  2.91,  2.92,  2.93,  2.94,  2.95,  2.96,  2.97,\n",
       "        2.98,  2.99,  3.  ,  3.01,  3.02,  3.03,  3.04,  3.05,  3.06,\n",
       "        3.07,  3.08,  3.09,  3.1 ,  3.11,  3.12,  3.13,  3.14,  3.15,\n",
       "        3.16,  3.17,  3.18,  3.19,  3.2 ,  3.21,  3.22,  3.23,  3.24,\n",
       "        3.25,  3.26,  3.27,  3.28,  3.29,  3.3 ,  3.31,  3.32,  3.33,\n",
       "        3.34,  3.35,  3.36,  3.37,  3.38,  3.39,  3.4 ,  3.41,  3.42,\n",
       "        3.43,  3.44,  3.45,  3.46,  3.47,  3.48,  3.49,  3.5 ,  3.51,\n",
       "        3.52,  3.53,  3.54,  3.55,  3.56,  3.57,  3.58,  3.59,  3.6 ,\n",
       "        3.61,  3.62,  3.63,  3.64,  3.65,  3.66,  3.67,  3.68,  3.69,\n",
       "        3.7 ,  3.71,  3.72,  3.73,  3.74,  3.75,  3.76,  3.77,  3.78,\n",
       "        3.79,  3.8 ,  3.81,  3.82,  3.83,  3.84,  3.85,  3.86,  3.87,\n",
       "        3.88,  3.89,  3.9 ,  3.91,  3.92,  3.93,  3.94,  3.95,  3.96,\n",
       "        3.97,  3.98,  3.99,  4.  ,  4.01,  4.02,  4.03,  4.04,  4.05,\n",
       "        4.06,  4.07,  4.08,  4.09,  4.1 ,  4.11,  4.12,  4.13,  4.14,\n",
       "        4.15,  4.16,  4.17,  4.18,  4.19,  4.2 ,  4.21,  4.22,  4.23,\n",
       "        4.24,  4.25,  4.26,  4.27,  4.28,  4.29,  4.3 ,  4.31,  4.32,\n",
       "        4.33,  4.34,  4.35,  4.36,  4.37,  4.38,  4.39,  4.4 ,  4.41,\n",
       "        4.42,  4.43,  4.44,  4.45,  4.46,  4.47,  4.48,  4.49,  4.5 ,\n",
       "        4.51,  4.52,  4.53,  4.54,  4.55,  4.56,  4.57,  4.58,  4.59,\n",
       "        4.6 ,  4.61,  4.62,  4.63,  4.64,  4.65,  4.66,  4.67,  4.68,\n",
       "        4.69,  4.7 ,  4.71,  4.72,  4.73,  4.74,  4.75,  4.76,  4.77,\n",
       "        4.78,  4.79,  4.8 ,  4.81,  4.82,  4.83,  4.84,  4.85,  4.86,\n",
       "        4.87,  4.88,  4.89,  4.9 ,  4.91,  4.92,  4.93,  4.94,  4.95,\n",
       "        4.96,  4.97,  4.98,  4.99,  5.  ,  5.01,  5.02,  5.03,  5.04,\n",
       "        5.05,  5.06,  5.07,  5.08,  5.09,  5.1 ,  5.11,  5.12,  5.13,\n",
       "        5.14,  5.15,  5.16,  5.17,  5.18,  5.19,  5.2 ,  5.21,  5.22,\n",
       "        5.23,  5.24,  5.25,  5.26,  5.27,  5.28,  5.29,  5.3 ,  5.31,\n",
       "        5.32,  5.33,  5.34,  5.35,  5.36,  5.37,  5.38,  5.39,  5.4 ,\n",
       "        5.41,  5.42,  5.43,  5.44,  5.45,  5.46,  5.47,  5.48,  5.49,\n",
       "        5.5 ,  5.51,  5.52,  5.53,  5.54,  5.55,  5.56,  5.57,  5.58,\n",
       "        5.59,  5.6 ,  5.61,  5.62,  5.63,  5.64,  5.65,  5.66,  5.67,\n",
       "        5.68,  5.69,  5.7 ,  5.71,  5.72,  5.73,  5.74,  5.75,  5.76,\n",
       "        5.77,  5.78,  5.79,  5.8 ,  5.81,  5.82,  5.83,  5.84,  5.85,\n",
       "        5.86,  5.87,  5.88,  5.89,  5.9 ,  5.91,  5.92,  5.93,  5.94,\n",
       "        5.95,  5.96,  5.97,  5.98,  5.99,  6.  ,  6.01,  6.02,  6.03,\n",
       "        6.04,  6.05,  6.06,  6.07,  6.08,  6.09,  6.1 ,  6.11,  6.12,\n",
       "        6.13,  6.14,  6.15,  6.16,  6.17,  6.18,  6.19,  6.2 ,  6.21,\n",
       "        6.22,  6.23,  6.24,  6.25,  6.26,  6.27,  6.28,  6.29,  6.3 ,\n",
       "        6.31,  6.32,  6.33,  6.34,  6.35,  6.36,  6.37,  6.38,  6.39,\n",
       "        6.4 ,  6.41,  6.42,  6.43,  6.44,  6.45,  6.46,  6.47,  6.48,\n",
       "        6.49,  6.5 ,  6.51,  6.52,  6.53,  6.54,  6.55,  6.56,  6.57,\n",
       "        6.58,  6.59,  6.6 ,  6.61,  6.62,  6.63,  6.64,  6.65,  6.66,\n",
       "        6.67,  6.68,  6.69,  6.7 ,  6.71,  6.72,  6.73,  6.74,  6.75,\n",
       "        6.76,  6.77,  6.78,  6.79,  6.8 ,  6.81,  6.82,  6.83,  6.84,\n",
       "        6.85,  6.86,  6.87,  6.88,  6.89,  6.9 ,  6.91,  6.92,  6.93,\n",
       "        6.94,  6.95,  6.96,  6.97,  6.98,  6.99,  7.  ,  7.01,  7.02,\n",
       "        7.03,  7.04,  7.05,  7.06,  7.07,  7.08,  7.09,  7.1 ,  7.11,\n",
       "        7.12,  7.13,  7.14,  7.15,  7.16,  7.17,  7.18,  7.19,  7.2 ,\n",
       "        7.21,  7.22,  7.23,  7.24,  7.25,  7.26,  7.27,  7.28,  7.29,\n",
       "        7.3 ,  7.31,  7.32,  7.33,  7.34,  7.35,  7.36,  7.37,  7.38,\n",
       "        7.39,  7.4 ,  7.41,  7.42,  7.43,  7.44,  7.45,  7.46,  7.47,\n",
       "        7.48,  7.49,  7.5 ,  7.51,  7.52,  7.53,  7.54,  7.55,  7.56,\n",
       "        7.57,  7.58,  7.59,  7.6 ,  7.61,  7.62,  7.63,  7.64,  7.65,\n",
       "        7.66,  7.67,  7.68,  7.69,  7.7 ,  7.71,  7.72,  7.73,  7.74,\n",
       "        7.75,  7.76,  7.77,  7.78,  7.79,  7.8 ,  7.81,  7.82,  7.83,\n",
       "        7.84,  7.85,  7.86,  7.87,  7.88,  7.89,  7.9 ,  7.91,  7.92,\n",
       "        7.93,  7.94,  7.95,  7.96,  7.97,  7.98,  7.99,  8.  ,  8.01,\n",
       "        8.02,  8.03,  8.04,  8.05,  8.06,  8.07,  8.08,  8.09,  8.1 ,\n",
       "        8.11,  8.12,  8.13,  8.14,  8.15,  8.16,  8.17,  8.18,  8.19,\n",
       "        8.2 ,  8.21,  8.22,  8.23,  8.24,  8.25,  8.26,  8.27,  8.28,\n",
       "        8.29,  8.3 ,  8.31,  8.32,  8.33,  8.34,  8.35,  8.36,  8.37,\n",
       "        8.38,  8.39,  8.4 ,  8.41,  8.42,  8.43,  8.44,  8.45,  8.46,\n",
       "        8.47,  8.48,  8.49,  8.5 ,  8.51,  8.52,  8.53,  8.54,  8.55,\n",
       "        8.56,  8.57,  8.58,  8.59,  8.6 ,  8.61,  8.62,  8.63,  8.64,\n",
       "        8.65,  8.66,  8.67,  8.68,  8.69,  8.7 ,  8.71,  8.72,  8.73,\n",
       "        8.74,  8.75,  8.76,  8.77,  8.78,  8.79,  8.8 ,  8.81,  8.82,\n",
       "        8.83,  8.84,  8.85,  8.86,  8.87,  8.88,  8.89,  8.9 ,  8.91,\n",
       "        8.92,  8.93,  8.94,  8.95,  8.96,  8.97,  8.98,  8.99,  9.  ,\n",
       "        9.01,  9.02,  9.03,  9.04,  9.05,  9.06,  9.07,  9.08,  9.09,\n",
       "        9.1 ,  9.11,  9.12,  9.13,  9.14,  9.15,  9.16,  9.17,  9.18,\n",
       "        9.19,  9.2 ,  9.21,  9.22,  9.23,  9.24,  9.25,  9.26,  9.27,\n",
       "        9.28,  9.29,  9.3 ,  9.31,  9.32,  9.33,  9.34,  9.35,  9.36,\n",
       "        9.37,  9.38,  9.39,  9.4 ,  9.41,  9.42,  9.43,  9.44,  9.45,\n",
       "        9.46,  9.47,  9.48,  9.49,  9.5 ,  9.51,  9.52,  9.53,  9.54,\n",
       "        9.55,  9.56,  9.57,  9.58,  9.59,  9.6 ,  9.61,  9.62,  9.63,\n",
       "        9.64,  9.65,  9.66,  9.67,  9.68,  9.69,  9.7 ,  9.71,  9.72,\n",
       "        9.73,  9.74,  9.75,  9.76,  9.77,  9.78,  9.79,  9.8 ,  9.81,\n",
       "        9.82,  9.83,  9.84,  9.85,  9.86,  9.87,  9.88,  9.89,  9.9 ,\n",
       "        9.91,  9.92,  9.93,  9.94,  9.95,  9.96,  9.97,  9.98,  9.99,\n",
       "       10.  , 10.01, 10.02, 10.03, 10.04, 10.05, 10.06, 10.07, 10.08,\n",
       "       10.09, 10.1 , 10.11, 10.12, 10.13, 10.14, 10.15, 10.16, 10.17,\n",
       "       10.18, 10.19, 10.2 , 10.21, 10.22, 10.23, 10.24, 10.25, 10.26,\n",
       "       10.27, 10.28, 10.29, 10.3 , 10.31, 10.32, 10.33, 10.34, 10.35,\n",
       "       10.36, 10.37, 10.38, 10.39, 10.4 , 10.41, 10.42, 10.43, 10.44,\n",
       "       10.45, 10.46, 10.47, 10.48, 10.49, 10.5 , 10.51, 10.52, 10.53,\n",
       "       10.54, 10.55, 10.56, 10.57, 10.58, 10.59, 10.6 , 10.61, 10.62,\n",
       "       10.63, 10.64, 10.65, 10.66, 10.67, 10.68, 10.69, 10.7 , 10.71,\n",
       "       10.72, 10.73, 10.74, 10.75, 10.76, 10.77, 10.78, 10.79, 10.8 ,\n",
       "       10.81, 10.82, 10.83, 10.84, 10.85, 10.86, 10.87, 10.88, 10.89,\n",
       "       10.9 , 10.91, 10.92, 10.93, 10.94, 10.95, 10.96, 10.97, 10.98,\n",
       "       10.99])"
      ]
     },
     "execution_count": 94,
     "metadata": {},
     "output_type": "execute_result"
    }
   ],
   "source": [
    "np.arange(1,11,0.01)"
   ]
  },
  {
   "cell_type": "code",
   "execution_count": 96,
   "metadata": {},
   "outputs": [
    {
     "data": {
      "text/plain": [
       "array([[ 0,  1,  2,  3,  4,  5],\n",
       "       [ 6,  7,  8,  9, 10, 11],\n",
       "       [12, 13, 14, 15, 16, 17],\n",
       "       [18, 19, 20, 21, 22, 23],\n",
       "       [24, 25, 26, 27, 28, 29]])"
      ]
     },
     "execution_count": 96,
     "metadata": {},
     "output_type": "execute_result"
    }
   ],
   "source": [
    "np.arange(30).reshape(5,6)"
   ]
  },
  {
   "cell_type": "code",
   "execution_count": 97,
   "metadata": {},
   "outputs": [
    {
     "data": {
      "text/plain": [
       "array([[ 0,  1,  2],\n",
       "       [ 3,  4,  5],\n",
       "       [ 6,  7,  8],\n",
       "       [ 9, 10, 11],\n",
       "       [12, 13, 14],\n",
       "       [15, 16, 17],\n",
       "       [18, 19, 20],\n",
       "       [21, 22, 23],\n",
       "       [24, 25, 26],\n",
       "       [27, 28, 29]])"
      ]
     },
     "execution_count": 97,
     "metadata": {},
     "output_type": "execute_result"
    }
   ],
   "source": [
    "np.arange(30).reshape(10,3) # matrix 2차원 행렬"
   ]
  },
  {
   "cell_type": "code",
   "execution_count": 98,
   "metadata": {},
   "outputs": [
    {
     "data": {
      "text/plain": [
       "array([[[ 0,  1,  2],\n",
       "        [ 3,  4,  5],\n",
       "        [ 6,  7,  8],\n",
       "        [ 9, 10, 11],\n",
       "        [12, 13, 14]],\n",
       "\n",
       "       [[15, 16, 17],\n",
       "        [18, 19, 20],\n",
       "        [21, 22, 23],\n",
       "        [24, 25, 26],\n",
       "        [27, 28, 29]]])"
      ]
     },
     "execution_count": 98,
     "metadata": {},
     "output_type": "execute_result"
    }
   ],
   "source": [
    "np.arange(30).reshape(2,5,3) # tensor 3차원 텐서"
   ]
  },
  {
   "cell_type": "code",
   "execution_count": 99,
   "metadata": {},
   "outputs": [
    {
     "data": {
      "text/plain": [
       "array([ 0,  1,  2,  3,  4,  5,  6,  7,  8,  9, 10, 11, 12, 13, 14, 15, 16,\n",
       "       17, 18, 19, 20, 21, 22, 23, 24, 25, 26, 27, 28, 29])"
      ]
     },
     "execution_count": 99,
     "metadata": {},
     "output_type": "execute_result"
    }
   ],
   "source": [
    "np.arange(30)# vector / 1차원 array"
   ]
  },
  {
   "cell_type": "markdown",
   "metadata": {},
   "source": [
    "### Operation"
   ]
  },
  {
   "cell_type": "code",
   "execution_count": 108,
   "metadata": {},
   "outputs": [
    {
     "name": "stdout",
     "output_type": "stream",
     "text": [
      "[[ 0  1  2  3  4  5]\n",
      " [ 6  7  8  9 10 11]\n",
      " [12 13 14 15 16 17]\n",
      " [18 19 20 21 22 23]\n",
      " [24 25 26 27 28 29]]\n",
      "435\n",
      "14.5\n",
      "8.65544144839919\n",
      "74.91666666666667\n"
     ]
    }
   ],
   "source": [
    "# numpy에서 연산은 기본적으로 element wise operation(동일한 인덱스의 원소끼리 연산)\n",
    "ts = np.arange(30).reshape(5,6)\n",
    "print(ts)\n",
    "print(ts.sum())\n",
    "print(ts.mean())\n",
    "print(ts.std()) # 표준편차 편차의 절대값의 평균\n",
    "print(ts.var()) # 분산 편차 평균의 제곱\n",
    "\n"
   ]
  },
  {
   "cell_type": "code",
   "execution_count": 109,
   "metadata": {},
   "outputs": [
    {
     "name": "stdout",
     "output_type": "stream",
     "text": [
      "[ 15  51  87 123 159]\n",
      "[60 65 70 75 80 85]\n",
      "[24 25 26 27 28 29]\n",
      "[ 5 11 17 23 29]\n",
      "[1.70782513 1.70782513 1.70782513 1.70782513 1.70782513]\n"
     ]
    }
   ],
   "source": [
    "# axis\n",
    "# 행방향/열끼리\n",
    "print(ts.sum(axis=1))\n",
    "# 열방향/행끼리\n",
    "print(ts.sum(axis=0))\n",
    "\n",
    "print(ts.max(axis=0))\n",
    "print(ts.max(axis=1))\n",
    "\n",
    "print(ts.std(axis=1))\n"
   ]
  },
  {
   "cell_type": "code",
   "execution_count": 120,
   "metadata": {},
   "outputs": [
    {
     "name": "stdout",
     "output_type": "stream",
     "text": [
      "[[0 1 2]\n",
      " [3 4 5]]\n",
      "[[ 0  2  4]\n",
      " [ 6  8 10]]\n",
      "[[0 0 0]\n",
      " [0 0 0]]\n",
      "[[ 0  1  4]\n",
      " [ 9 16 25]]\n",
      "[[nan  1.  1.]\n",
      " [ 1.  1.  1.]]\n",
      "[[ True  True  True]\n",
      " [ True  True  True]]\n",
      "[[False False False]\n",
      " [False False False]]\n",
      "[[ 0  3  6]\n",
      " [ 9 12 15]]\n",
      "[[3 4 5]\n",
      " [6 7 8]]\n"
     ]
    },
    {
     "name": "stderr",
     "output_type": "stream",
     "text": [
      "C:\\Users\\103-04\\Anaconda3\\lib\\site-packages\\ipykernel_launcher.py:8: RuntimeWarning: invalid value encountered in true_divide\n",
      "  \n"
     ]
    }
   ],
   "source": [
    "# matrix간 연산\n",
    "mat_a = np.arange(6).reshape(2,3)\n",
    "mat_b = np.arange(6).reshape(2,3)\n",
    "print(mat_a)\n",
    "print(mat_a+mat_b)\n",
    "print(mat_a-mat_b)\n",
    "print(mat_a*mat_b)\n",
    "print(mat_a/mat_b) # nan처리\n",
    "print(mat_a==mat_b)\n",
    "print(mat_a>mat_b)\n"
   ]
  },
  {
   "cell_type": "markdown",
   "metadata": {},
   "source": [
    "### BroadCasting"
   ]
  },
  {
   "cell_type": "code",
   "execution_count": 123,
   "metadata": {},
   "outputs": [
    {
     "name": "stdout",
     "output_type": "stream",
     "text": [
      "[[ 0  3  6]\n",
      " [ 9 12 15]]\n",
      "[[3 4 5]\n",
      " [6 7 8]]\n",
      "[[3 4 5]\n",
      " [6 7 8]]\n"
     ]
    }
   ],
   "source": [
    "# shape이 다르다면... => broadcasting\n",
    "# 연산시 shape이 다른 경우에 shape이 같아지도록 확장되는 것\n",
    "scalar = 3\n",
    "print(mat_a*scalar)\n",
    "print(mat_a+scalar)\n",
    "# scalar 3이 mat_c로 broadcasting가 된 것\n",
    "mat_c = np.array([[3,3,3],[3,3,3]])\n",
    "print(mat_a+mat_c)"
   ]
  },
  {
   "cell_type": "code",
   "execution_count": 126,
   "metadata": {},
   "outputs": [
    {
     "name": "stdout",
     "output_type": "stream",
     "text": [
      "[[3 4 5]\n",
      " [6 7 8]]\n",
      "[[3 3 3]\n",
      " [3 3 3]]\n"
     ]
    }
   ],
   "source": [
    "# vector\n",
    "vect = np.array([3,3,3])\n",
    "print(mat_a+vect)"
   ]
  },
  {
   "cell_type": "markdown",
   "metadata": {},
   "source": [
    "### all & any"
   ]
  },
  {
   "cell_type": "code",
   "execution_count": 14,
   "metadata": {},
   "outputs": [
    {
     "name": "stdout",
     "output_type": "stream",
     "text": [
      "[False False False False False False  True  True  True  True]\n",
      "True\n",
      "False\n",
      "True\n",
      "True\n",
      "False\n",
      "True\n",
      "True\n"
     ]
    }
   ],
   "source": [
    "a = np.arange(10)\n",
    "print(a>5)\n",
    "print(np.any(a>5)) # 하나라도 True\n",
    "print(np.all(a>5)) # 모두 True\n",
    "\n",
    "print(np.any(a<10))\n",
    "print(np.all(a<10))\n",
    "print(np.all(a))\n",
    "\n",
    "print(np.any(a>1))\n",
    "print(np.all(a>-3))"
   ]
  },
  {
   "cell_type": "markdown",
   "metadata": {},
   "source": [
    "### comparison operation"
   ]
  },
  {
   "cell_type": "code",
   "execution_count": 135,
   "metadata": {},
   "outputs": [
    {
     "name": "stdout",
     "output_type": "stream",
     "text": [
      "[False  True False]\n",
      "[ True False  True]\n",
      "[ True False  True]\n"
     ]
    }
   ],
   "source": [
    "vec_a = np.array([1,3,0],float)\n",
    "vec_b = np.array([5,2,1],float)\n",
    "print(vec_a>vec_b)\n",
    "print(vec_a<vec_b)\n",
    "print(vec_a<3)"
   ]
  },
  {
   "cell_type": "markdown",
   "metadata": {},
   "source": [
    "### Boolean Index"
   ]
  },
  {
   "cell_type": "code",
   "execution_count": 143,
   "metadata": {},
   "outputs": [
    {
     "name": "stdout",
     "output_type": "stream",
     "text": [
      "[False  True False False False  True  True  True]\n",
      "[4 8 9 7]\n",
      "[4 8 9 7]\n",
      "[4 0 2 8]\n",
      "[8 9 7]\n"
     ]
    }
   ],
   "source": [
    "vec = np.array([1,4,0,2,3,8,9,7])\n",
    "print(vec>3)\n",
    "print(vec[[False, True, False, False, False, True, True, True]])\n",
    "# vec에서 3보다 큰 요소만 출력하는 경우\n",
    "print(vec[vec>3])\n",
    "# vec에서 짝수만 출력\n",
    "print(vec[vec%2==0])\n",
    "# vec에서 5보다 큰 값만 출력\n",
    "print(vec[vec>5])"
   ]
  },
  {
   "cell_type": "code",
   "execution_count": 16,
   "metadata": {},
   "outputs": [
    {
     "name": "stdout",
     "output_type": "stream",
     "text": [
      "[21 24 27]\n"
     ]
    }
   ],
   "source": [
    "import numpy as np\n",
    "num = np.arange(1,101)\n",
    "# num에서 20보다 크고 30보다 작은 3의 배수를 출력\n",
    "print(num[(num>20) & (num<30) & (num%3==0)])\n"
   ]
  },
  {
   "cell_type": "code",
   "execution_count": 33,
   "metadata": {},
   "outputs": [
    {
     "name": "stdout",
     "output_type": "stream",
     "text": [
      "(5,)\n",
      "(2, 5)\n",
      "int32\n",
      "[0. 0. 0. 0. 0. 0. 0. 0. 0. 0.]\n",
      "[1. 1. 1. 1. 1. 1. 1. 1. 1. 1.]\n",
      "[3 4 5 6 7 8 9]\n",
      "[[ 2  4  6  8 10]\n",
      " [12 14 16 18 20]]\n",
      "[ 2  4  6  8 10]\n",
      "[0 0 0 0 0]\n",
      "[ 1  4  9 16 25]\n",
      "[1. 1. 1. 1. 1.]\n",
      "[ 5 10 15 20 25]\n",
      "[ 1  4  9 16 25]\n",
      "2\n",
      "[ True  True False False False  True False  True]\n",
      "[-1.84731915  0.01714053  0.21270056  0.58218506  0.27556404]\n",
      "[[-0.2932352  -1.65444939]\n",
      " [-0.02881627 -1.33788883]]\n",
      "13\n",
      "30\n",
      "[[ 1  2  3  4  5]\n",
      " [ 6  7  8  9 10]]\n",
      "0\n",
      "[[ 1  4  9 16 25]\n",
      " [ 6 14 24 36 50]]\n",
      "[ 1  3  6 10 15 21 28 36 45 55]\n",
      "[[ 1  3  6 10 15]\n",
      " [ 6 13 21 30 40]]\n",
      "[[ 1  2  3  4  5]\n",
      " [ 7  9 11 13 15]]\n",
      "[[1 9 8 5]\n",
      " [3 2 6 7]\n",
      " [5 4 9 7]]\n",
      "[[1 5 8 9]\n",
      " [2 3 6 7]\n",
      " [4 5 7 9]]\n",
      "[[4 5 7 9]\n",
      " [2 3 6 7]\n",
      " [1 5 8 9]]\n",
      "[[1 2 6 5]\n",
      " [3 4 8 7]\n",
      " [5 9 9 7]]\n",
      "[[1 5 8 9]\n",
      " [2 3 6 7]\n",
      " [4 5 7 9]]\n"
     ]
    }
   ],
   "source": [
    "# numpy 복습\n",
    "import numpy as np\n",
    "\n",
    "# array\n",
    "data1 = [1,2,3,4,5]\n",
    "data2 = [6,7,8,9,10]\n",
    "arr1 = np.array(data1)\n",
    "arr2 = np.array([data1, data2])\n",
    "print(arr1.shape)\n",
    "print(arr2.shape)\n",
    "print(arr1.dtype)\n",
    "\n",
    "#zeros() ones() arrange()메소드\n",
    "print(np.zeros(10))\n",
    "print(np.ones(10))\n",
    "print(np.arange(3,10))\n",
    "\n",
    "# array의 연산\n",
    "print(arr2+arr2)\n",
    "print(arr1+arr1)\n",
    "print(arr1-arr1)\n",
    "print(arr1*arr1)\n",
    "print(arr1/arr1)\n",
    "print(arr1*5)\n",
    "print(arr1**2)\n",
    "\n",
    "# array의 브로드캐스트(서로 다른 크기의 array간의 연산)\n",
    "#array([10, 11, 12])+array([[11, 13, 15], [14, 16, 18]]) \n",
    "# =>array([10,11,12],[10,11,12])로 변환되어 연산\n",
    "#array의 인덱싱\n",
    "print(arr2[0][1])\n",
    "\n",
    "# array 마스크\n",
    "names = np.array(['Beomwoo','Beomwoo','Kim','Joan','Lee','Beomwoo','Park','Beomwoo'])\n",
    "names_Beomwoo_mask = (names == 'Beomwoo')\n",
    "print(names_Beomwoo_mask)\n",
    "\n",
    "# 난수\n",
    "# randn() 표준 정규분포에서 array형태로 난수 출력\n",
    "print(np.random.randn(5))#인수에 따라 array의 모양이 달라진다\n",
    "print(np.random.randn(2,2))\n",
    "# rand() 0~1사이의 균일 분포에서 array형태로 난수 출력\n",
    "# randint()해당 범위 안의 정수중에서 한개를 출력\n",
    "print(np.random.randint(1,46))\n",
    "# 리스트의 원소 중 하나를 선택하는 코드\n",
    "yours = np.random.choice(['가위', '바위', '보'])\n",
    "\n",
    "# array 하나 혹은 정수 하나를 매개변수로 입력할 수 있는 numpu함수들\n",
    "# abs(), sqrt(), sqaure, exp()(e**x를 구함), log(), log10(), log(2)\n",
    "# sign()(원소의 부호), ceil(), floor(), isnan() (nan이면 True)\n",
    "# cos(), cosh(), sin(), sinh(), tan(), tanh()\n",
    "print(np.abs(-30))\n",
    "print(np.abs(arr2))\n",
    "print(np.sign(0))\n",
    "# array 두개에 적용되는 함수\n",
    "# add(), subtract(), multiply(), divide(), maximum(), minimum()\n",
    "print(np.multiply(arr1,arr2))\n",
    "\n",
    "# 통계 함수\n",
    "# sum(), mean(), std()표준편차, var()분산, min()최솟값, max()최댓값\n",
    "# argmin()최솟값의 인덱스, argmax()최댓값의 인덱스\n",
    "# cumsum(), cumprod() 누적합/누적곱\n",
    "print(np.cumsum(arr2))\n",
    "print(np.cumsum(arr2, axis=1))#열단위(가로로)\n",
    "print(np.cumsum(arr2, axis=0))#행단위(세로로)\n",
    "\n",
    "#sort()\n",
    "arr4 = np.array([[1,9,8,5],[3,2,6,7],[5,4,9,7]])\n",
    "print(arr4)\n",
    "print(np.sort(arr4))\n",
    "print(np.sort(arr4)[::-1])\n",
    "print(np.sort(arr4, axis=0))\n",
    "print(np.sort(arr4, axis=1))"
   ]
  },
  {
   "cell_type": "markdown",
   "metadata": {},
   "source": [
    "# Pandas"
   ]
  },
  {
   "cell_type": "code",
   "execution_count": 2,
   "metadata": {},
   "outputs": [],
   "source": [
    "# import\n",
    "import numpy as np\n",
    "import pandas as pd"
   ]
  },
  {
   "cell_type": "markdown",
   "metadata": {},
   "source": [
    "### Series"
   ]
  },
  {
   "cell_type": "code",
   "execution_count": 4,
   "metadata": {},
   "outputs": [
    {
     "name": "stdout",
     "output_type": "stream",
     "text": [
      "0    1\n",
      "1    2\n",
      "2    3\n",
      "3    4\n",
      "4    5\n",
      "dtype: int64\n",
      "a    1\n",
      "b    2\n",
      "c    3\n",
      "d    4\n",
      "e    5\n",
      "dtype: int64\n"
     ]
    }
   ],
   "source": [
    "ls = [1,2,3,4,5]\n",
    "#Series생성하기\n",
    "ts = pd.Series(ls)\n",
    "print(ts)\n",
    "#Series생성시 인덱스 설정하기\n",
    "ts = pd.Series(ls, index=['a', 'b', 'c', 'd', 'e'])\n",
    "print(ts)\n"
   ]
  },
  {
   "cell_type": "code",
   "execution_count": 5,
   "metadata": {},
   "outputs": [
    {
     "name": "stdout",
     "output_type": "stream",
     "text": [
      "2\n",
      "--------------------\n",
      "a     1\n",
      "b     2\n",
      "c     3\n",
      "d     4\n",
      "e    10\n",
      "dtype: int64\n",
      "--------------------\n",
      "d     4\n",
      "e    10\n",
      "dtype: int64\n",
      "--------------------\n",
      "a     2\n",
      "b     4\n",
      "c     6\n",
      "d     8\n",
      "e    20\n",
      "dtype: int64\n"
     ]
    }
   ],
   "source": [
    "# indexing\n",
    "print(ts['b'])\n",
    "print('-'*20)\n",
    "\n",
    "# indexing으로 값 설정\n",
    "ts['e'] = 10\n",
    "print(ts)\n",
    "print('-'*20)\n",
    "\n",
    "# boolean indexing\n",
    "print(ts[ts>3])\n",
    "print('-'*20)\n",
    "\n",
    "# broad casting\n",
    "print(ts*2)"
   ]
  },
  {
   "cell_type": "code",
   "execution_count": 6,
   "metadata": {},
   "outputs": [
    {
     "name": "stdout",
     "output_type": "stream",
     "text": [
      "Index(['a', 'b', 'c', 'd', 'e'], dtype='object')\n",
      "[ 1  2  3  4 10]\n",
      "가     1\n",
      "나     2\n",
      "다     3\n",
      "라     4\n",
      "마    10\n",
      "dtype: int64\n"
     ]
    }
   ],
   "source": [
    "# Series의 index와 값 출력하기\n",
    "print(ts.index)\n",
    "print(ts.values)\n",
    "# index재설정하기\n",
    "ts.index = ['가', '나', '다', '라', '마']\n",
    "print(ts)"
   ]
  },
  {
   "cell_type": "markdown",
   "metadata": {},
   "source": [
    "### DataFrame"
   ]
  },
  {
   "cell_type": "code",
   "execution_count": 7,
   "metadata": {},
   "outputs": [
    {
     "data": {
      "text/html": [
       "<div>\n",
       "<style scoped>\n",
       "    .dataframe tbody tr th:only-of-type {\n",
       "        vertical-align: middle;\n",
       "    }\n",
       "\n",
       "    .dataframe tbody tr th {\n",
       "        vertical-align: top;\n",
       "    }\n",
       "\n",
       "    .dataframe thead th {\n",
       "        text-align: right;\n",
       "    }\n",
       "</style>\n",
       "<table border=\"1\" class=\"dataframe\">\n",
       "  <thead>\n",
       "    <tr style=\"text-align: right;\">\n",
       "      <th></th>\n",
       "      <th>first_name</th>\n",
       "      <th>last_name</th>\n",
       "      <th>age</th>\n",
       "      <th>sex</th>\n",
       "      <th>pretestscore</th>\n",
       "      <th>posttestscore</th>\n",
       "    </tr>\n",
       "  </thead>\n",
       "  <tbody>\n",
       "    <tr>\n",
       "      <td>0</td>\n",
       "      <td>Jason</td>\n",
       "      <td>miller</td>\n",
       "      <td>42.0</td>\n",
       "      <td>m</td>\n",
       "      <td>4.0</td>\n",
       "      <td>25.0</td>\n",
       "    </tr>\n",
       "    <tr>\n",
       "      <td>1</td>\n",
       "      <td>NaN</td>\n",
       "      <td>NaN</td>\n",
       "      <td>NaN</td>\n",
       "      <td>NaN</td>\n",
       "      <td>NaN</td>\n",
       "      <td>NaN</td>\n",
       "    </tr>\n",
       "    <tr>\n",
       "      <td>2</td>\n",
       "      <td>tina</td>\n",
       "      <td>ali</td>\n",
       "      <td>36.0</td>\n",
       "      <td>f</td>\n",
       "      <td>NaN</td>\n",
       "      <td>NaN</td>\n",
       "    </tr>\n",
       "    <tr>\n",
       "      <td>3</td>\n",
       "      <td>jake</td>\n",
       "      <td>miler</td>\n",
       "      <td>24.0</td>\n",
       "      <td>m</td>\n",
       "      <td>2.0</td>\n",
       "      <td>62.0</td>\n",
       "    </tr>\n",
       "    <tr>\n",
       "      <td>4</td>\n",
       "      <td>amy</td>\n",
       "      <td>coozer</td>\n",
       "      <td>73.0</td>\n",
       "      <td>f</td>\n",
       "      <td>3.0</td>\n",
       "      <td>70.0</td>\n",
       "    </tr>\n",
       "  </tbody>\n",
       "</table>\n",
       "</div>"
      ],
      "text/plain": [
       "  first_name last_name   age  sex  pretestscore  posttestscore\n",
       "0      Jason    miller  42.0    m           4.0           25.0\n",
       "1        NaN       NaN   NaN  NaN           NaN            NaN\n",
       "2       tina       ali  36.0    f           NaN            NaN\n",
       "3       jake     miler  24.0    m           2.0           62.0\n",
       "4        amy    coozer  73.0    f           3.0           70.0"
      ]
     },
     "execution_count": 7,
     "metadata": {},
     "output_type": "execute_result"
    }
   ],
   "source": [
    "#DataFrame생성하기\n",
    "raw_data = {'first_name': ['Jason', np.nan, 'tina', 'jake', 'amy'],\n",
    "           'last_name':['miller', np.nan, 'ali', 'miler', 'coozer'],\n",
    "           'age': [42, np.nan, 36, 24, 73],\n",
    "           'sex':['m', np.nan, 'f', 'm', 'f'],\n",
    "           'pretestscore':[4,np.nan,np.nan,2,3],\n",
    "           'posttestscore':[25, np.nan, np.nan, 62, 70]}\n",
    "\n",
    "df = pd.DataFrame(raw_data)\n",
    "df"
   ]
  },
  {
   "cell_type": "code",
   "execution_count": 8,
   "metadata": {},
   "outputs": [
    {
     "data": {
      "text/html": [
       "<div>\n",
       "<style scoped>\n",
       "    .dataframe tbody tr th:only-of-type {\n",
       "        vertical-align: middle;\n",
       "    }\n",
       "\n",
       "    .dataframe tbody tr th {\n",
       "        vertical-align: top;\n",
       "    }\n",
       "\n",
       "    .dataframe thead th {\n",
       "        text-align: right;\n",
       "    }\n",
       "</style>\n",
       "<table border=\"1\" class=\"dataframe\">\n",
       "  <thead>\n",
       "    <tr style=\"text-align: right;\">\n",
       "      <th></th>\n",
       "      <th>first_name</th>\n",
       "      <th>last_name</th>\n",
       "    </tr>\n",
       "  </thead>\n",
       "  <tbody>\n",
       "    <tr>\n",
       "      <td>0</td>\n",
       "      <td>Jason</td>\n",
       "      <td>miller</td>\n",
       "    </tr>\n",
       "    <tr>\n",
       "      <td>1</td>\n",
       "      <td>NaN</td>\n",
       "      <td>NaN</td>\n",
       "    </tr>\n",
       "    <tr>\n",
       "      <td>2</td>\n",
       "      <td>tina</td>\n",
       "      <td>ali</td>\n",
       "    </tr>\n",
       "    <tr>\n",
       "      <td>3</td>\n",
       "      <td>jake</td>\n",
       "      <td>miler</td>\n",
       "    </tr>\n",
       "    <tr>\n",
       "      <td>4</td>\n",
       "      <td>amy</td>\n",
       "      <td>coozer</td>\n",
       "    </tr>\n",
       "  </tbody>\n",
       "</table>\n",
       "</div>"
      ],
      "text/plain": [
       "  first_name last_name\n",
       "0      Jason    miller\n",
       "1        NaN       NaN\n",
       "2       tina       ali\n",
       "3       jake     miler\n",
       "4        amy    coozer"
      ]
     },
     "execution_count": 8,
     "metadata": {},
     "output_type": "execute_result"
    }
   ],
   "source": [
    "#DataFrame생성하기(일부 column만 추려서 생성하기)\n",
    "df1 = pd.DataFrame(raw_data, columns=['first_name', 'last_name'])\n",
    "df1"
   ]
  },
  {
   "cell_type": "code",
   "execution_count": 9,
   "metadata": {},
   "outputs": [
    {
     "name": "stdout",
     "output_type": "stream",
     "text": [
      "Index(['first_name', 'last_name', 'age', 'sex', 'pretestscore',\n",
      "       'posttestscore'],\n",
      "      dtype='object')\n",
      "[0, 1, 2, 3, 4]\n"
     ]
    },
    {
     "data": {
      "text/html": [
       "<div>\n",
       "<style scoped>\n",
       "    .dataframe tbody tr th:only-of-type {\n",
       "        vertical-align: middle;\n",
       "    }\n",
       "\n",
       "    .dataframe tbody tr th {\n",
       "        vertical-align: top;\n",
       "    }\n",
       "\n",
       "    .dataframe thead th {\n",
       "        text-align: right;\n",
       "    }\n",
       "</style>\n",
       "<table border=\"1\" class=\"dataframe\">\n",
       "  <thead>\n",
       "    <tr style=\"text-align: right;\">\n",
       "      <th></th>\n",
       "      <th>fn</th>\n",
       "      <th>ln</th>\n",
       "    </tr>\n",
       "  </thead>\n",
       "  <tbody>\n",
       "    <tr>\n",
       "      <td>a</td>\n",
       "      <td>Jason</td>\n",
       "      <td>miller</td>\n",
       "    </tr>\n",
       "    <tr>\n",
       "      <td>b</td>\n",
       "      <td>NaN</td>\n",
       "      <td>NaN</td>\n",
       "    </tr>\n",
       "    <tr>\n",
       "      <td>c</td>\n",
       "      <td>tina</td>\n",
       "      <td>ali</td>\n",
       "    </tr>\n",
       "    <tr>\n",
       "      <td>d</td>\n",
       "      <td>jake</td>\n",
       "      <td>miler</td>\n",
       "    </tr>\n",
       "    <tr>\n",
       "      <td>e</td>\n",
       "      <td>amy</td>\n",
       "      <td>coozer</td>\n",
       "    </tr>\n",
       "  </tbody>\n",
       "</table>\n",
       "</div>"
      ],
      "text/plain": [
       "      fn      ln\n",
       "a  Jason  miller\n",
       "b    NaN     NaN\n",
       "c   tina     ali\n",
       "d   jake   miler\n",
       "e    amy  coozer"
      ]
     },
     "execution_count": 9,
     "metadata": {},
     "output_type": "execute_result"
    }
   ],
   "source": [
    "#DataFrame의 columns와 index출력하기, 재설정하기\n",
    "print(df.columns)\n",
    "print(list(df.index))\n",
    "df1.columns = ['fn', 'ln']\n",
    "df1.index = ['a','b','c','d','e']\n",
    "df1"
   ]
  },
  {
   "cell_type": "code",
   "execution_count": 10,
   "metadata": {},
   "outputs": [
    {
     "name": "stdout",
     "output_type": "stream",
     "text": [
      "0    42.0\n",
      "1     NaN\n",
      "2    36.0\n",
      "3    24.0\n",
      "4    73.0\n",
      "Name: age, dtype: float64\n",
      "0    miller\n",
      "1       NaN\n",
      "2       ali\n",
      "3     miler\n",
      "4    coozer\n",
      "Name: last_name, dtype: object\n",
      "  first_name last_name\n",
      "0      Jason    miller\n",
      "1        NaN       NaN\n",
      "2       tina       ali\n",
      "3       jake     miler\n",
      "4        amy    coozer\n"
     ]
    }
   ],
   "source": [
    "#DataFrame Column단위로 출력하기\n",
    "print(df['age'])\n",
    "print(df['last_name'])\n",
    "print(df[['first_name','last_name']])"
   ]
  },
  {
   "cell_type": "code",
   "execution_count": 11,
   "metadata": {},
   "outputs": [
    {
     "name": "stdout",
     "output_type": "stream",
     "text": [
      "0      m\n",
      "1    NaN\n",
      "2      f\n",
      "3      m\n",
      "4      f\n",
      "Name: sex, dtype: object\n",
      "0    Jason\n",
      "1      NaN\n",
      "2     tina\n",
      "3     jake\n",
      "4      amy\n",
      "Name: first_name, dtype: object\n"
     ]
    }
   ],
   "source": [
    "# dataframe의 인덱스를 이용하는 방법과 속성을 이용하는 방법\n",
    "print(df['sex'])\n",
    "\n",
    "# 속성 사용의 제약사앙: 삽입, 공백있는 컬럼명\n",
    "print(df.first_name)"
   ]
  },
  {
   "cell_type": "code",
   "execution_count": 12,
   "metadata": {},
   "outputs": [
    {
     "name": "stdout",
     "output_type": "stream",
     "text": [
      "first_name        Jason\n",
      "last_name        miller\n",
      "age                  42\n",
      "sex                   m\n",
      "pretestscore          4\n",
      "posttestscore        25\n",
      "Name: a, dtype: object\n",
      "-------------------------\n",
      "first_name        Jason\n",
      "last_name        miller\n",
      "age                  42\n",
      "sex                   m\n",
      "pretestscore          4\n",
      "posttestscore        25\n",
      "Name: a, dtype: object\n",
      "-------------------------\n",
      "first_name          amy\n",
      "last_name        coozer\n",
      "age                  73\n",
      "sex                   f\n",
      "pretestscore          3\n",
      "posttestscore        70\n",
      "Name: e, dtype: object\n",
      "-------------------------\n",
      "  first_name last_name   age  sex  pretestscore  posttestscore\n",
      "e        amy    coozer  73.0    f           3.0           70.0\n",
      "b        NaN       NaN   NaN  NaN           NaN            NaN\n",
      "-------------------------\n",
      "miller\n",
      "-------------------------\n",
      "last_name     miller\n",
      "first_name     Jason\n",
      "Name: a, dtype: object\n",
      "-------------------------\n",
      "  first_name last_name   age  sex  pretestscore  posttestscore\n",
      "a      Jason    miller  42.0    m           4.0           25.0\n",
      "b        NaN       NaN   NaN  NaN           NaN            NaN\n",
      "-------------------------\n",
      "  last_name   age  sex\n",
      "a    miller  42.0    m\n",
      "b       NaN   NaN  NaN\n",
      "c       ali  36.0    f\n",
      "-------------------------\n",
      "  last_name   age  sex\n",
      "a    miller  42.0    m\n",
      "b       NaN   NaN  NaN\n",
      "c       ali  36.0    f\n",
      "-------------------------\n",
      "<class 'pandas.core.series.Series'>\n",
      "<class 'pandas.core.series.Series'>\n",
      "<class 'pandas.core.frame.DataFrame'>\n"
     ]
    }
   ],
   "source": [
    "df.index = ['a', 'b', 'c', 'd', 'e']\n",
    "\n",
    "# row접근하기\n",
    "print(df.loc['a']) #Series타입\n",
    "print('-'*25)\n",
    "print(df.iloc[0])\n",
    "print('-'*25)\n",
    "print(df.iloc[-1])\n",
    "print('-'*25)\n",
    "print(df.iloc[[-1,1]])\n",
    "print('-'*25)\n",
    "print(df.loc['a', 'last_name'])\n",
    "print('-'*25)\n",
    "print(df.loc['a', ['last_name', 'first_name']])\n",
    "print('-'*25)\n",
    "print(df.iloc[[0,1]])\n",
    "print('-'*25)\n",
    "print(df.loc['a':'c','last_name':'sex']) # 끝 인덱스 포함\n",
    "print('-'*25)\n",
    "print(df.iloc[0:3,1:4]) #끝인덱스 제외(파이썬 일반 문법과 같다)\n",
    "print('-'*25)\n",
    "# 타입은 시리즈\n",
    "print(type(df.loc['a']))\n",
    "print(type(df.iloc[-1]))\n",
    "# 둘 이상의 row를 가져올 때의 타입은 DataFrame\n",
    "print(type(df.loc[['a', 'd']]))"
   ]
  },
  {
   "cell_type": "code",
   "execution_count": 14,
   "metadata": {},
   "outputs": [
    {
     "name": "stdout",
     "output_type": "stream",
     "text": [
      "  sex  pretestscore  posttestscore\n",
      "c   f           NaN            NaN\n",
      "d   m           2.0           62.0\n",
      "e   f           3.0           70.0\n",
      "  sex  pretestscore  posttestscore\n",
      "c   f           NaN            NaN\n",
      "d   m           2.0           62.0\n",
      "e   f           3.0           70.0\n",
      "  last_name  pretestscore\n",
      "c       ali           NaN\n",
      "d     miler           2.0\n",
      "  last_name  pretestscore\n",
      "c       ali           NaN\n",
      "d     miler           2.0\n",
      "  first_name last_name   age sex  pretestscore  posttestscore\n",
      "a      Jason    miller  42.0   m           4.0           25.0\n",
      "e        amy    coozer  73.0   f           3.0           70.0\n",
      "  first_name last_name   age sex  pretestscore  posttestscore\n",
      "a      Jason    miller  42.0   m           4.0           25.0\n",
      "e        amy    coozer  73.0   f           3.0           70.0\n",
      "['miller', 'coozer']\n",
      "a    4.0\n",
      "Name: pretestscore, dtype: float64\n",
      "a    4.0\n",
      "Name: pretestscore, dtype: float64\n",
      "[4.]\n",
      "54.5\n",
      "54.5\n",
      "54.5\n",
      "  first_name last_name\n",
      "e        amy    coozer\n",
      "e    amy\n",
      "Name: first_name, dtype: object\n"
     ]
    }
   ],
   "source": [
    "### df에서 row는 'c'~'e', column은 'sex'~'posttestscore'를 출력하기\n",
    "print(df.loc['c':, 'sex':])\n",
    "print(df.iloc[2:, 3:])\n",
    "### ali, miler, nan, 2.0을 출력하기\n",
    "print(df.iloc[2:4, [1,4]])\n",
    "print(df.iloc[2:4, 1::3])\n",
    "### age가 40이상인 데이터를 추출하기\n",
    "print(df[df.age>40])\n",
    "print(df[df['age']>40])\n",
    "print(df[df.age>40]['last_name'].values.tolist())\n",
    "### jason의 pretestscore는 얼마인가\n",
    "print(df[df.first_name=='Jason']['pretestscore'])\n",
    "print(df[df['first_name']=='Jason']['pretestscore'])\n",
    "print(df[df.first_name=='Jason']['pretestscore'].values)\n",
    "### 여성의 평균나이\n",
    "print(np.mean(df[df.sex=='f'].age))\n",
    "print(np.mean(df[df['sex']=='f']['age']))\n",
    "# pandas데이터는 numpy함수를 바로 사용할 수 있다\n",
    "print(df[df.sex=='f']['age'].mean())\n",
    "### 최고령자의 이름 출력\n",
    "print(df[df['age']==max(df.age)][['first_name','last_name']])\n",
    "print(df[df.age==max(df.age)].first_name)"
   ]
  },
  {
   "cell_type": "markdown",
   "metadata": {},
   "source": [
    "### DataFrame Column추가하기"
   ]
  },
  {
   "cell_type": "code",
   "execution_count": 16,
   "metadata": {},
   "outputs": [
    {
     "data": {
      "text/html": [
       "<div>\n",
       "<style scoped>\n",
       "    .dataframe tbody tr th:only-of-type {\n",
       "        vertical-align: middle;\n",
       "    }\n",
       "\n",
       "    .dataframe tbody tr th {\n",
       "        vertical-align: top;\n",
       "    }\n",
       "\n",
       "    .dataframe thead th {\n",
       "        text-align: right;\n",
       "    }\n",
       "</style>\n",
       "<table border=\"1\" class=\"dataframe\">\n",
       "  <thead>\n",
       "    <tr style=\"text-align: right;\">\n",
       "      <th></th>\n",
       "      <th>first_name</th>\n",
       "      <th>last_name</th>\n",
       "      <th>age</th>\n",
       "      <th>sex</th>\n",
       "      <th>pretestscore</th>\n",
       "      <th>posttestscore</th>\n",
       "      <th>addr</th>\n",
       "    </tr>\n",
       "  </thead>\n",
       "  <tbody>\n",
       "    <tr>\n",
       "      <td>a</td>\n",
       "      <td>Jason</td>\n",
       "      <td>miller</td>\n",
       "      <td>42</td>\n",
       "      <td>m</td>\n",
       "      <td>4.0</td>\n",
       "      <td>25.0</td>\n",
       "      <td>Seoul</td>\n",
       "    </tr>\n",
       "    <tr>\n",
       "      <td>b</td>\n",
       "      <td>NaN</td>\n",
       "      <td>NaN</td>\n",
       "      <td>25</td>\n",
       "      <td>f</td>\n",
       "      <td>NaN</td>\n",
       "      <td>NaN</td>\n",
       "      <td>Incheon</td>\n",
       "    </tr>\n",
       "    <tr>\n",
       "      <td>c</td>\n",
       "      <td>tina</td>\n",
       "      <td>ali</td>\n",
       "      <td>78</td>\n",
       "      <td>f</td>\n",
       "      <td>NaN</td>\n",
       "      <td>NaN</td>\n",
       "      <td>Gwangju</td>\n",
       "    </tr>\n",
       "    <tr>\n",
       "      <td>d</td>\n",
       "      <td>jake</td>\n",
       "      <td>miler</td>\n",
       "      <td>41</td>\n",
       "      <td>m</td>\n",
       "      <td>2.0</td>\n",
       "      <td>62.0</td>\n",
       "      <td>Pusan</td>\n",
       "    </tr>\n",
       "    <tr>\n",
       "      <td>e</td>\n",
       "      <td>amy</td>\n",
       "      <td>coozer</td>\n",
       "      <td>23</td>\n",
       "      <td>f</td>\n",
       "      <td>3.0</td>\n",
       "      <td>70.0</td>\n",
       "      <td>Seoul</td>\n",
       "    </tr>\n",
       "  </tbody>\n",
       "</table>\n",
       "</div>"
      ],
      "text/plain": [
       "  first_name last_name  age sex  pretestscore  posttestscore     addr\n",
       "a      Jason    miller   42   m           4.0           25.0    Seoul\n",
       "b        NaN       NaN   25   f           NaN            NaN  Incheon\n",
       "c       tina       ali   78   f           NaN            NaN  Gwangju\n",
       "d       jake     miler   41   m           2.0           62.0    Pusan\n",
       "e        amy    coozer   23   f           3.0           70.0    Seoul"
      ]
     },
     "execution_count": 16,
     "metadata": {},
     "output_type": "execute_result"
    }
   ],
   "source": [
    "#추가하기\n",
    "df['addr']=['Seoul', 'Incheon', 'Gwangju', 'Pusan', 'Seoul']\n",
    "#갱신하기\n",
    "df['age']=[42,25,78,41,23]\n",
    "df.iloc[1,3] = 'f'\n",
    "\n",
    "\n",
    "df"
   ]
  },
  {
   "cell_type": "code",
   "execution_count": 17,
   "metadata": {},
   "outputs": [
    {
     "data": {
      "text/html": [
       "<div>\n",
       "<style scoped>\n",
       "    .dataframe tbody tr th:only-of-type {\n",
       "        vertical-align: middle;\n",
       "    }\n",
       "\n",
       "    .dataframe tbody tr th {\n",
       "        vertical-align: top;\n",
       "    }\n",
       "\n",
       "    .dataframe thead th {\n",
       "        text-align: right;\n",
       "    }\n",
       "</style>\n",
       "<table border=\"1\" class=\"dataframe\">\n",
       "  <thead>\n",
       "    <tr style=\"text-align: right;\">\n",
       "      <th></th>\n",
       "      <th>f</th>\n",
       "      <th>l</th>\n",
       "      <th>age</th>\n",
       "      <th>sex</th>\n",
       "      <th>pretestscore</th>\n",
       "      <th>posttestscore</th>\n",
       "      <th>addr</th>\n",
       "    </tr>\n",
       "  </thead>\n",
       "  <tbody>\n",
       "    <tr>\n",
       "      <td>a</td>\n",
       "      <td>Jason</td>\n",
       "      <td>miller</td>\n",
       "      <td>42</td>\n",
       "      <td>m</td>\n",
       "      <td>4.0</td>\n",
       "      <td>25.0</td>\n",
       "      <td>Seoul</td>\n",
       "    </tr>\n",
       "    <tr>\n",
       "      <td>b</td>\n",
       "      <td>NaN</td>\n",
       "      <td>NaN</td>\n",
       "      <td>25</td>\n",
       "      <td>f</td>\n",
       "      <td>NaN</td>\n",
       "      <td>NaN</td>\n",
       "      <td>Incheon</td>\n",
       "    </tr>\n",
       "    <tr>\n",
       "      <td>c</td>\n",
       "      <td>tina</td>\n",
       "      <td>ali</td>\n",
       "      <td>78</td>\n",
       "      <td>f</td>\n",
       "      <td>NaN</td>\n",
       "      <td>NaN</td>\n",
       "      <td>Gwangju</td>\n",
       "    </tr>\n",
       "    <tr>\n",
       "      <td>d</td>\n",
       "      <td>jake</td>\n",
       "      <td>miler</td>\n",
       "      <td>41</td>\n",
       "      <td>m</td>\n",
       "      <td>2.0</td>\n",
       "      <td>62.0</td>\n",
       "      <td>Pusan</td>\n",
       "    </tr>\n",
       "    <tr>\n",
       "      <td>e</td>\n",
       "      <td>amy</td>\n",
       "      <td>coozer</td>\n",
       "      <td>23</td>\n",
       "      <td>f</td>\n",
       "      <td>3.0</td>\n",
       "      <td>70.0</td>\n",
       "      <td>Seoul</td>\n",
       "    </tr>\n",
       "  </tbody>\n",
       "</table>\n",
       "</div>"
      ],
      "text/plain": [
       "       f       l  age sex  pretestscore  posttestscore     addr\n",
       "a  Jason  miller   42   m           4.0           25.0    Seoul\n",
       "b    NaN     NaN   25   f           NaN            NaN  Incheon\n",
       "c   tina     ali   78   f           NaN            NaN  Gwangju\n",
       "d   jake   miler   41   m           2.0           62.0    Pusan\n",
       "e    amy  coozer   23   f           3.0           70.0    Seoul"
      ]
     },
     "execution_count": 17,
     "metadata": {},
     "output_type": "execute_result"
    }
   ],
   "source": [
    "# column명 변경 함수 rename\n",
    "df.rename(columns={'first_name':'f','last_name':'l'}, inplace=True)\n",
    "#inplace=True가 아니면 값을 return해주되, 실제로 객체를 변경하지는 않는다.\n",
    "df"
   ]
  },
  {
   "cell_type": "code",
   "execution_count": 18,
   "metadata": {},
   "outputs": [
    {
     "data": {
      "text/html": [
       "<div>\n",
       "<style scoped>\n",
       "    .dataframe tbody tr th:only-of-type {\n",
       "        vertical-align: middle;\n",
       "    }\n",
       "\n",
       "    .dataframe tbody tr th {\n",
       "        vertical-align: top;\n",
       "    }\n",
       "\n",
       "    .dataframe thead th {\n",
       "        text-align: right;\n",
       "    }\n",
       "</style>\n",
       "<table border=\"1\" class=\"dataframe\">\n",
       "  <thead>\n",
       "    <tr style=\"text-align: right;\">\n",
       "      <th></th>\n",
       "      <th>fn</th>\n",
       "      <th>ln</th>\n",
       "      <th>age</th>\n",
       "      <th>sex</th>\n",
       "      <th>pre</th>\n",
       "      <th>post</th>\n",
       "      <th>addr</th>\n",
       "    </tr>\n",
       "  </thead>\n",
       "  <tbody>\n",
       "    <tr>\n",
       "      <td>a</td>\n",
       "      <td>Jason</td>\n",
       "      <td>miller</td>\n",
       "      <td>42</td>\n",
       "      <td>m</td>\n",
       "      <td>4.0</td>\n",
       "      <td>25.0</td>\n",
       "      <td>Seoul</td>\n",
       "    </tr>\n",
       "    <tr>\n",
       "      <td>b</td>\n",
       "      <td>NaN</td>\n",
       "      <td>NaN</td>\n",
       "      <td>25</td>\n",
       "      <td>f</td>\n",
       "      <td>NaN</td>\n",
       "      <td>NaN</td>\n",
       "      <td>Incheon</td>\n",
       "    </tr>\n",
       "    <tr>\n",
       "      <td>c</td>\n",
       "      <td>tina</td>\n",
       "      <td>ali</td>\n",
       "      <td>78</td>\n",
       "      <td>f</td>\n",
       "      <td>NaN</td>\n",
       "      <td>NaN</td>\n",
       "      <td>Gwangju</td>\n",
       "    </tr>\n",
       "    <tr>\n",
       "      <td>d</td>\n",
       "      <td>jake</td>\n",
       "      <td>miler</td>\n",
       "      <td>41</td>\n",
       "      <td>m</td>\n",
       "      <td>2.0</td>\n",
       "      <td>62.0</td>\n",
       "      <td>Pusan</td>\n",
       "    </tr>\n",
       "    <tr>\n",
       "      <td>e</td>\n",
       "      <td>amy</td>\n",
       "      <td>coozer</td>\n",
       "      <td>23</td>\n",
       "      <td>f</td>\n",
       "      <td>3.0</td>\n",
       "      <td>70.0</td>\n",
       "      <td>Seoul</td>\n",
       "    </tr>\n",
       "  </tbody>\n",
       "</table>\n",
       "</div>"
      ],
      "text/plain": [
       "      fn      ln  age sex  pre  post     addr\n",
       "a  Jason  miller   42   m  4.0  25.0    Seoul\n",
       "b    NaN     NaN   25   f  NaN   NaN  Incheon\n",
       "c   tina     ali   78   f  NaN   NaN  Gwangju\n",
       "d   jake   miler   41   m  2.0  62.0    Pusan\n",
       "e    amy  coozer   23   f  3.0  70.0    Seoul"
      ]
     },
     "execution_count": 18,
     "metadata": {},
     "output_type": "execute_result"
    }
   ],
   "source": [
    "#columns를 이용한 column명 변경 즉각적으로 값이 변경된다\n",
    "df.columns = ['fn','ln','age','sex','pre','post','addr']\n",
    "df\n"
   ]
  },
  {
   "cell_type": "code",
   "execution_count": 19,
   "metadata": {},
   "outputs": [
    {
     "data": {
      "text/html": [
       "<div>\n",
       "<style scoped>\n",
       "    .dataframe tbody tr th:only-of-type {\n",
       "        vertical-align: middle;\n",
       "    }\n",
       "\n",
       "    .dataframe tbody tr th {\n",
       "        vertical-align: top;\n",
       "    }\n",
       "\n",
       "    .dataframe thead th {\n",
       "        text-align: right;\n",
       "    }\n",
       "</style>\n",
       "<table border=\"1\" class=\"dataframe\">\n",
       "  <thead>\n",
       "    <tr style=\"text-align: right;\">\n",
       "      <th></th>\n",
       "      <th>fn</th>\n",
       "      <th>ln</th>\n",
       "      <th>age</th>\n",
       "      <th>sex</th>\n",
       "      <th>pre</th>\n",
       "      <th>post</th>\n",
       "    </tr>\n",
       "  </thead>\n",
       "  <tbody>\n",
       "    <tr>\n",
       "      <td>a</td>\n",
       "      <td>Jason</td>\n",
       "      <td>miller</td>\n",
       "      <td>42</td>\n",
       "      <td>m</td>\n",
       "      <td>4.0</td>\n",
       "      <td>25.0</td>\n",
       "    </tr>\n",
       "    <tr>\n",
       "      <td>b</td>\n",
       "      <td>NaN</td>\n",
       "      <td>NaN</td>\n",
       "      <td>25</td>\n",
       "      <td>f</td>\n",
       "      <td>NaN</td>\n",
       "      <td>NaN</td>\n",
       "    </tr>\n",
       "    <tr>\n",
       "      <td>c</td>\n",
       "      <td>tina</td>\n",
       "      <td>ali</td>\n",
       "      <td>78</td>\n",
       "      <td>f</td>\n",
       "      <td>NaN</td>\n",
       "      <td>NaN</td>\n",
       "    </tr>\n",
       "    <tr>\n",
       "      <td>d</td>\n",
       "      <td>jake</td>\n",
       "      <td>miler</td>\n",
       "      <td>41</td>\n",
       "      <td>m</td>\n",
       "      <td>2.0</td>\n",
       "      <td>62.0</td>\n",
       "    </tr>\n",
       "    <tr>\n",
       "      <td>e</td>\n",
       "      <td>amy</td>\n",
       "      <td>coozer</td>\n",
       "      <td>23</td>\n",
       "      <td>f</td>\n",
       "      <td>3.0</td>\n",
       "      <td>70.0</td>\n",
       "    </tr>\n",
       "  </tbody>\n",
       "</table>\n",
       "</div>"
      ],
      "text/plain": [
       "      fn      ln  age sex  pre  post\n",
       "a  Jason  miller   42   m  4.0  25.0\n",
       "b    NaN     NaN   25   f  NaN   NaN\n",
       "c   tina     ali   78   f  NaN   NaN\n",
       "d   jake   miler   41   m  2.0  62.0\n",
       "e    amy  coozer   23   f  3.0  70.0"
      ]
     },
     "execution_count": 19,
     "metadata": {},
     "output_type": "execute_result"
    }
   ],
   "source": [
    "# column 삭제하기\n",
    "# 삭제관련 메소드에서는 row=0, column=1 \n",
    "df.drop('addr', axis=1)"
   ]
  },
  {
   "cell_type": "code",
   "execution_count": 20,
   "metadata": {},
   "outputs": [
    {
     "data": {
      "text/html": [
       "<div>\n",
       "<style scoped>\n",
       "    .dataframe tbody tr th:only-of-type {\n",
       "        vertical-align: middle;\n",
       "    }\n",
       "\n",
       "    .dataframe tbody tr th {\n",
       "        vertical-align: top;\n",
       "    }\n",
       "\n",
       "    .dataframe thead th {\n",
       "        text-align: right;\n",
       "    }\n",
       "</style>\n",
       "<table border=\"1\" class=\"dataframe\">\n",
       "  <thead>\n",
       "    <tr style=\"text-align: right;\">\n",
       "      <th></th>\n",
       "      <th>fn</th>\n",
       "      <th>ln</th>\n",
       "      <th>age</th>\n",
       "      <th>sex</th>\n",
       "      <th>pre</th>\n",
       "      <th>post</th>\n",
       "      <th>addr</th>\n",
       "    </tr>\n",
       "  </thead>\n",
       "  <tbody>\n",
       "    <tr>\n",
       "      <td>a</td>\n",
       "      <td>Jason</td>\n",
       "      <td>miller</td>\n",
       "      <td>42</td>\n",
       "      <td>m</td>\n",
       "      <td>4.0</td>\n",
       "      <td>25.0</td>\n",
       "      <td>Seoul</td>\n",
       "    </tr>\n",
       "    <tr>\n",
       "      <td>c</td>\n",
       "      <td>tina</td>\n",
       "      <td>ali</td>\n",
       "      <td>78</td>\n",
       "      <td>f</td>\n",
       "      <td>NaN</td>\n",
       "      <td>NaN</td>\n",
       "      <td>Gwangju</td>\n",
       "    </tr>\n",
       "    <tr>\n",
       "      <td>d</td>\n",
       "      <td>jake</td>\n",
       "      <td>miler</td>\n",
       "      <td>41</td>\n",
       "      <td>m</td>\n",
       "      <td>2.0</td>\n",
       "      <td>62.0</td>\n",
       "      <td>Pusan</td>\n",
       "    </tr>\n",
       "    <tr>\n",
       "      <td>e</td>\n",
       "      <td>amy</td>\n",
       "      <td>coozer</td>\n",
       "      <td>23</td>\n",
       "      <td>f</td>\n",
       "      <td>3.0</td>\n",
       "      <td>70.0</td>\n",
       "      <td>Seoul</td>\n",
       "    </tr>\n",
       "  </tbody>\n",
       "</table>\n",
       "</div>"
      ],
      "text/plain": [
       "      fn      ln  age sex  pre  post     addr\n",
       "a  Jason  miller   42   m  4.0  25.0    Seoul\n",
       "c   tina     ali   78   f  NaN   NaN  Gwangju\n",
       "d   jake   miler   41   m  2.0  62.0    Pusan\n",
       "e    amy  coozer   23   f  3.0  70.0    Seoul"
      ]
     },
     "execution_count": 20,
     "metadata": {},
     "output_type": "execute_result"
    }
   ],
   "source": [
    "df.drop('b')"
   ]
  },
  {
   "cell_type": "code",
   "execution_count": 21,
   "metadata": {},
   "outputs": [
    {
     "name": "stdout",
     "output_type": "stream",
     "text": [
      " C 드라이브의 볼륨에는 이름이 없습니다.\n",
      " 볼륨 일련 번호: 7096-B02E\n",
      "\n",
      " C:\\04Python 디렉터리\n",
      "\n",
      "2020-01-21  오후 05:26    <DIR>          .\n",
      "2020-01-21  오후 05:26    <DIR>          ..\n",
      "2020-01-21  오후 02:15    <DIR>          .ipynb_checkpoints\n",
      "2020-01-16  오후 04:08            50,406 access_log\n",
      "2020-01-16  오전 09:35         2,317,454 age.csv\n",
      "2020-01-10  오후 03:04                22 ban.txt\n",
      "2020-01-10  오후 03:04                93 ban_student.txt\n",
      "2020-01-15  오후 02:05             1,871 birth_by_years.csv\n",
      "2020-01-15  오후 02:20             3,969 birth_by_years1.csv\n",
      "2020-01-15  오후 03:16    <DIR>          CSV\n",
      "2020-01-15  오후 03:16            18,944 csv_files.selection.tar\n",
      "2020-01-17  오전 09:14                32 data.pickle\n",
      "2020-01-14  오후 03:19        24,307,200 data.selection.tar\n",
      "2020-01-16  오후 03:18            18,231 Day01BasicDataform.ipynb\n",
      "2020-01-16  오후 03:18            11,981 Day01List.ipynb\n",
      "2020-01-08  오후 05:36            10,867 Day01Summary.ipynb\n",
      "2020-01-16  오후 03:19             7,667 Day01summary2.ipynb\n",
      "2020-01-16  오후 03:18             8,667 Day01tuple_set_dict.ipynb\n",
      "2020-01-16  오후 03:17            19,955 Day02if_for_while.ipynb\n",
      "2020-01-10  오후 05:40             7,301 Day03Class.ipynb\n",
      "2020-01-13  오전 09:06            97,935 Day03file.ipynb\n",
      "2020-01-16  오후 03:17            10,106 Day03function.ipynb\n",
      "2020-01-14  오후 02:31            23,452 Day04 RegularExpression.ipynb\n",
      "2020-01-13  오후 05:26         8,498,099 Day04CSV.ipynb\n",
      "2020-01-13  오전 10:37            15,991 Day04Exception.ipynb\n",
      "2020-01-15  오후 05:54           266,903 Day04matplotlib.ipynb\n",
      "2020-01-16  오후 05:50         2,219,827 Day05FileReview.ipynb\n",
      "2020-01-15  오후 04:56            88,123 Day05File_Directory.ipynb\n",
      "2020-01-16  오후 05:50            22,452 Day05PythonReview.ipynb\n",
      "2020-01-17  오후 04:02             6,136 Day05RegExReview.ipynb\n",
      "2020-01-16  오후 03:15            13,962 Day06ClassReviews.ipynb\n",
      "2020-01-17  오후 04:02            46,014 Day06NumpyMatpolib.ipynb\n",
      "2020-01-15  오후 04:56             7,009 Day06Quiz.ipynb\n",
      "2020-01-16  오후 05:50           235,820 Day07CSVandMatplotlib.ipynb\n",
      "2020-01-16  오후 03:15               640 Day07LambdaReview.ipynb\n",
      "2020-01-16  오후 12:02               820 Day07ModuleReview.ipynb\n",
      "2020-01-17  오후 04:02             7,061 Day08Pickle.ipynb\n",
      "2020-01-20  오전 09:30            25,942 Day08PythonReview.ipynb\n",
      "2020-01-20  오전 09:25            10,996 Day08Test(blank).ipynb\n",
      "2020-01-20  오후 02:24            21,523 Day09ErrorExamples.ipynb\n",
      "2020-01-21  오후 05:24            53,822 Day09Numpy-Copy1.ipynb\n",
      "2020-01-20  오후 04:54            25,711 Day09Numpy.ipynb\n",
      "2020-01-20  오후 12:38            10,748 Day09PythonReview2.ipynb\n",
      "2020-01-21  오후 05:24            58,002 Day10Pandas.ipynb\n",
      "2020-01-10  오후 03:04             5,120 debug.log\n",
      "2020-01-16  오후 03:16         2,080,612 Exercise.ipynb\n",
      "2020-01-13  오전 10:35                11 file\n",
      "2020-01-16  오전 11:52            10,983 function_code_lec_100110.ipynb\n",
      "2020-01-16  오전 10:44         4,221,195 gender.csv\n",
      "2020-01-10  오후 04:02             2,175 googoo.jpg\n",
      "2020-01-17  오후 04:36               833 guguclass.ipynb\n",
      "2020-01-09  오후 05:44             2,554 Laboratory.ipynb\n",
      "2020-01-16  오전 11:42           365,928 matplotlib_lec_code_100113.ipynb\n",
      "2020-01-13  오후 02:44            18,190 matpolib.jpg\n",
      "2020-01-16  오후 04:41               146 module.py\n",
      "2020-01-16  오전 11:52             3,058 module_test_200116.ipynb\n",
      "2020-01-15  오후 04:15             1,113 mydata.txt\n",
      "2020-01-17  오후 05:18                32 mytest.pickle\n",
      "2020-01-17  오후 05:18                81 mytest.txt\n",
      "2020-01-10  오후 02:33                29 my_file.txt\n",
      "2020-01-14  오후 04:30    <DIR>          names\n",
      "2020-01-13  오전 09:13                10 new.txt\n",
      "2020-01-20  오전 08:43                32 pic.pickle\n",
      "2020-01-15  오후 03:39               240 Pname.txt\n",
      "2020-01-10  오후 02:37               395 poem.txt\n",
      "2020-01-10  오후 04:01                54 python.txt\n",
      "2020-01-13  오후 02:48         1,176,335 seoul.csv\n",
      "2020-01-10  오후 03:04            16,339 stockcode.txt\n",
      "2020-01-16  오후 05:43            32,434 subwayfee.csv\n",
      "2020-01-16  오후 12:04           156,880 subwaytime.csv\n",
      "2020-01-21  오후 04:22               130 test.csv\n",
      "2020-01-16  오전 09:27               220 test.py\n",
      "2020-01-10  오후 02:26                50 test.txt\n",
      "2020-01-21  오후 05:26               181 test1.csv\n",
      "2020-01-14  오후 03:45    <DIR>          testdir\n",
      "2020-01-14  오후 02:19                65 test_file.txt\n",
      "2020-01-16  오전 11:53               924 test_module.py\n",
      "2020-01-10  오후 03:48                40 text.txt\n",
      "2020-01-10  오전 10:10             7,948 Untitled.ipynb\n",
      "2020-01-14  오후 04:04               555 Untitled1.ipynb\n",
      "2020-01-17  오전 08:42                72 Untitled2.ipynb\n",
      "2020-01-21  오전 09:00                72 Untitled3.ipynb\n",
      "2020-01-21  오전 09:03               555 Untitled4.ipynb\n",
      "2020-01-21  오후 02:02                72 Untitled5.ipynb\n",
      "2020-01-16  오전 09:31    <DIR>          __pycache__\n",
      "2020-01-10  오후 04:06                 0 비둘기.jpg\n",
      "2020-01-10  오후 04:09             2,175 비둘기1.jpg\n",
      "2020-01-10  오후 02:25                 0 새 텍스트 문서.txt\n",
      "2020-01-10  오후 05:19    <DIR>          새 폴더\n",
      "              81개 파일          46,659,592 바이트\n",
      "               8개 디렉터리  48,590,815,232 바이트 남음\n"
     ]
    }
   ],
   "source": [
    "df.to_csv('test1.csv')\n",
    "!dir"
   ]
  },
  {
   "cell_type": "code",
   "execution_count": 22,
   "metadata": {},
   "outputs": [
    {
     "data": {
      "text/html": [
       "<div>\n",
       "<style scoped>\n",
       "    .dataframe tbody tr th:only-of-type {\n",
       "        vertical-align: middle;\n",
       "    }\n",
       "\n",
       "    .dataframe tbody tr th {\n",
       "        vertical-align: top;\n",
       "    }\n",
       "\n",
       "    .dataframe thead th {\n",
       "        text-align: right;\n",
       "    }\n",
       "</style>\n",
       "<table border=\"1\" class=\"dataframe\">\n",
       "  <thead>\n",
       "    <tr style=\"text-align: right;\">\n",
       "      <th></th>\n",
       "      <th>fn</th>\n",
       "      <th>ln</th>\n",
       "      <th>age</th>\n",
       "      <th>sex</th>\n",
       "      <th>pre</th>\n",
       "      <th>post</th>\n",
       "      <th>addr</th>\n",
       "    </tr>\n",
       "  </thead>\n",
       "  <tbody>\n",
       "    <tr>\n",
       "      <td>a</td>\n",
       "      <td>Jason</td>\n",
       "      <td>miller</td>\n",
       "      <td>42</td>\n",
       "      <td>m</td>\n",
       "      <td>4.0</td>\n",
       "      <td>25.0</td>\n",
       "      <td>Seoul</td>\n",
       "    </tr>\n",
       "    <tr>\n",
       "      <td>b</td>\n",
       "      <td>NaN</td>\n",
       "      <td>NaN</td>\n",
       "      <td>25</td>\n",
       "      <td>f</td>\n",
       "      <td>NaN</td>\n",
       "      <td>NaN</td>\n",
       "      <td>Incheon</td>\n",
       "    </tr>\n",
       "    <tr>\n",
       "      <td>c</td>\n",
       "      <td>tina</td>\n",
       "      <td>ali</td>\n",
       "      <td>78</td>\n",
       "      <td>f</td>\n",
       "      <td>NaN</td>\n",
       "      <td>NaN</td>\n",
       "      <td>Gwangju</td>\n",
       "    </tr>\n",
       "    <tr>\n",
       "      <td>d</td>\n",
       "      <td>jake</td>\n",
       "      <td>miler</td>\n",
       "      <td>41</td>\n",
       "      <td>m</td>\n",
       "      <td>2.0</td>\n",
       "      <td>62.0</td>\n",
       "      <td>Pusan</td>\n",
       "    </tr>\n",
       "    <tr>\n",
       "      <td>e</td>\n",
       "      <td>amy</td>\n",
       "      <td>coozer</td>\n",
       "      <td>23</td>\n",
       "      <td>f</td>\n",
       "      <td>3.0</td>\n",
       "      <td>70.0</td>\n",
       "      <td>Seoul</td>\n",
       "    </tr>\n",
       "  </tbody>\n",
       "</table>\n",
       "</div>"
      ],
      "text/plain": [
       "      fn      ln  age sex  pre  post     addr\n",
       "a  Jason  miller   42   m  4.0  25.0    Seoul\n",
       "b    NaN     NaN   25   f  NaN   NaN  Incheon\n",
       "c   tina     ali   78   f  NaN   NaN  Gwangju\n",
       "d   jake   miler   41   m  2.0  62.0    Pusan\n",
       "e    amy  coozer   23   f  3.0  70.0    Seoul"
      ]
     },
     "execution_count": 22,
     "metadata": {},
     "output_type": "execute_result"
    }
   ],
   "source": [
    "fd=pd.read_csv('test1.csv', index_col=0) #index컬럼을 index로 인식시켜줌\n",
    "fd"
   ]
  },
  {
   "cell_type": "markdown",
   "metadata": {},
   "source": [
    "### 결측치처리"
   ]
  },
  {
   "cell_type": "code",
   "execution_count": 24,
   "metadata": {},
   "outputs": [
    {
     "data": {
      "text/html": [
       "<div>\n",
       "<style scoped>\n",
       "    .dataframe tbody tr th:only-of-type {\n",
       "        vertical-align: middle;\n",
       "    }\n",
       "\n",
       "    .dataframe tbody tr th {\n",
       "        vertical-align: top;\n",
       "    }\n",
       "\n",
       "    .dataframe thead th {\n",
       "        text-align: right;\n",
       "    }\n",
       "</style>\n",
       "<table border=\"1\" class=\"dataframe\">\n",
       "  <thead>\n",
       "    <tr style=\"text-align: right;\">\n",
       "      <th></th>\n",
       "      <th>one</th>\n",
       "      <th>two</th>\n",
       "      <th>three</th>\n",
       "      <th>four</th>\n",
       "      <th>five</th>\n",
       "    </tr>\n",
       "  </thead>\n",
       "  <tbody>\n",
       "    <tr>\n",
       "      <td>a</td>\n",
       "      <td>0.108338</td>\n",
       "      <td>0.522958</td>\n",
       "      <td>0.492397</td>\n",
       "      <td>0.523682</td>\n",
       "      <td>0.042031</td>\n",
       "    </tr>\n",
       "    <tr>\n",
       "      <td>b</td>\n",
       "      <td>0.707992</td>\n",
       "      <td>NaN</td>\n",
       "      <td>0.533774</td>\n",
       "      <td>0.206688</td>\n",
       "      <td>0.838780</td>\n",
       "    </tr>\n",
       "    <tr>\n",
       "      <td>c</td>\n",
       "      <td>0.686745</td>\n",
       "      <td>NaN</td>\n",
       "      <td>NaN</td>\n",
       "      <td>NaN</td>\n",
       "      <td>0.880713</td>\n",
       "    </tr>\n",
       "    <tr>\n",
       "      <td>d</td>\n",
       "      <td>0.440402</td>\n",
       "      <td>0.139001</td>\n",
       "      <td>0.936646</td>\n",
       "      <td>0.397832</td>\n",
       "      <td>0.745809</td>\n",
       "    </tr>\n",
       "    <tr>\n",
       "      <td>e</td>\n",
       "      <td>0.033467</td>\n",
       "      <td>0.503283</td>\n",
       "      <td>0.085463</td>\n",
       "      <td>0.768452</td>\n",
       "      <td>0.461578</td>\n",
       "    </tr>\n",
       "  </tbody>\n",
       "</table>\n",
       "</div>"
      ],
      "text/plain": [
       "        one       two     three      four      five\n",
       "a  0.108338  0.522958  0.492397  0.523682  0.042031\n",
       "b  0.707992       NaN  0.533774  0.206688  0.838780\n",
       "c  0.686745       NaN       NaN       NaN  0.880713\n",
       "d  0.440402  0.139001  0.936646  0.397832  0.745809\n",
       "e  0.033467  0.503283  0.085463  0.768452  0.461578"
      ]
     },
     "execution_count": 24,
     "metadata": {},
     "output_type": "execute_result"
    }
   ],
   "source": [
    "rd_df = pd.DataFrame(np.random.rand(5,5), columns=['one','two','three','four','five'],index=['a', 'b','c','d','e'])\n",
    "rd_df.iloc[1:3,1]=np.nan\n",
    "rd_df.iloc[2,2:4]=np.nan\n",
    "\n",
    "\n",
    "rd_df"
   ]
  },
  {
   "cell_type": "code",
   "execution_count": 28,
   "metadata": {},
   "outputs": [
    {
     "name": "stdout",
     "output_type": "stream",
     "text": [
      "     one    two  three   four   five\n",
      "a  False  False  False  False  False\n",
      "b  False   True  False  False  False\n",
      "c  False   True   True   True  False\n",
      "d  False  False  False  False  False\n",
      "e  False  False  False  False  False\n",
      "one      0\n",
      "two      2\n",
      "three    1\n",
      "four     1\n",
      "five     0\n",
      "dtype: int64\n",
      "a    0\n",
      "b    1\n",
      "c    3\n",
      "d    0\n",
      "e    0\n",
      "dtype: int64\n"
     ]
    }
   ],
   "source": [
    "print(rd_df.isnull())\n",
    "print(rd_df.isnull().sum())\n",
    "print(rd_df.isnull().sum(axis=1))"
   ]
  },
  {
   "cell_type": "code",
   "execution_count": 31,
   "metadata": {},
   "outputs": [
    {
     "name": "stdout",
     "output_type": "stream",
     "text": [
      "        one       two     three      four      five\n",
      "a  0.108338  0.522958  0.492397  0.523682  0.042031\n",
      "d  0.440402  0.139001  0.936646  0.397832  0.745809\n",
      "e  0.033467  0.503283  0.085463  0.768452  0.461578\n",
      "        one       two     three      four      five\n",
      "a  0.108338  0.522958  0.492397  0.523682  0.042031\n",
      "b  0.707992       NaN  0.533774  0.206688  0.838780\n",
      "c  0.686745       NaN       NaN       NaN  0.880713\n",
      "d  0.440402  0.139001  0.936646  0.397832  0.745809\n",
      "e  0.033467  0.503283  0.085463  0.768452  0.461578\n",
      "        one       two     three      four      five\n",
      "a  0.108338  0.522958  0.492397  0.523682  0.042031\n",
      "d  0.440402  0.139001  0.936646  0.397832  0.745809\n",
      "e  0.033467  0.503283  0.085463  0.768452  0.461578\n",
      "        one       two     three      four      five\n",
      "a  0.108338  0.522958  0.492397  0.523682  0.042031\n",
      "b  0.707992       NaN  0.533774  0.206688  0.838780\n",
      "d  0.440402  0.139001  0.936646  0.397832  0.745809\n",
      "e  0.033467  0.503283  0.085463  0.768452  0.461578\n"
     ]
    }
   ],
   "source": [
    "# 1. null값이 잇는 행이나 컬럼을 삭제하기\n",
    "print(rd_df.dropna())\n",
    "print(rd_df.dropna(how='all'))\n",
    "print(rd_df.dropna(how='any'))\n",
    "print(rd_df.dropna(thresh=3))#nan이 아닌 값이 3개 이상 있는 데이터만 출력"
   ]
  },
  {
   "cell_type": "code",
   "execution_count": 32,
   "metadata": {},
   "outputs": [
    {
     "name": "stdout",
     "output_type": "stream",
     "text": [
      "        one       two     three      four      five\n",
      "a  0.108338  0.522958  0.492397  0.523682  0.042031\n",
      "b  0.707992  0.000000  0.533774  0.206688  0.838780\n",
      "c  0.686745  0.000000  0.000000  0.000000  0.880713\n",
      "d  0.440402  0.139001  0.936646  0.397832  0.745809\n",
      "e  0.033467  0.503283  0.085463  0.768452  0.461578\n",
      "        one       two     three      four      five\n",
      "a  0.108338  0.522958  0.492397  0.523682  0.042031\n",
      "b  0.707992  0.522958  0.533774  0.206688  0.838780\n",
      "c  0.686745  0.522958  0.533774  0.206688  0.880713\n",
      "d  0.440402  0.139001  0.936646  0.397832  0.745809\n",
      "e  0.033467  0.503283  0.085463  0.768452  0.461578\n",
      "        one       two     three      four      five\n",
      "a  0.108338  0.522958  0.492397  0.523682  0.042031\n",
      "b  0.707992  0.139001  0.533774  0.206688  0.838780\n",
      "c  0.686745  0.139001  0.936646  0.397832  0.880713\n",
      "d  0.440402  0.139001  0.936646  0.397832  0.745809\n",
      "e  0.033467  0.503283  0.085463  0.768452  0.461578\n",
      "        one       two     three      four      five\n",
      "a  0.108338  0.522958  0.492397  0.523682  0.042031\n",
      "b  0.707992  0.388414  0.533774  0.206688  0.838780\n",
      "c  0.686745  0.388414  0.512070  0.474163  0.880713\n",
      "d  0.440402  0.139001  0.936646  0.397832  0.745809\n",
      "e  0.033467  0.503283  0.085463  0.768452  0.461578\n"
     ]
    }
   ],
   "source": [
    "# 2. nan을 다른 값으로 대체하기\n",
    "print(rd_df.fillna(0))\n",
    "print(rd_df.fillna(method='ffill'))#바로 앞값으로 채우기\n",
    "print(rd_df.fillna(method='bfill'))#바로 뒷값으로 채우기\n",
    "print(rd_df.fillna(rd_df.mean())) #평균값으로 채우기"
   ]
  },
  {
   "cell_type": "markdown",
   "metadata": {},
   "source": [
    "# MatPlotLib"
   ]
  },
  {
   "cell_type": "code",
   "execution_count": 34,
   "metadata": {},
   "outputs": [],
   "source": [
    "#Matpolib\n",
    "import matplotlib.pyplot as plt"
   ]
  },
  {
   "cell_type": "code",
   "execution_count": 35,
   "metadata": {},
   "outputs": [],
   "source": [
    "# 한글\n",
    "import matplotlib as mpl\n",
    "import matplotlib.pyplot as plt    \n",
    "import matplotlib.font_manager as fm\n",
    "mpl.rcParams['axes.unicode_minus'] = False\n",
    "path = 'C:/windows/Fonts/malgun.ttf'\n",
    "font_name = fm.FontProperties(fname=path, size=50).get_name()\n",
    "plt.rc('font', family=font_name)"
   ]
  },
  {
   "cell_type": "code",
   "execution_count": 36,
   "metadata": {},
   "outputs": [
    {
     "data": {
      "text/plain": [
       "[<matplotlib.lines.Line2D at 0x567a9c8>]"
      ]
     },
     "execution_count": 36,
     "metadata": {},
     "output_type": "execute_result"
    },
    {
     "data": {
      "image/png": "[encoded data removed]",
      "text/plain": [
       "<Figure size 432x288 with 1 Axes>"
      ]
     },
     "metadata": {
      "needs_background": "light"
     },
     "output_type": "display_data"
    }
   ],
   "source": [
    "#plot()\n",
    "plt.figure()\n",
    "x = [1,2,3,4,5]\n",
    "y = [6,7,8,9,10]\n",
    "plt.plot(x,y)"
   ]
  },
  {
   "cell_type": "code",
   "execution_count": 37,
   "metadata": {},
   "outputs": [
    {
     "data": {
      "text/plain": [
       "<matplotlib.legend.Legend at 0x9563e08>"
      ]
     },
     "execution_count": 37,
     "metadata": {},
     "output_type": "execute_result"
    },
    {
     "data": {
      "image/png": "[encoded data removed]",
      "text/plain": [
       "<Figure size 288x432 with 1 Axes>"
      ]
     },
     "metadata": {
      "needs_background": "light"
     },
     "output_type": "display_data"
    }
   ],
   "source": [
    "# 디자인\n",
    "plt.figure(figsize=(4,6))\n",
    "plt.plot(x,y,color = 'red',linestyle='dotted', label = 'Line1')\n",
    "#속성 뜻???\n",
    "plt.annotate('Line1', xytext=(10,10), xy=(10,10),arrowprops=dict(facecolor='yellow', shrink=0.1))\n",
    "plt.xlabel('X axis')\n",
    "plt.ylabel('Y axis')\n",
    "plt.legend(fancybox = True, shadow=True, loc='upper right')\n",
    "#plt.savefig('matpolib.jpg')"
   ]
  },
  {
   "cell_type": "code",
   "execution_count": 38,
   "metadata": {},
   "outputs": [
    {
     "data": {
      "text/plain": [
       "<matplotlib.collections.PathCollection at 0x9603108>"
      ]
     },
     "execution_count": 38,
     "metadata": {},
     "output_type": "execute_result"
    },
    {
     "data": {
      "image/png": "[encoded data removed]",
      "text/plain": [
       "<Figure size 432x288 with 1 Axes>"
      ]
     },
     "metadata": {
      "needs_background": "light"
     },
     "output_type": "display_data"
    }
   ],
   "source": [
    "#scatter()\n",
    "plt.figure()\n",
    "#plt.scatter(x,y)\n",
    "plt.scatter(x,y, c='g', marker='x',s=100, alpha=0.5)"
   ]
  },
  {
   "cell_type": "code",
   "execution_count": 39,
   "metadata": {},
   "outputs": [
    {
     "data": {
      "text/plain": [
       "<BarContainer object of 5 artists>"
      ]
     },
     "execution_count": 39,
     "metadata": {},
     "output_type": "execute_result"
    },
    {
     "data": {
      "image/png": "[encoded data removed]",
      "text/plain": [
       "<Figure size 432x288 with 1 Axes>"
      ]
     },
     "metadata": {
      "needs_background": "light"
     },
     "output_type": "display_data"
    }
   ],
   "source": [
    "#bar()\n",
    "plt.bar(x,y, color='g', width=0.5)"
   ]
  },
  {
   "cell_type": "code",
   "execution_count": 40,
   "metadata": {},
   "outputs": [
    {
     "data": {
      "image/png": "[encoded data removed]",
      "text/plain": [
       "<Figure size 432x288 with 1 Axes>"
      ]
     },
     "metadata": {
      "needs_background": "light"
     },
     "output_type": "display_data"
    }
   ],
   "source": [
    "#hist()\n",
    "z = [1,1,1,2,2,3,4,5,5,5,7,8,9,3,3,3,4,4,1,1,5,5,2,2,7,6]\n",
    "plt.hist(z, bins=100)\n",
    "plt.show()"
   ]
  },
  {
   "cell_type": "code",
   "execution_count": 41,
   "metadata": {},
   "outputs": [
    {
     "data": {
      "image/png": "[encoded data removed]",
      "text/plain": [
       "<Figure size 432x288 with 1 Axes>"
      ]
     },
     "metadata": {
      "needs_background": "light"
     },
     "output_type": "display_data"
    }
   ],
   "source": [
    "#boxplot()\n",
    "import numpy as np\n",
    "data = np.array([[6,25,152,50],[4,23,57,17],[6,22,52,19]])\n",
    "plt.boxplot(data)\n",
    "plt.show()"
   ]
  },
  {
   "cell_type": "code",
   "execution_count": null,
   "metadata": {},
   "outputs": [],
   "source": []
  }
 ],
 "metadata": {
  "kernelspec": {
   "display_name": "Python 3",
   "language": "python",
   "name": "python3"
  },
  "language_info": {
   "codemirror_mode": {
    "name": "ipython",
    "version": 3
   },
   "file_extension": ".py",
   "mimetype": "text/x-python",
   "name": "python",
   "nbconvert_exporter": "python",
   "pygments_lexer": "ipython3",
   "version": "3.7.4"
  }
 },
 "nbformat": 4,
 "nbformat_minor": 2
}
