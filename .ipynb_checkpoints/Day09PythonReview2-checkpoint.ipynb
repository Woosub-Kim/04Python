{
 "cells": [
  {
   "cell_type": "markdown",
   "metadata": {},
   "source": [
    "# Python Review"
   ]
  },
  {
   "cell_type": "code",
   "execution_count": 4,
   "metadata": {},
   "outputs": [
    {
     "name": "stdout",
     "output_type": "stream",
     "text": [
      "[5, 14, 15, 19, 27, 42]\n"
     ]
    }
   ],
   "source": [
    "# 매우 쉬운 python lotto추출기\n",
    "import numpy as np\n",
    "S = set()\n",
    "while True:\n",
    "    if len(S)==6:\n",
    "        break\n",
    "    s = np.random.choice(list(range(1,46)))\n",
    "    S.add(s)\n",
    "print(sorted(S))"
   ]
  },
  {
   "cell_type": "markdown",
   "metadata": {},
   "source": [
    "### class\n",
    "\n",
    "함께 사용되는 변수와 함수를 묶어서 복사해서 사용...\n",
    "변수 - (속성, attrivute) 인스턴스 변수(객체에 속한 변수)와 클래스 변수(클래스 공통 변수)\n",
    "메소드 - 클래스 내에 정의되어 있는 함수\n",
    "클래스는 복사해서(인스턴스 생성)사용...\n",
    "인스턴스에서 속성과 메소드를 접근할 때'.'접근자를 통해서 사용한다"
   ]
  },
  {
   "cell_type": "code",
   "execution_count": 38,
   "metadata": {},
   "outputs": [
    {
     "name": "stdout",
     "output_type": "stream",
     "text": [
      "***************************\n",
      "name:  Kim\n",
      "eMail:  woosubgo@naver.com\n",
      "address:  Nowhere\n",
      "***************************\n",
      "Kim Lee\n",
      "Sing~~a Song!!!\n",
      "++++++++++++++++++++++++++++++\n",
      "Shall We dance?\n",
      "Sing~~a Song!!!\n",
      "and sin a pop\n",
      "5\n",
      "-1\n",
      "6\n",
      "0.6666666666666666\n",
      "0으로는 나눌 수 없습니다\n",
      "x: 2, y: 3\n",
      "35\n",
      "50.24\n",
      "25.12\n"
     ]
    }
   ],
   "source": [
    "## 명함을 출력하는 class businessCard만들고\n",
    "# 인스턴스 변수: name, email, addr\n",
    "# 메소드 : __init__, \n",
    "# 메소드 : print_business_card\n",
    "\n",
    "class businessCard:\n",
    "    def __init__(self, name, email, addr):\n",
    "        self.name = name\n",
    "        self.email = email\n",
    "        self.addr = addr\n",
    "    def print_business_card(self):\n",
    "        stars = len(self.email)+9\n",
    "        print('*'*stars)\n",
    "        print('name: ', self.name)\n",
    "        print('eMail: ', self.email)\n",
    "        print('address: ', self.addr)\n",
    "        print('*'*stars)\n",
    "    def __add__(self,other):\n",
    "        print(self.name, other.name)\n",
    "        \n",
    "# main\n",
    "bc = businessCard('Kim', 'woosubgo@naver.com', 'Nowhere')\n",
    "bc.print_business_card()\n",
    "bc2 = businessCard('Lee', 'woosubgo@gmail.com', 'everywhere')\n",
    "bc + bc2\n",
    "# 부모 class Parent\n",
    "# 메소드 can_sing\n",
    "#자식 class LuckyChild\n",
    "# 메소드 can_dance\n",
    "\n",
    "class Parent:\n",
    "    def can_sing(self):\n",
    "        print('Sing~~a Song!!!')\n",
    "# main \n",
    "par = Parent()\n",
    "par.can_sing()\n",
    "\n",
    "class LuckyChild(Parent):\n",
    "    def can_sing(self):\n",
    "        super().can_sing()\n",
    "        print('and sin a pop')\n",
    "    def can_dance(self):\n",
    "        print('Shall We dance?')\n",
    "# main\n",
    "print('+'*30)\n",
    "lc = LuckyChild()\n",
    "lc.can_dance()\n",
    "lc.can_sing()\n",
    "\n",
    "# 사칙연산 클래스를 만들고 메소드를 실행하시오\n",
    "# 인스턴스변수 x,y\n",
    "# 메소드: init, add, sub, mul, div\n",
    "class fourcal:\n",
    "    def __init__(self, x,y):\n",
    "        self.x = x\n",
    "        self.y = y\n",
    "    def add(self):\n",
    "        return self.x+self.y\n",
    "    def sub(self):\n",
    "        return self.x-self.y\n",
    "    def mul(self):\n",
    "        return self.x*self.y\n",
    "    def div(self):\n",
    "        return self.x/self.y\n",
    "    def __str__(self):\n",
    "        return 'x: {}, y: {}'.format(self.x, self.y)\n",
    "# overriding\n",
    "class Calculator(fourcal):\n",
    "    def div(self):\n",
    "        try:\n",
    "            return self.x/self.y\n",
    "        except:\n",
    "            return '0으로는 나눌 수 없습니다'\n",
    "\n",
    "# main\n",
    "fc = fourcal(2,3)\n",
    "print(fc.add())\n",
    "print(fc.sub())\n",
    "print(fc.mul())\n",
    "print(fc.div())\n",
    "fc2 = Calculator(3,0)\n",
    "print(fc2.div())\n",
    "print(fc)\n",
    "cal = Calculator(5,7)\n",
    "print(cal.mul())\n",
    "\n",
    "# 원의 면적과 둘레를 계산하는 class Circle\n",
    "# 인스턴스 변수 r\n",
    "# 메소드 area, perimeter\n",
    "class Circle:\n",
    "    def __init__(self,r):\n",
    "        self.r = r\n",
    "    def area(self):\n",
    "        return 3.14*self.r**2\n",
    "    def perimeter(self):\n",
    "        return 6.28*self.r\n",
    "# main\n",
    "cir = Circle(4)\n",
    "print(cir.area())\n",
    "print(cir.perimeter())"
   ]
  },
  {
   "cell_type": "markdown",
   "metadata": {},
   "source": [
    "### Exception\n",
    "\n",
    "try:<br/>\n",
    "&nbsp;&nbsp;&nbsp;&nbsp;실행코드<br/>\n",
    "except:<br/>\n",
    "&nbsp;&nbsp;&nbsp;&nbsp;에러처리코드<br/>"
   ]
  },
  {
   "cell_type": "code",
   "execution_count": 39,
   "metadata": {},
   "outputs": [
    {
     "name": "stdout",
     "output_type": "stream",
     "text": [
      "없음\n"
     ]
    }
   ],
   "source": [
    "try:\n",
    "    print(param)\n",
    "except:\n",
    "    print('없음')"
   ]
  },
  {
   "cell_type": "code",
   "execution_count": 41,
   "metadata": {},
   "outputs": [
    {
     "name": "stdout",
     "output_type": "stream",
     "text": [
      "name 'param' is not defined\n"
     ]
    }
   ],
   "source": [
    "try:\n",
    "    print(param)\n",
    "except Exception as e:\n",
    "    print(e)"
   ]
  },
  {
   "cell_type": "code",
   "execution_count": 43,
   "metadata": {},
   "outputs": [
    {
     "name": "stdout",
     "output_type": "stream",
     "text": [
      "division by zero\n",
      "Hello Python\n"
     ]
    }
   ],
   "source": [
    "a = 5\n",
    "b = 0\n",
    "try:\n",
    "    c = a/b\n",
    "except Exception as e:\n",
    "    print(e)\n",
    "print('Hello Python')"
   ]
  },
  {
   "cell_type": "code",
   "execution_count": 44,
   "metadata": {},
   "outputs": [
    {
     "name": "stdout",
     "output_type": "stream",
     "text": [
      "list index out of range\n"
     ]
    }
   ],
   "source": [
    "L = [1,2,3]\n",
    "try:\n",
    "    print(L[3])\n",
    "except Exception as e:\n",
    "    print(e)"
   ]
  },
  {
   "cell_type": "code",
   "execution_count": 47,
   "metadata": {},
   "outputs": [
    {
     "name": "stdout",
     "output_type": "stream",
     "text": [
      "1\n",
      "out of indexing\n",
      "good bye\n"
     ]
    }
   ],
   "source": [
    "a = 5\n",
    "#b = 0\n",
    "b = 1\n",
    "L = [1,2,3]\n",
    "try:\n",
    "    c = a/b\n",
    "    print(b)\n",
    "    print(L[3])\n",
    "except ZeroDivisionError:\n",
    "    print('cannot divide by zero')\n",
    "except NameError:\n",
    "    print('no variable named \"X\"')\n",
    "except IndexError:\n",
    "    print('out of indexing')\n",
    "else:\n",
    "    print('noerror')\n",
    "print('good bye')"
   ]
  },
  {
   "cell_type": "markdown",
   "metadata": {},
   "source": [
    "### Regular Expression\n",
    "문자열에서 특정한 패턴을 찾거나 수정할 때 사용"
   ]
  },
  {
   "cell_type": "code",
   "execution_count": 48,
   "metadata": {},
   "outputs": [],
   "source": [
    "import re"
   ]
  },
  {
   "cell_type": "markdown",
   "metadata": {},
   "source": [
    "##### search"
   ]
  },
  {
   "cell_type": "code",
   "execution_count": 49,
   "metadata": {},
   "outputs": [
    {
     "name": "stdout",
     "output_type": "stream",
     "text": [
      "415-5555-5252\n"
     ]
    }
   ],
   "source": [
    "pattern = re.compile(r'\\d\\d\\d-\\d\\d\\d\\d-\\d\\d\\d\\d')\n",
    "mo = pattern.search('My phone is 415-5555-5252')\n",
    "print(mo.group())"
   ]
  },
  {
   "cell_type": "code",
   "execution_count": 50,
   "metadata": {},
   "outputs": [
    {
     "name": "stdout",
     "output_type": "stream",
     "text": [
      "Batman\n"
     ]
    }
   ],
   "source": [
    "pattern = re.compile(r'Batman|Tina Fey')\n",
    "mo = pattern.search('Batman and Tina Fey')\n",
    "print(mo.group())\n"
   ]
  },
  {
   "cell_type": "markdown",
   "metadata": {},
   "source": [
    "##### findall"
   ]
  },
  {
   "cell_type": "code",
   "execution_count": 52,
   "metadata": {},
   "outputs": [
    {
     "name": "stdout",
     "output_type": "stream",
     "text": [
      "['415-5555-9999', '212-5555-0000']\n"
     ]
    }
   ],
   "source": [
    "pattern = re.compile(r'\\d\\d\\d-\\d\\d\\d\\d-\\d\\d\\d\\d')\n",
    "mo = pattern.findall('Call: 415-5555-9999 work:212-5555-0000')\n",
    "print(mo)"
   ]
  },
  {
   "cell_type": "code",
   "execution_count": 55,
   "metadata": {},
   "outputs": [
    {
     "name": "stdout",
     "output_type": "stream",
     "text": [
      "['12 drummers', '11 pipers', '10 lords']\n"
     ]
    }
   ],
   "source": [
    "pattern = re.compile(r'\\d+\\s\\w+')\n",
    "\"\"\"\n",
    "\\d: 숫자\n",
    "\\w: 문자, 언더바\n",
    "\\s: 빈칸, 탭, 줄바꿈\n",
    "\"\"\"\n",
    "mo = pattern.findall('12 drummers, 11 pipers, 10 lords')\n",
    "print(mo)"
   ]
  },
  {
   "cell_type": "markdown",
   "metadata": {},
   "source": [
    "##### sub"
   ]
  },
  {
   "cell_type": "code",
   "execution_count": 57,
   "metadata": {},
   "outputs": [
    {
     "data": {
      "text/plain": [
       "'Agent Alice gave secret document to Agent Bob'"
      ]
     },
     "execution_count": 57,
     "metadata": {},
     "output_type": "execute_result"
    }
   ],
   "source": [
    "pattern = re.compile(r'Agend \\w+')\n",
    "pattern.sub('Censored', 'Agent Alice gave secret document to Agent Bob')\n"
   ]
  },
  {
   "cell_type": "code",
   "execution_count": null,
   "metadata": {},
   "outputs": [],
   "source": []
  }
 ],
 "metadata": {
  "kernelspec": {
   "display_name": "Python 3",
   "language": "python",
   "name": "python3"
  },
  "language_info": {
   "codemirror_mode": {
    "name": "ipython",
    "version": 3
   },
   "file_extension": ".py",
   "mimetype": "text/x-python",
   "name": "python",
   "nbconvert_exporter": "python",
   "pygments_lexer": "ipython3",
   "version": "3.7.4"
  }
 },
 "nbformat": 4,
 "nbformat_minor": 2
}
