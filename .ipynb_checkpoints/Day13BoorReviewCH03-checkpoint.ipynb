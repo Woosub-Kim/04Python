{
 "cells": [
  {
   "cell_type": "code",
   "execution_count": 1,
   "metadata": {},
   "outputs": [],
   "source": [
    "import numpy as np\n",
    "import pandas as pd\n",
    "import datetime\n",
    "from datetime import datetime, date\n",
    "import matplotlib.pyplot as plt\n",
    "%matplotlib inline"
   ]
  },
  {
   "cell_type": "markdown",
   "metadata": {},
   "source": [
    "# Series"
   ]
  },
  {
   "cell_type": "code",
   "execution_count": 5,
   "metadata": {},
   "outputs": [
    {
     "name": "stdout",
     "output_type": "stream",
     "text": [
      "0    10\n",
      "1    11\n",
      "2    12\n",
      "3    13\n",
      "4    14\n",
      "dtype: int64\n",
      "13\n"
     ]
    }
   ],
   "source": [
    "s = pd.Series([x for x in range(10,15)])\n",
    "print(s)\n",
    "print(s[3])"
   ]
  },
  {
   "cell_type": "code",
   "execution_count": 6,
   "metadata": {},
   "outputs": [
    {
     "data": {
      "text/plain": [
       "0    2\n",
       "1    2\n",
       "2    2\n",
       "3    2\n",
       "4    2\n",
       "dtype: int64"
      ]
     },
     "execution_count": 6,
     "metadata": {},
     "output_type": "execute_result"
    }
   ],
   "source": [
    "pd.Series([2]*5)"
   ]
  },
  {
   "cell_type": "code",
   "execution_count": 7,
   "metadata": {},
   "outputs": [
    {
     "data": {
      "text/plain": [
       "0    a\n",
       "1    b\n",
       "2    c\n",
       "3    d\n",
       "4    e\n",
       "5    f\n",
       "dtype: object"
      ]
     },
     "execution_count": 7,
     "metadata": {},
     "output_type": "execute_result"
    }
   ],
   "source": [
    "pd.Series(list('abcdef'))"
   ]
  },
  {
   "cell_type": "code",
   "execution_count": 9,
   "metadata": {},
   "outputs": [
    {
     "data": {
      "text/plain": [
       "0    4\n",
       "1    5\n",
       "2    6\n",
       "3    7\n",
       "4    8\n",
       "dtype: int32"
      ]
     },
     "execution_count": 9,
     "metadata": {},
     "output_type": "execute_result"
    }
   ],
   "source": [
    "# arange\n",
    "np.arange(4,9) #np.array타입\n",
    "pd.Series(np.arange(4,9))"
   ]
  },
  {
   "cell_type": "code",
   "execution_count": 15,
   "metadata": {},
   "outputs": [
    {
     "data": {
      "text/plain": [
       "0    0.0\n",
       "1    1.0\n",
       "2    2.0\n",
       "3    3.0\n",
       "4    4.0\n",
       "5    5.0\n",
       "6    6.0\n",
       "7    7.0\n",
       "8    8.0\n",
       "9    9.0\n",
       "dtype: float64"
      ]
     },
     "execution_count": 15,
     "metadata": {},
     "output_type": "execute_result"
    }
   ],
   "source": [
    "pd.Series(np.linspace(0,9,10))"
   ]
  },
  {
   "cell_type": "code",
   "execution_count": 44,
   "metadata": {},
   "outputs": [
    {
     "data": {
      "text/plain": [
       "<matplotlib.axes._subplots.AxesSubplot at 0xa37af08>"
      ]
     },
     "execution_count": 44,
     "metadata": {},
     "output_type": "execute_result"
    },
    {
     "data": {
      "image/png": "[encoded data removed]",
      "text/plain": [
       "<Figure size 432x288 with 1 Axes>"
      ]
     },
     "metadata": {
      "needs_background": "light"
     },
     "output_type": "display_data"
    }
   ],
   "source": [
    "np.random.seed(777)\n",
    "pd.Series(np.random.normal(size=5)).plot(kind='hist')"
   ]
  },
  {
   "cell_type": "code",
   "execution_count": 28,
   "metadata": {},
   "outputs": [
    {
     "name": "stdout",
     "output_type": "stream",
     "text": [
      "RangeIndex(start=0, stop=5, step=1)\n",
      "[10 11 12 13 14]\n"
     ]
    }
   ],
   "source": [
    "print(s.index)\n",
    "print(s.values)"
   ]
  },
  {
   "cell_type": "code",
   "execution_count": 29,
   "metadata": {},
   "outputs": [
    {
     "name": "stdout",
     "output_type": "stream",
     "text": [
      "5\n",
      "5\n",
      "(5,)\n"
     ]
    }
   ],
   "source": [
    "print(len(s))\n",
    "print(s.size)\n",
    "print(s.shape)\n"
   ]
  },
  {
   "cell_type": "code",
   "execution_count": 33,
   "metadata": {},
   "outputs": [
    {
     "name": "stdout",
     "output_type": "stream",
     "text": [
      "a    1\n",
      "b    2\n",
      "c    3\n",
      "d    4\n",
      "e    5\n",
      "dtype: int32\n",
      "f     6\n",
      "g     7\n",
      "h     8\n",
      "i     9\n",
      "j    10\n",
      "dtype: int32\n"
     ]
    }
   ],
   "source": [
    "s = pd.Series(np.arange(1,11),index=list('abcdefghij'))\n",
    "print(s.head())\n",
    "print(s.tail())"
   ]
  },
  {
   "cell_type": "code",
   "execution_count": 34,
   "metadata": {},
   "outputs": [
    {
     "data": {
      "text/plain": [
       "b    2\n",
       "f    6\n",
       "i    9\n",
       "dtype: int32"
      ]
     },
     "execution_count": 34,
     "metadata": {},
     "output_type": "execute_result"
    }
   ],
   "source": [
    "s.take([1,5,8])"
   ]
  },
  {
   "cell_type": "code",
   "execution_count": 35,
   "metadata": {},
   "outputs": [
    {
     "data": {
      "text/plain": [
       "4"
      ]
     },
     "execution_count": 35,
     "metadata": {},
     "output_type": "execute_result"
    }
   ],
   "source": [
    "s.loc['d']"
   ]
  },
  {
   "cell_type": "code",
   "execution_count": 36,
   "metadata": {},
   "outputs": [
    {
     "data": {
      "text/plain": [
       "6"
      ]
     },
     "execution_count": 36,
     "metadata": {},
     "output_type": "execute_result"
    }
   ],
   "source": [
    "s.iloc[5]"
   ]
  },
  {
   "cell_type": "code",
   "execution_count": 37,
   "metadata": {},
   "outputs": [
    {
     "data": {
      "text/plain": [
       "c    3\n",
       "d    4\n",
       "dtype: int32"
      ]
     },
     "execution_count": 37,
     "metadata": {},
     "output_type": "execute_result"
    }
   ],
   "source": [
    "s.loc[['c','d']]"
   ]
  },
  {
   "cell_type": "code",
   "execution_count": 38,
   "metadata": {},
   "outputs": [
    {
     "data": {
      "text/plain": [
       "b    2\n",
       "c    3\n",
       "dtype: int32"
      ]
     },
     "execution_count": 38,
     "metadata": {},
     "output_type": "execute_result"
    }
   ],
   "source": [
    "s.iloc[[1,2]]"
   ]
  },
  {
   "cell_type": "code",
   "execution_count": 51,
   "metadata": {},
   "outputs": [
    {
     "name": "stdout",
     "output_type": "stream",
     "text": [
      "11    101\n",
      "12    102\n",
      "13    103\n",
      "14    104\n",
      "15    105\n",
      "dtype: int32\n",
      "11    101\n",
      "12    102\n",
      "13    103\n",
      "14    104\n",
      "15    105\n",
      "dtype: int32\n",
      "11    101\n",
      "12    102\n",
      "13    103\n",
      "14    104\n",
      "15    105\n",
      "16    106\n",
      "dtype: int32\n",
      "11    101\n",
      "12    102\n",
      "13    103\n",
      "14    104\n",
      "15    105\n",
      "dtype: int32\n"
     ]
    }
   ],
   "source": [
    "# Slicing\n",
    "\n",
    "s = pd.Series(np.arange(100,110), index=np.arange(10,20))\n",
    "print(s[1:6])\n",
    "print(s.iloc[1:6]) # 마지막 인덱스 미포함\n",
    "print(s.loc[11:16]) # 마지막 인덱스 포함\n",
    "print(s.iloc[[1,2,3,4,5]])"
   ]
  },
  {
   "cell_type": "code",
   "execution_count": 61,
   "metadata": {},
   "outputs": [
    {
     "name": "stdout",
     "output_type": "stream",
     "text": [
      "11    101\n",
      "13    103\n",
      "15    105\n",
      "dtype: int32\n",
      "11    101\n",
      "13    103\n",
      "15    105\n",
      "dtype: int32\n",
      "10    100\n",
      "11    101\n",
      "12    102\n",
      "13    103\n",
      "14    104\n",
      "dtype: int32\n",
      "14    104\n",
      "15    105\n",
      "16    106\n",
      "17    107\n",
      "18    108\n",
      "19    109\n",
      "dtype: int32\n",
      "10    100\n",
      "12    102\n",
      "14    104\n",
      "dtype: int32\n",
      "14    104\n",
      "16    106\n",
      "18    108\n",
      "dtype: int32\n",
      "10    100\n",
      "12    102\n",
      "14    104\n",
      "16    106\n",
      "18    108\n",
      "dtype: int32\n",
      "19    109\n",
      "18    108\n",
      "17    107\n",
      "16    106\n",
      "15    105\n",
      "14    104\n",
      "13    103\n",
      "12    102\n",
      "11    101\n",
      "10    100\n",
      "dtype: int32\n",
      "14    104\n",
      "12    102\n",
      "10    100\n",
      "dtype: int32\n"
     ]
    }
   ],
   "source": [
    "print(s[1:6:2])\n",
    "print(s.iloc[[1,3,5]])\n",
    "print(s[:5])\n",
    "print(s[4:])\n",
    "print(s[:5:2])\n",
    "print(s[4::2])\n",
    "print(s[::2])\n",
    "print(s[::-1])\n",
    "print(s[4::-2])"
   ]
  },
  {
   "cell_type": "code",
   "execution_count": 64,
   "metadata": {},
   "outputs": [
    {
     "name": "stdout",
     "output_type": "stream",
     "text": [
      "16    106\n",
      "17    107\n",
      "18    108\n",
      "19    109\n",
      "dtype: int32\n",
      "16    106\n",
      "17    107\n",
      "18    108\n",
      "dtype: int32\n"
     ]
    }
   ],
   "source": [
    "print(s[-4:])\n",
    "print(s[-4:-1])"
   ]
  },
  {
   "cell_type": "code",
   "execution_count": 65,
   "metadata": {},
   "outputs": [
    {
     "data": {
      "text/plain": [
       "a    0\n",
       "b    1\n",
       "c    2\n",
       "d    3\n",
       "e    4\n",
       "dtype: int32"
      ]
     },
     "execution_count": 65,
     "metadata": {},
     "output_type": "execute_result"
    }
   ],
   "source": [
    "s=pd.Series(np.arange(0,5), index=['a', 'b', 'c', 'd', 'e'])\n",
    "s"
   ]
  },
  {
   "cell_type": "code",
   "execution_count": 66,
   "metadata": {},
   "outputs": [
    {
     "name": "stdout",
     "output_type": "stream",
     "text": [
      "b    1\n",
      "c    2\n",
      "dtype: int32\n"
     ]
    }
   ],
   "source": [
    "print(s[1:3])"
   ]
  },
  {
   "cell_type": "code",
   "execution_count": 67,
   "metadata": {},
   "outputs": [
    {
     "name": "stdout",
     "output_type": "stream",
     "text": [
      "b    1\n",
      "c    2\n",
      "d    3\n",
      "dtype: int32\n"
     ]
    }
   ],
   "source": [
    "print(s['b':'d']) #마지막 값 포함"
   ]
  },
  {
   "cell_type": "code",
   "execution_count": 71,
   "metadata": {},
   "outputs": [
    {
     "name": "stdout",
     "output_type": "stream",
     "text": [
      "a    4\n",
      "b    6\n",
      "dtype: int64\n"
     ]
    }
   ],
   "source": [
    "s1 = pd.Series([1,2], index=['a','b'])\n",
    "s2 = pd.Series([4,3], index=list('ba'))\n",
    "print(s1+s2)"
   ]
  },
  {
   "cell_type": "code",
   "execution_count": 72,
   "metadata": {},
   "outputs": [
    {
     "name": "stdout",
     "output_type": "stream",
     "text": [
      "a    2\n",
      "b    4\n",
      "dtype: int64\n"
     ]
    }
   ],
   "source": [
    "print(s1*2)  #elementwise"
   ]
  },
  {
   "cell_type": "code",
   "execution_count": 73,
   "metadata": {},
   "outputs": [
    {
     "name": "stdout",
     "output_type": "stream",
     "text": [
      "a    NaN\n",
      "b    7.0\n",
      "c    NaN\n",
      "dtype: float64\n"
     ]
    }
   ],
   "source": [
    "s3 = pd.Series([5,6], index=['b','c'])#인덱스 일치하는 것끼리 연산\n",
    "print(s1+s3)"
   ]
  },
  {
   "cell_type": "code",
   "execution_count": 79,
   "metadata": {},
   "outputs": [
    {
     "name": "stdout",
     "output_type": "stream",
     "text": [
      "a    False\n",
      "b    False\n",
      "c    False\n",
      "d    False\n",
      "e     True\n",
      "dtype: bool\n",
      "e    4\n",
      "dtype: int32\n",
      "c    2\n",
      "e    4\n",
      "dtype: int32\n"
     ]
    }
   ],
   "source": [
    "# boolean index\n",
    "s = pd.Series(np.arange(5), index=list('abcde'))\n",
    "print(s>3)\n",
    "print(s[s>3])\n",
    "print(s[(s>1)&(s%2==0)])"
   ]
  },
  {
   "cell_type": "code",
   "execution_count": 84,
   "metadata": {},
   "outputs": [
    {
     "name": "stdout",
     "output_type": "stream",
     "text": [
      "0   -2.048283\n",
      "1   -0.183444\n",
      "2    0.159217\n",
      "3   -0.460243\n",
      "4    0.622789\n",
      "dtype: float64\n",
      "a   -2.048283\n",
      "b   -0.183444\n",
      "c    0.159217\n",
      "d   -0.460243\n",
      "e    0.622789\n",
      "dtype: float64\n"
     ]
    }
   ],
   "source": [
    "np.random.seed(277)\n",
    "s = pd.Series(np.random.randn(5))\n",
    "print(s)\n",
    "s.index = [c for c in 'abcde']\n",
    "print(s)"
   ]
  },
  {
   "cell_type": "code",
   "execution_count": 85,
   "metadata": {},
   "outputs": [
    {
     "data": {
      "text/plain": [
       "a   -2.048283\n",
       "c    0.159217\n",
       "g         NaN\n",
       "dtype: float64"
      ]
     },
     "execution_count": 85,
     "metadata": {},
     "output_type": "execute_result"
    }
   ],
   "source": [
    "s2 = s.reindex(['a','c', 'g'])\n",
    "s2"
   ]
  },
  {
   "cell_type": "code",
   "execution_count": 87,
   "metadata": {},
   "outputs": [
    {
     "data": {
      "text/plain": [
       "array([-2,  0,  0,  0,  0])"
      ]
     },
     "execution_count": 87,
     "metadata": {},
     "output_type": "execute_result"
    }
   ],
   "source": [
    "# to_numeric\n",
    "# to_datetime\n",
    "\n",
    "s.values.astype(int)"
   ]
  },
  {
   "cell_type": "code",
   "execution_count": 93,
   "metadata": {},
   "outputs": [
    {
     "data": {
      "text/plain": [
       "a   -2.048283\n",
       "f    0.000000\n",
       "dtype: float64"
      ]
     },
     "execution_count": 93,
     "metadata": {},
     "output_type": "execute_result"
    }
   ],
   "source": [
    "s2 = s.copy()\n",
    "s2.reindex(['a','f'], fill_value=0)\n"
   ]
  },
  {
   "cell_type": "code",
   "execution_count": 96,
   "metadata": {},
   "outputs": [
    {
     "data": {
      "text/plain": [
       "0      red\n",
       "1    green\n",
       "2    green\n",
       "3    green\n",
       "4     blue\n",
       "5     blue\n",
       "6      NaN\n",
       "dtype: object"
      ]
     },
     "execution_count": 96,
     "metadata": {},
     "output_type": "execute_result"
    }
   ],
   "source": [
    "s3 = pd.Series(['red', 'green', 'blue'], index=[0,3,5])\n",
    "s3.reindex(np.arange(7), method='bfill')"
   ]
  },
  {
   "cell_type": "code",
   "execution_count": 98,
   "metadata": {},
   "outputs": [
    {
     "data": {
      "text/plain": [
       "0    yellow\n",
       "3     green\n",
       "dtype: object"
      ]
     },
     "execution_count": 98,
     "metadata": {},
     "output_type": "execute_result"
    }
   ],
   "source": [
    "s3[0] = 'yellow'\n",
    "s3\n",
    "del s3[5]\n",
    "s3"
   ]
  },
  {
   "cell_type": "code",
   "execution_count": null,
   "metadata": {},
   "outputs": [],
   "source": [
    " "
   ]
  }
 ],
 "metadata": {
  "kernelspec": {
   "display_name": "Python 3",
   "language": "python",
   "name": "python3"
  },
  "language_info": {
   "codemirror_mode": {
    "name": "ipython",
    "version": 3
   },
   "file_extension": ".py",
   "mimetype": "text/x-python",
   "name": "python",
   "nbconvert_exporter": "python",
   "pygments_lexer": "ipython3",
   "version": "3.7.4"
  }
 },
 "nbformat": 4,
 "nbformat_minor": 4
}
