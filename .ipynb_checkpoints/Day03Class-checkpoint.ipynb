{
 "cells": [
  {
   "cell_type": "markdown",
   "metadata": {},
   "source": [
    "# class"
   ]
  },
  {
   "cell_type": "code",
   "execution_count": 2,
   "metadata": {},
   "outputs": [
    {
     "name": "stdout",
     "output_type": "stream",
     "text": [
      "--------------------\n",
      "Name:  Kim\n",
      "E-mail:  woosubgo@naver.com\n",
      "Address:  Seoul\n",
      "--------------------\n"
     ]
    }
   ],
   "source": [
    "def business_card(name,email,address):\n",
    "    print('-'*20)\n",
    "    print('Name: ',name)\n",
    "    print(\"E-mail: \", email)\n",
    "    print(\"Address: \", address)\n",
    "    print('-'*20)\n",
    "# main\n",
    "business_card('Kim', 'woosubgo@naver.com', 'Seoul')  "
   ]
  },
  {
   "cell_type": "code",
   "execution_count": 3,
   "metadata": {},
   "outputs": [
    {
     "name": "stdout",
     "output_type": "stream",
     "text": [
      "--------------------\n",
      "Name:  yuna\n",
      "E-mail:  yuna@hanmail.net\n",
      "Address:  Incheon\n",
      "--------------------\n"
     ]
    }
   ],
   "source": [
    "name = 'yuna'\n",
    "email = 'yuna@hanmail.net'\n",
    "address = 'Incheon'\n",
    "business_card(name, email, address)"
   ]
  },
  {
   "cell_type": "code",
   "execution_count": 6,
   "metadata": {},
   "outputs": [
    {
     "name": "stdout",
     "output_type": "stream",
     "text": [
      "--------------------\n",
      "Name:  yuna\n",
      "E-mail:  yuna@hanmail.net\n",
      "Address:  Incheon\n",
      "--------------------\n"
     ]
    }
   ],
   "source": [
    "class BusinessCard:\n",
    "    name = 'yuna'\n",
    "    email = 'yuna@hanmail.net'\n",
    "    address = 'Incheon'\n",
    "    \n",
    "    def business_card(self):\n",
    "        print('-'*20)\n",
    "        print('Name: ',self.name)\n",
    "        print(\"E-mail: \",self.email)\n",
    "        print(\"Address: \",self.address)\n",
    "        print('-'*20)\n",
    "# main\n",
    "yuna = BusinessCard()\n",
    "yuna.business_card()"
   ]
  },
  {
   "cell_type": "code",
   "execution_count": 9,
   "metadata": {},
   "outputs": [
    {
     "name": "stdout",
     "output_type": "stream",
     "text": [
      "--------------------\n",
      "Name:  Park\n",
      "E-mail:  park@daum.net\n",
      "Address:  Seoul\n",
      "--------------------\n"
     ]
    }
   ],
   "source": [
    "class BusinessCard:\n",
    "    def setdefault(self, name, email, address):\n",
    "        self.name = name\n",
    "        self.email = email\n",
    "        self.address = address\n",
    "    \n",
    "    def business_card(self):\n",
    "        print('-'*20)\n",
    "        print('Name: ',self.name)\n",
    "        print(\"E-mail: \",self.email)\n",
    "        print(\"Address: \",self.address)\n",
    "        print('-'*20)\n",
    "card = BusinessCard()\n",
    "card.setdefault('Park', 'park@daum.net', 'Seoul')\n",
    "card.business_card()"
   ]
  },
  {
   "cell_type": "code",
   "execution_count": 10,
   "metadata": {},
   "outputs": [
    {
     "name": "stdout",
     "output_type": "stream",
     "text": [
      "--------------------\n",
      "Name:  minsoo\n",
      "E-mail:  minsoo@hanmain.net\n",
      "Address:  Incheon\n",
      "--------------------\n"
     ]
    }
   ],
   "source": [
    "card1 = BusinessCard()\n",
    "card1.setdefault('minsoo','minsoo@hanmain.net','Incheon')\n",
    "card1.business_card()"
   ]
  },
  {
   "cell_type": "markdown",
   "metadata": {},
   "source": [
    "# __init__()메소드"
   ]
  },
  {
   "cell_type": "code",
   "execution_count": 11,
   "metadata": {},
   "outputs": [
    {
     "name": "stdout",
     "output_type": "stream",
     "text": [
      "--------------------\n",
      "Name:  Lee\n",
      "E-mail:  lee@naver.com\n",
      "Address:  Seoul\n",
      "--------------------\n"
     ]
    }
   ],
   "source": [
    "#객체가 실행될 때 자동으로 실행되는 __init__()함수로 인스턴스 받기\n",
    "class BusinessCard:\n",
    "    def __init__(self, name, email, address):\n",
    "        self.name = name\n",
    "        self.email = email\n",
    "        self.address = address\n",
    "    \n",
    "    def business_card(self):\n",
    "        print('-'*20)\n",
    "        print('Name: ',self.name)\n",
    "        print(\"E-mail: \",self.email)\n",
    "        print(\"Address: \",self.address)\n",
    "        print('-'*20)\n",
    "# main\n",
    "card2 = BusinessCard('Lee', 'lee@naver.com', 'Seoul')\n",
    "card2.business_card()"
   ]
  },
  {
   "cell_type": "code",
   "execution_count": 23,
   "metadata": {},
   "outputs": [
    {
     "name": "stdout",
     "output_type": "stream",
     "text": [
      "5\n",
      "-1\n",
      "6\n",
      "0.6666666666666666\n",
      "2\n",
      "8\n"
     ]
    }
   ],
   "source": [
    "#사칙연산을 수행하는 클래스를 생성해서..\n",
    "class fourcal:\n",
    "    def __init__(self,n1,sign,n2):\n",
    "        self.sign = sign\n",
    "        self.n1 = n1\n",
    "        self.n2 = n2\n",
    "    def do(self):\n",
    "        if self.sign == '+': return self.n1+self.n2\n",
    "        elif self.sign == '-': return self.n1-self.n2\n",
    "        elif self.sign == '*': return self.n1*self.n2\n",
    "        elif self.sign == '/': return self.n1/self.n2\n",
    "        elif self.sign == '%': return self.n1%self.n2\n",
    "        elif self.sign == '^': return self.n1**self.n2\n",
    "    def change(self,sign):\n",
    "        self.sign = sign\n",
    "# main        \n",
    "c1 = fourcal(2,'+',3)\n",
    "print(c1.do())\n",
    "\n",
    "c2 = fourcal(2,'-',3)\n",
    "print(c2.do())\n",
    "\n",
    "c3 = fourcal(2,'*',3)\n",
    "print(c3.do())\n",
    "\n",
    "c4 = fourcal(2,'/',3)\n",
    "print(c4.do())\n",
    "\n",
    "c5 = fourcal(2,'%',3)\n",
    "print(c5.do())\n",
    "\n",
    "c5.change('^')\n",
    "print(c5.do())"
   ]
  },
  {
   "cell_type": "code",
   "execution_count": 29,
   "metadata": {},
   "outputs": [
    {
     "name": "stdout",
     "output_type": "stream",
     "text": [
      "78.53981633974483\n",
      "31.41592653589793\n"
     ]
    }
   ],
   "source": [
    "#인스턴스변수로 반지름을 받고 \n",
    "#원의 면적과 원의 둘레를 각각 계산하는 메소드를 가지는\n",
    "#클래스를 만들기\n",
    "import math\n",
    "PI = math.pi\n",
    "class circle:\n",
    "    def __init__(self,r):\n",
    "        self.r = r\n",
    "    def area(self):\n",
    "        return PI*self.r**2\n",
    "    def circum(self):\n",
    "        return 2*PI*self.r\n",
    "ci = circle(5)\n",
    "print(ci.area())\n",
    "print(ci.circum())"
   ]
  },
  {
   "cell_type": "code",
   "execution_count": null,
   "metadata": {},
   "outputs": [],
   "source": []
  }
 ],
 "metadata": {
  "kernelspec": {
   "display_name": "Python 3",
   "language": "python",
   "name": "python3"
  },
  "language_info": {
   "codemirror_mode": {
    "name": "ipython",
    "version": 3
   },
   "file_extension": ".py",
   "mimetype": "text/x-python",
   "name": "python",
   "nbconvert_exporter": "python",
   "pygments_lexer": "ipython3",
   "version": "3.7.4"
  }
 },
 "nbformat": 4,
 "nbformat_minor": 2
}
