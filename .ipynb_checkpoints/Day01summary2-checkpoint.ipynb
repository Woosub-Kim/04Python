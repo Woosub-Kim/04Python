{
 "cells": [
  {
   "cell_type": "markdown",
   "metadata": {},
   "source": [
    "# Tuple"
   ]
  },
  {
   "cell_type": "markdown",
   "metadata": {},
   "source": [
    "mtuple = ('tuple', (1,2,3), [4,5,6])\n",
    "mtuple"
   ]
  },
  {
   "cell_type": "code",
   "execution_count": 4,
   "metadata": {},
   "outputs": [
    {
     "name": "stdout",
     "output_type": "stream",
     "text": [
      "tuple\n",
      "3\n",
      "[4, 5]\n",
      "4\n",
      "(1, 2, 3)\n"
     ]
    }
   ],
   "source": [
    "#tuple를 출력하세오\n",
    "print(mtuple[0])\n",
    "#3을 출력하시오\n",
    "print(mtuple[1][-1])\n",
    "#4,5를 출력하시오\n",
    "print(mtuple[2][:2])\n",
    "#4를 출력하시오\n",
    "print(mtuple[2][0])\n",
    "#(1,2,3)을 출력하시오\n",
    "print(mtuple[1])"
   ]
  },
  {
   "cell_type": "code",
   "execution_count": 8,
   "metadata": {},
   "outputs": [
    {
     "name": "stdout",
     "output_type": "stream",
     "text": [
      "(1, 2, 3, 3, 2, 1, 4, 5, 6)\n",
      "(1, 2, 3, 3, 2, 1, 1, 2, 3, 3, 2, 1, 1, 2, 3, 3, 2, 1)\n",
      "True\n",
      "2\n",
      "2\n"
     ]
    }
   ],
   "source": [
    "mtuple = (1,2,3,3,2,1)\n",
    "ytuple = (4,5,6)\n",
    "#mtuple과 ytuple을 연결하세요\n",
    "print(mtuple + ytuple)\n",
    "#mtuple를 3반복하세요\n",
    "print(mtuple*3)\n",
    "#mtuple에 3이 있는 지 확인하기\n",
    "print(3 in mtuple)\n",
    "#mtuple에 3이 몇 개 있는지 확인하기\n",
    "print(mtuple.count(3))\n",
    "#ytuple에 6의 인덱스 확인하기\n",
    "print(ytuple.index(6))\n",
    "#mtuple에서 index 2의 값을 '5'로 수정하기\n",
    "#안됨"
   ]
  },
  {
   "cell_type": "code",
   "execution_count": 14,
   "metadata": {},
   "outputs": [
    {
     "name": "stdout",
     "output_type": "stream",
     "text": [
      "7\n",
      "7\n",
      "2\n",
      "30\n",
      "[2, 3, 4, 4, 5, 5, 7]\n",
      "4.285714285714286\n"
     ]
    }
   ],
   "source": [
    "t = (5,4,7,4,2,3,5)\n",
    "#t의 길이를 리턴하세요\n",
    "print(len(t))\n",
    "#t의 최대값을 출력하세요\n",
    "print(max(t))\n",
    "#t의 최솟값을 출력하세요\n",
    "print(min(t))\n",
    "#t의 합을 출력하세요\n",
    "print(sum(t))\n",
    "#t를 오름차순으로 정렬하세요\n",
    "print(sorted(t))\n",
    "#t 평균을 출력하세요\n",
    "import numpy\n",
    "print(numpy.mean(t))"
   ]
  },
  {
   "cell_type": "markdown",
   "metadata": {},
   "source": [
    "# Set"
   ]
  },
  {
   "cell_type": "code",
   "execution_count": 15,
   "metadata": {},
   "outputs": [
    {
     "name": "stdout",
     "output_type": "stream",
     "text": [
      "{'sky'}\n",
      "{'sky', 'sea'}\n",
      "{'sky', 'sea', (1, 2)}\n",
      "3\n",
      "True\n",
      "{1, 2, 3}\n"
     ]
    }
   ],
   "source": [
    "my_set = set()\n",
    "#'sky'를 추가하세요\n",
    "my_set.add('sky')\n",
    "print(my_set)\n",
    "#'sea'를 추가하세요\n",
    "my_set.add('sea')\n",
    "print(my_set)\n",
    "#(1,2)를 추가하세요\n",
    "my_set.add((1,2))\n",
    "print(my_set)\n",
    "#my_set의 길이를 리턴하세요\n",
    "print(len(my_set))\n",
    "#'sea'가 포함되어 있는 지 확인하세요\n",
    "print('sea' in my_set)\n",
    "#my_list=[1,2,2,2,3]인 my_list를 set으로 타입변경하세요\n",
    "my_list=[1,2,2,2,3]\n",
    "print(set(my_list))"
   ]
  },
  {
   "cell_type": "code",
   "execution_count": 25,
   "metadata": {},
   "outputs": [
    {
     "name": "stdout",
     "output_type": "stream",
     "text": [
      "{1, 2, 3, 4, 5, 6, 7, 8, 9}\n",
      "{1, 2, 3}\n",
      "{4, 5, 6}\n",
      "{4, 5, 6, 7, 8, 9}\n"
     ]
    }
   ],
   "source": [
    "A = {1,2,3,4,5,6}\n",
    "B = {1,2,3,7,8,9}\n",
    "#합집합을 구하세요\n",
    "print(A.union(B))\n",
    "#교집합을 구하세요\n",
    "print(A.intersection(B))\n",
    "#A의 B에 대한 차집합을 구하세요\n",
    "print(A.difference(B))\n",
    "#대칭차집합을 구하세요\n",
    "print(A.symmetric_difference(B))"
   ]
  },
  {
   "cell_type": "markdown",
   "metadata": {},
   "source": [
    "# Dictionary"
   ]
  },
  {
   "cell_type": "code",
   "execution_count": 31,
   "metadata": {},
   "outputs": [
    {
     "name": "stdout",
     "output_type": "stream",
     "text": [
      "1089\n",
      "{'mary': 1089, 'sams': 2111, 'amy': 9788, 'tom': 2024, 'bob': 5877, 'kelly': 7788}\n",
      "{'mary': 1089, 'sams': 2111, 'amy': 9788, 'tom': 2000, 'bob': 5877, 'kelly': 7788}\n",
      "True\n",
      "True\n",
      "['mary', 'sams', 'amy', 'tom', 'bob', 'kelly']\n",
      "[1089, 2111, 9788, 2000, 5877, 7788]\n",
      "dict_items([('mary', 1089), ('sams', 2111), ('amy', 9788), ('tom', 2000), ('bob', 5877), ('kelly', 7788)])\n"
     ]
    }
   ],
   "source": [
    "name = {'mary':1089, 'sams':2111, 'amy': 9788, 'tom':2024, 'bob':5877}\n",
    "#'mary'의 값을 출력하기\n",
    "print(name['mary'])\n",
    "#key는 'kelly', value는 7788인 새 요소를 추가하기\n",
    "name['kelly'] = 7788\n",
    "print(name)\n",
    "#'tom'의 value를 2000으로 수정하기\n",
    "name['tom'] = 2000\n",
    "print(name)\n",
    "#key에 'sams'가 포함되어 있는지 확인하기\n",
    "print('sams' in name)\n",
    "#value에 9788이 포함되어있는지 확인하기\n",
    "print(9788 in name.values())\n",
    "#모든 key값을 리스트로 출력하기\n",
    "print(list(name.keys()))\n",
    "#모든 value를 리스트로 출력하기\n",
    "print(list(name.values()))\n",
    "#모든 원소를 (key, value)튜플로 출력하기\n",
    "print(name.items())"
   ]
  },
  {
   "cell_type": "code",
   "execution_count": 32,
   "metadata": {},
   "outputs": [],
   "source": [
    "#sol1 = ['태양', '수성', '금성', '지구' ]\n",
    "#sol2 = ['Sun', 'Mercury', 'Venus', 'Earth']"
   ]
  },
  {
   "cell_type": "code",
   "execution_count": 40,
   "metadata": {},
   "outputs": [
    {
     "name": "stdout",
     "output_type": "stream",
     "text": [
      "이름을 입력하세요kws\n"
     ]
    },
    {
     "data": {
      "text/plain": [
       "1000"
      ]
     },
     "execution_count": 40,
     "metadata": {},
     "output_type": "execute_result"
    }
   ],
   "source": [
    "#name dict에서 이름을 입력받은 후 이름이 name dict에 있으면 값을 출력하고 없으면 받은 이름과 값은 1000으로 해서\n",
    "#삽입하는 코드를 작성하기\n",
    "\n",
    "n = input('이름을 입력하세요')\n",
    "name.setdefault(n, 1000)"
   ]
  },
  {
   "cell_type": "code",
   "execution_count": 39,
   "metadata": {},
   "outputs": [
    {
     "data": {
      "text/plain": [
       "{'mary': 1089,\n",
       " 'sams': 2111,\n",
       " 'amy': 9788,\n",
       " 'tom': 2000,\n",
       " 'bob': 5877,\n",
       " 'kelly': 7788,\n",
       " 'kws': 1000}"
      ]
     },
     "execution_count": 39,
     "metadata": {},
     "output_type": "execute_result"
    }
   ],
   "source": [
    "name"
   ]
  },
  {
   "cell_type": "code",
   "execution_count": null,
   "metadata": {},
   "outputs": [],
   "source": []
  }
 ],
 "metadata": {
  "kernelspec": {
   "display_name": "Python 3",
   "language": "python",
   "name": "python3"
  },
  "language_info": {
   "codemirror_mode": {
    "name": "ipython",
    "version": 3
   },
   "file_extension": ".py",
   "mimetype": "text/x-python",
   "name": "python",
   "nbconvert_exporter": "python",
   "pygments_lexer": "ipython3",
   "version": "3.7.4"
  }
 },
 "nbformat": 4,
 "nbformat_minor": 2
}
