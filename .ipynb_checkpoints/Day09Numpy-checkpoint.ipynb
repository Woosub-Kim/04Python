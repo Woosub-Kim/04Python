{
 "cells": [
  {
   "cell_type": "markdown",
   "metadata": {},
   "source": [
    "# numpy"
   ]
  },
  {
   "cell_type": "code",
   "execution_count": 2,
   "metadata": {},
   "outputs": [],
   "source": [
    "import numpy as np"
   ]
  },
  {
   "cell_type": "markdown",
   "metadata": {},
   "source": [
    "### array"
   ]
  },
  {
   "cell_type": "code",
   "execution_count": 13,
   "metadata": {},
   "outputs": [
    {
     "name": "stdout",
     "output_type": "stream",
     "text": [
      "[1. 4. 5. 6.]\n"
     ]
    }
   ],
   "source": [
    "# creation\n",
    "test_arr = np.array([1,4,5,6], float)\n",
    "print(test_array)"
   ]
  },
  {
   "cell_type": "code",
   "execution_count": 21,
   "metadata": {},
   "outputs": [
    {
     "name": "stdout",
     "output_type": "stream",
     "text": [
      "4.0\n",
      "6.0\n",
      "[4. 5.]\n",
      "[1.]\n",
      "[4. 5. 6.]\n"
     ]
    }
   ],
   "source": [
    "# indexing/slicing\n",
    "print(test_arr[1])\n",
    "print(test_arr[3])\n",
    "print(test_arr[1:3])\n",
    "print(test_arr[:1])\n",
    "print(test_arr[1:])"
   ]
  },
  {
   "cell_type": "code",
   "execution_count": 25,
   "metadata": {},
   "outputs": [
    {
     "name": "stdout",
     "output_type": "stream",
     "text": [
      "<class 'numpy.float64'>\n",
      "float64\n",
      "(4,)\n"
     ]
    }
   ],
   "source": [
    "print(type(test_arr[1]))\n",
    "print(test_array.dtype)\n",
    "print(test_array.shape) # 길이와 차원을 tuple로 반환"
   ]
  },
  {
   "cell_type": "code",
   "execution_count": 26,
   "metadata": {},
   "outputs": [
    {
     "data": {
      "text/plain": [
       "array(['1', '3', '4', '8'], dtype='<U11')"
      ]
     },
     "execution_count": 26,
     "metadata": {},
     "output_type": "execute_result"
    }
   ],
   "source": [
    "np.array([1,3,4,'8'])"
   ]
  },
  {
   "cell_type": "code",
   "execution_count": 27,
   "metadata": {},
   "outputs": [
    {
     "data": {
      "text/plain": [
       "array([1., 3., 4., 8.])"
      ]
     },
     "execution_count": 27,
     "metadata": {},
     "output_type": "execute_result"
    }
   ],
   "source": [
    "np.array([1,3,4,'8'],float)"
   ]
  },
  {
   "cell_type": "code",
   "execution_count": 32,
   "metadata": {},
   "outputs": [
    {
     "name": "stdout",
     "output_type": "stream",
     "text": [
      "(3, 4)\n",
      "2\n"
     ]
    }
   ],
   "source": [
    "mat = np.array([[1,3,5,7],[2,4,5,8],[5,4,2,3]])\n",
    "print(mat.shape)\n",
    "print(mat.ndim)"
   ]
  },
  {
   "cell_type": "markdown",
   "metadata": {},
   "source": [
    "### reshape"
   ]
  },
  {
   "cell_type": "code",
   "execution_count": 36,
   "metadata": {},
   "outputs": [
    {
     "name": "stdout",
     "output_type": "stream",
     "text": [
      "[[1 2 3 4]\n",
      " [1 2 3 8]]\n"
     ]
    }
   ],
   "source": [
    "test_list = [[1,2,3,4],[1,2,3,8]]\n",
    "test_mat = np.array(test_list)\n",
    "print(test_mat)"
   ]
  },
  {
   "cell_type": "code",
   "execution_count": 44,
   "metadata": {},
   "outputs": [
    {
     "name": "stdout",
     "output_type": "stream",
     "text": [
      "(2, 4)\n"
     ]
    }
   ],
   "source": [
    "print(test_mat.shape)"
   ]
  },
  {
   "cell_type": "code",
   "execution_count": 46,
   "metadata": {},
   "outputs": [
    {
     "name": "stdout",
     "output_type": "stream",
     "text": [
      "[1 2 3 4 1 2 3 8]\n"
     ]
    }
   ],
   "source": [
    "test_mat.reshape(8,).shape\n",
    "print(test_mat.reshape(8,))"
   ]
  },
  {
   "cell_type": "code",
   "execution_count": 47,
   "metadata": {},
   "outputs": [
    {
     "name": "stdout",
     "output_type": "stream",
     "text": [
      "[[[1 2]\n",
      "  [3 4]]\n",
      "\n",
      " [[1 2]\n",
      "  [3 8]]]\n",
      "3\n"
     ]
    }
   ],
   "source": [
    "print(test_mat.reshape(2,2,2))\n",
    "print(test_mat.reshape(2,2,2).ndim)"
   ]
  },
  {
   "cell_type": "code",
   "execution_count": 50,
   "metadata": {},
   "outputs": [],
   "source": [
    "# test_mat.reshape(2,3,2) size는 일치해야 한다 "
   ]
  },
  {
   "cell_type": "markdown",
   "metadata": {},
   "source": [
    "### Indexing"
   ]
  },
  {
   "cell_type": "code",
   "execution_count": 65,
   "metadata": {},
   "outputs": [
    {
     "name": "stdout",
     "output_type": "stream",
     "text": [
      "[[1 2 3]\n",
      " [4 5 6]]\n",
      "(2, 3)\n",
      "2\n",
      "6\n",
      "4\n",
      "[[10  2  3]\n",
      " [ 4  5  6]]\n"
     ]
    }
   ],
   "source": [
    "ts = np.array([[1,2,3],[4.5,5,6]], int)\n",
    "print(ts)\n",
    "print(ts.shape)\n",
    "print(ts[0,1])\n",
    "print(ts[-1,-1])\n",
    "print(ts[1,0])\n",
    "ts[0,0]=10\n",
    "print(ts)\n"
   ]
  },
  {
   "cell_type": "code",
   "execution_count": 85,
   "metadata": {},
   "outputs": [
    {
     "name": "stdout",
     "output_type": "stream",
     "text": [
      "[[ 1  2  3  4  5]\n",
      " [ 6  7  8  9 10]]\n",
      "8\n",
      "----------\n",
      "[2 3]\n",
      "----------\n",
      "[ 8  9 10]\n",
      "----------\n",
      "[[3 4]\n",
      " [8 9]]\n",
      "----------\n",
      "[[2 4]\n",
      " [7 9]]\n",
      "----------\n",
      "[4 5]\n"
     ]
    }
   ],
   "source": [
    "tm = np.array([[1,2,3,4,5],[6,7,8,9,10]])\n",
    "# 행: row(가로), 하나의 데이터값 \n",
    "# 열: column(세로), 하나의 특성값(feature) \n",
    "# 2차원의 인덱싱 arr[행idx,열idx]\n",
    "print(tm)\n",
    "# 8을 출력\n",
    "print(tm[1,2])\n",
    "print('-'*10)\n",
    "\n",
    "# 2,3을 출력\n",
    "print(tm[0,1:3])\n",
    "print('-'*10)\n",
    "\n",
    "# 8,9,10을 출력\n",
    "print(tm[1,2:])\n",
    "print('-'*10)\n",
    "\n",
    "# 3,4,8,9를 출력 \n",
    "print(tm[:,2:4])\n",
    "print('-'*10)\n",
    "\n",
    "#2,4,7,9를 출력 \n",
    "print(tm[:,1::2])\n",
    "print('-'*10)\n",
    "\n",
    "# 4,5\n",
    "print(tm[0,3:])"
   ]
  },
  {
   "cell_type": "markdown",
   "metadata": {},
   "source": [
    "### arange()"
   ]
  },
  {
   "cell_type": "code",
   "execution_count": 93,
   "metadata": {},
   "outputs": [
    {
     "name": "stdout",
     "output_type": "stream",
     "text": [
      "[0, 1, 2, 3, 4, 5, 6, 7, 8, 9]\n",
      "[5, 6, 7, 8, 9, 10]\n",
      "[1, 4, 7, 10]\n",
      "[1 3 5 7 9]\n",
      "[ 1.   1.5  2.   2.5  3.   3.5  4.   4.5  5.   5.5  6.   6.5  7.   7.5\n",
      "  8.   8.5  9.   9.5 10.  10.5]\n"
     ]
    }
   ],
   "source": [
    "# vs range\n",
    "print(list(range(10)))\n",
    "print(list(range(5,11)))\n",
    "print(list(range(1,11,3)))\n",
    "print(np.arange(1,11,2))\n",
    "print(np.arange(1,11,0.5))\n",
    "# print(range(1,11,0.5)) range로 step에 float넣으면 에러남(TypeError)"
   ]
  },
  {
   "cell_type": "code",
   "execution_count": 94,
   "metadata": {
    "collapsed": true
   },
   "outputs": [
    {
     "data": {
      "text/plain": [
       "array([ 1.  ,  1.01,  1.02,  1.03,  1.04,  1.05,  1.06,  1.07,  1.08,\n",
       "        1.09,  1.1 ,  1.11,  1.12,  1.13,  1.14,  1.15,  1.16,  1.17,\n",
       "        1.18,  1.19,  1.2 ,  1.21,  1.22,  1.23,  1.24,  1.25,  1.26,\n",
       "        1.27,  1.28,  1.29,  1.3 ,  1.31,  1.32,  1.33,  1.34,  1.35,\n",
       "        1.36,  1.37,  1.38,  1.39,  1.4 ,  1.41,  1.42,  1.43,  1.44,\n",
       "        1.45,  1.46,  1.47,  1.48,  1.49,  1.5 ,  1.51,  1.52,  1.53,\n",
       "        1.54,  1.55,  1.56,  1.57,  1.58,  1.59,  1.6 ,  1.61,  1.62,\n",
       "        1.63,  1.64,  1.65,  1.66,  1.67,  1.68,  1.69,  1.7 ,  1.71,\n",
       "        1.72,  1.73,  1.74,  1.75,  1.76,  1.77,  1.78,  1.79,  1.8 ,\n",
       "        1.81,  1.82,  1.83,  1.84,  1.85,  1.86,  1.87,  1.88,  1.89,\n",
       "        1.9 ,  1.91,  1.92,  1.93,  1.94,  1.95,  1.96,  1.97,  1.98,\n",
       "        1.99,  2.  ,  2.01,  2.02,  2.03,  2.04,  2.05,  2.06,  2.07,\n",
       "        2.08,  2.09,  2.1 ,  2.11,  2.12,  2.13,  2.14,  2.15,  2.16,\n",
       "        2.17,  2.18,  2.19,  2.2 ,  2.21,  2.22,  2.23,  2.24,  2.25,\n",
       "        2.26,  2.27,  2.28,  2.29,  2.3 ,  2.31,  2.32,  2.33,  2.34,\n",
       "        2.35,  2.36,  2.37,  2.38,  2.39,  2.4 ,  2.41,  2.42,  2.43,\n",
       "        2.44,  2.45,  2.46,  2.47,  2.48,  2.49,  2.5 ,  2.51,  2.52,\n",
       "        2.53,  2.54,  2.55,  2.56,  2.57,  2.58,  2.59,  2.6 ,  2.61,\n",
       "        2.62,  2.63,  2.64,  2.65,  2.66,  2.67,  2.68,  2.69,  2.7 ,\n",
       "        2.71,  2.72,  2.73,  2.74,  2.75,  2.76,  2.77,  2.78,  2.79,\n",
       "        2.8 ,  2.81,  2.82,  2.83,  2.84,  2.85,  2.86,  2.87,  2.88,\n",
       "        2.89,  2.9 ,  2.91,  2.92,  2.93,  2.94,  2.95,  2.96,  2.97,\n",
       "        2.98,  2.99,  3.  ,  3.01,  3.02,  3.03,  3.04,  3.05,  3.06,\n",
       "        3.07,  3.08,  3.09,  3.1 ,  3.11,  3.12,  3.13,  3.14,  3.15,\n",
       "        3.16,  3.17,  3.18,  3.19,  3.2 ,  3.21,  3.22,  3.23,  3.24,\n",
       "        3.25,  3.26,  3.27,  3.28,  3.29,  3.3 ,  3.31,  3.32,  3.33,\n",
       "        3.34,  3.35,  3.36,  3.37,  3.38,  3.39,  3.4 ,  3.41,  3.42,\n",
       "        3.43,  3.44,  3.45,  3.46,  3.47,  3.48,  3.49,  3.5 ,  3.51,\n",
       "        3.52,  3.53,  3.54,  3.55,  3.56,  3.57,  3.58,  3.59,  3.6 ,\n",
       "        3.61,  3.62,  3.63,  3.64,  3.65,  3.66,  3.67,  3.68,  3.69,\n",
       "        3.7 ,  3.71,  3.72,  3.73,  3.74,  3.75,  3.76,  3.77,  3.78,\n",
       "        3.79,  3.8 ,  3.81,  3.82,  3.83,  3.84,  3.85,  3.86,  3.87,\n",
       "        3.88,  3.89,  3.9 ,  3.91,  3.92,  3.93,  3.94,  3.95,  3.96,\n",
       "        3.97,  3.98,  3.99,  4.  ,  4.01,  4.02,  4.03,  4.04,  4.05,\n",
       "        4.06,  4.07,  4.08,  4.09,  4.1 ,  4.11,  4.12,  4.13,  4.14,\n",
       "        4.15,  4.16,  4.17,  4.18,  4.19,  4.2 ,  4.21,  4.22,  4.23,\n",
       "        4.24,  4.25,  4.26,  4.27,  4.28,  4.29,  4.3 ,  4.31,  4.32,\n",
       "        4.33,  4.34,  4.35,  4.36,  4.37,  4.38,  4.39,  4.4 ,  4.41,\n",
       "        4.42,  4.43,  4.44,  4.45,  4.46,  4.47,  4.48,  4.49,  4.5 ,\n",
       "        4.51,  4.52,  4.53,  4.54,  4.55,  4.56,  4.57,  4.58,  4.59,\n",
       "        4.6 ,  4.61,  4.62,  4.63,  4.64,  4.65,  4.66,  4.67,  4.68,\n",
       "        4.69,  4.7 ,  4.71,  4.72,  4.73,  4.74,  4.75,  4.76,  4.77,\n",
       "        4.78,  4.79,  4.8 ,  4.81,  4.82,  4.83,  4.84,  4.85,  4.86,\n",
       "        4.87,  4.88,  4.89,  4.9 ,  4.91,  4.92,  4.93,  4.94,  4.95,\n",
       "        4.96,  4.97,  4.98,  4.99,  5.  ,  5.01,  5.02,  5.03,  5.04,\n",
       "        5.05,  5.06,  5.07,  5.08,  5.09,  5.1 ,  5.11,  5.12,  5.13,\n",
       "        5.14,  5.15,  5.16,  5.17,  5.18,  5.19,  5.2 ,  5.21,  5.22,\n",
       "        5.23,  5.24,  5.25,  5.26,  5.27,  5.28,  5.29,  5.3 ,  5.31,\n",
       "        5.32,  5.33,  5.34,  5.35,  5.36,  5.37,  5.38,  5.39,  5.4 ,\n",
       "        5.41,  5.42,  5.43,  5.44,  5.45,  5.46,  5.47,  5.48,  5.49,\n",
       "        5.5 ,  5.51,  5.52,  5.53,  5.54,  5.55,  5.56,  5.57,  5.58,\n",
       "        5.59,  5.6 ,  5.61,  5.62,  5.63,  5.64,  5.65,  5.66,  5.67,\n",
       "        5.68,  5.69,  5.7 ,  5.71,  5.72,  5.73,  5.74,  5.75,  5.76,\n",
       "        5.77,  5.78,  5.79,  5.8 ,  5.81,  5.82,  5.83,  5.84,  5.85,\n",
       "        5.86,  5.87,  5.88,  5.89,  5.9 ,  5.91,  5.92,  5.93,  5.94,\n",
       "        5.95,  5.96,  5.97,  5.98,  5.99,  6.  ,  6.01,  6.02,  6.03,\n",
       "        6.04,  6.05,  6.06,  6.07,  6.08,  6.09,  6.1 ,  6.11,  6.12,\n",
       "        6.13,  6.14,  6.15,  6.16,  6.17,  6.18,  6.19,  6.2 ,  6.21,\n",
       "        6.22,  6.23,  6.24,  6.25,  6.26,  6.27,  6.28,  6.29,  6.3 ,\n",
       "        6.31,  6.32,  6.33,  6.34,  6.35,  6.36,  6.37,  6.38,  6.39,\n",
       "        6.4 ,  6.41,  6.42,  6.43,  6.44,  6.45,  6.46,  6.47,  6.48,\n",
       "        6.49,  6.5 ,  6.51,  6.52,  6.53,  6.54,  6.55,  6.56,  6.57,\n",
       "        6.58,  6.59,  6.6 ,  6.61,  6.62,  6.63,  6.64,  6.65,  6.66,\n",
       "        6.67,  6.68,  6.69,  6.7 ,  6.71,  6.72,  6.73,  6.74,  6.75,\n",
       "        6.76,  6.77,  6.78,  6.79,  6.8 ,  6.81,  6.82,  6.83,  6.84,\n",
       "        6.85,  6.86,  6.87,  6.88,  6.89,  6.9 ,  6.91,  6.92,  6.93,\n",
       "        6.94,  6.95,  6.96,  6.97,  6.98,  6.99,  7.  ,  7.01,  7.02,\n",
       "        7.03,  7.04,  7.05,  7.06,  7.07,  7.08,  7.09,  7.1 ,  7.11,\n",
       "        7.12,  7.13,  7.14,  7.15,  7.16,  7.17,  7.18,  7.19,  7.2 ,\n",
       "        7.21,  7.22,  7.23,  7.24,  7.25,  7.26,  7.27,  7.28,  7.29,\n",
       "        7.3 ,  7.31,  7.32,  7.33,  7.34,  7.35,  7.36,  7.37,  7.38,\n",
       "        7.39,  7.4 ,  7.41,  7.42,  7.43,  7.44,  7.45,  7.46,  7.47,\n",
       "        7.48,  7.49,  7.5 ,  7.51,  7.52,  7.53,  7.54,  7.55,  7.56,\n",
       "        7.57,  7.58,  7.59,  7.6 ,  7.61,  7.62,  7.63,  7.64,  7.65,\n",
       "        7.66,  7.67,  7.68,  7.69,  7.7 ,  7.71,  7.72,  7.73,  7.74,\n",
       "        7.75,  7.76,  7.77,  7.78,  7.79,  7.8 ,  7.81,  7.82,  7.83,\n",
       "        7.84,  7.85,  7.86,  7.87,  7.88,  7.89,  7.9 ,  7.91,  7.92,\n",
       "        7.93,  7.94,  7.95,  7.96,  7.97,  7.98,  7.99,  8.  ,  8.01,\n",
       "        8.02,  8.03,  8.04,  8.05,  8.06,  8.07,  8.08,  8.09,  8.1 ,\n",
       "        8.11,  8.12,  8.13,  8.14,  8.15,  8.16,  8.17,  8.18,  8.19,\n",
       "        8.2 ,  8.21,  8.22,  8.23,  8.24,  8.25,  8.26,  8.27,  8.28,\n",
       "        8.29,  8.3 ,  8.31,  8.32,  8.33,  8.34,  8.35,  8.36,  8.37,\n",
       "        8.38,  8.39,  8.4 ,  8.41,  8.42,  8.43,  8.44,  8.45,  8.46,\n",
       "        8.47,  8.48,  8.49,  8.5 ,  8.51,  8.52,  8.53,  8.54,  8.55,\n",
       "        8.56,  8.57,  8.58,  8.59,  8.6 ,  8.61,  8.62,  8.63,  8.64,\n",
       "        8.65,  8.66,  8.67,  8.68,  8.69,  8.7 ,  8.71,  8.72,  8.73,\n",
       "        8.74,  8.75,  8.76,  8.77,  8.78,  8.79,  8.8 ,  8.81,  8.82,\n",
       "        8.83,  8.84,  8.85,  8.86,  8.87,  8.88,  8.89,  8.9 ,  8.91,\n",
       "        8.92,  8.93,  8.94,  8.95,  8.96,  8.97,  8.98,  8.99,  9.  ,\n",
       "        9.01,  9.02,  9.03,  9.04,  9.05,  9.06,  9.07,  9.08,  9.09,\n",
       "        9.1 ,  9.11,  9.12,  9.13,  9.14,  9.15,  9.16,  9.17,  9.18,\n",
       "        9.19,  9.2 ,  9.21,  9.22,  9.23,  9.24,  9.25,  9.26,  9.27,\n",
       "        9.28,  9.29,  9.3 ,  9.31,  9.32,  9.33,  9.34,  9.35,  9.36,\n",
       "        9.37,  9.38,  9.39,  9.4 ,  9.41,  9.42,  9.43,  9.44,  9.45,\n",
       "        9.46,  9.47,  9.48,  9.49,  9.5 ,  9.51,  9.52,  9.53,  9.54,\n",
       "        9.55,  9.56,  9.57,  9.58,  9.59,  9.6 ,  9.61,  9.62,  9.63,\n",
       "        9.64,  9.65,  9.66,  9.67,  9.68,  9.69,  9.7 ,  9.71,  9.72,\n",
       "        9.73,  9.74,  9.75,  9.76,  9.77,  9.78,  9.79,  9.8 ,  9.81,\n",
       "        9.82,  9.83,  9.84,  9.85,  9.86,  9.87,  9.88,  9.89,  9.9 ,\n",
       "        9.91,  9.92,  9.93,  9.94,  9.95,  9.96,  9.97,  9.98,  9.99,\n",
       "       10.  , 10.01, 10.02, 10.03, 10.04, 10.05, 10.06, 10.07, 10.08,\n",
       "       10.09, 10.1 , 10.11, 10.12, 10.13, 10.14, 10.15, 10.16, 10.17,\n",
       "       10.18, 10.19, 10.2 , 10.21, 10.22, 10.23, 10.24, 10.25, 10.26,\n",
       "       10.27, 10.28, 10.29, 10.3 , 10.31, 10.32, 10.33, 10.34, 10.35,\n",
       "       10.36, 10.37, 10.38, 10.39, 10.4 , 10.41, 10.42, 10.43, 10.44,\n",
       "       10.45, 10.46, 10.47, 10.48, 10.49, 10.5 , 10.51, 10.52, 10.53,\n",
       "       10.54, 10.55, 10.56, 10.57, 10.58, 10.59, 10.6 , 10.61, 10.62,\n",
       "       10.63, 10.64, 10.65, 10.66, 10.67, 10.68, 10.69, 10.7 , 10.71,\n",
       "       10.72, 10.73, 10.74, 10.75, 10.76, 10.77, 10.78, 10.79, 10.8 ,\n",
       "       10.81, 10.82, 10.83, 10.84, 10.85, 10.86, 10.87, 10.88, 10.89,\n",
       "       10.9 , 10.91, 10.92, 10.93, 10.94, 10.95, 10.96, 10.97, 10.98,\n",
       "       10.99])"
      ]
     },
     "execution_count": 94,
     "metadata": {},
     "output_type": "execute_result"
    }
   ],
   "source": [
    "np.arange(1,11,0.01)"
   ]
  },
  {
   "cell_type": "code",
   "execution_count": 96,
   "metadata": {},
   "outputs": [
    {
     "data": {
      "text/plain": [
       "array([[ 0,  1,  2,  3,  4,  5],\n",
       "       [ 6,  7,  8,  9, 10, 11],\n",
       "       [12, 13, 14, 15, 16, 17],\n",
       "       [18, 19, 20, 21, 22, 23],\n",
       "       [24, 25, 26, 27, 28, 29]])"
      ]
     },
     "execution_count": 96,
     "metadata": {},
     "output_type": "execute_result"
    }
   ],
   "source": [
    "np.arange(30).reshape(5,6)"
   ]
  },
  {
   "cell_type": "code",
   "execution_count": 97,
   "metadata": {},
   "outputs": [
    {
     "data": {
      "text/plain": [
       "array([[ 0,  1,  2],\n",
       "       [ 3,  4,  5],\n",
       "       [ 6,  7,  8],\n",
       "       [ 9, 10, 11],\n",
       "       [12, 13, 14],\n",
       "       [15, 16, 17],\n",
       "       [18, 19, 20],\n",
       "       [21, 22, 23],\n",
       "       [24, 25, 26],\n",
       "       [27, 28, 29]])"
      ]
     },
     "execution_count": 97,
     "metadata": {},
     "output_type": "execute_result"
    }
   ],
   "source": [
    "np.arange(30).reshape(10,3) # matrix 2차원 행렬"
   ]
  },
  {
   "cell_type": "code",
   "execution_count": 98,
   "metadata": {},
   "outputs": [
    {
     "data": {
      "text/plain": [
       "array([[[ 0,  1,  2],\n",
       "        [ 3,  4,  5],\n",
       "        [ 6,  7,  8],\n",
       "        [ 9, 10, 11],\n",
       "        [12, 13, 14]],\n",
       "\n",
       "       [[15, 16, 17],\n",
       "        [18, 19, 20],\n",
       "        [21, 22, 23],\n",
       "        [24, 25, 26],\n",
       "        [27, 28, 29]]])"
      ]
     },
     "execution_count": 98,
     "metadata": {},
     "output_type": "execute_result"
    }
   ],
   "source": [
    "np.arange(30).reshape(2,5,3) # tensor 3차원 텐서"
   ]
  },
  {
   "cell_type": "code",
   "execution_count": 99,
   "metadata": {},
   "outputs": [
    {
     "data": {
      "text/plain": [
       "array([ 0,  1,  2,  3,  4,  5,  6,  7,  8,  9, 10, 11, 12, 13, 14, 15, 16,\n",
       "       17, 18, 19, 20, 21, 22, 23, 24, 25, 26, 27, 28, 29])"
      ]
     },
     "execution_count": 99,
     "metadata": {},
     "output_type": "execute_result"
    }
   ],
   "source": [
    "np.arange(30)# vector / 1차원 array"
   ]
  },
  {
   "cell_type": "markdown",
   "metadata": {},
   "source": [
    "### Operation"
   ]
  },
  {
   "cell_type": "code",
   "execution_count": 108,
   "metadata": {},
   "outputs": [
    {
     "name": "stdout",
     "output_type": "stream",
     "text": [
      "[[ 0  1  2  3  4  5]\n",
      " [ 6  7  8  9 10 11]\n",
      " [12 13 14 15 16 17]\n",
      " [18 19 20 21 22 23]\n",
      " [24 25 26 27 28 29]]\n",
      "435\n",
      "14.5\n",
      "8.65544144839919\n",
      "74.91666666666667\n"
     ]
    }
   ],
   "source": [
    "# numpy에서 연산은 기본적으로 element wise operation(동일한 인덱스의 원소끼리 연산)\n",
    "ts = np.arange(30).reshape(5,6)\n",
    "print(ts)\n",
    "print(ts.sum())\n",
    "print(ts.mean())\n",
    "print(ts.std()) # 표준편차 편차의 절대값의 평균\n",
    "print(ts.var()) # 분산 편차 평균의 제곱\n",
    "\n"
   ]
  },
  {
   "cell_type": "code",
   "execution_count": 109,
   "metadata": {},
   "outputs": [
    {
     "name": "stdout",
     "output_type": "stream",
     "text": [
      "[ 15  51  87 123 159]\n",
      "[60 65 70 75 80 85]\n",
      "[24 25 26 27 28 29]\n",
      "[ 5 11 17 23 29]\n",
      "[1.70782513 1.70782513 1.70782513 1.70782513 1.70782513]\n"
     ]
    }
   ],
   "source": [
    "# axis\n",
    "# 행방향/열끼리\n",
    "print(ts.sum(axis=1))\n",
    "# 열방향/행끼리\n",
    "print(ts.sum(axis=0))\n",
    "\n",
    "print(ts.max(axis=0))\n",
    "print(ts.max(axis=1))\n",
    "\n",
    "print(ts.std(axis=1))\n"
   ]
  },
  {
   "cell_type": "code",
   "execution_count": 120,
   "metadata": {},
   "outputs": [
    {
     "name": "stdout",
     "output_type": "stream",
     "text": [
      "[[0 1 2]\n",
      " [3 4 5]]\n",
      "[[ 0  2  4]\n",
      " [ 6  8 10]]\n",
      "[[0 0 0]\n",
      " [0 0 0]]\n",
      "[[ 0  1  4]\n",
      " [ 9 16 25]]\n",
      "[[nan  1.  1.]\n",
      " [ 1.  1.  1.]]\n",
      "[[ True  True  True]\n",
      " [ True  True  True]]\n",
      "[[False False False]\n",
      " [False False False]]\n",
      "[[ 0  3  6]\n",
      " [ 9 12 15]]\n",
      "[[3 4 5]\n",
      " [6 7 8]]\n"
     ]
    },
    {
     "name": "stderr",
     "output_type": "stream",
     "text": [
      "C:\\Users\\103-04\\Anaconda3\\lib\\site-packages\\ipykernel_launcher.py:8: RuntimeWarning: invalid value encountered in true_divide\n",
      "  \n"
     ]
    }
   ],
   "source": [
    "# matrix간 연산\n",
    "mat_a = np.arange(6).reshape(2,3)\n",
    "mat_b = np.arange(6).reshape(2,3)\n",
    "print(mat_a)\n",
    "print(mat_a+mat_b)\n",
    "print(mat_a-mat_b)\n",
    "print(mat_a*mat_b)\n",
    "print(mat_a/mat_b) # nan처리\n",
    "print(mat_a==mat_b)\n",
    "print(mat_a>mat_b)\n"
   ]
  },
  {
   "cell_type": "markdown",
   "metadata": {},
   "source": [
    "### BroadCasting"
   ]
  },
  {
   "cell_type": "code",
   "execution_count": 123,
   "metadata": {},
   "outputs": [
    {
     "name": "stdout",
     "output_type": "stream",
     "text": [
      "[[ 0  3  6]\n",
      " [ 9 12 15]]\n",
      "[[3 4 5]\n",
      " [6 7 8]]\n",
      "[[3 4 5]\n",
      " [6 7 8]]\n"
     ]
    }
   ],
   "source": [
    "# shape이 다르다면... => broadcasting\n",
    "# 연산시 shape이 다른 경우에 shape이 같아지도록 확장되는 것\n",
    "scalar = 3\n",
    "print(mat_a*scalar)\n",
    "print(mat_a+scalar)\n",
    "# scalar 3이 mat_c로 broadcasting가 된 것\n",
    "mat_c = np.array([[3,3,3],[3,3,3]])\n",
    "print(mat_a+mat_c)"
   ]
  },
  {
   "cell_type": "code",
   "execution_count": 126,
   "metadata": {},
   "outputs": [
    {
     "name": "stdout",
     "output_type": "stream",
     "text": [
      "[[3 4 5]\n",
      " [6 7 8]]\n",
      "[[3 3 3]\n",
      " [3 3 3]]\n"
     ]
    }
   ],
   "source": [
    "# vector\n",
    "vect = np.array([3,3,3])\n",
    "print(mat_a+vect)"
   ]
  },
  {
   "cell_type": "markdown",
   "metadata": {},
   "source": [
    "### all & any"
   ]
  },
  {
   "cell_type": "code",
   "execution_count": 131,
   "metadata": {},
   "outputs": [
    {
     "name": "stdout",
     "output_type": "stream",
     "text": [
      "[False False False False False False  True  True  True  True]\n",
      "True\n",
      "False\n",
      "True\n",
      "True\n",
      "False\n"
     ]
    }
   ],
   "source": [
    "a = np.arange(10)\n",
    "print(a>5)\n",
    "print(np.any(a>5)) # 하나라도 True\n",
    "print(np.all(a>5)) # 모두 True\n",
    "\n",
    "print(np.any(a<10))\n",
    "print(np.all(a<10))\n",
    "print(np.all(a))"
   ]
  },
  {
   "cell_type": "markdown",
   "metadata": {},
   "source": [
    "### comparison operation"
   ]
  },
  {
   "cell_type": "code",
   "execution_count": 135,
   "metadata": {},
   "outputs": [
    {
     "name": "stdout",
     "output_type": "stream",
     "text": [
      "[False  True False]\n",
      "[ True False  True]\n",
      "[ True False  True]\n"
     ]
    }
   ],
   "source": [
    "vec_a = np.array([1,3,0],float)\n",
    "vec_b = np.array([5,2,1],float)\n",
    "print(vec_a>vec_b)\n",
    "print(vec_a<vec_b)\n",
    "print(vec_a<3)"
   ]
  },
  {
   "cell_type": "markdown",
   "metadata": {},
   "source": [
    "### Boolean Index"
   ]
  },
  {
   "cell_type": "code",
   "execution_count": 143,
   "metadata": {},
   "outputs": [
    {
     "name": "stdout",
     "output_type": "stream",
     "text": [
      "[False  True False False False  True  True  True]\n",
      "[4 8 9 7]\n",
      "[4 8 9 7]\n",
      "[4 0 2 8]\n",
      "[8 9 7]\n"
     ]
    }
   ],
   "source": [
    "vec = np.array([1,4,0,2,3,8,9,7])\n",
    "print(vec>3)\n",
    "print(vec[[False, True, False, False, False, True, True, True]])\n",
    "# vec에서 3보다 큰 요소만 출력하는 경우\n",
    "print(vec[vec>3])\n",
    "# vec에서 짝수만 출력\n",
    "print(vec[vec%2==0])\n",
    "# vec에서 5보다 큰 값만 출력\n",
    "print(vec[vec>5])"
   ]
  },
  {
   "cell_type": "code",
   "execution_count": 158,
   "metadata": {},
   "outputs": [
    {
     "name": "stdout",
     "output_type": "stream",
     "text": [
      "[21 24 27]\n"
     ]
    },
    {
     "data": {
      "text/plain": [
       "False"
      ]
     },
     "execution_count": 158,
     "metadata": {},
     "output_type": "execute_result"
    }
   ],
   "source": [
    "num = np.arange(1,101)\n",
    "# num에서 20보다 크고 30보다 작은 3의 배수를 출력\n",
    "print(num[(num>20) & (num<30) & (num%3==0)])\n"
   ]
  },
  {
   "cell_type": "code",
   "execution_count": null,
   "metadata": {},
   "outputs": [],
   "source": []
  }
 ],
 "metadata": {
  "kernelspec": {
   "display_name": "Python 3",
   "language": "python",
   "name": "python3"
  },
  "language_info": {
   "codemirror_mode": {
    "name": "ipython",
    "version": 3
   },
   "file_extension": ".py",
   "mimetype": "text/x-python",
   "name": "python",
   "nbconvert_exporter": "python",
   "pygments_lexer": "ipython3",
   "version": "3.7.4"
  }
 },
 "nbformat": 4,
 "nbformat_minor": 2
}
