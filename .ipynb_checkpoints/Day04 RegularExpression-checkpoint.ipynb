{
 "cells": [
  {
   "cell_type": "markdown",
   "metadata": {},
   "source": [
    "### Regular Expression\n",
    "=>re module"
   ]
  },
  {
   "cell_type": "code",
   "execution_count": 1,
   "metadata": {},
   "outputs": [],
   "source": [
    "import re"
   ]
  },
  {
   "cell_type": "markdown",
   "metadata": {},
   "source": [
    "1.정규표현식의 객체생성<br/>\n",
    "re.compile(r'정규표현식')"
   ]
  },
  {
   "cell_type": "code",
   "execution_count": 4,
   "metadata": {},
   "outputs": [],
   "source": [
    "phoneRegex = re.compile(r'\\d\\d\\d-\\d\\d\\d-\\d\\d\\d\\d')"
   ]
  },
  {
   "cell_type": "code",
   "execution_count": 6,
   "metadata": {},
   "outputs": [
    {
     "name": "stdout",
     "output_type": "stream",
     "text": [
      "<re.Match object; span=(13, 25), match='415-555-4242'>\n",
      "415-555-4242\n"
     ]
    }
   ],
   "source": [
    "mo = phoneRegex.search('My number is 415-555-4242.')\n",
    "print(mo)\n",
    "print(mo.group())"
   ]
  },
  {
   "cell_type": "markdown",
   "metadata": {},
   "source": [
    "2. search()메소드"
   ]
  },
  {
   "cell_type": "code",
   "execution_count": 19,
   "metadata": {},
   "outputs": [
    {
     "name": "stdout",
     "output_type": "stream",
     "text": [
      "<re.Match object; span=(13, 25), match='415-555-4242'>\n",
      "415-555-4242\n",
      "415-555-4242\n",
      "415\n",
      "555-4242\n"
     ]
    }
   ],
   "source": [
    "phoneRegex = re.compile(r'(\\d\\d\\d)-(\\d\\d\\d-\\d\\d\\d\\d)')\n",
    "mo = phoneRegex.search('My number is 415-555-4242. or 111-222-3333')\n",
    "print(mo)\n",
    "print(mo.group())\n",
    "count = 1\n",
    "print(mo.group(0))\n",
    "print(mo.group(1))\n",
    "print(mo.group(2))"
   ]
  },
  {
   "cell_type": "code",
   "execution_count": 17,
   "metadata": {},
   "outputs": [
    {
     "name": "stdout",
     "output_type": "stream",
     "text": [
      "Batman\n"
     ]
    }
   ],
   "source": [
    "heroRegex = re.compile(r'Batman|Tina Fey')\n",
    "mo = heroRegex.search('Batman and Tina Fey')\n",
    "print(mo.group(0))"
   ]
  },
  {
   "cell_type": "code",
   "execution_count": 22,
   "metadata": {},
   "outputs": [
    {
     "name": "stdout",
     "output_type": "stream",
     "text": [
      "Batmobile\n"
     ]
    }
   ],
   "source": [
    "batRegex = re.compile(r'Bat(man|mobile|copter|bat)')\n",
    "mo = batRegex.search('Batmobile lost a wheel')\n",
    "print(mo.group())"
   ]
  },
  {
   "cell_type": "code",
   "execution_count": 40,
   "metadata": {},
   "outputs": [
    {
     "name": "stdout",
     "output_type": "stream",
     "text": [
      "Batman\n",
      "Batwoman\n"
     ]
    }
   ],
   "source": [
    "batRegex = re.compile(r'Bat(wo)?man') #0또는 1\n",
    "mo = batRegex.search('The adventure of Batman')\n",
    "mo2 = batRegex.search('The adventures of Batwoman')\n",
    "mo3 = batRegex.search('the adventures of Batwowowoman')\n",
    "print(mo.group())\n",
    "print(mo2.group())\n",
    "#print(mo3.group()) NoneType\n",
    "#Batman O\n",
    "#Batwoman O\n",
    "#Batwoman X\n",
    "#Batwowoman X\n",
    "#Batsman X"
   ]
  },
  {
   "cell_type": "code",
   "execution_count": 41,
   "metadata": {},
   "outputs": [
    {
     "name": "stdout",
     "output_type": "stream",
     "text": [
      "The adventures of Batman!!\n",
      "Batman\n",
      "The adventures of Batwoman!!\n",
      "Batwoman\n",
      "The adventures of Batwowoman!!\n",
      "NO\n",
      "The adventures of Batwowowoman!!\n",
      "NO\n",
      "The adventures of Batwowowowoman!!\n",
      "NO\n",
      "The adventures of Batwowowowowoman!!\n",
      "NO\n",
      "The adventures of Batwowowowowowoman!!\n",
      "NO\n",
      "The adventures of Batwowowowowowowoman!!\n",
      "NO\n",
      "The adventures of Batwowowowowowowowoman!!\n",
      "NO\n",
      "The adventures of Batwowowowowowowowowoman!!\n",
      "NO\n"
     ]
    }
   ],
   "source": [
    "batRegex = re.compile(r'Bat(wo)?man') #0또는 1\n",
    "for i in range(10):\n",
    "    batwoman = 'The adventures of Bat'+'wo'*i+'man!!'\n",
    "    mo = batRegex.search(batwoman)\n",
    "    print(batwoman)\n",
    "    try:\n",
    "        print(mo.group())\n",
    "    except:\n",
    "        print('NO')"
   ]
  },
  {
   "cell_type": "code",
   "execution_count": 28,
   "metadata": {},
   "outputs": [
    {
     "name": "stdout",
     "output_type": "stream",
     "text": [
      "Batwowowowowoman\n"
     ]
    }
   ],
   "source": [
    "batRegex = re.compile(r'Bat(wo)*man')#0이상 무한대까지\n",
    "mo = batRegex.search('the adventures of Batwowowowowoman')\n",
    "print(mo.group())"
   ]
  },
  {
   "cell_type": "code",
   "execution_count": 35,
   "metadata": {},
   "outputs": [
    {
     "name": "stdout",
     "output_type": "stream",
     "text": [
      "The adventures of Batman!!\n",
      "Batman\n",
      "The adventures of Batwoman!!\n",
      "Batwoman\n",
      "The adventures of Batwowoman!!\n",
      "Batwowoman\n",
      "The adventures of Batwowowoman!!\n",
      "Batwowowoman\n",
      "The adventures of Batwowowowoman!!\n",
      "Batwowowowoman\n",
      "The adventures of Batwowowowowoman!!\n",
      "Batwowowowowoman\n",
      "The adventures of Batwowowowowowoman!!\n",
      "Batwowowowowowoman\n",
      "The adventures of Batwowowowowowowoman!!\n",
      "Batwowowowowowowoman\n",
      "The adventures of Batwowowowowowowowoman!!\n",
      "Batwowowowowowowowoman\n",
      "The adventures of Batwowowowowowowowowoman!!\n",
      "Batwowowowowowowowowoman\n"
     ]
    }
   ],
   "source": [
    "batRegex = re.compile(r'Bat(wo)*man')\n",
    "for i in range(10):\n",
    "    batwoman = 'The adventures of Bat'+'wo'*i+'man!!'\n",
    "    mo = batRegex.search(batwoman)\n",
    "    print(batwoman)\n",
    "    print(mo.group())"
   ]
  },
  {
   "cell_type": "code",
   "execution_count": 33,
   "metadata": {},
   "outputs": [
    {
     "name": "stdout",
     "output_type": "stream",
     "text": [
      "412-555-4242\n",
      "555-4242\n"
     ]
    }
   ],
   "source": [
    "phoneRegex = re.compile(r'(\\d\\d\\d-)?(\\d\\d\\d-\\d\\d\\d\\d)')\n",
    "mo = phoneRegex.search('My number is 412-555-4242')\n",
    "print(mo.group())\n",
    "mo1 = phoneRegex.search('My number is 555-4242')\n",
    "print(mo1.group())"
   ]
  },
  {
   "cell_type": "code",
   "execution_count": 38,
   "metadata": {},
   "outputs": [
    {
     "name": "stdout",
     "output_type": "stream",
     "text": [
      "The adventures of Batman!!\n",
      "NO\n",
      "The adventures of Batwoman!!\n",
      "Batwoman\n",
      "The adventures of Batwowoman!!\n",
      "Batwowoman\n",
      "The adventures of Batwowowoman!!\n",
      "Batwowowoman\n",
      "The adventures of Batwowowowoman!!\n",
      "Batwowowowoman\n",
      "The adventures of Batwowowowowoman!!\n",
      "Batwowowowowoman\n",
      "The adventures of Batwowowowowowoman!!\n",
      "Batwowowowowowoman\n",
      "The adventures of Batwowowowowowowoman!!\n",
      "Batwowowowowowowoman\n",
      "The adventures of Batwowowowowowowowoman!!\n",
      "Batwowowowowowowowoman\n",
      "The adventures of Batwowowowowowowowowoman!!\n",
      "Batwowowowowowowowowoman\n"
     ]
    }
   ],
   "source": [
    "batRegex = re.compile(r'Bat(wo)+man')#1이상 무한대까지\n",
    "for i in range(10):\n",
    "    batwoman = 'The adventures of Bat'+'wo'*i+'man!!'\n",
    "    mo = batRegex.search(batwoman)\n",
    "    print(batwoman)\n",
    "    try:\n",
    "        print(mo.group())\n",
    "    except:\n",
    "        print('NO')"
   ]
  },
  {
   "cell_type": "code",
   "execution_count": 42,
   "metadata": {},
   "outputs": [
    {
     "name": "stdout",
     "output_type": "stream",
     "text": [
      "HaHaHa\n"
     ]
    }
   ],
   "source": [
    "haRegex = re.compile(r'(Ha){3}') #{num} =>패턴의 반복횟수\n",
    "mo = haRegex.search('HaHaHa')\n",
    "print(mo.group())"
   ]
  },
  {
   "cell_type": "code",
   "execution_count": 46,
   "metadata": {},
   "outputs": [
    {
     "name": "stdout",
     "output_type": "stream",
     "text": [
      "The  man!!\n",
      "NO\n",
      "The Ha man!!\n",
      "NO\n",
      "The HaHa man!!\n",
      "NO\n",
      "The HaHaHa man!!\n",
      "HaHaHa\n",
      "The HaHaHaHa man!!\n",
      "HaHaHa\n",
      "The HaHaHaHaHa man!!\n",
      "HaHaHa\n",
      "The HaHaHaHaHaHa man!!\n",
      "HaHaHa\n",
      "The HaHaHaHaHaHaHa man!!\n",
      "HaHaHa\n",
      "The HaHaHaHaHaHaHaHa man!!\n",
      "HaHaHa\n",
      "The HaHaHaHaHaHaHaHaHa man!!\n",
      "HaHaHa\n"
     ]
    }
   ],
   "source": [
    "haRegex = re.compile(r'(Ha){3}')\n",
    "for i in range(10):\n",
    "    ha = 'The '+'Ha'*i+' man!!'\n",
    "    mo = haRegex.search(ha)\n",
    "    print(ha)\n",
    "    try:\n",
    "        print(mo.group())\n",
    "    except:\n",
    "        print('NO')"
   ]
  },
  {
   "cell_type": "code",
   "execution_count": 47,
   "metadata": {},
   "outputs": [
    {
     "name": "stdout",
     "output_type": "stream",
     "text": [
      "The  man!!\n",
      "NO\n",
      "The Ha man!!\n",
      "NO\n",
      "The HaHa man!!\n",
      "NO\n",
      "The HaHaHa man!!\n",
      "HaHaHa\n",
      "The HaHaHaHa man!!\n",
      "HaHaHaHa\n",
      "The HaHaHaHaHa man!!\n",
      "HaHaHaHaHa\n",
      "The HaHaHaHaHaHa man!!\n",
      "HaHaHaHaHa\n",
      "The HaHaHaHaHaHaHa man!!\n",
      "HaHaHaHaHa\n",
      "The HaHaHaHaHaHaHaHa man!!\n",
      "HaHaHaHaHa\n",
      "The HaHaHaHaHaHaHaHaHa man!!\n",
      "HaHaHaHaHa\n"
     ]
    }
   ],
   "source": [
    "haRegex = re.compile(r'(Ha){3,5}')\n",
    "for i in range(10):\n",
    "    ha = 'The '+'Ha'*i+' man!!'\n",
    "    mo = haRegex.search(ha)\n",
    "    print(ha)\n",
    "    try:\n",
    "        print(mo.group())\n",
    "    except:\n",
    "        print('NO')"
   ]
  },
  {
   "cell_type": "markdown",
   "metadata": {},
   "source": [
    "### 3.findall()메소드"
   ]
  },
  {
   "cell_type": "code",
   "execution_count": 52,
   "metadata": {},
   "outputs": [
    {
     "name": "stdout",
     "output_type": "stream",
     "text": [
      "<re.Match object; span=(5, 17), match='415-555-9999'>\n",
      "<built-in method group of re.Match object at 0x00000000053C0F10>\n",
      "['415-555-9999', '215-555-0000']\n"
     ]
    }
   ],
   "source": [
    "phoneRegex = re.compile(r'\\d\\d\\d-\\d\\d\\d-\\d\\d\\d\\d')\n",
    "mo = phoneRegex.search('call:415-555-9999, work: 215-555-0000')\n",
    "print(mo)\n",
    "print(mo.group)\n",
    "\n",
    "mo1 = phoneRegex.findall('call:415-555-9999, work: 215-555-0000')\n",
    "print(mo1)"
   ]
  },
  {
   "cell_type": "code",
   "execution_count": 53,
   "metadata": {},
   "outputs": [
    {
     "name": "stdout",
     "output_type": "stream",
     "text": [
      "[('415', '555', '9999'), ('215', '555', '0000')]\n"
     ]
    }
   ],
   "source": [
    "phoneRegex = re.compile(r'(\\d\\d\\d)-(\\d\\d\\d)-(\\d\\d\\d\\d)')\n",
    "mo = phoneRegex.findall('call:415-555-9999, work: 215-555-0000')\n",
    "print(mo)"
   ]
  },
  {
   "cell_type": "markdown",
   "metadata": {},
   "source": [
    "\\d: 임의의 숫자<br/>\n",
    "\\w: 문자 숫자, 밑줄글자<br/>\n",
    "\\s: 빈칸, 탭, 줄바꿈문자<br/>"
   ]
  },
  {
   "cell_type": "code",
   "execution_count": 55,
   "metadata": {},
   "outputs": [
    {
     "name": "stdout",
     "output_type": "stream",
     "text": [
      "['12 drums', '11 pipers', '9 ladies', '8 malds', '7 swans', '6 geese', '5 rings', '4 birds', '3 hens', '2 doves', '1 partridge']\n"
     ]
    }
   ],
   "source": [
    "xmasRegix = re.compile(r'\\d+\\s\\w+')\n",
    "mo = xmasRegix.findall('12 drums, 11 pipers, 9 ladies, 8 malds, 7 swans, 6 geese, 5 rings, 4 birds, 3 hens, 2 doves,\\\n",
    "1 partridge')\n",
    "print(mo)"
   ]
  },
  {
   "cell_type": "markdown",
   "metadata": {},
   "source": [
    "### 사용자 정의 문자클래스 = > 대괄호\n",
    "*[aeiouAEIOU]:모음문자<br/>\n",
    "*[a-zA-Z0-9]:대소문자, 숫자<br/>\n",
    "*[^]: 부정 문자클래스(제외하고)<br/>"
   ]
  },
  {
   "cell_type": "code",
   "execution_count": 56,
   "metadata": {},
   "outputs": [
    {
     "name": "stdout",
     "output_type": "stream",
     "text": [
      "['o', 'o', 'o', 'E', 'a', 'a', 'o', 'o', 'A', 'O', 'O']\n"
     ]
    }
   ],
   "source": [
    "vowelRegex = re.compile(r'[aeiouAEIOU]')\n",
    "mo = vowelRegex.findall('RoboCop Eats baby food BABY FOOD')\n",
    "print(mo)"
   ]
  },
  {
   "cell_type": "code",
   "execution_count": 58,
   "metadata": {},
   "outputs": [
    {
     "name": "stdout",
     "output_type": "stream",
     "text": [
      "['R', 'b', 'C', 'p', 't', 's', 'b', 'b', 'y', 'f', 'd', 'B', 'B', 'Y', 'F', 'D']\n"
     ]
    }
   ],
   "source": [
    "vowelRegex = re.compile(r'[^aeiouAEIOU ]')\n",
    "mo = mo = vowelRegex.findall('RoboCop Eats baby food BABY FOOD')\n",
    "print(mo)"
   ]
  },
  {
   "cell_type": "code",
   "execution_count": 59,
   "metadata": {},
   "outputs": [],
   "source": [
    "#^ - 시작부분 일치\n",
    "#$ - 끝 부분 일치"
   ]
  },
  {
   "cell_type": "code",
   "execution_count": 64,
   "metadata": {},
   "outputs": [
    {
     "name": "stdout",
     "output_type": "stream",
     "text": [
      "Hello\n",
      "non\n"
     ]
    }
   ],
   "source": [
    "beginwithhell = re.compile(r'^Hello')\n",
    "mo = beginwithhell.search('Hello World')\n",
    "mo2 = beginwithhell.search('He said Hello')\n",
    "try:\n",
    "    print(mo.group())\n",
    "    print(mo2.group())\n",
    "except:\n",
    "    print('non')"
   ]
  },
  {
   "cell_type": "code",
   "execution_count": 70,
   "metadata": {},
   "outputs": [
    {
     "name": "stdout",
     "output_type": "stream",
     "text": [
      "2\n"
     ]
    }
   ],
   "source": [
    "endwithnum = re.compile(r'\\d$')\n",
    "mo = endwithnum.search('Your number5 is 42')\n",
    "print(mo.group())"
   ]
  },
  {
   "cell_type": "code",
   "execution_count": 69,
   "metadata": {},
   "outputs": [
    {
     "name": "stdout",
     "output_type": "stream",
     "text": [
      "['number5', '42']\n",
      "['Your2', 'two7']\n"
     ]
    }
   ],
   "source": [
    "endwithnum = re.compile(r'\\w*\\d+')\n",
    "mo = endwithnum.findall('Your number5 is 42')\n",
    "mo2 = endwithnum.findall('Your2 number is forty two7')\n",
    "print(mo)\n",
    "print(mo2)"
   ]
  },
  {
   "cell_type": "code",
   "execution_count": 80,
   "metadata": {},
   "outputs": [
    {
     "name": "stdout",
     "output_type": "stream",
     "text": [
      "          *\n",
      "         ***\n",
      "        *****\n",
      "       *******\n",
      "      *********\n",
      "     ***********\n",
      "    *************\n",
      "   ***************\n",
      "  *****************\n",
      " *******************\n"
     ]
    }
   ],
   "source": [
    "def triangle(num):\n",
    "    for i in range(1,num,2):\n",
    "        print(\" \"*int((num-i)/2),\"*\"*i)\n",
    "# main\n",
    "triangle(20)"
   ]
  },
  {
   "cell_type": "markdown",
   "metadata": {},
   "source": [
    ".=>줄 바꿈 이외 모든 한개문자 일치<br/>\n",
    "*=>앞의 문자가 0번 이상 일치<br/>\n",
    "+?"
   ]
  },
  {
   "cell_type": "code",
   "execution_count": 82,
   "metadata": {},
   "outputs": [
    {
     "data": {
      "text/plain": [
       "['cat', ' at', 'hat', 'lat', 'mat']"
      ]
     },
     "execution_count": 82,
     "metadata": {},
     "output_type": "execute_result"
    }
   ],
   "source": [
    "atRegex = re.compile(r'.at')\n",
    "atRegex.findall('The cat at the hat on the flat mat.')"
   ]
  },
  {
   "cell_type": "code",
   "execution_count": 84,
   "metadata": {},
   "outputs": [
    {
     "name": "stdout",
     "output_type": "stream",
     "text": [
      "Al\n",
      "Swelgart\n"
     ]
    }
   ],
   "source": [
    "# .* => 모든 것\n",
    "nameRegex = re.compile(r'First Name: (.*) Last Name: (.*)')\n",
    "mo = nameRegex.search('First Name: Al Last Name: Swelgart')\n",
    "print(mo.group(1))\n",
    "print(mo.group(2))"
   ]
  },
  {
   "cell_type": "code",
   "execution_count": 86,
   "metadata": {},
   "outputs": [
    {
     "name": "stdout",
     "output_type": "stream",
     "text": [
      "[('Al', 'Swelgart')]\n"
     ]
    }
   ],
   "source": [
    "# .* => 모든 것\n",
    "nameRegex = re.compile(r'First Name: (.*) Last Name: (.*)')\n",
    "mo = nameRegex.findall('First Name: Al Last Name: Swelgart')\n",
    "print(mo)"
   ]
  },
  {
   "cell_type": "markdown",
   "metadata": {},
   "source": [
    "### sub()메소드 문자열 대체하기"
   ]
  },
  {
   "cell_type": "code",
   "execution_count": 90,
   "metadata": {},
   "outputs": [
    {
     "data": {
      "text/plain": [
       "'Censored gave secret documents to Censored'"
      ]
     },
     "execution_count": 90,
     "metadata": {},
     "output_type": "execute_result"
    }
   ],
   "source": [
    "nameRegex = re.compile(r'Agent \\w+')\n",
    "nameRegex.sub('Censored', 'Agent Alice gave secret documents to Agent Bob')"
   ]
  },
  {
   "cell_type": "code",
   "execution_count": 93,
   "metadata": {},
   "outputs": [
    {
     "data": {
      "text/plain": [
       "'Agent A***** gave secret document to Agent B*****'"
      ]
     },
     "execution_count": 93,
     "metadata": {},
     "output_type": "execute_result"
    }
   ],
   "source": [
    "agentRegex = re.compile(r'Agent (\\w)\\w*')\n",
    "agentRegex.sub(r'Agent \\1*****', 'Agent Alice gave secret document to Agent Bob')"
   ]
  },
  {
   "cell_type": "code",
   "execution_count": 5,
   "metadata": {},
   "outputs": [
    {
     "name": "stdout",
     "output_type": "stream",
     "text": [
      "010-1234-5678\n",
      "['010-1234-5678', '010-8888-7777', '232-9898-7777']\n"
     ]
    }
   ],
   "source": [
    "import re\n",
    "#re객체 만들기\n",
    "regex1 = re.compile(r'\\d\\d\\d-\\d\\d\\d\\d-\\d\\d\\d\\d')\n",
    "#search() 메소드\n",
    "print(regex1.search('010-1234-5678 내 전화번호야').group())\n",
    "#findall() 메소드\n",
    "phonenum = \"a: 010-1234-5678, b: 010-8888-7777, c: 232-9898-7777\"\n",
    "print(regex1.findall(phonenum))\n",
    "#참고\n",
    "\"\"\"\n",
    "\\d: 임의의 숫자\n",
    "\\w: 문자 숫자, 밑줄글자\n",
    "\\s: 빈칸, 탭, 줄바꿈문자\n",
    "\"\"\""
   ]
  },
  {
   "cell_type": "code",
   "execution_count": 17,
   "metadata": {},
   "outputs": [
    {
     "name": "stdout",
     "output_type": "stream",
     "text": [
      "<re.Match object; span=(0, 6), match='batman'>\n",
      "<re.Match object; span=(0, 8), match='batwoman'>\n",
      "None\n",
      "None\n",
      "None\n",
      "++++++++++++++++++++++\n",
      "<re.Match object; span=(0, 6), match='batman'>\n",
      "<re.Match object; span=(0, 8), match='batwoman'>\n",
      "<re.Match object; span=(0, 10), match='batwowoman'>\n",
      "<re.Match object; span=(0, 12), match='batwowowoman'>\n",
      "<re.Match object; span=(0, 14), match='batwowowowoman'>\n",
      "++++++++++++++++++++++\n",
      "None\n",
      "<re.Match object; span=(0, 8), match='batwoman'>\n",
      "<re.Match object; span=(0, 10), match='batwowoman'>\n",
      "<re.Match object; span=(0, 12), match='batwowowoman'>\n",
      "<re.Match object; span=(0, 14), match='batwowowowoman'>\n",
      "++++++++++++++++++++++\n",
      "None\n",
      "None\n",
      "<re.Match object; span=(0, 10), match='batwowoman'>\n",
      "<re.Match object; span=(0, 12), match='batwowowoman'>\n",
      "None\n"
     ]
    }
   ],
   "source": [
    "# ?,*,+,{},\n",
    "regex2 = re.compile(r'bat(wo)?man')\n",
    "regex3 = re.compile(r'bat(wo)*man')\n",
    "regex4 = re.compile(r'bat(wo)+man')\n",
    "regex5 = re.compile(r'bat(wo){2,3}man')\n",
    "\n",
    "batman = 'batman'\n",
    "batwoman = 'batwoman'\n",
    "batwo2man = 'batwowoman'\n",
    "batwo3man = 'batwowowoman'\n",
    "batwo4man = 'batwowowowoman'\n",
    "# ?는 0또는 1개를 의미한다\n",
    "print(regex2.search(batman))\n",
    "print(regex2.search(batwoman))\n",
    "print(regex2.search(batwo2man))\n",
    "print(regex2.search(batwo3man))\n",
    "print(regex2.search(batwo4man))\n",
    "print('++++++++++++++++++++++')\n",
    "# *은 0이상의 정수개를 의미한다.\n",
    "print(regex3.search(batman))\n",
    "print(regex3.search(batwoman))\n",
    "print(regex3.search(batwo2man))\n",
    "print(regex3.search(batwo3man))\n",
    "print(regex3.search(batwo4man))\n",
    "print('++++++++++++++++++++++')\n",
    "# +는 1이상의 정수개를 의미한다\n",
    "print(regex4.search(batman))\n",
    "print(regex4.search(batwoman))\n",
    "print(regex4.search(batwo2man))\n",
    "print(regex4.search(batwo3man))\n",
    "print(regex4.search(batwo4man))\n",
    "print('++++++++++++++++++++++')\n",
    "#{}로 갯수(범위)를 지정할 수 있다\n",
    "print(regex5.search(batman))\n",
    "print(regex5.search(batwoman))\n",
    "print(regex5.search(batwo2man))\n",
    "print(regex5.search(batwo3man))\n",
    "print(regex5.search(batwo4man))"
   ]
  },
  {
   "cell_type": "code",
   "execution_count": 28,
   "metadata": {},
   "outputs": [
    {
     "name": "stdout",
     "output_type": "stream",
     "text": [
      "['o']\n",
      "['p', 'y', 't', 'h', 'n']\n"
     ]
    }
   ],
   "source": [
    "#사용자 정의 클래스\n",
    "#[]를 사용 ^는 부정을 의미\n",
    "moregex= re.compile(r'[aeiouAEIOU]')\n",
    "jaregex = re.compile(r'[^aeiouAEIOU]')\n",
    "print(moregex.findall('python'))\n",
    "print(jaregex.findall('python'))"
   ]
  },
  {
   "cell_type": "code",
   "execution_count": 21,
   "metadata": {},
   "outputs": [
    {
     "name": "stdout",
     "output_type": "stream",
     "text": [
      "[' a', ' b', ' c']\n",
      "@naver.com\n"
     ]
    }
   ],
   "source": [
    "#  .: 줄바꿈을 제외한 모든 문자 하나\n",
    "# .*: 모든 문자열\n",
    "initialregex = re.compile(r' .')\n",
    "print(initialregex.findall(' a b c'))\n",
    "domainregex = re.compile(r'@.*')\n",
    "print(domainregex.search('woosubgo@naver.com').group())"
   ]
  },
  {
   "cell_type": "code",
   "execution_count": 24,
   "metadata": {},
   "outputs": [
    {
     "data": {
      "text/plain": [
       "'피의자 아무개씨가(를) 검거되었다'"
      ]
     },
     "execution_count": 24,
     "metadata": {},
     "output_type": "execute_result"
    }
   ],
   "source": [
    "# sub()메소드 문자열 대체하기\n",
    "nameRegex = re.compile(r'피의자 \\w+')\n",
    "nameRegex.sub('피의자 아무개씨가(를)', '피의자 김모씨가 검거되었다')"
   ]
  },
  {
   "cell_type": "code",
   "execution_count": null,
   "metadata": {},
   "outputs": [],
   "source": []
  }
 ],
 "metadata": {
  "kernelspec": {
   "display_name": "Python 3",
   "language": "python",
   "name": "python3"
  },
  "language_info": {
   "codemirror_mode": {
    "name": "ipython",
    "version": 3
   },
   "file_extension": ".py",
   "mimetype": "text/x-python",
   "name": "python",
   "nbconvert_exporter": "python",
   "pygments_lexer": "ipython3",
   "version": "3.7.4"
  }
 },
 "nbformat": 4,
 "nbformat_minor": 2
}
