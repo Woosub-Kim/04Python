{
 "cells": [
  {
   "cell_type": "code",
   "execution_count": 1,
   "metadata": {},
   "outputs": [],
   "source": [
    "#피클로 저장하기\n",
    "import pickle\n",
    "my_list = ['a', 'b', 'c']\n",
    "with open('data.pickle', 'wb') as f:\n",
    "    pickle.dump(my_list, f)"
   ]
  },
  {
   "cell_type": "code",
   "execution_count": 2,
   "metadata": {
    "collapsed": true
   },
   "outputs": [
    {
     "name": "stdout",
     "output_type": "stream",
     "text": [
      " C 드라이브의 볼륨에는 이름이 없습니다.\n",
      " 볼륨 일련 번호: 7096-B02E\n",
      "\n",
      " C:\\04Python 디렉터리\n",
      "\n",
      "2020-01-17  오전 09:14    <DIR>          .\n",
      "2020-01-17  오전 09:14    <DIR>          ..\n",
      "2020-01-17  오전 09:13    <DIR>          .ipynb_checkpoints\n",
      "2020-01-16  오후 04:08            50,406 access_log\n",
      "2020-01-16  오전 09:35         2,317,454 age.csv\n",
      "2020-01-10  오후 03:04                22 ban.txt\n",
      "2020-01-10  오후 03:04                93 ban_student.txt\n",
      "2020-01-15  오후 02:05             1,871 birth_by_years.csv\n",
      "2020-01-15  오후 02:20             3,969 birth_by_years1.csv\n",
      "2020-01-15  오후 03:16    <DIR>          CSV\n",
      "2020-01-15  오후 03:16            18,944 csv_files.selection.tar\n",
      "2020-01-17  오전 09:14                32 data.pickle\n",
      "2020-01-14  오후 03:19        24,307,200 data.selection.tar\n",
      "2020-01-16  오후 03:18            18,231 Day01BasicDataform.ipynb\n",
      "2020-01-16  오후 03:18            11,981 Day01List.ipynb\n",
      "2020-01-08  오후 05:36            10,867 Day01Summary.ipynb\n",
      "2020-01-16  오후 03:19             7,667 Day01summary2.ipynb\n",
      "2020-01-16  오후 03:18             8,667 Day01tuple_set_dict.ipynb\n",
      "2020-01-16  오후 03:17            19,955 Day02if_for_while.ipynb\n",
      "2020-01-10  오후 05:40             7,301 Day03Class.ipynb\n",
      "2020-01-13  오전 09:06            97,935 Day03file.ipynb\n",
      "2020-01-16  오후 03:17            10,106 Day03function.ipynb\n",
      "2020-01-14  오후 02:31            23,452 Day04 RegularExpression.ipynb\n",
      "2020-01-13  오후 05:26         8,498,099 Day04CSV.ipynb\n",
      "2020-01-13  오전 10:37            15,991 Day04Exception.ipynb\n",
      "2020-01-15  오후 05:54           266,903 Day04matplotlib.ipynb\n",
      "2020-01-16  오후 05:50         2,219,827 Day05FileReview.ipynb\n",
      "2020-01-15  오후 04:56            88,123 Day05File_Directory.ipynb\n",
      "2020-01-16  오후 05:50            22,452 Day05PythonReview.ipynb\n",
      "2020-01-14  오후 05:00             5,971 Day05RegExReview.ipynb\n",
      "2020-01-16  오후 03:15            13,962 Day06ClassReviews.ipynb\n",
      "2020-01-16  오후 05:50            45,886 Day06NumpyMatpolib.ipynb\n",
      "2020-01-15  오후 04:56             7,009 Day06Quiz.ipynb\n",
      "2020-01-16  오후 05:50           235,820 Day07CSVandMatplotlib.ipynb\n",
      "2020-01-16  오후 03:15               640 Day07LambdaReview.ipynb\n",
      "2020-01-16  오후 12:02               820 Day07ModuleReview.ipynb\n",
      "2020-01-17  오전 09:13               637 Day08BinaryFilePickle.ipynb\n",
      "2020-01-10  오후 03:04             5,120 debug.log\n",
      "2020-01-16  오후 03:16         2,080,612 Exercise.ipynb\n",
      "2020-01-13  오전 10:35                11 file\n",
      "2020-01-16  오전 11:52            10,983 function_code_lec_100110.ipynb\n",
      "2020-01-16  오전 10:44         4,221,195 gender.csv\n",
      "2020-01-10  오후 04:02             2,175 googoo.jpg\n",
      "2020-01-09  오후 05:44             2,554 Laboratory.ipynb\n",
      "2020-01-16  오전 11:42           365,928 matplotlib_lec_code_100113.ipynb\n",
      "2020-01-13  오후 02:44            18,190 matpolib.jpg\n",
      "2020-01-16  오후 04:41               146 module.py\n",
      "2020-01-16  오전 11:52             3,058 module_test_200116.ipynb\n",
      "2020-01-15  오후 04:15             1,113 mydata.txt\n",
      "2020-01-10  오후 02:33                29 my_file.txt\n",
      "2020-01-14  오후 04:30    <DIR>          names\n",
      "2020-01-13  오전 09:13                10 new.txt\n",
      "2020-01-15  오후 03:39               240 Pname.txt\n",
      "2020-01-10  오후 02:37               395 poem.txt\n",
      "2020-01-10  오후 04:01                54 python.txt\n",
      "2020-01-13  오후 02:48         1,176,335 seoul.csv\n",
      "2020-01-10  오후 03:04            16,339 stockcode.txt\n",
      "2020-01-16  오후 05:43            32,434 subwayfee.csv\n",
      "2020-01-16  오후 12:04           156,880 subwaytime.csv\n",
      "2020-01-16  오전 09:03                36 test.csv\n",
      "2020-01-16  오전 09:27               220 test.py\n",
      "2020-01-10  오후 02:26                50 test.txt\n",
      "2020-01-14  오후 03:45    <DIR>          testdir\n",
      "2020-01-14  오후 02:19                65 test_file.txt\n",
      "2020-01-16  오전 11:53               924 test_module.py\n",
      "2020-01-10  오후 03:48                40 text.txt\n",
      "2020-01-10  오전 10:10             7,948 Untitled.ipynb\n",
      "2020-01-14  오후 04:04               555 Untitled1.ipynb\n",
      "2020-01-17  오전 08:42                72 Untitled2.ipynb\n",
      "2020-01-17  오전 09:12             2,731 Untitled3.ipynb\n",
      "2020-01-16  오전 09:31    <DIR>          __pycache__\n",
      "2020-01-10  오후 04:06                 0 비둘기.jpg\n",
      "2020-01-10  오후 04:09             2,175 비둘기1.jpg\n",
      "2020-01-10  오후 02:25                 0 새 텍스트 문서.txt\n",
      "2020-01-10  오후 05:19    <DIR>          새 폴더\n",
      "              67개 파일          46,446,910 바이트\n",
      "               8개 디렉터리  49,891,086,336 바이트 남음\n"
     ]
    }
   ],
   "source": [
    "#피클파일 확인\n",
    "!dir"
   ]
  },
  {
   "cell_type": "code",
   "execution_count": 3,
   "metadata": {},
   "outputs": [
    {
     "name": "stdout",
     "output_type": "stream",
     "text": [
      "['a', 'b', 'c']\n"
     ]
    }
   ],
   "source": [
    "#피클파일 읽어오기\n",
    "with open('data.pickle', 'rb') as f:\n",
    "    data = pickle.load(f)\n",
    "print(data)"
   ]
  },
  {
   "cell_type": "code",
   "execution_count": null,
   "metadata": {},
   "outputs": [],
   "source": []
  }
 ],
 "metadata": {
  "kernelspec": {
   "display_name": "Python 3",
   "language": "python",
   "name": "python3"
  },
  "language_info": {
   "codemirror_mode": {
    "name": "ipython",
    "version": 3
   },
   "file_extension": ".py",
   "mimetype": "text/x-python",
   "name": "python",
   "nbconvert_exporter": "python",
   "pygments_lexer": "ipython3",
   "version": "3.7.4"
  }
 },
 "nbformat": 4,
 "nbformat_minor": 2
}
