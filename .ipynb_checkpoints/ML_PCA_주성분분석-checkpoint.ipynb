{
 "cells": [
  {
   "cell_type": "markdown",
   "metadata": {},
   "source": [
    "# 차원축소\n",
    "\n",
    "## 차원축소의 이유\n",
    "고차원 데이터의 경우 핑요없는 특성들이 포함되어 되려 학습능력이 떨어질 수 있다          \n",
    "2차원 데치터만이 시각화가 가능하다\n"
   ]
  },
  {
   "cell_type": "code",
   "execution_count": 1,
   "metadata": {},
   "outputs": [
    {
     "data": {
      "text/html": [
       "<div>\n",
       "<style scoped>\n",
       "    .dataframe tbody tr th:only-of-type {\n",
       "        vertical-align: middle;\n",
       "    }\n",
       "\n",
       "    .dataframe tbody tr th {\n",
       "        vertical-align: top;\n",
       "    }\n",
       "\n",
       "    .dataframe thead th {\n",
       "        text-align: right;\n",
       "    }\n",
       "</style>\n",
       "<table border=\"1\" class=\"dataframe\">\n",
       "  <thead>\n",
       "    <tr style=\"text-align: right;\">\n",
       "      <th></th>\n",
       "      <th>Class label</th>\n",
       "      <th>Alcohol</th>\n",
       "      <th>Malic acid</th>\n",
       "      <th>Ash</th>\n",
       "      <th>Alcalinity of ash</th>\n",
       "      <th>Magnesium</th>\n",
       "      <th>Total phenols</th>\n",
       "      <th>Flavanoids</th>\n",
       "      <th>Nonflavanoid phenols</th>\n",
       "      <th>Proanthocyanins</th>\n",
       "      <th>Color intensity</th>\n",
       "      <th>Hue</th>\n",
       "      <th>OD280/OD315 of diluted wines</th>\n",
       "      <th>Proline</th>\n",
       "    </tr>\n",
       "  </thead>\n",
       "  <tbody>\n",
       "    <tr>\n",
       "      <th>0</th>\n",
       "      <td>1</td>\n",
       "      <td>14.23</td>\n",
       "      <td>1.71</td>\n",
       "      <td>2.43</td>\n",
       "      <td>15.6</td>\n",
       "      <td>127</td>\n",
       "      <td>2.80</td>\n",
       "      <td>3.06</td>\n",
       "      <td>0.28</td>\n",
       "      <td>2.29</td>\n",
       "      <td>5.64</td>\n",
       "      <td>1.04</td>\n",
       "      <td>3.92</td>\n",
       "      <td>1065</td>\n",
       "    </tr>\n",
       "    <tr>\n",
       "      <th>1</th>\n",
       "      <td>1</td>\n",
       "      <td>13.20</td>\n",
       "      <td>1.78</td>\n",
       "      <td>2.14</td>\n",
       "      <td>11.2</td>\n",
       "      <td>100</td>\n",
       "      <td>2.65</td>\n",
       "      <td>2.76</td>\n",
       "      <td>0.26</td>\n",
       "      <td>1.28</td>\n",
       "      <td>4.38</td>\n",
       "      <td>1.05</td>\n",
       "      <td>3.40</td>\n",
       "      <td>1050</td>\n",
       "    </tr>\n",
       "    <tr>\n",
       "      <th>2</th>\n",
       "      <td>1</td>\n",
       "      <td>13.16</td>\n",
       "      <td>2.36</td>\n",
       "      <td>2.67</td>\n",
       "      <td>18.6</td>\n",
       "      <td>101</td>\n",
       "      <td>2.80</td>\n",
       "      <td>3.24</td>\n",
       "      <td>0.30</td>\n",
       "      <td>2.81</td>\n",
       "      <td>5.68</td>\n",
       "      <td>1.03</td>\n",
       "      <td>3.17</td>\n",
       "      <td>1185</td>\n",
       "    </tr>\n",
       "    <tr>\n",
       "      <th>3</th>\n",
       "      <td>1</td>\n",
       "      <td>14.37</td>\n",
       "      <td>1.95</td>\n",
       "      <td>2.50</td>\n",
       "      <td>16.8</td>\n",
       "      <td>113</td>\n",
       "      <td>3.85</td>\n",
       "      <td>3.49</td>\n",
       "      <td>0.24</td>\n",
       "      <td>2.18</td>\n",
       "      <td>7.80</td>\n",
       "      <td>0.86</td>\n",
       "      <td>3.45</td>\n",
       "      <td>1480</td>\n",
       "    </tr>\n",
       "    <tr>\n",
       "      <th>4</th>\n",
       "      <td>1</td>\n",
       "      <td>13.24</td>\n",
       "      <td>2.59</td>\n",
       "      <td>2.87</td>\n",
       "      <td>21.0</td>\n",
       "      <td>118</td>\n",
       "      <td>2.80</td>\n",
       "      <td>2.69</td>\n",
       "      <td>0.39</td>\n",
       "      <td>1.82</td>\n",
       "      <td>4.32</td>\n",
       "      <td>1.04</td>\n",
       "      <td>2.93</td>\n",
       "      <td>735</td>\n",
       "    </tr>\n",
       "  </tbody>\n",
       "</table>\n",
       "</div>"
      ],
      "text/plain": [
       "   Class label  Alcohol  Malic acid   Ash  Alcalinity of ash  Magnesium  \\\n",
       "0            1    14.23        1.71  2.43               15.6        127   \n",
       "1            1    13.20        1.78  2.14               11.2        100   \n",
       "2            1    13.16        2.36  2.67               18.6        101   \n",
       "3            1    14.37        1.95  2.50               16.8        113   \n",
       "4            1    13.24        2.59  2.87               21.0        118   \n",
       "\n",
       "   Total phenols  Flavanoids  Nonflavanoid phenols  Proanthocyanins  \\\n",
       "0           2.80        3.06                  0.28             2.29   \n",
       "1           2.65        2.76                  0.26             1.28   \n",
       "2           2.80        3.24                  0.30             2.81   \n",
       "3           3.85        3.49                  0.24             2.18   \n",
       "4           2.80        2.69                  0.39             1.82   \n",
       "\n",
       "   Color intensity   Hue  OD280/OD315 of diluted wines  Proline  \n",
       "0             5.64  1.04                          3.92     1065  \n",
       "1             4.38  1.05                          3.40     1050  \n",
       "2             5.68  1.03                          3.17     1185  \n",
       "3             7.80  0.86                          3.45     1480  \n",
       "4             4.32  1.04                          2.93      735  "
      ]
     },
     "execution_count": 1,
     "metadata": {},
     "output_type": "execute_result"
    }
   ],
   "source": [
    "import pandas as pd\n",
    "df_wine = pd.read_csv('https://archive.ics.uci.edu/ml/'\n",
    "                      'machine-learning-databases/wine/wine.data',\n",
    "                      header=None)\n",
    "df_wine.columns = ['Class label', 'Alcohol', 'Malic acid', 'Ash',\n",
    "                   'Alcalinity of ash', 'Magnesium', 'Total phenols',\n",
    "                   'Flavanoids', 'Nonflavanoid phenols', 'Proanthocyanins',\n",
    "                   'Color intensity', 'Hue',\n",
    "                   'OD280/OD315 of diluted wines', 'Proline']\n",
    "df_wine.head()"
   ]
  },
  {
   "cell_type": "code",
   "execution_count": 2,
   "metadata": {},
   "outputs": [
    {
     "data": {
      "text/html": [
       "<div>\n",
       "<style scoped>\n",
       "    .dataframe tbody tr th:only-of-type {\n",
       "        vertical-align: middle;\n",
       "    }\n",
       "\n",
       "    .dataframe tbody tr th {\n",
       "        vertical-align: top;\n",
       "    }\n",
       "\n",
       "    .dataframe thead th {\n",
       "        text-align: right;\n",
       "    }\n",
       "</style>\n",
       "<table border=\"1\" class=\"dataframe\">\n",
       "  <thead>\n",
       "    <tr style=\"text-align: right;\">\n",
       "      <th></th>\n",
       "      <th>Alcohol</th>\n",
       "      <th>Malic acid</th>\n",
       "      <th>Ash</th>\n",
       "      <th>Alcalinity of ash</th>\n",
       "      <th>Magnesium</th>\n",
       "      <th>Total phenols</th>\n",
       "      <th>Flavanoids</th>\n",
       "      <th>Nonflavanoid phenols</th>\n",
       "      <th>Proanthocyanins</th>\n",
       "      <th>Color intensity</th>\n",
       "      <th>Hue</th>\n",
       "      <th>OD280/OD315 of diluted wines</th>\n",
       "      <th>Proline</th>\n",
       "    </tr>\n",
       "  </thead>\n",
       "  <tbody>\n",
       "    <tr>\n",
       "      <th>0</th>\n",
       "      <td>14.23</td>\n",
       "      <td>1.71</td>\n",
       "      <td>2.43</td>\n",
       "      <td>15.6</td>\n",
       "      <td>127</td>\n",
       "      <td>2.80</td>\n",
       "      <td>3.06</td>\n",
       "      <td>0.28</td>\n",
       "      <td>2.29</td>\n",
       "      <td>5.64</td>\n",
       "      <td>1.04</td>\n",
       "      <td>3.92</td>\n",
       "      <td>1065</td>\n",
       "    </tr>\n",
       "    <tr>\n",
       "      <th>1</th>\n",
       "      <td>13.20</td>\n",
       "      <td>1.78</td>\n",
       "      <td>2.14</td>\n",
       "      <td>11.2</td>\n",
       "      <td>100</td>\n",
       "      <td>2.65</td>\n",
       "      <td>2.76</td>\n",
       "      <td>0.26</td>\n",
       "      <td>1.28</td>\n",
       "      <td>4.38</td>\n",
       "      <td>1.05</td>\n",
       "      <td>3.40</td>\n",
       "      <td>1050</td>\n",
       "    </tr>\n",
       "    <tr>\n",
       "      <th>2</th>\n",
       "      <td>13.16</td>\n",
       "      <td>2.36</td>\n",
       "      <td>2.67</td>\n",
       "      <td>18.6</td>\n",
       "      <td>101</td>\n",
       "      <td>2.80</td>\n",
       "      <td>3.24</td>\n",
       "      <td>0.30</td>\n",
       "      <td>2.81</td>\n",
       "      <td>5.68</td>\n",
       "      <td>1.03</td>\n",
       "      <td>3.17</td>\n",
       "      <td>1185</td>\n",
       "    </tr>\n",
       "    <tr>\n",
       "      <th>3</th>\n",
       "      <td>14.37</td>\n",
       "      <td>1.95</td>\n",
       "      <td>2.50</td>\n",
       "      <td>16.8</td>\n",
       "      <td>113</td>\n",
       "      <td>3.85</td>\n",
       "      <td>3.49</td>\n",
       "      <td>0.24</td>\n",
       "      <td>2.18</td>\n",
       "      <td>7.80</td>\n",
       "      <td>0.86</td>\n",
       "      <td>3.45</td>\n",
       "      <td>1480</td>\n",
       "    </tr>\n",
       "    <tr>\n",
       "      <th>4</th>\n",
       "      <td>13.24</td>\n",
       "      <td>2.59</td>\n",
       "      <td>2.87</td>\n",
       "      <td>21.0</td>\n",
       "      <td>118</td>\n",
       "      <td>2.80</td>\n",
       "      <td>2.69</td>\n",
       "      <td>0.39</td>\n",
       "      <td>1.82</td>\n",
       "      <td>4.32</td>\n",
       "      <td>1.04</td>\n",
       "      <td>2.93</td>\n",
       "      <td>735</td>\n",
       "    </tr>\n",
       "    <tr>\n",
       "      <th>...</th>\n",
       "      <td>...</td>\n",
       "      <td>...</td>\n",
       "      <td>...</td>\n",
       "      <td>...</td>\n",
       "      <td>...</td>\n",
       "      <td>...</td>\n",
       "      <td>...</td>\n",
       "      <td>...</td>\n",
       "      <td>...</td>\n",
       "      <td>...</td>\n",
       "      <td>...</td>\n",
       "      <td>...</td>\n",
       "      <td>...</td>\n",
       "    </tr>\n",
       "    <tr>\n",
       "      <th>173</th>\n",
       "      <td>13.71</td>\n",
       "      <td>5.65</td>\n",
       "      <td>2.45</td>\n",
       "      <td>20.5</td>\n",
       "      <td>95</td>\n",
       "      <td>1.68</td>\n",
       "      <td>0.61</td>\n",
       "      <td>0.52</td>\n",
       "      <td>1.06</td>\n",
       "      <td>7.70</td>\n",
       "      <td>0.64</td>\n",
       "      <td>1.74</td>\n",
       "      <td>740</td>\n",
       "    </tr>\n",
       "    <tr>\n",
       "      <th>174</th>\n",
       "      <td>13.40</td>\n",
       "      <td>3.91</td>\n",
       "      <td>2.48</td>\n",
       "      <td>23.0</td>\n",
       "      <td>102</td>\n",
       "      <td>1.80</td>\n",
       "      <td>0.75</td>\n",
       "      <td>0.43</td>\n",
       "      <td>1.41</td>\n",
       "      <td>7.30</td>\n",
       "      <td>0.70</td>\n",
       "      <td>1.56</td>\n",
       "      <td>750</td>\n",
       "    </tr>\n",
       "    <tr>\n",
       "      <th>175</th>\n",
       "      <td>13.27</td>\n",
       "      <td>4.28</td>\n",
       "      <td>2.26</td>\n",
       "      <td>20.0</td>\n",
       "      <td>120</td>\n",
       "      <td>1.59</td>\n",
       "      <td>0.69</td>\n",
       "      <td>0.43</td>\n",
       "      <td>1.35</td>\n",
       "      <td>10.20</td>\n",
       "      <td>0.59</td>\n",
       "      <td>1.56</td>\n",
       "      <td>835</td>\n",
       "    </tr>\n",
       "    <tr>\n",
       "      <th>176</th>\n",
       "      <td>13.17</td>\n",
       "      <td>2.59</td>\n",
       "      <td>2.37</td>\n",
       "      <td>20.0</td>\n",
       "      <td>120</td>\n",
       "      <td>1.65</td>\n",
       "      <td>0.68</td>\n",
       "      <td>0.53</td>\n",
       "      <td>1.46</td>\n",
       "      <td>9.30</td>\n",
       "      <td>0.60</td>\n",
       "      <td>1.62</td>\n",
       "      <td>840</td>\n",
       "    </tr>\n",
       "    <tr>\n",
       "      <th>177</th>\n",
       "      <td>14.13</td>\n",
       "      <td>4.10</td>\n",
       "      <td>2.74</td>\n",
       "      <td>24.5</td>\n",
       "      <td>96</td>\n",
       "      <td>2.05</td>\n",
       "      <td>0.76</td>\n",
       "      <td>0.56</td>\n",
       "      <td>1.35</td>\n",
       "      <td>9.20</td>\n",
       "      <td>0.61</td>\n",
       "      <td>1.60</td>\n",
       "      <td>560</td>\n",
       "    </tr>\n",
       "  </tbody>\n",
       "</table>\n",
       "<p>178 rows × 13 columns</p>\n",
       "</div>"
      ],
      "text/plain": [
       "     Alcohol  Malic acid   Ash  Alcalinity of ash  Magnesium  Total phenols  \\\n",
       "0      14.23        1.71  2.43               15.6        127           2.80   \n",
       "1      13.20        1.78  2.14               11.2        100           2.65   \n",
       "2      13.16        2.36  2.67               18.6        101           2.80   \n",
       "3      14.37        1.95  2.50               16.8        113           3.85   \n",
       "4      13.24        2.59  2.87               21.0        118           2.80   \n",
       "..       ...         ...   ...                ...        ...            ...   \n",
       "173    13.71        5.65  2.45               20.5         95           1.68   \n",
       "174    13.40        3.91  2.48               23.0        102           1.80   \n",
       "175    13.27        4.28  2.26               20.0        120           1.59   \n",
       "176    13.17        2.59  2.37               20.0        120           1.65   \n",
       "177    14.13        4.10  2.74               24.5         96           2.05   \n",
       "\n",
       "     Flavanoids  Nonflavanoid phenols  Proanthocyanins  Color intensity   Hue  \\\n",
       "0          3.06                  0.28             2.29             5.64  1.04   \n",
       "1          2.76                  0.26             1.28             4.38  1.05   \n",
       "2          3.24                  0.30             2.81             5.68  1.03   \n",
       "3          3.49                  0.24             2.18             7.80  0.86   \n",
       "4          2.69                  0.39             1.82             4.32  1.04   \n",
       "..          ...                   ...              ...              ...   ...   \n",
       "173        0.61                  0.52             1.06             7.70  0.64   \n",
       "174        0.75                  0.43             1.41             7.30  0.70   \n",
       "175        0.69                  0.43             1.35            10.20  0.59   \n",
       "176        0.68                  0.53             1.46             9.30  0.60   \n",
       "177        0.76                  0.56             1.35             9.20  0.61   \n",
       "\n",
       "     OD280/OD315 of diluted wines  Proline  \n",
       "0                            3.92     1065  \n",
       "1                            3.40     1050  \n",
       "2                            3.17     1185  \n",
       "3                            3.45     1480  \n",
       "4                            2.93      735  \n",
       "..                            ...      ...  \n",
       "173                          1.74      740  \n",
       "174                          1.56      750  \n",
       "175                          1.56      835  \n",
       "176                          1.62      840  \n",
       "177                          1.60      560  \n",
       "\n",
       "[178 rows x 13 columns]"
      ]
     },
     "execution_count": 2,
     "metadata": {},
     "output_type": "execute_result"
    }
   ],
   "source": [
    "y = df_wine['Class label']\n",
    "x = df_wine.iloc[:, 1:]\n",
    "x"
   ]
  },
  {
   "cell_type": "code",
   "execution_count": 3,
   "metadata": {},
   "outputs": [],
   "source": [
    "from sklearn.model_selection import train_test_split\n",
    "x_train, x_test, y_train, y_test = train_test_split(x,y, test_size=0.3, random_state = 0)"
   ]
  },
  {
   "cell_type": "code",
   "execution_count": 4,
   "metadata": {},
   "outputs": [],
   "source": [
    "from sklearn.preprocessing import StandardScaler\n",
    "sc = StandardScaler()\n",
    "x_train_std = sc.fit_transform(x_train)\n",
    "x_test_std = sc.transform(x_test)"
   ]
  },
  {
   "cell_type": "markdown",
   "metadata": {},
   "source": [
    "### Python으로 하는 PCA"
   ]
  },
  {
   "cell_type": "code",
   "execution_count": 5,
   "metadata": {},
   "outputs": [
    {
     "name": "stdout",
     "output_type": "stream",
     "text": [
      "\n",
      "고윳값 \n",
      "[4.8923083  2.46635032 1.42809973 1.01233462 0.84906459 0.60181514\n",
      " 0.52251546 0.08414846 0.33051429 0.29595018 0.16831254 0.21432212\n",
      " 0.2399553 ]\n"
     ]
    },
    {
     "data": {
      "image/png": "[encoded data removed]",
      "text/plain": [
       "<Figure size 432x288 with 1 Axes>"
      ]
     },
     "metadata": {
      "needs_background": "light"
     },
     "output_type": "display_data"
    },
    {
     "name": "stdout",
     "output_type": "stream",
     "text": [
      "[0.3732964772349066, 0.1881892610659957, 0.108967907247578, 0.07724389477124859, 0.06478594601826185, 0.04592013811478151, 0.03986935597634706, 0.025219142607261564, 0.022581806817679666, 0.01830924471952691, 0.01635336265505145, 0.012842705837492743, 0.006420756933868341]\n",
      "[0.37329648 0.56148574 0.67045365 0.74769754 0.81248349 0.85840362\n",
      " 0.89827298 0.92349212 0.94607393 0.96438317 0.98073654 0.99357924\n",
      " 1.        ]\n"
     ]
    }
   ],
   "source": [
    "# 공분산행렬의 고윳값 분해\n",
    "import numpy as np\n",
    "cov_mat = np.cov(x_train_std.T)\n",
    "eigen_vals, eigen_vecs = np.linalg.eig(cov_mat)\n",
    "\n",
    "print('\\n고윳값 \\n%s' % eigen_vals)\n",
    "# 총분산과 설명된 분산\n",
    "tot = sum(eigen_vals)\n",
    "var_exp = [(i / tot) for i in sorted(eigen_vals, reverse=True)]\n",
    "cum_var_exp = np.cumsum(var_exp)\n",
    "\n",
    "import matplotlib.pyplot as plt\n",
    "\n",
    "\n",
    "plt.bar(range(1, 14), var_exp, alpha=0.5, align='center',\n",
    "        label='individual explained variance')\n",
    "plt.step(range(1, 14), cum_var_exp, where='mid',\n",
    "         label='cumulative explained variance')\n",
    "plt.ylabel('Explained variance ratio')\n",
    "plt.xlabel('Principal component index')\n",
    "plt.legend(loc='best')\n",
    "plt.tight_layout()\n",
    "plt.show()\n",
    "print(var_exp)\n",
    "print(cum_var_exp)"
   ]
  },
  {
   "cell_type": "code",
   "execution_count": 6,
   "metadata": {},
   "outputs": [],
   "source": [
    "# 특성변환"
   ]
  },
  {
   "cell_type": "code",
   "execution_count": 7,
   "metadata": {},
   "outputs": [],
   "source": [
    "# (고윳값, 고유벡터) 튜플의 리스트를 만듭니다\n",
    "eigen_pairs = [(np.abs(eigen_vals[i]), eigen_vecs[:, i])\n",
    "               for i in range(len(eigen_vals))]\n",
    "\n",
    "# 높은 값에서 낮은 값으로 (고윳값, 고유벡터) 튜플을 정렬합니다\n",
    "eigen_pairs.sort(key=lambda k: k[0], reverse=True)"
   ]
  },
  {
   "cell_type": "code",
   "execution_count": 8,
   "metadata": {},
   "outputs": [
    {
     "name": "stdout",
     "output_type": "stream",
     "text": [
      "투영 행렬 W:\n",
      " [[ 0.14669811  0.50417079]\n",
      " [-0.24224554  0.24216889]\n",
      " [-0.02993442  0.28698484]\n",
      " [-0.25519002 -0.06468718]\n",
      " [ 0.12079772  0.22995385]\n",
      " [ 0.38934455  0.09363991]\n",
      " [ 0.42326486  0.01088622]\n",
      " [-0.30634956  0.01870216]\n",
      " [ 0.30572219  0.03040352]\n",
      " [-0.09869191  0.54527081]\n",
      " [ 0.30032535 -0.27924322]\n",
      " [ 0.36821154 -0.174365  ]\n",
      " [ 0.29259713  0.36315461]]\n"
     ]
    }
   ],
   "source": [
    "w = np.hstack((eigen_pairs[0][1][:, np.newaxis],\n",
    "               eigen_pairs[1][1][:, np.newaxis]))\n",
    "print('투영 행렬 W:\\n', w)"
   ]
  },
  {
   "cell_type": "code",
   "execution_count": 9,
   "metadata": {},
   "outputs": [
    {
     "data": {
      "text/plain": [
       "array([2.59891628, 0.00484089])"
      ]
     },
     "execution_count": 9,
     "metadata": {},
     "output_type": "execute_result"
    }
   ],
   "source": [
    "x_train_std[0].dot(w)"
   ]
  },
  {
   "cell_type": "code",
   "execution_count": 10,
   "metadata": {},
   "outputs": [
    {
     "data": {
      "image/png": "[encoded data removed]",
      "text/plain": [
       "<Figure size 432x288 with 1 Axes>"
      ]
     },
     "metadata": {
      "needs_background": "light"
     },
     "output_type": "display_data"
    }
   ],
   "source": [
    "x_train_pca = x_train_std.dot(w)\n",
    "colors = ['r', 'b', 'g']\n",
    "markers = ['s', 'x', 'o']\n",
    "\n",
    "for l, c, m in zip(np.unique(y_train), colors, markers):\n",
    "    plt.scatter(x_train_pca[y_train == l, 0], \n",
    "                x_train_pca[y_train == l, 1], \n",
    "                c=c, label=l, marker=m)\n",
    "\n",
    "plt.xlabel('PC 1')\n",
    "plt.ylabel('PC 2')\n",
    "plt.legend(loc='lower left')\n",
    "plt.tight_layout()\n",
    "plt.show()"
   ]
  },
  {
   "cell_type": "markdown",
   "metadata": {},
   "source": [
    "### sklearn PCA"
   ]
  },
  {
   "cell_type": "code",
   "execution_count": 11,
   "metadata": {},
   "outputs": [
    {
     "name": "stdout",
     "output_type": "stream",
     "text": [
      "[[ 0.94841977 -0.63042822 -0.4110476  -0.87677804  1.22679643  0.57147571\n",
      "   0.95620726 -1.24682729  0.01258759  0.36299992 -0.15283642  0.83141032\n",
      "   1.01828164]\n",
      " [-0.24190464  0.25288364  0.42452457  0.69400284  0.81583896 -1.30214437\n",
      "  -0.62636631 -1.00437054 -0.59161664  2.47674005 -2.02839981 -1.57358081\n",
      "  -0.86722119]\n",
      " [-0.76815332 -1.10741662 -0.73801062 -0.14748691 -0.89648384  2.07706327\n",
      "   1.16173629 -1.40846512  0.43217386 -0.23482557  1.1259568   0.37265479\n",
      "  -1.06227321]\n",
      " [ 0.72288462 -0.57742951  0.35186612  0.27325796  1.08981061  1.17371073\n",
      "   0.83288984 -1.3276462   1.40561401  0.5338072   0.10292223  0.59508171\n",
      "   1.21333366]\n",
      " [ 0.08386836  3.01764974 -0.8469983   0.55375455 -0.96497675  0.60493321\n",
      "   0.69929597 -0.51945706  0.66714217 -1.02480926 -0.96273879  0.69239349\n",
      "  -1.19230789]\n",
      " [-1.7830615  -0.29476971  3.14921644  2.51723066  1.29528934  1.54174325\n",
      "   3.19647374  0.85446449  0.43217386  0.42705265 -0.11020997  1.51259278\n",
      "  -0.9159842 ]\n",
      " [ 1.34937115 -0.20643853  0.89680449 -0.54018214  1.43227517  0.57147571\n",
      "   0.55542564 -0.43863814 -0.60840009  0.02138535  0.44393375  1.35967427\n",
      "   1.78223538]\n",
      " [-0.78068305  1.27752538  0.06123232  0.41350626 -0.82799093  0.06961319\n",
      "  -1.07853019  1.09692124 -0.96085256  1.13163269 -1.68738828 -1.4206623\n",
      "  -0.73718652]\n",
      " [-0.91851009 -0.57742951 -0.88332752 -0.14748691 -1.37593422 -1.01775561\n",
      "   0.06215596  0.04627535  0.02937104 -0.68319469  0.18817511  0.78970527\n",
      "  -0.76969519]\n",
      " [-1.13151551 -0.48909832 -0.15674303 -0.28773521 -1.30744131 -1.10139936\n",
      "  -0.48249598  1.25855906  0.04615449 -1.1102129   0.52918664 -0.46144618\n",
      "  -0.86722119]\n",
      " [ 0.47229001  0.15571933 -0.04775535  0.13300967 -0.75949802 -1.43597437\n",
      "  -1.51014116  0.04627535 -1.63219059  0.25624537 -1.09061811 -0.18341253\n",
      "   0.10803889]\n",
      " [ 1.123836    2.34633273 -0.48370605  0.13300967 -1.37593422 -2.1385819\n",
      "  -1.67456439  0.28873209 -1.56505679 -0.04266738 -1.6021354  -1.76820437\n",
      "  -1.07852755]\n",
      " [ 1.52478738 -0.55093015  0.3155369  -1.21337394  0.81583896  1.692302\n",
      "   1.45975339 -0.1961814   0.60000837  0.74731631  0.40130731  0.34485142\n",
      "   2.28611976]\n",
      " [-0.76815332 -1.16041533 -0.95598597 -0.28773521 -0.82799093  2.11052077\n",
      "   1.82970566 -1.00437054  0.56644147 -0.21347466  0.35868087  0.23363796\n",
      "  -0.28206514]\n",
      " [ 0.74794408  0.17338557  1.18743829  1.39524431  0.33638858 -1.18504311\n",
      "  -1.1607418   0.20791318 -0.12168002  1.56292109 -0.92011235 -1.11482528\n",
      "   0.01051288]\n",
      " [-1.23175335 -1.29291211 -1.31927822 -0.14748691 -0.96497675  0.2703582\n",
      "   0.29851435 -0.51945706 -0.30629798 -1.06751108  1.80797986  0.72019686\n",
      "  -1.52389632]\n",
      " [ 0.97347923 -0.75409188  1.22376752 -0.00723862  2.1856972   1.15698198\n",
      "   0.79178403  1.09692124 -0.44056558  0.17084172  1.25383613  0.55337667\n",
      "   1.58718336]\n",
      " [ 1.51225764 -0.70109317  0.42452457 -0.84872838  0.54186731  1.74248826\n",
      "   2.01468179 -0.35781923  0.41539041  1.58000181  1.16858325  0.30314637\n",
      "   3.03381916]\n",
      " [-0.4298506  -0.90425489 -1.24661977 -0.7645794  -0.00607598 -0.39879183\n",
      "  -0.57498405  1.33937798 -1.66575749  0.3202981   0.10292223 -1.40676062\n",
      "  -0.9647472 ]\n",
      " [ 1.06118734 -0.64809445  0.86047527 -0.65238077 -0.41703346  0.32054445\n",
      "   1.04869533 -1.16600837  1.13707879  0.25624537  1.21120969  1.06773893\n",
      "   1.68470937]\n",
      " [ 0.15904674 -1.21341404 -2.40915497 -1.26947326 -1.51292005  1.20716823\n",
      "   1.24394791 -0.84273271  1.12029534  0.1281399   0.6996924   0.80360696\n",
      "  -0.79570212]\n",
      " [ 0.08386836 -0.64809445  0.67882915 -0.4279835  -0.14306181  0.32054445\n",
      "   0.47321403 -0.60027597 -0.28951453 -0.32022922  0.6996924  -0.12780579\n",
      "   1.16457065]\n",
      " [ 0.32193324  0.18221869  1.84136434  0.41350626  1.22679643  0.90605072\n",
      "   0.74040177  0.20791318  0.3482566  -0.29033794  0.35868087  0.45606489\n",
      "  -0.03825012]\n",
      " [-0.59273709 -0.57742951 -1.39193667  0.27325796 -1.03346966 -0.09767432\n",
      "  -0.05088501 -0.35781923 -0.22238072 -0.87962307  0.35868087  1.34577259\n",
      "  -0.24305474]\n",
      " [-0.81827224 -1.13391597 -0.30205993 -0.98897667  0.06241693 -0.34860558\n",
      "  -0.90383051  2.14756713 -2.01820996 -0.73870706  1.25383613 -1.29554715\n",
      "  -0.2170478 ]\n",
      " [-0.58020736  0.04088879 -0.7016814   0.41350626 -0.82799093  0.48783196\n",
      "   0.3087908  -0.84273271 -0.65875045 -1.28102019 -0.2380893   0.24753964\n",
      "  -1.37110557]\n",
      " [-0.69297494 -0.75409188 -0.2657307   0.55375455 -0.96497675  0.80567822\n",
      "   1.21311855  0.20791318  0.26433935 -0.45260486 -1.13324455  0.33094974\n",
      "  -1.28333217]\n",
      " [-1.03127766 -0.68342693 -0.19307225  0.91840011 -0.6910051  -0.80028185\n",
      "  -0.2872434   0.53118883 -0.08811312 -1.08886199  1.59484765 -0.47534787\n",
      "  -0.81845819]\n",
      " [-1.53246689  0.26171675  2.02301047  0.13300967  0.19940275 -0.8504681\n",
      "   0.06215596  1.90511038 -0.94406911 -0.51238741  1.16858325 -0.14170748\n",
      "  -0.45436109]\n",
      " [ 0.99853869  0.3323817  -0.22940148  0.69400284 -0.6910051  -1.51961813\n",
      "  -1.32516503  0.369551   -0.97763601  1.95577784 -1.09061811 -1.28164547\n",
      "  -0.42835416]\n",
      " [ 0.5098792  -0.54209703  0.93313372 -0.96092702 -0.48552637  0.98969448\n",
      "   0.99731307 -0.1961814  -0.27273108 -0.0853692  -0.15283642  0.85921369\n",
      "   1.45714868]\n",
      " [ 1.54984684 -0.60392886 -0.22940148 -0.9048277   1.22679643  1.57520075\n",
      "   1.05897178 -0.84273271  0.70070907  0.58931957 -0.06758353  0.98432883\n",
      "   0.72570362]\n",
      " [-1.18163443  1.69268196  0.06123232  0.69400284 -1.37593422 -0.26496183\n",
      "  -0.22558469  0.45036992 -0.44056558 -1.02480926 -0.70698014 -0.0443957\n",
      "  -0.5421345 ]\n",
      " [ 1.53731711  1.46302087  0.27920767 -0.17553657  0.74734605  0.98969448\n",
      "   0.69929597 -0.51945706 -0.60840009  0.10251881 -0.36596862  1.0121322\n",
      "   1.08329898]\n",
      " [ 2.3141604  -0.65692757 -0.7016814  -1.54996985 -0.21155472  0.90605072\n",
      "   1.03841887 -0.60027597  0.61679182  0.08543808  0.52918664  0.34485142\n",
      "   0.96951864]\n",
      " [ 0.08386836 -0.54209703 -0.95598597 -0.70848009  0.4733744   1.24062574\n",
      "   1.05897178 -0.68109488  0.70070907  0.01711517 -0.32334218  1.03993557\n",
      "   0.44937992]\n",
      " [ 0.88577112  0.77403763  0.64249992  0.13300967  0.4733744  -0.71663809\n",
      "  -1.44848245  1.09692124 -1.36365538  0.37581046  0.01766935 -1.08702191\n",
      "  -0.2170478 ]\n",
      " [-0.36720194 -0.75409188 -0.37471838  0.32935728 -1.37593422 -1.46943187\n",
      "  -0.52360179  1.74347255  0.01258759 -0.83265107  0.01766935 -0.75338152\n",
      "  -0.81845819]\n",
      " [-1.70788312 -0.34776842 -0.30205993 -0.4279835  -0.14306181  1.27408324\n",
      "   0.29851435 -1.57010295 -0.44056558 -0.74724743  0.87019816  0.49776993\n",
      "  -1.30608823]\n",
      " [ 0.52240893  1.34819033  0.42452457  0.97449943  0.13090984 -0.76682435\n",
      "  -1.25322986  0.53118883 -0.33986488  0.98217632 -1.09061811 -1.44846566\n",
      "   0.01051288]\n",
      " [ 0.64770623 -0.50676456  0.89680449  0.13300967 -0.28004763  0.45437445\n",
      "   0.65819016 -0.68109488  0.07972139 -0.63195251  0.6996924   1.69331466\n",
      "   0.31934525]\n",
      " [ 0.93589004 -0.78059123  1.22376752  0.83425114  0.06241693  1.24062574\n",
      "   1.31588307 -0.60027597  1.28812985  0.29894719  0.99807748  0.15022786\n",
      "   1.74972671]\n",
      " [-0.86839117  0.39421353 -0.52003528 -0.4279835  -0.82799093  0.32054445\n",
      "   0.2882379  -0.92355163  0.63357527 -1.21696746  0.82757172  0.97042715\n",
      "  -1.48488592]\n",
      " [-0.47996952 -0.92192113 -1.68257047 -0.28773521 -0.82799093 -1.35233062\n",
      "  -0.62636631 -0.60027597 -0.44056558 -1.08886199  0.35868087  0.23363796\n",
      "  -0.6006501 ]\n",
      " [-1.97100746 -1.45190824  0.49718302  0.41350626 -0.82799093  0.3707307\n",
      "   0.04160305  0.45036992 -0.28951453 -0.81984052  0.61443952 -0.40583945\n",
      "  -1.01676107]\n",
      " [ 0.82312246  0.63270773  0.71515837 -1.21337394  1.08981061  0.73876322\n",
      "   1.08980113 -1.57010295  0.07972139  0.04273626  0.01766935  1.05383725\n",
      "   0.31934525]\n",
      " [-0.47996952  0.06738815 -0.59269372 -0.28773521 -0.41703346 -1.06794186\n",
      "  -1.34571793  2.14756713 -1.12868707  0.89677268 -0.96273879 -1.4206623\n",
      "  -0.1682848 ]\n",
      " [-1.28187228 -1.14274909 -0.22940148  0.41350626  0.06241693  1.87631826\n",
      "   0.17519693 -1.8933786   0.06293794 -0.76432815  0.14554867  0.73409854\n",
      "   0.45263079]\n",
      " [-0.91851009  1.32169098 -0.59269372 -0.28773521  0.81583896 -1.46943187\n",
      "  -1.22240051 -0.60027597 -0.79301805  1.37076289 -1.30375031 -0.83679162\n",
      "   0.35185392]\n",
      " [ 1.65008468 -0.40960025  1.29642597  0.13300967  1.36378226  0.90605072\n",
      "   1.2028421  -0.27700031  0.60000837  0.51245629  0.48656019  0.06681777\n",
      "   1.73347237]\n",
      " [-0.12913706  0.53554343  0.13389077  0.13300967  0.26789566 -1.60326188\n",
      "  -0.77023663 -1.00437054 -1.31330503  0.17084172 -0.92011235 -1.64308922\n",
      "  -0.70467785]\n",
      " [ 0.6351765   1.06553054 -0.62902295 -0.00723862 -0.82799093 -1.06794186\n",
      "  -1.53069406  1.74347255 -1.22938777  0.29894719 -0.62172726 -1.08702191\n",
      "  -0.5421345 ]\n",
      " [ 0.72288462 -0.59509574 -0.19307225 -0.93287736  1.15830352  1.491557\n",
      "   1.35698888 -0.1961814   1.22099605  0.48256502 -0.02495709  1.08164061\n",
      "   0.1568019 ]\n",
      " [ 1.7002036  -0.6215951   1.22376752  1.5354926  -0.14306181  0.90605072\n",
      "  -0.67774857  1.33937798  1.82520028  3.41618011 -1.64476184 -0.89239835\n",
      "  -0.28206514]]\n",
      "[[ 2.21149203 -1.05277723]\n",
      " [-2.52006057 -1.91465404]\n",
      " [ 2.15876567  1.76313507]\n",
      " [ 2.49563025 -1.29460633]\n",
      " [-0.33853669  0.49658625]\n",
      " [ 1.2669397   0.05601624]\n",
      " [ 2.09128537 -1.58269101]\n",
      " [-3.04782168 -0.77052188]\n",
      " [-0.28263329  2.09843942]\n",
      " [-1.28698111  2.08700296]\n",
      " [-2.19290125 -0.39468987]\n",
      " [-4.14115028 -0.75108364]\n",
      " [ 3.11883667 -2.24642835]\n",
      " [ 2.3797614   1.25818413]\n",
      " [-2.17482453 -1.93089655]\n",
      " [ 0.85780879  3.28148694]\n",
      " [ 1.89745468 -1.50947513]\n",
      " [ 3.62313217 -2.66912488]\n",
      " [-1.73149393  0.77375177]\n",
      " [ 2.90109574 -0.85264802]\n",
      " [ 2.38835221  1.58055471]\n",
      " [ 1.19682677 -0.16528337]\n",
      " [ 0.99267577 -0.74573356]\n",
      " [ 0.50102839  2.01933491]\n",
      " [-1.46067909  1.36503132]\n",
      " [-0.15725947  1.86099259]\n",
      " [ 0.12605588  1.21949716]\n",
      " [-0.74869329  2.2833894 ]\n",
      " [-1.3192914   0.90946044]\n",
      " [-2.87020089 -1.57365591]\n",
      " [ 1.85418897 -0.81114693]\n",
      " [ 2.78985927 -1.50663137]\n",
      " [-1.68599596  1.11230773]\n",
      " [ 1.22190129 -1.83980144]\n",
      " [ 2.61551279 -1.1523315 ]\n",
      " [ 2.17995881 -0.0090912 ]\n",
      " [-2.19415564 -1.12554729]\n",
      " [-1.86363495  1.54812111]\n",
      " [ 1.03961416  2.16894175]\n",
      " [-2.5459131  -1.68940309]\n",
      " [ 1.80112571  0.29165489]\n",
      " [ 2.53962957 -1.24636582]\n",
      " [ 0.81680243  2.22228633]\n",
      " [-0.44028011  2.23072945]\n",
      " [-0.40387306  2.30209739]\n",
      " [ 2.12420386 -1.10724111]\n",
      " [-2.98428904 -0.36257187]\n",
      " [ 1.92351497  1.2781778 ]\n",
      " [-2.14525763 -1.09205364]\n",
      " [ 2.19082411 -2.28221501]\n",
      " [-2.30270495 -0.31946218]\n",
      " [-2.99303823 -0.41566806]\n",
      " [ 2.61147882 -0.81797247]\n",
      " [-1.07441211 -3.45884824]]\n"
     ]
    }
   ],
   "source": [
    "from sklearn.decomposition import PCA\n",
    "pca = PCA(n_components=2)\n",
    "x_train_pca = pca.fit_transform(x_train_std)\n",
    "x_test_pca = pca.transform(x_test_std)\n",
    "\n",
    "print(x_test_std)#13차원\n",
    "print(x_test_pca)#2차원"
   ]
  },
  {
   "cell_type": "code",
   "execution_count": 12,
   "metadata": {},
   "outputs": [
    {
     "data": {
      "text/plain": [
       "array([0.37329648, 0.18818926])"
      ]
     },
     "execution_count": 12,
     "metadata": {},
     "output_type": "execute_result"
    }
   ],
   "source": [
    "pca.explained_variance_ratio_"
   ]
  },
  {
   "cell_type": "code",
   "execution_count": 13,
   "metadata": {},
   "outputs": [
    {
     "data": {
      "image/png": "[encoded data removed]",
      "text/plain": [
       "<Figure size 432x288 with 1 Axes>"
      ]
     },
     "metadata": {
      "needs_background": "light"
     },
     "output_type": "display_data"
    }
   ],
   "source": [
    "plt.scatter(x_train_pca[:, 0], x_train_pca[:, 1])\n",
    "plt.xlabel('PC 1')\n",
    "plt.ylabel('PC 2')\n",
    "plt.show()"
   ]
  },
  {
   "cell_type": "code",
   "execution_count": 14,
   "metadata": {},
   "outputs": [
    {
     "data": {
      "text/plain": [
       "array([0.37329648, 0.18818926, 0.10896791, 0.07724389, 0.06478595,\n",
       "       0.04592014, 0.03986936, 0.02521914, 0.02258181, 0.01830924,\n",
       "       0.01635336, 0.01284271, 0.00642076])"
      ]
     },
     "execution_count": 14,
     "metadata": {},
     "output_type": "execute_result"
    }
   ],
   "source": [
    "pca2 = PCA()\n",
    "x_train_pca2 = pca2.fit_transform(x_train_std)\n",
    "pca2.explained_variance_ratio_"
   ]
  },
  {
   "cell_type": "markdown",
   "metadata": {},
   "source": [
    "### 13차원 원본 데이터와 2차원 축소데이터의 분석 비교"
   ]
  },
  {
   "cell_type": "code",
   "execution_count": 16,
   "metadata": {},
   "outputs": [],
   "source": [
    "import pandas as pd\n",
    "df_wine = pd.read_csv('https://archive.ics.uci.edu/ml/'\n",
    "                      'machine-learning-databases/wine/wine.data',\n",
    "                      header=None)\n",
    "df_wine.columns = ['Class label', 'Alcohol', 'Malic acid', 'Ash',\n",
    "                   'Alcalinity of ash', 'Magnesium', 'Total phenols',\n",
    "                   'Flavanoids', 'Nonflavanoid phenols', 'Proanthocyanins',\n",
    "                   'Color intensity', 'Hue',\n",
    "                   'OD280/OD315 of diluted wines', 'Proline']\n",
    "df_wine.head()\n",
    "y = df_wine['Class label']\n",
    "x = df_wine.iloc[:, 1:]\n",
    "\n",
    "from sklearn.model_selection import train_test_split\n",
    "x_train, x_test, y_train, y_test = train_test_split(x,y, test_size=0.3, random_state = 0)\n",
    "\n",
    "from sklearn.preprocessing import StandardScaler\n",
    "sc = StandardScaler()\n",
    "x_train_std = sc.fit_transform(x_train)\n",
    "x_test_std = sc.transform(x_test)\n",
    "\n",
    "from sklearn.decomposition import PCA\n",
    "pca = PCA(n_components=2)\n",
    "x_train_pca = pca.fit_transform(x_train_std)\n",
    "x_test_pca = pca.transform(x_test_std)"
   ]
  },
  {
   "cell_type": "code",
   "execution_count": 17,
   "metadata": {},
   "outputs": [
    {
     "name": "stdout",
     "output_type": "stream",
     "text": [
      "              precision    recall  f1-score   support\n",
      "\n",
      "           1       0.95      1.00      0.97        19\n",
      "           2       1.00      0.95      0.98        22\n",
      "           3       1.00      1.00      1.00        13\n",
      "\n",
      "    accuracy                           0.98        54\n",
      "   macro avg       0.98      0.98      0.98        54\n",
      "weighted avg       0.98      0.98      0.98        54\n",
      "\n",
      "              precision    recall  f1-score   support\n",
      "\n",
      "           1       1.00      1.00      1.00        19\n",
      "           2       1.00      1.00      1.00        22\n",
      "           3       1.00      1.00      1.00        13\n",
      "\n",
      "    accuracy                           1.00        54\n",
      "   macro avg       1.00      1.00      1.00        54\n",
      "weighted avg       1.00      1.00      1.00        54\n",
      "\n"
     ]
    }
   ],
   "source": [
    "from sklearn.linear_model import LogisticRegression\n",
    "\n",
    "log2 = LogisticRegression()\n",
    "log13 = LogisticRegression()\n",
    "log2.fit(x_train_pca, y_train)\n",
    "log13.fit(x_train_std, y_train)\n",
    "y_2 = log2.predict(x_test_pca)\n",
    "y_13 = log13.predict(x_test_std)\n",
    "from sklearn.metrics import classification_report\n",
    "report2 = classification_report(y_test, y_2)\n",
    "report13 = classification_report(y_test, y_13)\n",
    "print(report2)\n",
    "print(report13)"
   ]
  },
  {
   "cell_type": "code",
   "execution_count": 25,
   "metadata": {},
   "outputs": [
    {
     "data": {
      "text/plain": [
       "<matplotlib.collections.PathCollection at 0xe90ae08>"
      ]
     },
     "execution_count": 25,
     "metadata": {},
     "output_type": "execute_result"
    },
    {
     "data": {
      "image/png": "[encoded data removed]",
      "text/plain": [
       "<Figure size 432x288 with 3 Axes>"
      ]
     },
     "metadata": {
      "needs_background": "light"
     },
     "output_type": "display_data"
    }
   ],
   "source": [
    "import seaborn as sns\n",
    "import matplotlib.pyplot as plt\n",
    "fig, (a0,a1,a2) = plt.subplots(1,3)\n",
    "a0.scatter(x_test_pca[:, 0], x_test_pca[:, 1], c= y_test)\n",
    "a1.scatter(x_test_pca[:, 0], x_test_pca[:, 1], c= y_13)\n",
    "a2.scatter(x_test_pca[:, 0], x_test_pca[:, 1], c= y_2)"
   ]
  },
  {
   "cell_type": "code",
   "execution_count": 28,
   "metadata": {
    "collapsed": true
   },
   "outputs": [
    {
     "data": {
      "text/plain": [
       "array([-2.07333501e+00, -3.53632408e-01,  4.56186952e-01,  2.53732112e-01,\n",
       "       -1.15181643e+00, -8.35335303e-01,  1.60649427e-01,  3.58450132e-01,\n",
       "        5.88829778e-01,  1.10543868e+00,  9.19273310e-01, -3.25707603e-01,\n",
       "        1.28229578e+00,  1.08449508e+00,  7.72668081e-01,  1.91991217e+00,\n",
       "        1.95555434e-01,  3.23544126e-01,  6.65622993e-01, -1.14716230e+00,\n",
       "       -8.33008236e-01, -1.59395919e+00, -1.17043297e+00,  8.72731967e-01,\n",
       "        4.86438824e-01, -6.72440605e-01,  5.21344831e-01,  2.23480239e-01,\n",
       "        1.39166794e+00, -9.86594667e-01,  1.35443486e+00, -1.37215165e-01,\n",
       "        1.09147628e+00,  1.67091599e+00, -3.28034670e-01,  5.35307234e-01,\n",
       "        5.65559107e-01, -2.02373045e-01,  1.37537847e+00,  3.56123065e-01,\n",
       "        5.32980167e-01,  4.79457623e-01,  1.28462285e+00,  2.30461440e-01,\n",
       "        5.86502711e-01, -3.93192549e-01, -5.70049651e-01, -1.46523434e-01,\n",
       "       -1.08433149e+00,  7.00529000e-01,  5.37634301e-01, -6.86403007e-01,\n",
       "       -2.44260253e-01, -1.37215165e-01,  6.35371121e-01, -1.25579830e-01,\n",
       "       -1.67467038e-01,  5.35307234e-01,  4.73592923e-03, -1.74521855e+00,\n",
       "       -1.02615481e+00,  3.93356139e-01,  6.65622993e-01, -1.26351565e+00,\n",
       "        1.05889734e+00,  1.08216801e+00,  4.00337341e-01, -5.80948832e-02,\n",
       "       -4.56023362e-01, -6.51497000e-01,  4.70149355e-01, -1.08200442e+00,\n",
       "        1.21713790e+00, -8.14391699e-01, -6.44515799e-01,  8.38562115e-02,\n",
       "       -1.94301926e+00, -7.30617283e-01,  1.08914921e+00, -3.00109864e-01,\n",
       "        3.91029072e-01, -7.98102229e-01,  1.30789352e+00,  1.62902878e+00,\n",
       "       -8.46970639e-01, -1.79102374e-01,  5.05055361e-01,  1.23342737e+00,\n",
       "        5.84175644e-01, -9.42380391e-01,  1.10078455e+00,  8.07574088e-01,\n",
       "       -1.05407961e+00, -2.30297851e-01,  1.25743420e-01,  8.70404900e-01,\n",
       "       -3.37342938e-01,  1.51341158e-01, -1.50087650e+00,  1.11781017e-01,\n",
       "        1.32418299e+00, -1.36357954e+00,  2.86311052e-01,  2.56795334e-02,\n",
       "        8.17949781e-05, -8.67914243e-01, -2.23316649e-01, -1.74448240e-01,\n",
       "        8.85103458e-02,  4.58514019e-01, -5.35143644e-01,  3.42160663e-01,\n",
       "        8.38562115e-02,  2.09517836e-01, -8.05083431e-01,  5.21344831e-01,\n",
       "       -8.21372901e-01, -6.09609792e-01,  8.42480095e-01,  1.67630628e-01,\n",
       "       -1.97094406e+00, -5.04891771e-01,  2.11844903e-01, -1.95465459e+00,\n",
       "       -6.74767672e-01, -4.83948167e-01,  1.25669804e+00, -8.83467558e-02,\n",
       "       -6.74767672e-01,  1.35676193e+00, -1.39615848e+00,  4.42960704e-02,\n",
       "        5.23671898e-01, -1.24722618e+00,  6.09773382e-01,  7.40089141e-01,\n",
       "       -6.09609792e-01, -9.07474384e-01, -4.00173751e-01, -1.37288781e+00,\n",
       "       -1.70333134e+00, -2.88474529e-01, -4.60677496e-01, -7.84139827e-01,\n",
       "       -1.00521120e+00, -1.07967735e+00, -6.30553396e-01, -1.20925696e-01,\n",
       "       -9.56342794e-01, -3.21053468e-01,  3.46814797e-01,  3.28198260e-01,\n",
       "       -9.19109720e-01, -1.44502689e+00, -9.19109720e-01, -3.14072267e-01,\n",
       "        3.37506528e-01,  3.96419361e-02, -1.52414717e+00, -1.47295170e+00,\n",
       "        2.07190769e-01, -7.79485692e-01, -2.65203857e-01,  6.81912463e-01,\n",
       "        6.40025255e-01,  1.09453950e-01, -2.22924851e+00, -1.13944494e-01,\n",
       "        1.25437098e+00, -5.44451913e-01, -1.60559452e+00,  7.92020773e-02,\n",
       "       -1.72194788e+00, -1.06571495e+00, -9.63323995e-01, -1.12621869e+00,\n",
       "       -2.86147462e-01,  1.90901299e-01,  6.81912463e-01, -1.44968102e+00,\n",
       "        6.00465114e-01,  1.69418666e+00,  2.37442642e-01, -1.01684654e+00,\n",
       "        7.26126738e-01, -9.72632264e-01, -1.65139971e-01, -4.88602302e-01,\n",
       "       -4.42060959e-01, -7.88793961e-01,  8.91348504e-01,  4.93420026e-01,\n",
       "       -2.48914388e-01,  1.76167161e+00,  9.12292109e-01, -6.88730074e-01,\n",
       "        6.98201933e-01,  5.93483912e-01,  7.44743275e-01,  2.16499038e-01,\n",
       "        6.29126074e-02,  7.06299636e-03,  1.71745733e+00,  1.03795373e+00,\n",
       "       -1.60485837e-01, -6.07282725e-01, -4.69985765e-01,  2.25807306e-01,\n",
       "        7.56378611e-01, -1.48458703e+00,  6.63295926e-01, -8.13655544e-02,\n",
       "       -1.90737709e-01,  1.45915288e+00,  1.05191614e+00, -5.49106047e-01,\n",
       "       -2.18662515e-01, -4.21117355e-01,  5.28326033e-01,  3.06715627e+00,\n",
       "       -1.42641035e+00, -1.25420739e+00, -4.09482019e-01,  2.23480239e-01,\n",
       "       -5.28162443e-01, -1.35427127e+00, -8.91184914e-01, -8.79549579e-01,\n",
       "        1.08914921e+00,  7.07510201e-01, -4.87866147e-02,  1.81286709e+00,\n",
       "        3.37898326e+00,  1.98274299e+00, -7.86466894e-01,  4.56186952e-01,\n",
       "        1.78726935e+00,  5.05055361e-01,  1.99205126e+00,  4.65188898e+00,\n",
       "       -8.58605975e-01, -9.88921734e-01, -2.55895589e-01,  1.04260787e+00,\n",
       "        9.79777055e-01,  1.32724621e-01, -4.32752691e-01, -1.20533898e+00,\n",
       "        1.38003260e+00, -1.01451947e+00,  9.93739458e-01, -1.95391844e-01,\n",
       "        1.23416353e-01, -5.14200040e-01,  9.39006348e-03, -5.21181241e-01,\n",
       "        2.20614143e+00, -4.69985765e-01,  9.09965041e-01,  3.32080658e+00,\n",
       "        1.80821295e+00,  8.77386102e-01,  6.60968859e-01,  2.10253991e-02,\n",
       "        6.47006456e-01,  2.75300221e+00, -7.90384873e-02,  5.93483912e-01,\n",
       "       -7.16654880e-01,  2.56059179e-01, -5.74703785e-01, -1.45433516e+00,\n",
       "        3.95683206e-01, -8.42316505e-01,  1.20782963e+00, -4.49042160e-01,\n",
       "       -1.19370364e+00,  1.60649427e-01, -3.37342938e-01, -9.56342794e-01,\n",
       "        1.70116786e+00, -1.22628258e+00, -2.58222656e-01, -1.20925696e-01,\n",
       "       -8.35335303e-01, -2.07027179e-01,  3.42160663e-01, -1.43571862e+00,\n",
       "        1.55995292e-01, -9.30008901e-02,  1.02472749e-01, -4.41324804e-02,\n",
       "       -7.60869155e-01, -4.25771489e-01, -1.28213219e+00, -1.40081262e+00,\n",
       "       -1.61490279e+00, -2.67530925e-01, -2.60549723e-01,  8.84367303e-01,\n",
       "       -9.06738230e-02,  1.39705823e-01,  1.06355147e+00, -1.58158770e-01,\n",
       "       -2.62876790e-01,  1.21015670e+00, -8.07410498e-01, -1.13785403e+00,\n",
       "       -1.53112837e+00, -1.26816979e+00, -4.18054133e-02, -8.37662371e-01,\n",
       "       -1.37754194e+00, -1.99421473e+00, -1.60485837e-01, -5.67722584e-01,\n",
       "       -1.21232018e+00, -9.76550243e-02, -9.06738230e-02, -5.32816577e-01,\n",
       "       -7.23636081e-01,  8.61832787e-02, -1.38917728e+00,  5.16690697e-01,\n",
       "       -9.49361593e-01, -4.63004563e-01, -1.49156823e+00, -3.16399334e-01,\n",
       "        3.30525327e-01,  6.02792181e-01, -8.79549579e-01,  1.40441977e-02,\n",
       "        1.32724621e-01, -1.04942548e+00, -6.27490174e-02,  3.98010274e-01,\n",
       "       -1.17741417e+00,  4.98074160e-01, -4.09482019e-01,  1.15896122e+00,\n",
       "       -6.39861665e-01, -5.70049651e-01, -1.00753827e+00,  5.56250838e-01,\n",
       "       -8.93511982e-01, -1.06571495e+00, -9.06738230e-02, -1.05873375e+00,\n",
       "       -7.58542088e-01, -1.00753827e+00, -5.16527107e-01, -1.62076749e-02,\n",
       "       -4.25771489e-01,  1.50104009e+00, -1.21464725e+00, -5.11136818e-02,\n",
       "       -1.62812904e-01, -7.16654880e-01, -8.84203713e-01, -2.25643716e-01,\n",
       "       -2.83820394e-01,  5.30653100e-01, -1.04636226e-01, -2.32624918e-01,\n",
       "       -5.44451913e-01,  5.79521509e-01,  1.75469041e+00, -2.95455730e-01,\n",
       "       -4.74639899e-01,  6.07446315e-01,  9.30908646e-01, -1.41477502e+00,\n",
       "       -9.74959331e-01, -4.51369228e-01, -7.49233820e-01, -7.49233820e-01,\n",
       "        2.16499038e-01,  2.07582567e+00, -9.63323995e-01, -1.06963293e-01,\n",
       "       -1.47295170e+00, -1.01451947e+00,  7.98265819e-01, -4.21117355e-01,\n",
       "       -1.29609459e+00,  9.30908646e-01, -1.20999311e+00, -7.28290216e-01,\n",
       "       -8.81876646e-01,  9.12292109e-01, -1.64515466e+00, -5.70049651e-01,\n",
       "        1.58322360e-01,  6.95874866e-01, -3.65267744e-01, -4.90929369e-01,\n",
       "       -9.30008901e-02, -4.25771489e-01, -1.03779014e+00, -4.72312832e-01,\n",
       "        4.02664408e-01, -1.95000046e+00, -2.32624918e-01, -7.25963148e-01,\n",
       "       -1.00986534e+00, -1.62812904e-01, -1.03080894e+00,  4.84111757e-01,\n",
       "        3.18889991e-01, -3.18726401e-01, -4.00173751e-01, -5.72376718e-01,\n",
       "        5.56250838e-01,  6.56314725e-01,  2.44815641e+00,  4.37570415e-01,\n",
       "        5.60904972e-01,  4.16626811e-01, -1.65679000e+00,  4.93420026e-01,\n",
       "       -5.80948832e-02, -1.23559085e+00, -7.60869155e-01, -3.71512790e-02,\n",
       "       -3.94783462e-02,  4.63168153e-01, -1.00288414e+00,  6.26062852e-01,\n",
       "       -6.21245128e-01, -3.76903080e-01,  7.54051544e-01, -3.74576012e-01,\n",
       "        5.82584731e-02,  6.23735785e-01, -5.46778980e-01,  7.68750102e-02,\n",
       "        5.82584731e-02, -7.70177424e-01,  7.22208759e-02, -8.44643572e-01,\n",
       "       -4.86275234e-01,  1.42657394e+00, -8.14391699e-01, -2.25643716e-01,\n",
       "       -5.67722584e-01,  1.30323939e+00,  2.03393846e+00, -3.79230147e-01,\n",
       "        1.17171306e-02,  2.86311052e-01,  5.23671898e-01,  1.32883712e+00,\n",
       "        2.08047981e+00, -1.23559085e+00, -4.97910570e-01,  2.65991952e+00,\n",
       "        2.32714892e+00,  1.38701380e+00,  1.35908900e+00,  2.07349860e+00,\n",
       "        1.82915656e+00,  1.62437465e+00,  1.79192348e+00, -2.16335448e-01,\n",
       "       -2.48914388e-01,  1.95555434e-01,  3.37506528e-01, -2.76839193e-01,\n",
       "        9.40216914e-01, -2.58222656e-01, -1.86083575e-01,  2.05953620e+00,\n",
       "       -1.01451947e+00,  2.48538949e+00, -8.53951840e-01, -8.28354102e-01,\n",
       "        2.88638119e-01, -6.21245128e-01, -1.09363975e+00,  5.12772718e-02,\n",
       "       -2.93128663e-01, -1.15535407e-02, -1.21697431e+00, -3.83884281e-01,\n",
       "       -1.86389897e+00, -6.70113537e-01, -5.67722584e-01, -1.09290360e-01,\n",
       "       -7.25963148e-01,  2.11844903e-01,  7.33107940e-01, -1.41012088e+00,\n",
       "        2.95619320e-01, -1.50320357e+00,  2.90965186e-01,  2.14171971e-01,\n",
       "       -2.60549723e-01, -4.60677496e-01, -4.11809086e-01,  4.53859885e-01,\n",
       "       -5.93320322e-01,  1.21015670e+00, -6.91057142e-01,  1.25743420e-01,\n",
       "       -1.49389530e+00, -1.43106449e+00,  1.74611829e-01, -5.04891771e-01,\n",
       "       -8.35335303e-01,  1.08449508e+00, -1.07036908e+00, -1.06804202e+00,\n",
       "        2.86311052e-01, -1.31005700e+00, -5.11136818e-02, -1.58158770e-01,\n",
       "        3.00273454e-01,  2.25807306e-01, -2.48914388e-01, -6.02628591e-01,\n",
       "       -1.25420739e+00,  5.37634301e-01,  1.25743420e-01, -1.41869300e-01,\n",
       "       -8.39989438e-01, -1.44037276e+00, -1.25579830e-01, -1.63351933e+00,\n",
       "       -1.42408329e+00, -1.36125247e+00, -4.02500818e-01,  1.69957695e-01,\n",
       "       -6.88730074e-01,  3.21217058e-01, -3.88538415e-01,  3.65431334e-01,\n",
       "        7.58705678e-01,  1.19852137e+00,  1.44286341e+00,  1.43122808e+00,\n",
       "       -1.12854576e+00,  1.32651006e+00,  1.42657394e+00,  2.04091966e+00,\n",
       "        3.28198260e-01,  9.16946243e-01, -6.84075940e-01, -6.30553396e-01,\n",
       "        1.17171306e-02,  1.14499882e+00,  5.09709496e-01,  7.33107940e-01,\n",
       "        2.35972786e+00,  6.16754583e-01,  2.24104744e+00,  1.93620164e+00,\n",
       "        6.98938088e-02,  1.99903246e+00,  7.88957551e-01,  1.07984094e+00,\n",
       "        1.82915656e+00,  2.34576546e+00,  2.63664885e+00,  1.34978073e+00,\n",
       "        7.21472604e-01,  2.08513394e+00,  2.04557380e+00,  2.33645719e+00,\n",
       "        1.22179204e+00])"
      ]
     },
     "execution_count": 28,
     "metadata": {},
     "output_type": "execute_result"
    }
   ],
   "source": [
    "from sklearn.datasets import load_breast_cancer\n",
    "cancer = load_breast_cancer()\n",
    "x = cancer.data\n",
    "y = cancer.target\n",
    "\n",
    "scaler = StandardScaler()\n",
    "x_std = scaler.fit_transform(x)\n",
    "x_std[:, 1]\n"
   ]
  },
  {
   "cell_type": "code",
   "execution_count": 29,
   "metadata": {},
   "outputs": [
    {
     "data": {
      "text/plain": [
       "array([[ 9.19283683,  1.94858307],\n",
       "       [ 2.3878018 , -3.76817174],\n",
       "       [ 5.73389628, -1.0751738 ],\n",
       "       ...,\n",
       "       [ 1.25617928, -1.90229671],\n",
       "       [10.37479406,  1.67201011],\n",
       "       [-5.4752433 , -0.67063679]])"
      ]
     },
     "execution_count": 29,
     "metadata": {},
     "output_type": "execute_result"
    }
   ],
   "source": [
    "from sklearn.decomposition import PCA\n",
    "pca = PCA(n_components=2)\n",
    "pca.fit(x_std)\n",
    "x_pca = pca.transform(x_std)\n",
    "x_pca"
   ]
  },
  {
   "cell_type": "code",
   "execution_count": 30,
   "metadata": {},
   "outputs": [
    {
     "data": {
      "text/plain": [
       "(569, 30)"
      ]
     },
     "execution_count": 30,
     "metadata": {},
     "output_type": "execute_result"
    }
   ],
   "source": [
    "x_std.shape"
   ]
  },
  {
   "cell_type": "code",
   "execution_count": 31,
   "metadata": {},
   "outputs": [
    {
     "data": {
      "text/plain": [
       "(569, 2)"
      ]
     },
     "execution_count": 31,
     "metadata": {},
     "output_type": "execute_result"
    }
   ],
   "source": [
    "x_pca.shape"
   ]
  },
  {
   "cell_type": "code",
   "execution_count": 33,
   "metadata": {},
   "outputs": [
    {
     "name": "stderr",
     "output_type": "stream",
     "text": [
      "C:\\Users\\103-04\\Anaconda3\\lib\\site-packages\\sklearn\\externals\\six.py:31: FutureWarning: The module is deprecated in version 0.21 and will be removed in version 0.23 since we've dropped support for Python 2.7. Please rely on the official version of six (https://pypi.org/project/six/).\n",
      "  \"(https://pypi.org/project/six/).\", FutureWarning)\n",
      "C:\\Users\\103-04\\Anaconda3\\lib\\site-packages\\sklearn\\externals\\joblib\\__init__.py:15: FutureWarning: sklearn.externals.joblib is deprecated in 0.21 and will be removed in 0.23. Please import this functionality directly from joblib, which can be installed with: pip install joblib. If this warning is raised when loading pickled models, you may need to re-serialize those models with scikit-learn 0.21+.\n",
      "  warnings.warn(msg, category=FutureWarning)\n"
     ]
    }
   ],
   "source": [
    "import mglearn"
   ]
  },
  {
   "cell_type": "code",
   "execution_count": 35,
   "metadata": {},
   "outputs": [
    {
     "data": {
      "text/plain": [
       "[<matplotlib.lines.Line2D at 0x11a034c8>,\n",
       " <matplotlib.lines.Line2D at 0xec86f08>]"
      ]
     },
     "execution_count": 35,
     "metadata": {},
     "output_type": "execute_result"
    },
    {
     "data": {
      "image/png": "[encoded data removed]",
      "text/plain": [
       "<Figure size 432x288 with 1 Axes>"
      ]
     },
     "metadata": {
      "needs_background": "light"
     },
     "output_type": "display_data"
    }
   ],
   "source": [
    "mglearn.discrete_scatter(x_pca[:,0], x_pca[:,1], cancer.target)"
   ]
  },
  {
   "cell_type": "code",
   "execution_count": 36,
   "metadata": {},
   "outputs": [
    {
     "name": "stdout",
     "output_type": "stream",
     "text": [
      "              precision    recall  f1-score   support\n",
      "\n",
      "           0       0.98      0.96      0.97        52\n",
      "           1       0.98      0.99      0.98        91\n",
      "\n",
      "    accuracy                           0.98       143\n",
      "   macro avg       0.98      0.98      0.98       143\n",
      "weighted avg       0.98      0.98      0.98       143\n",
      "\n"
     ]
    }
   ],
   "source": [
    "x_train, x_test, y_train, y_test = train_test_split(x_std, y)\n",
    "log = LogisticRegression()\n",
    "log.fit(x_train, y_train)\n",
    "predictions = log.predict(x_test)\n",
    "print(classification_report(y_test, predictions))"
   ]
  },
  {
   "cell_type": "code",
   "execution_count": 37,
   "metadata": {},
   "outputs": [
    {
     "name": "stdout",
     "output_type": "stream",
     "text": [
      "              precision    recall  f1-score   support\n",
      "\n",
      "           0       1.00      0.87      0.93        62\n",
      "           1       0.91      1.00      0.95        81\n",
      "\n",
      "    accuracy                           0.94       143\n",
      "   macro avg       0.96      0.94      0.94       143\n",
      "weighted avg       0.95      0.94      0.94       143\n",
      "\n"
     ]
    }
   ],
   "source": [
    "x_train, x_test, y_train, y_test = train_test_split(x_pca, y)\n",
    "log = LogisticRegression()\n",
    "log.fit(x_train, y_train)\n",
    "predictions = log.predict(x_test)\n",
    "print(classification_report(y_test, predictions))"
   ]
  },
  {
   "cell_type": "code",
   "execution_count": null,
   "metadata": {},
   "outputs": [],
   "source": []
  },
  {
   "cell_type": "code",
   "execution_count": null,
   "metadata": {},
   "outputs": [],
   "source": []
  }
 ],
 "metadata": {
  "kernelspec": {
   "display_name": "Python 3",
   "language": "python",
   "name": "python3"
  },
  "language_info": {
   "codemirror_mode": {
    "name": "ipython",
    "version": 3
   },
   "file_extension": ".py",
   "mimetype": "text/x-python",
   "name": "python",
   "nbconvert_exporter": "python",
   "pygments_lexer": "ipython3",
   "version": "3.7.4"
  }
 },
 "nbformat": 4,
 "nbformat_minor": 4
}
