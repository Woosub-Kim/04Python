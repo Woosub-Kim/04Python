{
 "cells": [
  {
   "cell_type": "markdown",
   "metadata": {},
   "source": [
    "# 꿀팁들\n",
    "idxmin(), idxmax() 최솟값,최댓값의 idx를 출력   \n",
    "nsmallest(정수, 컬럼명) nlargest(정수, 컬럼명) 가장 작은(큰) n개의 row를 출력            \n",
    "\n",
    "df.sample(frac=0.1) 해당비율의 row를 임의추출        \n",
    "df.sample(frac=0.1, replace=True) 1해당비율의 row를 임의추출(복원추출)     \n",
    "df.sample(n=3)  해당갯수의 row를 임의추출       \n",
    "\n",
    "r = s.rolling(window=3)    \n",
    "sm = r.mean()윈도우의 수만큼 이동하여 평균 최대 최소를 계산    \n",
    " \n",
    "omh.MSFT.pct_change(1)숫자만큼 이전 행의 데이터와 변화량을 비교한다    \n",
    "\n",
    "pd.cut(데이터, 구간) 데이터를 주어진 구간으로 나누어줌      \n",
    "pd.qcut(데이터, 구간) 데이터를 주어진 갯수로 나누어줌          \n",
    "cumsum() 누적합     \n",
    "\n",
    "s.nunique() unque + count   \n",
    "s.nunique(dropna=False)  nan데이터도 포함  \n",
    " \n"
   ]
  },
  {
   "cell_type": "markdown",
   "metadata": {},
   "source": [
    "# np.random\n",
    "np.random.randint() 해당 범위에서 한개의 정수형 난수 생성    \n",
    "np.random.rand() 0~1사이의 균일분포에서 난수 matrix array생성    \n",
    "np.random.randn() 표준정규분포에서 난수 matrix array생성    "
   ]
  },
  {
   "cell_type": "code",
   "execution_count": null,
   "metadata": {},
   "outputs": [],
   "source": []
  }
 ],
 "metadata": {
  "kernelspec": {
   "display_name": "Python 3",
   "language": "python",
   "name": "python3"
  },
  "language_info": {
   "codemirror_mode": {
    "name": "ipython",
    "version": 3
   },
   "file_extension": ".py",
   "mimetype": "text/x-python",
   "name": "python",
   "nbconvert_exporter": "python",
   "pygments_lexer": "ipython3",
   "version": "3.7.4"
  }
 },
 "nbformat": 4,
 "nbformat_minor": 4
}
