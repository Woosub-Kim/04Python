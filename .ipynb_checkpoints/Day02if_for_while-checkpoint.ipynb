{
 "cells": [
  {
   "cell_type": "markdown",
   "metadata": {},
   "source": [
    "# if/for/while"
   ]
  },
  {
   "cell_type": "markdown",
   "metadata": {},
   "source": [
    "# if"
   ]
  },
  {
   "cell_type": "code",
   "execution_count": 3,
   "metadata": {},
   "outputs": [
    {
     "name": "stdout",
     "output_type": "stream",
     "text": [
      "성적을 입력하세요30\n",
      "수고하셨습니다.\n"
     ]
    }
   ],
   "source": [
    "#성적을 입력받은 후 70점 이상이면 '축하합니다', 70점 미만이면 '수고하셨습니다'를 출력\n",
    "\n",
    "score = int(input('성적을 입력하세요: '))\n",
    "if score >= 70:\n",
    "    print('축하합니다')\n",
    "else:\n",
    "    print('수고하셨습니다.')"
   ]
  },
  {
   "cell_type": "code",
   "execution_count": 5,
   "metadata": {},
   "outputs": [
    {
     "name": "stdout",
     "output_type": "stream",
     "text": [
      "비밀번호를 입력하세요: 2222\n",
      "비밀번호가 틀립니다.\n"
     ]
    }
   ],
   "source": [
    "#pw가 1234, 패스워드를 입력받은 후 일치하면 '환영합니다.''\n",
    "#일치하지 않으면 '비밀 번호가 틀립니다'가 출력되도록\n",
    "\n",
    "pw = 1234\n",
    "userinput = int(input('비밀번호를 입력하세요: '))\n",
    "if userinput == pw:\n",
    "    print('환영합니다')\n",
    "else:\n",
    "    print('비밀번호가 틀립니다.')\n"
   ]
  },
  {
   "cell_type": "code",
   "execution_count": 10,
   "metadata": {},
   "outputs": [
    {
     "name": "stdout",
     "output_type": "stream",
     "text": [
      "정수를 입력하세요-50\n",
      "50\n",
      "50\n"
     ]
    }
   ],
   "source": [
    "#정수를 입력받은 후 절대값을 반환하도록\n",
    "\n",
    "integer = int(input('정수를 입력하세요'))\n",
    "if integer >0:\n",
    "    print(integer)\n",
    "else:\n",
    "    print(-1*integer)\n",
    "\n",
    "print(abs(integer))"
   ]
  },
  {
   "cell_type": "code",
   "execution_count": 14,
   "metadata": {},
   "outputs": [
    {
     "name": "stdout",
     "output_type": "stream",
     "text": [
      "a를 입력: 2\n",
      "b를 입력: 2\n",
      "a와 b가 같습니다\n"
     ]
    }
   ],
   "source": [
    "#두 정수를 입력받은 후 \n",
    "#a가 b보다 크면 'a가 b보다 큽니다.'\n",
    "#a가 b보다 작으면 'a가 b보다 작습니다.'\n",
    "#a와 b가 같으면 'a와 b가 같습니다'를 출력\n",
    "\n",
    "a = int(input('a를 입력: '))\n",
    "b = int(input('b를 입력: '))\n",
    "if a > b:\n",
    "    print('a가 b보다 큽니다')\n",
    "elif a < b:\n",
    "    print('a가 b보다 작습니다.')\n",
    "else:\n",
    "    print('a와 b가 같습니다')\n",
    "\n"
   ]
  },
  {
   "cell_type": "code",
   "execution_count": 16,
   "metadata": {},
   "outputs": [
    {
     "name": "stdout",
     "output_type": "stream",
     "text": [
      "정수입력: 2\n",
      "짝수입니다\n"
     ]
    }
   ],
   "source": [
    "#임의의 정수를 입력받은 후 짝수이면 짝수입니다 홀수이면 홀수입니다 출력\n",
    "\n",
    "c = int(input('정수입력: '))\n",
    "if c %2 ==0:\n",
    "    print('짝수입니다')\n",
    "else:\n",
    "    print('홀수입니다')"
   ]
  },
  {
   "cell_type": "code",
   "execution_count": 21,
   "metadata": {},
   "outputs": [
    {
     "name": "stdout",
     "output_type": "stream",
     "text": [
      "점수를 입력하기: 77\n",
      "C\n"
     ]
    }
   ],
   "source": [
    "#정수를 입력받은 후 학점출력하기\n",
    "#90이상 A 80이상 B 그 외 C \n",
    "\n",
    "score = int(input('점수를 입력하기: '))\n",
    "if score >= 90:\n",
    "    print('A')\n",
    "elif score >=80:\n",
    "    print('B')\n",
    "else:\n",
    "    print('C')"
   ]
  },
  {
   "cell_type": "markdown",
   "metadata": {},
   "source": [
    "# for"
   ]
  },
  {
   "cell_type": "code",
   "execution_count": 34,
   "metadata": {},
   "outputs": [
    {
     "name": "stdout",
     "output_type": "stream",
     "text": [
      "h e l l o   w o r l d "
     ]
    }
   ],
   "source": [
    "#string 타입\n",
    "text = 'hello world'\n",
    "for i in text:\n",
    "    print(i, end=' ')"
   ]
  },
  {
   "cell_type": "code",
   "execution_count": 38,
   "metadata": {},
   "outputs": [
    {
     "name": "stdout",
     "output_type": "stream",
     "text": [
      "H E L L O   W O R L D "
     ]
    }
   ],
   "source": [
    "#text에서 for문을 이용하여 문자를 대문자로 전환하기\n",
    "for i in text:\n",
    "    print(i.upper(), end=' ')"
   ]
  },
  {
   "cell_type": "code",
   "execution_count": 40,
   "metadata": {},
   "outputs": [
    {
     "name": "stdout",
     "output_type": "stream",
     "text": [
      "['H', 'E', 'L', 'L', 'O', ' ', 'W', 'O', 'R', 'L', 'D']\n"
     ]
    }
   ],
   "source": [
    "#text에서 for문을 활용, 문자를 대문자로 바꾸어 리스트에 담기\n",
    "list1 = []\n",
    "for i in text:\n",
    "    list1.append(i.upper())\n",
    "print(list1)"
   ]
  },
  {
   "cell_type": "code",
   "execution_count": 46,
   "metadata": {},
   "outputs": [
    {
     "name": "stdout",
     "output_type": "stream",
     "text": [
      "[0, 3, 6, 9, 12, 15, 18]\n"
     ]
    }
   ],
   "source": [
    "#0부터 20까지의 정수에서 3의 배수만 리스트에 담기\n",
    "\n",
    "list2 = []\n",
    "for i in range(21):\n",
    "    if i%3 == 0:\n",
    "        list2.append(i)\n",
    "\n",
    "print(list2)"
   ]
  },
  {
   "cell_type": "code",
   "execution_count": 49,
   "metadata": {},
   "outputs": [
    {
     "name": "stdout",
     "output_type": "stream",
     "text": [
      "['h', 'l', 'o', 'w', 'r', 'd']\n"
     ]
    }
   ],
   "source": [
    "text = 'hello world'\n",
    "#text에서 짝수 인덱스만 리스트에 담기\n",
    "list3 = []\n",
    "for i in range(len(text)):\n",
    "    if i%2==0:\n",
    "        list3.append(text[i])\n",
    "print(list3)"
   ]
  },
  {
   "cell_type": "code",
   "execution_count": 52,
   "metadata": {},
   "outputs": [
    {
     "name": "stdout",
     "output_type": "stream",
     "text": [
      "['h', 'l', 'o', 'w', 'r', 'd']\n"
     ]
    }
   ],
   "source": [
    "list4 = []\n",
    "for i,j in enumerate(text):\n",
    "    if i%2==0:\n",
    "        list4.append(j)\n",
    "print(list4)"
   ]
  },
  {
   "cell_type": "code",
   "execution_count": 53,
   "metadata": {},
   "outputs": [
    {
     "name": "stdout",
     "output_type": "stream",
     "text": [
      "['h', 'l', 'o', 'w', 'r', 'd']\n"
     ]
    }
   ],
   "source": [
    "list5 = []\n",
    "for i in range(0,len(text), 2):   \n",
    "    list5.append(text[i])\n",
    "print(list5)"
   ]
  },
  {
   "cell_type": "code",
   "execution_count": 64,
   "metadata": {},
   "outputs": [
    {
     "name": "stdout",
     "output_type": "stream",
     "text": [
      "['e', 'o', 'o']\n"
     ]
    }
   ],
   "source": [
    "#text에서 모음만 추출해서 리스트에 담기\n",
    "text = 'hello world'\n",
    "list6 = []\n",
    "for i in text:\n",
    "    if i in ['a','e','i','o','u']:\n",
    "        list6.append(i)\n",
    "print(list6)"
   ]
  },
  {
   "cell_type": "code",
   "execution_count": 57,
   "metadata": {},
   "outputs": [
    {
     "name": "stdout",
     "output_type": "stream",
     "text": [
      "['o', 'u', 'a', 'i', 'o', 'a', 'i']\n"
     ]
    }
   ],
   "source": [
    "text = 'computaional think'\n",
    "vow = 'aeiou'\n",
    "list7 = []\n",
    "for i in text:\n",
    "    if i in vow:\n",
    "        list7.append(i)\n",
    "print(list7)"
   ]
  },
  {
   "cell_type": "code",
   "execution_count": 73,
   "metadata": {},
   "outputs": [
    {
     "name": "stdout",
     "output_type": "stream",
     "text": [
      "['mountains', 'river', 'cloud', 'tree', 'lake', 'country']\n"
     ]
    }
   ],
   "source": [
    "#words에서 글자 수가 4 이상인 단어만 추출\n",
    "\n",
    "words = ['mountains', 'sea', 'sky', 'river', 'cloud', 'tree', 'lake', 'country']\n",
    "list8 = []\n",
    "for i in words:\n",
    "    if len(i)>=4:\n",
    "        list8.append(i)\n",
    "print(list8)"
   ]
  },
  {
   "cell_type": "code",
   "execution_count": 80,
   "metadata": {},
   "outputs": [
    {
     "name": "stdout",
     "output_type": "stream",
     "text": [
      "[('a', 8), ('a', 5), ('a', 4), ('a', 2), ('a', 7), ('b', 8), ('b', 5), ('b', 4), ('b', 2), ('b', 7), ('c', 8), ('c', 5), ('c', 4), ('c', 2), ('c', 7)]\n"
     ]
    }
   ],
   "source": [
    "num1 = ['a', 'b', 'c']\n",
    "num2 = [8, 5, 4, 2, 7]\n",
    "\n",
    "#모든 튜플조합을 L이라는 리스트에 담으세요 \n",
    "#ex)[('a', 8), ('a', 5), ('a', 4), ..., ('c', 2), ('c', 7)]\n",
    "\n",
    "L = []\n",
    "for i in num1:\n",
    "    for j in num2:\n",
    "        L.append((i,j))\n",
    "print(L)"
   ]
  },
  {
   "cell_type": "markdown",
   "metadata": {},
   "source": [
    "# List comprehension"
   ]
  },
  {
   "cell_type": "code",
   "execution_count": 85,
   "metadata": {},
   "outputs": [
    {
     "name": "stdout",
     "output_type": "stream",
     "text": [
      "[0, 1, 2, 3, 4, 5, 6, 7, 8, 9]\n",
      "[0, 1, 2, 3, 4, 5, 6, 7, 8, 9]\n"
     ]
    }
   ],
   "source": [
    "#list안에 for문의 결과가 담겨서 나옴\n",
    "L = []\n",
    "for i in range(10):\n",
    "    L.append(i)\n",
    "print(L)\n",
    "print([j for j in range(10)])"
   ]
  },
  {
   "cell_type": "code",
   "execution_count": 87,
   "metadata": {},
   "outputs": [
    {
     "name": "stdout",
     "output_type": "stream",
     "text": [
      "[('a', 8), ('a', 5), ('a', 4), ('a', 2), ('a', 7), ('b', 8), ('b', 5), ('b', 4), ('b', 2), ('b', 7), ('c', 8), ('c', 5), ('c', 4), ('c', 2), ('c', 7)]\n"
     ]
    }
   ],
   "source": [
    "print([(i,j)for i in num1 for j in num2])"
   ]
  },
  {
   "cell_type": "code",
   "execution_count": 90,
   "metadata": {},
   "outputs": [
    {
     "name": "stdout",
     "output_type": "stream",
     "text": [
      "[0, 2, 4, 6, 8]\n"
     ]
    }
   ],
   "source": [
    "print([i for i in range(10) if i%2==0])"
   ]
  },
  {
   "cell_type": "code",
   "execution_count": 96,
   "metadata": {},
   "outputs": [
    {
     "name": "stdout",
     "output_type": "stream",
     "text": [
      "7\n",
      "66\n"
     ]
    }
   ],
   "source": [
    "#짝수의 갯수를 구하시오\n",
    "#짝수의 합을 구하시오\n",
    "temp = [1,6,9,8,5,2,1,4,7,8,5,2,36,45]\n",
    "count = 0\n",
    "hap = 0\n",
    "for i in temp:\n",
    "    if i%2==0:\n",
    "        count += 1\n",
    "        hap += i\n",
    "print(count)\n",
    "print(hap)\n"
   ]
  },
  {
   "cell_type": "code",
   "execution_count": 97,
   "metadata": {},
   "outputs": [
    {
     "name": "stdout",
     "output_type": "stream",
     "text": [
      "5050\n"
     ]
    }
   ],
   "source": [
    "#1~100까지 합 구하기\n",
    "hap = 0\n",
    "for i in range(101):\n",
    "    hap += i\n",
    "print(hap)"
   ]
  },
  {
   "cell_type": "code",
   "execution_count": 99,
   "metadata": {},
   "outputs": [
    {
     "name": "stdout",
     "output_type": "stream",
     "text": [
      "짝수 합: 2550\n",
      "홀수 합: 2500\n"
     ]
    }
   ],
   "source": [
    "#1~100까지 수에서 짝수의 합과 홀수의 합을 구하시오\n",
    "evenSum = 0\n",
    "oddSum = 0\n",
    "for i in range(1,101):\n",
    "    if i%2==0:\n",
    "        evenSum +=i\n",
    "    else:\n",
    "        oddSum +=i\n",
    "print(\"짝수 합:\", evenSum)\n",
    "print(\"홀수 합:\", oddSum)"
   ]
  },
  {
   "cell_type": "code",
   "execution_count": 101,
   "metadata": {},
   "outputs": [
    {
     "name": "stdout",
     "output_type": "stream",
     "text": [
      "20\n"
     ]
    }
   ],
   "source": [
    "score = {'a':5, 'b':3, 'c':8, 'd':4}\n",
    "#value의 합을 구하시오\n",
    "sum1 = 0\n",
    "for j in score.values():\n",
    "    sum1 += j\n",
    "print(sum1)"
   ]
  },
  {
   "cell_type": "code",
   "execution_count": 102,
   "metadata": {},
   "outputs": [
    {
     "name": "stdout",
     "output_type": "stream",
     "text": [
      "20\n"
     ]
    }
   ],
   "source": [
    "sum2 = 0\n",
    "for i in score:\n",
    "    sum2 +=score[i]\n",
    "print(sum2)"
   ]
  },
  {
   "cell_type": "code",
   "execution_count": 107,
   "metadata": {},
   "outputs": [
    {
     "name": "stdout",
     "output_type": "stream",
     "text": [
      "20\n"
     ]
    }
   ],
   "source": [
    "sum3 = sum(score.values())\n",
    "print(sum3)"
   ]
  },
  {
   "cell_type": "code",
   "execution_count": 114,
   "metadata": {},
   "outputs": [
    {
     "name": "stdout",
     "output_type": "stream",
     "text": [
      "{'a': 1, 'b': 2, 'c': 3, 'd': 4}\n",
      "{'a': 1, 'b': 2, 'c': 3, 'd': 4}\n"
     ]
    }
   ],
   "source": [
    "#temp1은 key, temp2는 value로 하는 \n",
    "#Dictionary를 만드시오\n",
    "temp1 = ['a', 'b', 'c', 'd']\n",
    "temp2 = [1,2,3,4]\n",
    "dic1 = dict()\n",
    "for i in range(len(temp1)):\n",
    "    dic1.setdefault(temp1[i], temp2[i])\n",
    "print(dic1)\n",
    "dic2 = dict()\n",
    "for i in range(len(temp2)):\n",
    "    dic2[temp1[i]] = temp2[i]\n",
    "print(dic2)"
   ]
  },
  {
   "cell_type": "code",
   "execution_count": 133,
   "metadata": {},
   "outputs": [
    {
     "name": "stdout",
     "output_type": "stream",
     "text": [
      "2] 2 * 1 =  2 2 * 2 =  4 2 * 3 =  6 2 * 4 =  8 2 * 5 = 10 2 * 6 = 12 2 * 7 = 14 2 * 8 = 16 2 * 9 = 18 \n",
      "3] 3 * 1 =  3 3 * 2 =  6 3 * 3 =  9 3 * 4 = 12 3 * 5 = 15 3 * 6 = 18 3 * 7 = 21 3 * 8 = 24 3 * 9 = 27 \n",
      "4] 4 * 1 =  4 4 * 2 =  8 4 * 3 = 12 4 * 4 = 16 4 * 5 = 20 4 * 6 = 24 4 * 7 = 28 4 * 8 = 32 4 * 9 = 36 \n",
      "5] 5 * 1 =  5 5 * 2 = 10 5 * 3 = 15 5 * 4 = 20 5 * 5 = 25 5 * 6 = 30 5 * 7 = 35 5 * 8 = 40 5 * 9 = 45 \n",
      "6] 6 * 1 =  6 6 * 2 = 12 6 * 3 = 18 6 * 4 = 24 6 * 5 = 30 6 * 6 = 36 6 * 7 = 42 6 * 8 = 48 6 * 9 = 54 \n",
      "7] 7 * 1 =  7 7 * 2 = 14 7 * 3 = 21 7 * 4 = 28 7 * 5 = 35 7 * 6 = 42 7 * 7 = 49 7 * 8 = 56 7 * 9 = 63 \n",
      "8] 8 * 1 =  8 8 * 2 = 16 8 * 3 = 24 8 * 4 = 32 8 * 5 = 40 8 * 6 = 48 8 * 7 = 56 8 * 8 = 64 8 * 9 = 72 \n",
      "9] 9 * 1 =  9 9 * 2 = 18 9 * 3 = 27 9 * 4 = 36 9 * 5 = 45 9 * 6 = 54 9 * 7 = 63 9 * 8 = 72 9 * 9 = 81 \n"
     ]
    }
   ],
   "source": [
    "#for문을 활용하여 구구단을 출력하시오\n",
    "for i in range(2,10):\n",
    "    print(\"%d]\"%(i), end=\" \")\n",
    "    for j in range(1,10):\n",
    "        #print(i,'*',j,'=',i*j, end = ' ')\n",
    "        print('{} * {} = {:>2}'.format(i, j ,i*j), end=' ')\n",
    "        #print(\"%d X %d =%2d\" %(i,j,i*j), end=\" \" )\n",
    "    print()\n"
   ]
  },
  {
   "cell_type": "code",
   "execution_count": 134,
   "metadata": {},
   "outputs": [
    {
     "name": "stdout",
     "output_type": "stream",
     "text": [
      "*\n",
      "**\n",
      "***\n",
      "****\n",
      "*****\n"
     ]
    }
   ],
   "source": [
    "for i in range(1,6):\n",
    "    print('*'*i)"
   ]
  },
  {
   "cell_type": "code",
   "execution_count": 135,
   "metadata": {},
   "outputs": [
    {
     "name": "stdout",
     "output_type": "stream",
     "text": [
      "*****\n",
      "****\n",
      "***\n",
      "**\n",
      "*\n"
     ]
    }
   ],
   "source": [
    "for i in range(5,0, -1):\n",
    "    print('*'*i)"
   ]
  },
  {
   "cell_type": "code",
   "execution_count": 136,
   "metadata": {},
   "outputs": [
    {
     "name": "stdout",
     "output_type": "stream",
     "text": [
      "    *\n",
      "   **\n",
      "  ***\n",
      " ****\n",
      "*****\n"
     ]
    }
   ],
   "source": [
    "for i in range(1,6):\n",
    "    j = 5-i\n",
    "    print(' '*j+'*'*i)"
   ]
  },
  {
   "cell_type": "code",
   "execution_count": 137,
   "metadata": {},
   "outputs": [
    {
     "name": "stdout",
     "output_type": "stream",
     "text": [
      "*****\n",
      " ****\n",
      "  ***\n",
      "   **\n",
      "    *\n"
     ]
    }
   ],
   "source": [
    "for i in range(5,0,-1):\n",
    "    j = 5-i\n",
    "    print(' '*j+'*'*i)"
   ]
  },
  {
   "cell_type": "code",
   "execution_count": 139,
   "metadata": {},
   "outputs": [
    {
     "name": "stdout",
     "output_type": "stream",
     "text": [
      "* \n",
      "* * \n",
      "* * * \n",
      "* * * * \n",
      "* * * * * \n"
     ]
    }
   ],
   "source": [
    "for i in range(1,6):\n",
    "    for j in range(1,i+1):\n",
    "        print('*', end=\" \")\n",
    "    print()"
   ]
  },
  {
   "cell_type": "markdown",
   "metadata": {},
   "source": [
    "# while"
   ]
  },
  {
   "cell_type": "code",
   "execution_count": 141,
   "metadata": {},
   "outputs": [
    {
     "name": "stdout",
     "output_type": "stream",
     "text": [
      "1540\n"
     ]
    }
   ],
   "source": [
    "#while문으로 1부터 55까지의 합을 구하기\n",
    "i = 1\n",
    "hap = 0\n",
    "while i <= 55:\n",
    "    hap += i \n",
    "    i += 1\n",
    "print(hap)"
   ]
  },
  {
   "cell_type": "code",
   "execution_count": 155,
   "metadata": {
    "scrolled": true
   },
   "outputs": [
    {
     "name": "stdout",
     "output_type": "stream",
     "text": [
      "정수입력2\n",
      "정수입력4\n",
      "정수입력6\n",
      "정수입력8\n",
      "정수입력10\n",
      "6.0\n"
     ]
    }
   ],
   "source": [
    "#정수를 5회 입력받아서 점수 평균을 계산하가\n",
    "total = 0\n",
    "count = 0\n",
    "num = 5\n",
    "while count < num:\n",
    "    score = int(input('정수입력'))\n",
    "    total += score\n",
    "    count += 1\n",
    "print(total/num)"
   ]
  },
  {
   "cell_type": "code",
   "execution_count": 177,
   "metadata": {},
   "outputs": [
    {
     "name": "stdout",
     "output_type": "stream",
     "text": [
      "1683\n"
     ]
    }
   ],
   "source": [
    "#while문에서 continue를 활용하여 1 부터 100 까지의 수 에서\n",
    "#3의 배수의 합을 구하시오\n",
    "\n",
    "i = 0\n",
    "hap = 0\n",
    "while i < 100:\n",
    "    i+=1\n",
    "    if i%3!=0:\n",
    "        continue\n",
    "    hap += i    \n",
    "print(hap)"
   ]
  },
  {
   "cell_type": "code",
   "execution_count": 179,
   "metadata": {},
   "outputs": [
    {
     "name": "stdout",
     "output_type": "stream",
     "text": [
      "2225\n",
      "2295\n"
     ]
    }
   ],
   "source": [
    "#while문에서 continue와 break를 이용해서 1~100까지의 수중 \n",
    "#20보다 크고 70보다 작은 수의 합 구하시오\n",
    "\n",
    "i = 0\n",
    "hap = 0\n",
    "while True:\n",
    "    i+=1\n",
    "    if i >= 70:\n",
    "        break\n",
    "    elif i<20:\n",
    "        continue\n",
    "    hap += i\n",
    "    \n",
    "print(hap)\n",
    "#while문에서 continue와 break를 이용해서 1~100까지의 수중 \n",
    "#20보다 크고 70보다 작은 수의 합 구하시오\n",
    "count = 0\n",
    "total = 0\n",
    "while count <= 100:\n",
    "    count += 1\n",
    "    if count < 20:\n",
    "        continue\n",
    "    elif count > 70:\n",
    "        break\n",
    "    total += count\n",
    "print(total)"
   ]
  }
 ],
 "metadata": {
  "kernelspec": {
   "display_name": "Python 3",
   "language": "python",
   "name": "python3"
  },
  "language_info": {
   "codemirror_mode": {
    "name": "ipython",
    "version": 3
   },
   "file_extension": ".py",
   "mimetype": "text/x-python",
   "name": "python",
   "nbconvert_exporter": "python",
   "pygments_lexer": "ipython3",
   "version": "3.7.4"
  }
 },
 "nbformat": 4,
 "nbformat_minor": 2
}
