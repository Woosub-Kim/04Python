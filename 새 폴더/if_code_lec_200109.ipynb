{
 "cells": [
  {
   "cell_type": "code",
   "execution_count": 1,
   "metadata": {},
   "outputs": [],
   "source": [
    "# 성적을 입력받은 후, 70점 이상이면 '축하합니다', 70점 미만이면\n",
    "# '수고하셨습니다'가 출력되도록 하시오.."
   ]
  },
  {
   "cell_type": "code",
   "execution_count": 6,
   "metadata": {},
   "outputs": [
    {
     "name": "stdout",
     "output_type": "stream",
     "text": [
      "점수를 입력하시요75\n",
      "축하합니다\n"
     ]
    }
   ],
   "source": [
    "score = int(input('점수를 입력하시요'))\n",
    "# type(score)\n",
    "\n",
    "if score >= 70:\n",
    "    print('축하합니다')\n",
    "else:\n",
    "    print('수고하셨습니다')"
   ]
  },
  {
   "cell_type": "code",
   "execution_count": 7,
   "metadata": {},
   "outputs": [
    {
     "name": "stdout",
     "output_type": "stream",
     "text": [
      "비밀번호를 입력하세요:1234\n",
      "환영합니다\n"
     ]
    }
   ],
   "source": [
    "## pw = 1234, 패스워드를 입력받은 후 일치하면 '환영합니다', \n",
    "# 틀리면 '비밀 번호가 틀립니다'가 출력되도록\n",
    "\n",
    "pw = 1234\n",
    "\n",
    "password = int(input('비밀번호를 입력하세요:'))\n",
    "\n",
    "if pw == password:\n",
    "    print('환영합니다')\n",
    "else:\n",
    "    print('비밀번호가 틀립니다.')"
   ]
  },
  {
   "cell_type": "code",
   "execution_count": 9,
   "metadata": {},
   "outputs": [
    {
     "name": "stdout",
     "output_type": "stream",
     "text": [
      "정수를 입력하세요:5\n",
      "5\n"
     ]
    }
   ],
   "source": [
    "## 정수를 입력받은 후 절대값을 리턴하도록 하시오..\n",
    "\n",
    "num = int(input('정수를 입력하세요:'))\n",
    "\n",
    "if num < 0:\n",
    "    print(num*(-1))\n",
    "else:\n",
    "    print(num)"
   ]
  },
  {
   "cell_type": "code",
   "execution_count": 13,
   "metadata": {},
   "outputs": [
    {
     "name": "stdout",
     "output_type": "stream",
     "text": [
      "정수를 입력하세요2\n",
      "정수를 입력하세요2\n",
      "a와 b는 같습니다\n"
     ]
    }
   ],
   "source": [
    "# 두 정수를 입력받은 후 \n",
    "# a가 b보다 크면 'a가 b보다 큽니다'\n",
    "# a가 b보다 작으면 'a가 b보다 큽니다'\n",
    "# a와 b가 같으면 'a와 b는 같습니다'를 출력\n",
    "\n",
    "a = int(input('정수를 입력하세요'))\n",
    "b = int(input('정수를 입력하세요'))\n",
    "\n",
    "if a>b:\n",
    "    print('a가 b보다 큽니다')\n",
    "elif a<b:\n",
    "    print('b가 a보다 큽니다')\n",
    "else:\n",
    "    print('a와 b는 같습니다')"
   ]
  },
  {
   "cell_type": "code",
   "execution_count": null,
   "metadata": {},
   "outputs": [],
   "source": [
    "# 임의의 정수를 입력받은 후 짝수이면 '짝수입니다.\n",
    "# ' 홀수이면 '홀수입니다'를 출력"
   ]
  },
  {
   "cell_type": "code",
   "execution_count": 15,
   "metadata": {},
   "outputs": [
    {
     "name": "stdout",
     "output_type": "stream",
     "text": [
      "정수를 입력하세요3\n",
      "홀수입니다\n"
     ]
    }
   ],
   "source": [
    "num = int(input('정수를 입력하세요'))\n",
    "\n",
    "if num%2 == 0:\n",
    "    print('짝수입니다')\n",
    "else:\n",
    "    print('홀수입니다')    "
   ]
  },
  {
   "cell_type": "code",
   "execution_count": 16,
   "metadata": {},
   "outputs": [],
   "source": [
    "# 점수를 입력받은 후 학점을 출력..\n",
    "# 90점 이상이면 'A학점'\n",
    "# 90 ~ 80점이면 'B학점'\n",
    "# 80점 미만이면 'C학점'"
   ]
  },
  {
   "cell_type": "code",
   "execution_count": 1,
   "metadata": {},
   "outputs": [
    {
     "name": "stdout",
     "output_type": "stream",
     "text": [
      "점수를 입력하세요65\n",
      "D학점\n"
     ]
    }
   ],
   "source": [
    "score = int(input('점수를 입력하세요'))\n",
    "\n",
    "if score >= 90:\n",
    "    print('A학점')\n",
    "elif 90 > score >= 80:\n",
    "    print('B학점')\n",
    "elif 80 > score >= 70:\n",
    "    print('C학점')\n",
    "else:\n",
    "    print('D학점')"
   ]
  },
  {
   "cell_type": "code",
   "execution_count": null,
   "metadata": {},
   "outputs": [],
   "source": []
  },
  {
   "cell_type": "code",
   "execution_count": null,
   "metadata": {},
   "outputs": [],
   "source": []
  }
 ],
 "metadata": {
  "kernelspec": {
   "display_name": "Python 3",
   "language": "python",
   "name": "python3"
  },
  "language_info": {
   "codemirror_mode": {
    "name": "ipython",
    "version": 3
   },
   "file_extension": ".py",
   "mimetype": "text/x-python",
   "name": "python",
   "nbconvert_exporter": "python",
   "pygments_lexer": "ipython3",
   "version": "3.7.4"
  }
 },
 "nbformat": 4,
 "nbformat_minor": 2
}
