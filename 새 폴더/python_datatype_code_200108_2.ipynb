{
 "cells": [
  {
   "cell_type": "markdown",
   "metadata": {},
   "source": [
    "1. int - 정수\n",
    "2. float - 실수\n",
    "3. bool - True, False\n",
    "----------------------------------------------------------\n",
    "#### 군집형 데이터 타입\n",
    "4. string - ' ',   원소의 수정 삭제 추가가 안 됨.\n",
    "5. List - [], 원소의 수정 삭제 추가가 자유로움.\n",
    "6. Tuple - (), 원소의 수정 삭제 추가가 안 됨.\n",
    "7. Set - {}, 중복데이터 제외, 인덱스가 없음\n",
    "8. Dictionary - {key:val}, 키가 인덱스 역활함."
   ]
  },
  {
   "cell_type": "markdown",
   "metadata": {},
   "source": [
    "### String"
   ]
  },
  {
   "cell_type": "code",
   "execution_count": 1,
   "metadata": {},
   "outputs": [],
   "source": [
    "text = '이 또한 지나가리라'"
   ]
  },
  {
   "cell_type": "code",
   "execution_count": 2,
   "metadata": {},
   "outputs": [
    {
     "data": {
      "text/plain": [
       "'또한'"
      ]
     },
     "execution_count": 2,
     "metadata": {},
     "output_type": "execute_result"
    }
   ],
   "source": [
    "# '또한' 이라는 어절을 추출\n",
    "text[2:4]"
   ]
  },
  {
   "cell_type": "code",
   "execution_count": 3,
   "metadata": {},
   "outputs": [
    {
     "data": {
      "text/plain": [
       "'가리라'"
      ]
     },
     "execution_count": 3,
     "metadata": {},
     "output_type": "execute_result"
    }
   ],
   "source": [
    "# ' 가리라'\n",
    "text[-3:]"
   ]
  },
  {
   "cell_type": "code",
   "execution_count": 6,
   "metadata": {},
   "outputs": [
    {
     "name": "stdout",
     "output_type": "stream",
     "text": [
      "정수를 입력하세요100\n",
      "당신이 입력한 정수는 100 입니다\n"
     ]
    }
   ],
   "source": [
    "num = input('정수를 입력하세요')\n",
    "print('당신이 입력한 정수는' ,num, '입니다')"
   ]
  },
  {
   "cell_type": "code",
   "execution_count": 7,
   "metadata": {},
   "outputs": [
    {
     "name": "stdout",
     "output_type": "stream",
     "text": [
      "이름을 입력하세요:김윤아\n",
      "안녕하세요 김윤아 님!!\n"
     ]
    }
   ],
   "source": [
    "# 이름을 입력받은 후, 출력 : => '안녕하세요, {이름}님!!'\n",
    "\n",
    "nam = input('이름을 입력하세요:')\n",
    "print('안녕하세요',nam,'님!!')"
   ]
  },
  {
   "cell_type": "code",
   "execution_count": 8,
   "metadata": {},
   "outputs": [
    {
     "name": "stdout",
     "output_type": "stream",
     "text": [
      "이름을 입력하세요:김윤아\n",
      "안녕하세요 김윤아님!!\n"
     ]
    }
   ],
   "source": [
    "nam = input('이름을 입력하세요:')\n",
    "print('안녕하세요 {}님!!'.format(nam))"
   ]
  },
  {
   "cell_type": "code",
   "execution_count": null,
   "metadata": {},
   "outputs": [],
   "source": [
    "# 문장을 입력받은 후 문장의 길이를 출력하세요.."
   ]
  },
  {
   "cell_type": "code",
   "execution_count": 9,
   "metadata": {},
   "outputs": [
    {
     "name": "stdout",
     "output_type": "stream",
     "text": [
      "문장을 입력하세요:hello python\n",
      "12\n"
     ]
    }
   ],
   "source": [
    "text = input('문장을 입력하세요:')\n",
    "print(len(text))"
   ]
  },
  {
   "cell_type": "code",
   "execution_count": null,
   "metadata": {},
   "outputs": [],
   "source": [
    "# 이메일을 입력받은 후 아아디를 출력하세요.."
   ]
  },
  {
   "cell_type": "code",
   "execution_count": 10,
   "metadata": {},
   "outputs": [
    {
     "name": "stdout",
     "output_type": "stream",
     "text": [
      "이메일을 입력하세요:yuna@naver.com\n",
      "yuna\n"
     ]
    }
   ],
   "source": [
    "email = input('이메일을 입력하세요:')\n",
    "print(email.split('@')[0])"
   ]
  },
  {
   "cell_type": "code",
   "execution_count": 12,
   "metadata": {},
   "outputs": [
    {
     "name": "stdout",
     "output_type": "stream",
     "text": [
      "3\n",
      "3\n",
      "True\n"
     ]
    }
   ],
   "source": [
    "text = 'A lot of things occur each day, every night'\n",
    "\n",
    "# 'o'의 갯수를 출력하세요\n",
    "# 첫 번째 'o'의 인덱스를 출력하세요\n",
    "# text에 'o'이 있는지 확인하세요..\n",
    "\n",
    "print(text.count('o'))\n",
    "print(text.find('o'))\n",
    "print('o' in text)"
   ]
  },
  {
   "cell_type": "markdown",
   "metadata": {},
   "source": [
    "### List"
   ]
  },
  {
   "cell_type": "code",
   "execution_count": 33,
   "metadata": {},
   "outputs": [
    {
     "data": {
      "text/plain": [
       "[1, 2, 'a', 'b', 'c', [4, 5, 6], '가', '나']"
      ]
     },
     "execution_count": 33,
     "metadata": {},
     "output_type": "execute_result"
    }
   ],
   "source": [
    "ls = [1,2,'a','b','c',[4,5,6],'가','나']\n",
    "ls"
   ]
  },
  {
   "cell_type": "code",
   "execution_count": 26,
   "metadata": {
    "collapsed": true
   },
   "outputs": [
    {
     "name": "stdout",
     "output_type": "stream",
     "text": [
      "2\n",
      "b\n",
      "5\n",
      "[5, 6]\n",
      "['가', '나']\n",
      "[2, 'b', [4, 5, 6], '나']\n"
     ]
    }
   ],
   "source": [
    "# 2를 출력\n",
    "# 'b'를 출력\n",
    "# 5를 출력\n",
    "# 5,6을 출력\n",
    "# 맨 마지막 두 원소 출력\n",
    "# 홀수 자리 인덱스 원소 출력\n",
    "\n",
    "print(ls[1])\n",
    "print(ls[3])\n",
    "print(ls[5][1])\n",
    "print(ls[5][1:])\n",
    "print(ls[-2:])\n",
    "print(ls[1:8:2])"
   ]
  },
  {
   "cell_type": "code",
   "execution_count": 27,
   "metadata": {},
   "outputs": [
    {
     "data": {
      "text/plain": [
       "[1, 2, 'a', 'b', 'c', [4, 5, 6], '가', '나']"
      ]
     },
     "execution_count": 27,
     "metadata": {},
     "output_type": "execute_result"
    }
   ],
   "source": [
    "ls"
   ]
  },
  {
   "cell_type": "code",
   "execution_count": null,
   "metadata": {},
   "outputs": [],
   "source": [
    "# ls의 길이를 출력\n",
    "# ls의 1번 인덱스 값을 10으로 수정\n",
    "# ls의 3번 인덱스를 삭제\n",
    "# '라'를 마지막에 추가\n",
    "# 1번 인덱스에 100을 삽입\n",
    "# 값 100을 삭제"
   ]
  },
  {
   "cell_type": "code",
   "execution_count": 34,
   "metadata": {},
   "outputs": [
    {
     "name": "stdout",
     "output_type": "stream",
     "text": [
      "8\n"
     ]
    }
   ],
   "source": [
    "print(len(ls))"
   ]
  },
  {
   "cell_type": "code",
   "execution_count": 35,
   "metadata": {},
   "outputs": [
    {
     "name": "stdout",
     "output_type": "stream",
     "text": [
      "[1, 10, 'a', 'b', 'c', [4, 5, 6], '가', '나']\n"
     ]
    }
   ],
   "source": [
    "ls[1] = 10\n",
    "print(ls)"
   ]
  },
  {
   "cell_type": "code",
   "execution_count": 36,
   "metadata": {},
   "outputs": [
    {
     "name": "stdout",
     "output_type": "stream",
     "text": [
      "[1, 10, 'a', 'b', 'c', [4, 5, 6], '가', '나', '라']\n"
     ]
    }
   ],
   "source": [
    "ls.append('라')\n",
    "print(ls)"
   ]
  },
  {
   "cell_type": "code",
   "execution_count": 37,
   "metadata": {},
   "outputs": [
    {
     "name": "stdout",
     "output_type": "stream",
     "text": [
      "[1, 100, 10, 'a', 'b', 'c', [4, 5, 6], '가', '나', '라']\n"
     ]
    }
   ],
   "source": [
    "ls.insert(1, 100)\n",
    "print(ls)"
   ]
  },
  {
   "cell_type": "code",
   "execution_count": 38,
   "metadata": {},
   "outputs": [
    {
     "name": "stdout",
     "output_type": "stream",
     "text": [
      "[1, 100, 10, 'b', 'c', [4, 5, 6], '가', '나', '라']\n"
     ]
    }
   ],
   "source": [
    "ls.pop(3)\n",
    "print(ls)"
   ]
  },
  {
   "cell_type": "code",
   "execution_count": 39,
   "metadata": {},
   "outputs": [
    {
     "name": "stdout",
     "output_type": "stream",
     "text": [
      "[1, 10, 'b', 'c', [4, 5, 6], '가', '나', '라']\n"
     ]
    }
   ],
   "source": [
    "ls.remove(100)\n",
    "print(ls)"
   ]
  },
  {
   "cell_type": "code",
   "execution_count": null,
   "metadata": {},
   "outputs": [],
   "source": []
  },
  {
   "cell_type": "code",
   "execution_count": 40,
   "metadata": {},
   "outputs": [],
   "source": [
    "### list 종합문제"
   ]
  },
  {
   "cell_type": "code",
   "execution_count": 41,
   "metadata": {},
   "outputs": [],
   "source": [
    "sol = ['태양','수성','금성','지구','화성','목성','지구']\n",
    "sol1 = ['토성','천왕성','해왕성']"
   ]
  },
  {
   "cell_type": "code",
   "execution_count": null,
   "metadata": {},
   "outputs": [],
   "source": [
    "# 1. sol에서 '수성','금성','지구'를 출력하세요."
   ]
  },
  {
   "cell_type": "code",
   "execution_count": null,
   "metadata": {},
   "outputs": [],
   "source": [
    "# 2. sol에서 '지구' 인덱스를 출력하세요.."
   ]
  },
  {
   "cell_type": "code",
   "execution_count": null,
   "metadata": {},
   "outputs": [],
   "source": [
    "# 3. sol에서 '화성'을 '해왕성'으로 수정하세요."
   ]
  },
  {
   "cell_type": "code",
   "execution_count": null,
   "metadata": {},
   "outputs": [],
   "source": [
    "# 4. sol에서 '수성' 자리에 '명왕성'을 삽입하세요."
   ]
  },
  {
   "cell_type": "code",
   "execution_count": null,
   "metadata": {},
   "outputs": [],
   "source": [
    "# 5. sol에서 맨 끝에 '토성'을 추가하세요."
   ]
  },
  {
   "cell_type": "code",
   "execution_count": null,
   "metadata": {},
   "outputs": [],
   "source": [
    "# 6. sol에서 3번 인덱스를 삭제하세요."
   ]
  },
  {
   "cell_type": "code",
   "execution_count": null,
   "metadata": {},
   "outputs": [],
   "source": [
    "# 7. sol에서 '금성'을 삭제하세요."
   ]
  },
  {
   "cell_type": "code",
   "execution_count": null,
   "metadata": {},
   "outputs": [],
   "source": [
    "# 8. sol에서 오름차순 정렬하세요."
   ]
  },
  {
   "cell_type": "code",
   "execution_count": null,
   "metadata": {},
   "outputs": [],
   "source": [
    "# 9. sol에서 '만리장성'이 있는지 확인하세요.\n",
    "# 10. sol의 길이를 리턴하세요.\n",
    "# 11. sol과 sol1을 연결하세요.\n",
    "# 12. sol 뒤에 sol1을 붙이세요.\n",
    "# 13. sol의 모든 요소를 삭제하세요.\n",
    "# 14. sol 리스트를 삭제하세요.."
   ]
  },
  {
   "cell_type": "code",
   "execution_count": null,
   "metadata": {},
   "outputs": [],
   "source": []
  },
  {
   "cell_type": "code",
   "execution_count": null,
   "metadata": {},
   "outputs": [],
   "source": []
  },
  {
   "cell_type": "code",
   "execution_count": null,
   "metadata": {},
   "outputs": [],
   "source": []
  }
 ],
 "metadata": {
  "kernelspec": {
   "display_name": "Python 3",
   "language": "python",
   "name": "python3"
  },
  "language_info": {
   "codemirror_mode": {
    "name": "ipython",
    "version": 3
   },
   "file_extension": ".py",
   "mimetype": "text/x-python",
   "name": "python",
   "nbconvert_exporter": "python",
   "pygments_lexer": "ipython3",
   "version": "3.7.4"
  }
 },
 "nbformat": 4,
 "nbformat_minor": 2
}
