{
 "cells": [
  {
   "cell_type": "code",
   "execution_count": 5,
   "metadata": {},
   "outputs": [
    {
     "name": "stdout",
     "output_type": "stream",
     "text": [
      "0 1 2 3 4 "
     ]
    }
   ],
   "source": [
    "# for문과 break를 이용해서 0~4까지 출력\n",
    "for i in range(11):\n",
    "    if i>= 5:\n",
    "        break\n",
    "    print(i, end=' ')"
   ]
  },
  {
   "cell_type": "code",
   "execution_count": 8,
   "metadata": {},
   "outputs": [
    {
     "name": "stdout",
     "output_type": "stream",
     "text": [
      "0 1 2 3 4 6 7 8 9 10 \n",
      "0 1 2 3 4 6 7 8 9 10 "
     ]
    }
   ],
   "source": [
    "# 0 부터 10 까지 출력, 단 5를 찍지 않는다\n",
    "for i in range(11):\n",
    "    if i ==5:\n",
    "        continue\n",
    "    print(i, end=' ')\n",
    "print()\n",
    "for i in range(11):\n",
    "    if i!=5:\n",
    "        print(i, end=' ')"
   ]
  },
  {
   "cell_type": "code",
   "execution_count": 40,
   "metadata": {},
   "outputs": [
    {
     "name": "stdout",
     "output_type": "stream",
     "text": [
      "uoY evol I\n",
      "uoY evol I\n",
      "['u', 'o', 'Y', ' ', 'e', 'v', 'o', 'l', ' ', 'I'] uoY evol I\n",
      "uoY evol I\n",
      "['u', 'o', 'Y', ' ', 'e', 'v', 'o', 'l', ' ', 'I'] uoY evol I\n",
      "['u', 'o', 'Y', ' ', 'e', 'v', 'o', 'l', ' ', 'I'] uoY evol I\n"
     ]
    }
   ],
   "source": [
    "# 아래의 sentence를 역순으로 만드시오\n",
    "sentence = 'I love You'\n",
    "s = []\n",
    "ns = ''\n",
    "#방법1 문자열의 인덱스를 거꾸로 반복하는 방법\n",
    "for i in range(1,len(sentence)+1):\n",
    "    print(sentence[i*-1], end='')\n",
    "print()\n",
    "for i in range(len(sentence)-1, -1, -1):\n",
    "    print(sentence[i], end='')\n",
    "print()\n",
    "#방법 2 문자열의 인덱스 순으로 리스트의 0번 인덱스에 대입하는 방법\n",
    "for i in sentence:\n",
    "    s.insert(0,i)\n",
    "print(s, ''.join(s))\n",
    "# 방법 3 방법 2를 문자열로 시행\n",
    "for i in sentence:\n",
    "    ns = i + ns\n",
    "print(ns)\n",
    "#방법 4 reverse()메소드 사용, 인덱스 활용\n",
    "rs = list(sentence)\n",
    "rs.reverse()\n",
    "print(rs, ''.join(rs))\n",
    "rs = list(sentence)\n",
    "rs = rs[::-1]\n",
    "print(rs, ''.join(rs))"
   ]
  },
  {
   "cell_type": "code",
   "execution_count": 6,
   "metadata": {},
   "outputs": [
    {
     "name": "stdout",
     "output_type": "stream",
     "text": [
      "120\n",
      "120\n",
      "6\n"
     ]
    }
   ],
   "source": [
    "# 팩토리얼\n",
    "#방법 1 for문 활용\n",
    "def factorial1(n):\n",
    "    f = 1\n",
    "    if n== 0:\n",
    "        return f\n",
    "    for i in range(1,n+1):\n",
    "        f *= i\n",
    "    return f\n",
    "print(factorial1(5))\n",
    "# 방법2 재귀함후 활용\n",
    "def factorial2(n):\n",
    "    if n==0:\n",
    "        return 1\n",
    "    else:\n",
    "        return n * factorial2(n-1)\n",
    "print(factorial2(5))\n",
    "# 방법 3\n",
    "def factorial3(n):\n",
    "    count = n-1\n",
    "    while count>0:\n",
    "        n *= count\n",
    "        count -= 1\n",
    "    return n\n",
    "print(factorial3(3))"
   ]
  },
  {
   "cell_type": "code",
   "execution_count": 49,
   "metadata": {},
   "outputs": [
    {
     "data": {
      "text/plain": [
       "13"
      ]
     },
     "execution_count": 49,
     "metadata": {},
     "output_type": "execute_result"
    }
   ],
   "source": [
    "\n",
    "def fibonacci(n):\n",
    "    if n==1:\n",
    "        return 1\n",
    "    elif n == 2:\n",
    "        return 1\n",
    "    else:\n",
    "        return fibonacci(n-1)+fibonacci(n-2)\n",
    "fibonacci(7)"
   ]
  },
  {
   "cell_type": "code",
   "execution_count": 22,
   "metadata": {},
   "outputs": [
    {
     "name": "stdout",
     "output_type": "stream",
     "text": [
      "0번 학생, 평균점수40.666666666666664\n",
      "1번 학생, 평균점수48.333333333333336\n",
      "2번 학생, 평균점수62.666666666666664\n",
      "3번 학생, 평균점수66.66666666666667\n",
      "4번 학생, 평균점수62.0\n",
      "(12, 58, 52)\n",
      "122 40.666666666666664\n",
      "(32, 68, 45)\n",
      "145 48.333333333333336\n",
      "(45, 74, 69)\n",
      "188 62.666666666666664\n",
      "(85, 52, 63)\n",
      "200 66.66666666666667\n",
      "(98, 63, 25)\n",
      "186 62.0\n"
     ]
    }
   ],
   "source": [
    "# 각 학생의 과목별 점수평균 구하기\n",
    "kor = [12,32,45,85,98]\n",
    "eng = [58,68,74,52,63]\n",
    "math = [52,45,69,63,25]\n",
    "# for문 사용하기\n",
    "# indexing 기반으로...\n",
    "for i in range(len(kor)):\n",
    "    tot = kor[i]+eng[i]+math[i]\n",
    "    print('{}번 학생, 평균점수{}'.format(i, tot/3))\n",
    "\n",
    "# numpy사용하기\n",
    "import numpy as np\n",
    "mat = np.array([kor, eng, math])\n",
    "mat.mean(axis=0)\n",
    "# numpy 사용하기\n",
    "np.array([kor, eng, math]).mean(axis=0)\n",
    "# zip()활용하기: 같은 인덱스끼리 묶어주는 함수\n",
    "for i in zip(kor, eng, math):\n",
    "    print(i)\n",
    "    print(sum(i),np.mean(i))"
   ]
  },
  {
   "cell_type": "code",
   "execution_count": 34,
   "metadata": {},
   "outputs": [
    {
     "name": "stdout",
     "output_type": "stream",
     "text": [
      "{'Park': 52, 'Min': 52, 'Lee': 52, 'Jun': 52}\n",
      "('Park', 95)\n",
      "('Min', 75)\n",
      "('Lee', 84)\n",
      "('Jun', 52)\n",
      "{'Park': 95, 'Min': 75, 'Lee': 84, 'Jun': 52}\n",
      "{'Park': 95, 'Min': 75, 'Lee': 84, 'Jun': 52}\n"
     ]
    }
   ],
   "source": [
    "# name: ['Park', 'Min', 'Lee', 'Jun']\n",
    "# score: [95,75,84,52]\n",
    "# => {'park':95...}\n",
    "name = ['Park', 'Min', 'Lee', 'Jun']\n",
    "score = [95,75,84,52]\n",
    "# 두 개의 for문을 중첩하는 방법\n",
    "dic = {}\n",
    "for i in name:\n",
    "    for j in score:\n",
    "        dic[i]=j\n",
    "print(dic)\n",
    "# zip() 확인\n",
    "for i in zip(name, score):\n",
    "    print(i)# 타입은 tuple\n",
    "# zip()과 for문 사용\n",
    "dic2 = {}\n",
    "for i in zip(name, score):\n",
    "    dic2[i[0]] = i[1]\n",
    "print(dic2)\n",
    "# zip()과 dict() 활용\n",
    "dic3 = dict(zip(name, score))\n",
    "print(dic3)"
   ]
  },
  {
   "cell_type": "code",
   "execution_count": null,
   "metadata": {},
   "outputs": [],
   "source": []
  }
 ],
 "metadata": {
  "kernelspec": {
   "display_name": "Python 3",
   "language": "python",
   "name": "python3"
  },
  "language_info": {
   "codemirror_mode": {
    "name": "ipython",
    "version": 3
   },
   "file_extension": ".py",
   "mimetype": "text/x-python",
   "name": "python",
   "nbconvert_exporter": "python",
   "pygments_lexer": "ipython3",
   "version": "3.7.4"
  }
 },
 "nbformat": 4,
 "nbformat_minor": 2
}
