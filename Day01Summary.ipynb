{
 "cells": [
  {
   "cell_type": "markdown",
   "metadata": {},
   "source": [
    "\n",
    "1. int : 정수\n",
    "2. float : 실수\n",
    "3. bool : True/False\n",
    "\n",
    "군집형\n",
    "4. string: '문자열', 원소의 수정 삭제 추가 불가\n",
    "5. list: [a,b]원소의 수정, 삭제 추가 가능\n",
    "6. tuple: (a,b) 원소의 수정 삭제 추가 불가\n",
    "7. set: {a,b}, 중복데이터를 가지지 않는다. 인덱스가 없다(순서가 없다)\n",
    "8. dictionary: {key:value} 키가 인덱스의 역할을 함\n"
   ]
  },
  {
   "cell_type": "markdown",
   "metadata": {},
   "source": [
    "# String"
   ]
  },
  {
   "cell_type": "code",
   "execution_count": 1,
   "metadata": {},
   "outputs": [],
   "source": [
    "text = '이 또한 지나가리라'"
   ]
  },
  {
   "cell_type": "code",
   "execution_count": 2,
   "metadata": {},
   "outputs": [],
   "source": [
    "# '또한' 이라는 어절을 추출"
   ]
  },
  {
   "cell_type": "code",
   "execution_count": 4,
   "metadata": {},
   "outputs": [
    {
     "data": {
      "text/plain": [
       "'또한'"
      ]
     },
     "execution_count": 4,
     "metadata": {},
     "output_type": "execute_result"
    }
   ],
   "source": [
    "text[2:4]"
   ]
  },
  {
   "cell_type": "code",
   "execution_count": 5,
   "metadata": {},
   "outputs": [
    {
     "data": {
      "text/plain": [
       "'가리라'"
      ]
     },
     "execution_count": 5,
     "metadata": {},
     "output_type": "execute_result"
    }
   ],
   "source": [
    "#'가리라'\n",
    "text[-3:]"
   ]
  },
  {
   "cell_type": "code",
   "execution_count": 7,
   "metadata": {},
   "outputs": [
    {
     "name": "stdout",
     "output_type": "stream",
     "text": [
      "정수를 입력하세요67\n",
      "당신이 입력한 수는 67\n"
     ]
    }
   ],
   "source": [
    "#이름을 입력받은 후 출력: '안녕하세요. {이름}님!!'\n",
    "\n",
    "#input()\n",
    "num = input('정수를 입력하세요')\n",
    "print('당신이 입력한 수는 '+num)"
   ]
  },
  {
   "cell_type": "code",
   "execution_count": 8,
   "metadata": {},
   "outputs": [
    {
     "name": "stdout",
     "output_type": "stream",
     "text": [
      "이름을 입력하세요김\n",
      "안녕하세요. 김님!!\n"
     ]
    }
   ],
   "source": [
    "text2 = '안녕하세요. {}님!!'\n",
    "name = input('이름을 입력하세요')\n",
    "print(text2.format(name))\n"
   ]
  },
  {
   "cell_type": "code",
   "execution_count": 9,
   "metadata": {},
   "outputs": [
    {
     "name": "stdout",
     "output_type": "stream",
     "text": [
      "문장을 입력하세요가나다라\n",
      "4\n"
     ]
    }
   ],
   "source": [
    "#문장을 입력받은 후 문장의 길이를 출력하기\n",
    "\n",
    "text3 = input('문장을 입력하세요')\n",
    "print(len(text3))"
   ]
  },
  {
   "cell_type": "code",
   "execution_count": 13,
   "metadata": {},
   "outputs": [
    {
     "name": "stdout",
     "output_type": "stream",
     "text": [
      "이메일을 입력하세요woosubgo@baver.com\n",
      "woosubgo\n"
     ]
    }
   ],
   "source": [
    "#이메일을 입력받은 후 아이디를 출력하기\n",
    "\n",
    "email = input('이메일을 입력하세요')\n",
    "id = email.split('@')[0]\n",
    "print(id)"
   ]
  },
  {
   "cell_type": "code",
   "execution_count": 17,
   "metadata": {},
   "outputs": [
    {
     "data": {
      "text/plain": [
       "3"
      ]
     },
     "execution_count": 17,
     "metadata": {},
     "output_type": "execute_result"
    }
   ],
   "source": [
    "text = 'A lot of things occur each day, every night'\n",
    "# o의 갯수 출력하기\n",
    "text.count('o')"
   ]
  },
  {
   "cell_type": "code",
   "execution_count": 16,
   "metadata": {},
   "outputs": [
    {
     "data": {
      "text/plain": [
       "3"
      ]
     },
     "execution_count": 16,
     "metadata": {},
     "output_type": "execute_result"
    }
   ],
   "source": [
    "#첫 o의 인덱스 출력하기\n",
    "text.find('o')"
   ]
  },
  {
   "cell_type": "code",
   "execution_count": 18,
   "metadata": {},
   "outputs": [
    {
     "data": {
      "text/plain": [
       "True"
      ]
     },
     "execution_count": 18,
     "metadata": {},
     "output_type": "execute_result"
    }
   ],
   "source": [
    "#text안에 O 있는지 확인하기\n",
    "'o' in text"
   ]
  },
  {
   "cell_type": "markdown",
   "metadata": {},
   "source": [
    "# List"
   ]
  },
  {
   "cell_type": "code",
   "execution_count": 25,
   "metadata": {},
   "outputs": [],
   "source": [
    "list_data = [1,2,'a', 'b', 'c', [4,5,6], '가', '나']"
   ]
  },
  {
   "cell_type": "code",
   "execution_count": 22,
   "metadata": {},
   "outputs": [
    {
     "name": "stdout",
     "output_type": "stream",
     "text": [
      "2\n",
      "b\n",
      "5\n",
      "[5, 6]\n",
      "['가', '나']\n",
      "[2, 'b', [4, 5, 6], '나']\n"
     ]
    }
   ],
   "source": [
    "#2를 출력\n",
    "print(list_data[1])\n",
    "#'b'를 출력\n",
    "print(list_data[3])\n",
    "#5를 출력\n",
    "print(list_data[5][1])\n",
    "#5,6을 출력\n",
    "print(list_data[5][1:])\n",
    "#맨뒤 두 원소 출력\n",
    "print(list_data[-2:])\n",
    "#홀수 index 원소 출력\n",
    "print(list_data[1::2])\n"
   ]
  },
  {
   "cell_type": "code",
   "execution_count": 27,
   "metadata": {},
   "outputs": [
    {
     "name": "stdout",
     "output_type": "stream",
     "text": [
      "8\n",
      "[1, 10, 'a', 'b', 'c', [4, 5, 6], '가', '나']\n",
      "[1, 10, 'a', 'c', [4, 5, 6], '가', '나']\n",
      "[1, 10, 'a', 'c', [4, 5, 6], '가', '나', '라']\n",
      "[1, 100, 10, 'a', 'c', [4, 5, 6], '가', '나', '라']\n",
      "[1, 10, 'a', 'c', [4, 5, 6], '가', '나', '라']\n"
     ]
    }
   ],
   "source": [
    "list_data = [1,2,'a', 'b', 'c', [4,5,6], '가', '나']\n",
    "#리스트 길이 출력\n",
    "print(len(list_data))\n",
    "#리스트의 1번 인덱스 값을 10으로 수정\n",
    "list_data[1] = 10\n",
    "print(list_data)\n",
    "#리스트의 3번 인덱스 삭제\n",
    "list_data.pop(3)\n",
    "print(list_data)\n",
    "#'라'를 마지막 인덱스에 추가\n",
    "list_data.append('라')\n",
    "print(list_data)\n",
    "#1번 인덱스에 100 추가\n",
    "list_data.insert(1, 100)\n",
    "print(list_data)\n",
    "#100을 삭제하기\n",
    "list_data.remove(100)\n",
    "print(list_data)"
   ]
  },
  {
   "cell_type": "markdown",
   "metadata": {},
   "source": [
    "# list 종합문제"
   ]
  },
  {
   "cell_type": "code",
   "execution_count": 39,
   "metadata": {},
   "outputs": [
    {
     "name": "stdout",
     "output_type": "stream",
     "text": [
      "['수성', '금성', '지구']\n",
      "3\n",
      "['태양', '수성', '금성', '지구', '해왕성', '목성', '지구']\n",
      "['태양', '명왕성', '수성', '금성', '지구', '해왕성', '목성', '지구']\n",
      "['태양', '명왕성', '수성', '금성', '지구', '해왕성', '목성', '지구', '토성']\n",
      "['태양', '명왕성', '금성', '지구', '해왕성', '목성', '지구', '토성']\n",
      "['태양', '명왕성', '지구', '해왕성', '목성', '지구', '토성']\n",
      "['명왕성', '목성', '지구', '지구', '태양', '토성', '해왕성']\n",
      "False\n",
      "7\n",
      "['명왕성', '목성', '지구', '지구', '태양', '토성', '해왕성', '토성', '천왕성', '해왕성']\n",
      "['명왕성', '목성', '지구', '지구', '태양', '토성', '해왕성', '토성', '천왕성', '해왕성']\n",
      "[]\n"
     ]
    },
    {
     "ename": "NameError",
     "evalue": "name 'sol' is not defined",
     "output_type": "error",
     "traceback": [
      "\u001b[1;31m---------------------------------------------------------------------------\u001b[0m",
      "\u001b[1;31mNameError\u001b[0m                                 Traceback (most recent call last)",
      "\u001b[1;32m<ipython-input-39-c12697bc481c>\u001b[0m in \u001b[0;36m<module>\u001b[1;34m\u001b[0m\n\u001b[0;32m     37\u001b[0m \u001b[1;31m#14. sol 리스트를 삭제하세요\u001b[0m\u001b[1;33m\u001b[0m\u001b[1;33m\u001b[0m\u001b[1;33m\u001b[0m\u001b[0m\n\u001b[0;32m     38\u001b[0m \u001b[1;32mdel\u001b[0m \u001b[0msol\u001b[0m\u001b[1;33m\u001b[0m\u001b[1;33m\u001b[0m\u001b[0m\n\u001b[1;32m---> 39\u001b[1;33m \u001b[0mprint\u001b[0m\u001b[1;33m(\u001b[0m\u001b[0msol\u001b[0m\u001b[1;33m)\u001b[0m\u001b[1;33m\u001b[0m\u001b[1;33m\u001b[0m\u001b[0m\n\u001b[0m",
      "\u001b[1;31mNameError\u001b[0m: name 'sol' is not defined"
     ]
    }
   ],
   "source": [
    "sol = ['태양', '수성', '금성', '지구','화성', '목성', '지구']\n",
    "sol1 = ['토성', '천왕성', '해왕성']\n",
    "#1. sol에서 수성, 금성, 지구를 출력하세요\n",
    "print(sol[1:4])\n",
    "#2. sol에서 지구 인덱스를 출력하세요\n",
    "print(sol.index('지구'))\n",
    "#3. sol에서 '화성'을 해왕성으로  수정하세요\n",
    "sol[sol.index('화성')]='해왕성'\n",
    "print(sol)\n",
    "#4. sol에서 수성자리에 명왕성을 삽입하세요\n",
    "sol.insert(sol.index('수성'), '명왕성')\n",
    "print(sol)\n",
    "#5. sol에서 마지막에 '토성'을 추가하세요\n",
    "sol.append('토성')\n",
    "print(sol)\n",
    "#6. sol에서 2번 인덱스를 삭제하세요\n",
    "sol.pop(2)\n",
    "print(sol)\n",
    "#7. sol에서 금성을 삭제하세요.\n",
    "sol.remove('금성')\n",
    "print(sol)\n",
    "#8. sol에서 오름차순 정렬하세요\n",
    "sol.sort()\n",
    "print(sol)\n",
    "#9. sol에서 '만리장성'이 있는지 확인하세요\n",
    "print('만리장성' in sol)\n",
    "#10. sol의 길이를 출력하세요\n",
    "print(len(sol))\n",
    "#11. sol과 sol1을 연결하세요\n",
    "print(sol+sol1)\n",
    "#12. sol뒤에 sol1을 붙이세요\n",
    "sol.extend(sol1)\n",
    "print(sol)\n",
    "#13. sol의 모든 요소를 삭제하세요\n",
    "sol.clear()\n",
    "print(sol)\n",
    "#14. sol 리스트를 삭제하세요\n",
    "del sol\n",
    "print(sol)"
   ]
  },
  {
   "cell_type": "code",
   "execution_count": null,
   "metadata": {},
   "outputs": [],
   "source": []
  }
 ],
 "metadata": {
  "kernelspec": {
   "display_name": "Python 3",
   "language": "python",
   "name": "python3"
  },
  "language_info": {
   "codemirror_mode": {
    "name": "ipython",
    "version": 3
   },
   "file_extension": ".py",
   "mimetype": "text/x-python",
   "name": "python",
   "nbconvert_exporter": "python",
   "pygments_lexer": "ipython3",
   "version": "3.7.4"
  }
 },
 "nbformat": 4,
 "nbformat_minor": 2
}
