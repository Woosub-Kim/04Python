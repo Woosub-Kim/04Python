{
 "cells": [
  {
   "cell_type": "markdown",
   "metadata": {},
   "source": [
    "# np.random"
   ]
  },
  {
   "cell_type": "code",
   "execution_count": 7,
   "metadata": {},
   "outputs": [
    {
     "name": "stdout",
     "output_type": "stream",
     "text": [
      "[[-0.09750474  0.46108458  1.0882975  -0.92463029 -1.99481315]\n",
      " [-0.01752015 -0.5682256  -0.75338214 -0.46478898 -1.23621732]\n",
      " [ 1.03728672 -0.19277796  0.43633861  0.6717044  -0.94907837]]\n",
      "6\n",
      "1\n",
      "[[0.61329845 0.51555235 0.22507432 0.79410178 0.55042   ]\n",
      " [0.35597906 0.05407566 0.32990801 0.40758314 0.21749263]\n",
      " [0.72032718 0.36079483 0.69242395 0.41480365 0.61932311]]\n",
      "4\n",
      "b'-\\xd6\\xbf0\\xf1'\n"
     ]
    },
    {
     "name": "stderr",
     "output_type": "stream",
     "text": [
      "C:\\Users\\103-04\\Anaconda3\\lib\\site-packages\\ipykernel_launcher.py:5: DeprecationWarning: This function is deprecated. Please call randint(1, 8 + 1) instead\n",
      "  \"\"\"\n"
     ]
    }
   ],
   "source": [
    "import numpy as np\n",
    "print( np.random.randn(3,5) )#  표준정규분포에서 난수 matrix array생성\n",
    "\n",
    "print( np.random.randint(10) )# 해당 범위에서 한개의 정수형 난수 생성\n",
    "print( np.random.random_integers(8) )\n",
    "\n",
    "#  0~1사이의 균일분포에서 난수 matrix array생성(주어진shape으로)\n",
    "print( np.random.rand(3,5) )\n",
    "#print( np.random.random_sample( (2,3) ) )\n",
    "#print( np.random.random( (2,3) ) )\n",
    "#print( np.random.ranf( (2,3) ) )\n",
    "#print( np.random.sample( (2,3)) )\n",
    "\n",
    "# Generates a random sample from a given 1-D array\n",
    "print( np.random.choice([1, 2, 3, 4]) )\n",
    "\n",
    "# Return random bytes.\n",
    "print( np.random.bytes(5) )"
   ]
  },
  {
   "cell_type": "code",
   "execution_count": null,
   "metadata": {},
   "outputs": [],
   "source": []
  }
 ],
 "metadata": {
  "kernelspec": {
   "display_name": "Python 3",
   "language": "python",
   "name": "python3"
  },
  "language_info": {
   "codemirror_mode": {
    "name": "ipython",
    "version": 3
   },
   "file_extension": ".py",
   "mimetype": "text/x-python",
   "name": "python",
   "nbconvert_exporter": "python",
   "pygments_lexer": "ipython3",
   "version": "3.7.4"
  }
 },
 "nbformat": 4,
 "nbformat_minor": 4
}
