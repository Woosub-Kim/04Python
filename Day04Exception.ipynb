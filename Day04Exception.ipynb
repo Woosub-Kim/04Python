{
 "cells": [
  {
   "cell_type": "markdown",
   "metadata": {},
   "source": [
    "# Exception"
   ]
  },
  {
   "cell_type": "code",
   "execution_count": 2,
   "metadata": {},
   "outputs": [],
   "source": [
    "f = open('new.txt','w')\n",
    "f.writelines(['abc\\n', 'efg\\n'])\n",
    "f.close()"
   ]
  },
  {
   "cell_type": "markdown",
   "metadata": {},
   "source": [
    "syntaxError:파이썬 문법오류<br/>\n",
    "NameError: 변수를 찾을 수 없을 때<br/>\n",
    "TpyeError:unsupported operand type<br/>\n",
    "ZeroDivisionError: 0으로 나누었을 때<br/>\n",
    "IndexError: 인덱용자에 의한 중단<br/>\n",
    "KeyboardInterrupt: 사용자에 의한 중단<br/>\n",
    "ValueError: invalid literal for int()<br/>\n",
    "OSError: 시스템에러"
   ]
  },
  {
   "cell_type": "code",
   "execution_count": 13,
   "metadata": {},
   "outputs": [
    {
     "name": "stdout",
     "output_type": "stream",
     "text": [
      "안녕하세요\n"
     ]
    },
    {
     "ename": "NameError",
     "evalue": "name 'param' is not defined",
     "output_type": "error",
     "traceback": [
      "\u001b[1;31m---------------------------------------------------------------------------\u001b[0m",
      "\u001b[1;31mNameError\u001b[0m                                 Traceback (most recent call last)",
      "\u001b[1;32m<ipython-input-13-4e402718d83a>\u001b[0m in \u001b[0;36m<module>\u001b[1;34m\u001b[0m\n\u001b[0;32m      1\u001b[0m \u001b[0mprint\u001b[0m\u001b[1;33m(\u001b[0m\u001b[1;34m'안녕하세요'\u001b[0m\u001b[1;33m)\u001b[0m\u001b[1;33m\u001b[0m\u001b[1;33m\u001b[0m\u001b[0m\n\u001b[1;32m----> 2\u001b[1;33m \u001b[0mprint\u001b[0m\u001b[1;33m(\u001b[0m\u001b[0mparam\u001b[0m\u001b[1;33m)\u001b[0m\u001b[1;33m\u001b[0m\u001b[1;33m\u001b[0m\u001b[0m\n\u001b[0m\u001b[0;32m      3\u001b[0m \u001b[0mprint\u001b[0m\u001b[1;33m(\u001b[0m\u001b[1;34m'Hello Python'\u001b[0m\u001b[1;33m)\u001b[0m\u001b[1;33m\u001b[0m\u001b[1;33m\u001b[0m\u001b[0m\n",
      "\u001b[1;31mNameError\u001b[0m: name 'param' is not defined"
     ]
    }
   ],
   "source": [
    "print('안녕하세요')\n",
    "print(param)\n",
    "print('Hello Python')"
   ]
  },
  {
   "cell_type": "code",
   "execution_count": 14,
   "metadata": {},
   "outputs": [
    {
     "name": "stdout",
     "output_type": "stream",
     "text": [
      "안녕하세요\n",
      "error occured\n",
      "Good bye\n"
     ]
    }
   ],
   "source": [
    "try:\n",
    "    print('안녕하세요')\n",
    "    print(param)\n",
    "    print('Hello Python')\n",
    "except:\n",
    "    print('error occured')\n",
    "finally:\n",
    "    print('Good bye')"
   ]
  },
  {
   "cell_type": "code",
   "execution_count": 17,
   "metadata": {},
   "outputs": [
    {
     "name": "stdout",
     "output_type": "stream",
     "text": [
      "안녕하세요\n",
      "error\n",
      "hello python\n"
     ]
    }
   ],
   "source": [
    "try:\n",
    "    print('안녕하세요')\n",
    "    print(param)\n",
    "    print('날씨가 좋네요')\n",
    "except:\n",
    "    print('error')\n",
    "    \n",
    "print('hello python')\n"
   ]
  },
  {
   "cell_type": "code",
   "execution_count": 19,
   "metadata": {},
   "outputs": [
    {
     "name": "stdout",
     "output_type": "stream",
     "text": [
      "hi\n",
      "param\n",
      "예외가 발생하지 않음\n"
     ]
    }
   ],
   "source": [
    "try:\n",
    "    print('hi')\n",
    "    print('param')\n",
    "except:\n",
    "    print('error')\n",
    "else:\n",
    "    print('예외가 발생하지 않음')\n",
    "\n",
    "    "
   ]
  },
  {
   "cell_type": "code",
   "execution_count": 20,
   "metadata": {},
   "outputs": [
    {
     "name": "stdout",
     "output_type": "stream",
     "text": [
      "hello\n",
      "error\n",
      "absolutly executed\n"
     ]
    }
   ],
   "source": [
    "try:\n",
    "    print('hello')\n",
    "    print(param)\n",
    "exceprint('error')\n",
    "finally:\n",
    "    print('무조건 실행')"
   ]
  },
  {
   "cell_type": "code",
   "execution_count": 21,
   "metadata": {},
   "outputs": [
    {
     "name": "stdout",
     "output_type": "stream",
     "text": [
      "name 'param' is not defined\n"
     ]
    }
   ],
   "source": [
    "try:\n",
    "    print(param)\n",
    "except Exception as e:\n",
    "    print(e)"
   ]
  },
  {
   "cell_type": "code",
   "execution_count": 23,
   "metadata": {},
   "outputs": [
    {
     "name": "stdout",
     "output_type": "stream",
     "text": [
      "name 'a' is not defined\n",
      "hello python\n"
     ]
    }
   ],
   "source": [
    "try: \n",
    "    c = a/b\n",
    "except Exception as e:\n",
    "    print(e)\n",
    "    \n",
    "print('hello python')"
   ]
  },
  {
   "cell_type": "code",
   "execution_count": 24,
   "metadata": {},
   "outputs": [
    {
     "name": "stdout",
     "output_type": "stream",
     "text": [
      "hello\n",
      "division by zero\n",
      "hello python\n"
     ]
    }
   ],
   "source": [
    "a = 5\n",
    "b = 0\n",
    "c = [1,2,3]\n",
    "print('hello')\n",
    "\n",
    "try:\n",
    "    c = a/b\n",
    "except Exception as e:\n",
    "    print(e)\n",
    "print('hello python')"
   ]
  },
  {
   "cell_type": "code",
   "execution_count": 25,
   "metadata": {},
   "outputs": [
    {
     "name": "stdout",
     "output_type": "stream",
     "text": [
      "hello\n",
      "list index out of range\n",
      "hello python\n"
     ]
    }
   ],
   "source": [
    "a = 5\n",
    "b = 0\n",
    "c = [1,2,3]\n",
    "print('hello')\n",
    "\n",
    "try:\n",
    "    print(L[3])\n",
    "except Exception as e:\n",
    "    print(e)\n",
    "print('hello python')"
   ]
  },
  {
   "cell_type": "code",
   "execution_count": 31,
   "metadata": {},
   "outputs": [
    {
     "name": "stdout",
     "output_type": "stream",
     "text": [
      "1\n",
      "2\n",
      "3\n",
      "4\n",
      "5\n",
      "6\n",
      "7\n",
      "8\n",
      "9\n",
      "10\n",
      "11\n",
      "12\n",
      "13\n",
      "14\n",
      "15\n",
      "사용자에 의한 프로그램 종료\n",
      "Hello Python\n"
     ]
    }
   ],
   "source": [
    "import time\n",
    "count = 1\n",
    "try:\n",
    "    while True:\n",
    "        print(count)\n",
    "        count += 1\n",
    "        time.sleep(0.5)\n",
    "except KeyboardInterrupt:\n",
    "    print('사용자에 의한 프로그램 종료')\n",
    "\n",
    "print('Hello Python')"
   ]
  },
  {
   "cell_type": "code",
   "execution_count": 32,
   "metadata": {},
   "outputs": [
    {
     "name": "stdout",
     "output_type": "stream",
     "text": [
      "깡총\n",
      "깡총\n",
      "깡총\n",
      "깡총\n",
      "깡총\n"
     ]
    }
   ],
   "source": [
    "import time\n",
    "def jump(count):\n",
    "    for i in range(count):\n",
    "        print(\"깡총\")\n",
    "        time.sleep(1)\n",
    "jump(5)"
   ]
  },
  {
   "cell_type": "code",
   "execution_count": 37,
   "metadata": {},
   "outputs": [
    {
     "name": "stdout",
     "output_type": "stream",
     "text": [
      "a:  5\n",
      "b:  0\n",
      "cannot divide by zero\n"
     ]
    }
   ],
   "source": [
    "a = 5\n",
    "b = 0\n",
    "print('a: ',a)\n",
    "print('b: ',b)\n",
    "\n",
    "try:\n",
    "    c = a/b\n",
    "except ZeroDivisionError:\n",
    "    print('cannot divide by zero')\n",
    "else:\n",
    "    print(c)"
   ]
  },
  {
   "cell_type": "code",
   "execution_count": 40,
   "metadata": {},
   "outputs": [
    {
     "name": "stdout",
     "output_type": "stream",
     "text": [
      "a:  5\n",
      "b:  0\n",
      "cannot divide by zero\n",
      "good bye\n"
     ]
    }
   ],
   "source": [
    "a = 5\n",
    "b = 0\n",
    "L=[1,2,3]\n",
    "print('a: ',a)\n",
    "print('b: ',b)\n",
    "\n",
    "try:\n",
    "    c = a/b\n",
    "    print(x)\n",
    "    print(L[3])\n",
    "except ZeroDivisionError:\n",
    "    print('cannot divide by zero')\n",
    "except NameError:\n",
    "    print(\"cannot find 'x'\")\n",
    "except IndexError:\n",
    "    print(\"index out of range\")\n",
    "else:\n",
    "    print('else part')\n",
    "# out of try\n",
    "print('good bye')"
   ]
  },
  {
   "cell_type": "code",
   "execution_count": 41,
   "metadata": {
    "scrolled": true
   },
   "outputs": [
    {
     "name": "stdout",
     "output_type": "stream",
     "text": [
      "a:  5\n",
      "b:  1\n",
      "cannot find 'x'\n",
      "good bye\n"
     ]
    }
   ],
   "source": [
    "a = 5\n",
    "b = 1\n",
    "L=[1,2,3]\n",
    "print('a: ',a)\n",
    "print('b: ',b)\n",
    "\n",
    "try:\n",
    "    c = a/b\n",
    "    print(x)\n",
    "    print(L[3])\n",
    "except ZeroDivisionError:\n",
    "    print('cannot divide by zero')\n",
    "except NameError:\n",
    "    print(\"cannot find 'x'\")\n",
    "except IndexError:\n",
    "    print(\"index out of range\")\n",
    "else:\n",
    "    print('else part')\n",
    "# out of try\n",
    "print('good bye')"
   ]
  },
  {
   "cell_type": "code",
   "execution_count": 43,
   "metadata": {},
   "outputs": [
    {
     "name": "stdout",
     "output_type": "stream",
     "text": [
      "a:  5\n",
      "b:  1\n",
      "index out of range\n",
      "finally part\n",
      "good bye\n"
     ]
    }
   ],
   "source": [
    "a = 5\n",
    "b = 1\n",
    "L=[1,2,3]\n",
    "print('a: ',a)\n",
    "print('b: ',b)\n",
    "\n",
    "try:\n",
    "    c = a/b\n",
    "#    print(x)\n",
    "    print(L[3])\n",
    "except ZeroDivisionError:\n",
    "    print('cannot divide by zero')\n",
    "except NameError:\n",
    "    print(\"cannot find 'x'\")\n",
    "except IndexError:\n",
    "    print(\"index out of range\")\n",
    "else:\n",
    "    print('else part')\n",
    "finally:\n",
    "    print('finally part')\n",
    "# out of try\n",
    "print('good bye')"
   ]
  },
  {
   "cell_type": "code",
   "execution_count": 46,
   "metadata": {},
   "outputs": [
    {
     "name": "stdout",
     "output_type": "stream",
     "text": [
      "a:  5\n",
      "b:  1\n",
      "3\n",
      "else part\n",
      "finally part\n",
      "good bye\n"
     ]
    }
   ],
   "source": [
    "a = 5\n",
    "b = 1\n",
    "L=[1,2,3]\n",
    "print('a: ',a)\n",
    "print('b: ',b)\n",
    "\n",
    "try:\n",
    "    c = a/b\n",
    "#    print(x)\n",
    "    print(L[2])\n",
    "except ZeroDivisionError:\n",
    "    print('cannot divide by zero')\n",
    "except NameError:\n",
    "    print(\"cannot find 'x'\")\n",
    "except IndexError:\n",
    "    print(\"index out of range\")\n",
    "else:\n",
    "    print('else part')\n",
    "finally:\n",
    "    print('finally part')\n",
    "# out of try\n",
    "print('good bye')"
   ]
  },
  {
   "cell_type": "code",
   "execution_count": 48,
   "metadata": {},
   "outputs": [
    {
     "name": "stdout",
     "output_type": "stream",
     "text": [
      "나눌 숫자를 입력하세요0\n",
      "0으로 나누면 안돼요\n"
     ]
    }
   ],
   "source": [
    "number = int(input('나눌 숫자를 입력하세요'))\n",
    "try: \n",
    "    result = 10/number\n",
    "except ZeroDivisionError:\n",
    "    print('0으로 나누면 안돼요')\n",
    "else:\n",
    "    print(result)"
   ]
  },
  {
   "cell_type": "code",
   "execution_count": 54,
   "metadata": {},
   "outputs": [
    {
     "name": "stdout",
     "output_type": "stream",
     "text": [
      "나눌 숫자를 입력..ㅏ\n",
      "숫자만 입력하세요\n"
     ]
    }
   ],
   "source": [
    "try:\n",
    "    number = int(input('나눌 숫자를 입력..'))\n",
    "    result = 10/number\n",
    "except ValueError:\n",
    "    print('숫자만 입력하세요')\n",
    "except ZeroDivisionError:\n",
    "    print('0으로 나눌 수 없습니다.')\n",
    "except:\n",
    "    print('예상 밖..')\n",
    "else:\n",
    "    print(result)"
   ]
  },
  {
   "cell_type": "code",
   "execution_count": 56,
   "metadata": {},
   "outputs": [
    {
     "name": "stdout",
     "output_type": "stream",
     "text": [
      "시스템에러:  [Errno 2] No such file or directory: '없는파일.txt'\n"
     ]
    }
   ],
   "source": [
    "def openfile():\n",
    "    file = open('없는파일.txt')\n",
    "    linr = file.readline()\n",
    "    number = int(line.strip())\n",
    "    \n",
    "try:\n",
    "    openfile()\n",
    "except OSError as err:\n",
    "    print('시스템에러: ', err)\n",
    "except:\n",
    "    print('예측 밖 오류')\n",
    "else:\n",
    "    print(number)"
   ]
  },
  {
   "cell_type": "code",
   "execution_count": 57,
   "metadata": {},
   "outputs": [
    {
     "name": "stdout",
     "output_type": "stream",
     "text": [
      "w\n"
     ]
    },
    {
     "ename": "ValueError",
     "evalue": "invalid literal for int() with base 10: 'w'",
     "output_type": "error",
     "traceback": [
      "\u001b[1;31m---------------------------------------------------------------------------\u001b[0m",
      "\u001b[1;31mValueError\u001b[0m                                Traceback (most recent call last)",
      "\u001b[1;32m<ipython-input-57-2ad52a4b3ef5>\u001b[0m in \u001b[0;36m<module>\u001b[1;34m\u001b[0m\n\u001b[1;32m----> 1\u001b[1;33m \u001b[0mint\u001b[0m\u001b[1;33m(\u001b[0m\u001b[0minput\u001b[0m\u001b[1;33m(\u001b[0m\u001b[1;33m)\u001b[0m\u001b[1;33m)\u001b[0m\u001b[1;33m\u001b[0m\u001b[1;33m\u001b[0m\u001b[0m\n\u001b[0m",
      "\u001b[1;31mValueError\u001b[0m: invalid literal for int() with base 10: 'w'"
     ]
    }
   ],
   "source": [
    "int(input())"
   ]
  },
  {
   "cell_type": "code",
   "execution_count": 58,
   "metadata": {},
   "outputs": [
    {
     "ename": "TypeError",
     "evalue": "unsupported operand type(s) for /: 'int' and 'str'",
     "output_type": "error",
     "traceback": [
      "\u001b[1;31m---------------------------------------------------------------------------\u001b[0m",
      "\u001b[1;31mTypeError\u001b[0m                                 Traceback (most recent call last)",
      "\u001b[1;32m<ipython-input-58-e6c62caba9a9>\u001b[0m in \u001b[0;36m<module>\u001b[1;34m\u001b[0m\n\u001b[1;32m----> 1\u001b[1;33m \u001b[1;36m3\u001b[0m\u001b[1;33m/\u001b[0m\u001b[1;34m's'\u001b[0m\u001b[1;33m\u001b[0m\u001b[1;33m\u001b[0m\u001b[0m\n\u001b[0m",
      "\u001b[1;31mTypeError\u001b[0m: unsupported operand type(s) for /: 'int' and 'str'"
     ]
    }
   ],
   "source": [
    "3/'s'"
   ]
  },
  {
   "cell_type": "code",
   "execution_count": 59,
   "metadata": {},
   "outputs": [
    {
     "name": "stdout",
     "output_type": "stream",
     "text": [
      "hello world\n"
     ]
    }
   ],
   "source": [
    "def writeFile():\n",
    "    try:\n",
    "        f = open('file', 'w')\n",
    "        try:\n",
    "            f.write('hello world')\n",
    "        finally:\n",
    "            f.close()\n",
    "    except IOError:\n",
    "        print('oops!')\n",
    "        \n",
    "def readFile():\n",
    "    try:\n",
    "        f=open('file', 'r')\n",
    "        line = f.readline()\n",
    "    except IOError:\n",
    "        print('oops!')\n",
    "    else:\n",
    "        print(line)\n",
    "    finally:\n",
    "        f.close()\n",
    "# main\n",
    "writeFile()\n",
    "readFile()"
   ]
  },
  {
   "cell_type": "code",
   "execution_count": null,
   "metadata": {},
   "outputs": [],
   "source": []
  }
 ],
 "metadata": {
  "kernelspec": {
   "display_name": "Python 3",
   "language": "python",
   "name": "python3"
  },
  "language_info": {
   "codemirror_mode": {
    "name": "ipython",
    "version": 3
   },
   "file_extension": ".py",
   "mimetype": "text/x-python",
   "name": "python",
   "nbconvert_exporter": "python",
   "pygments_lexer": "ipython3",
   "version": "3.7.4"
  }
 },
 "nbformat": 4,
 "nbformat_minor": 2
}
