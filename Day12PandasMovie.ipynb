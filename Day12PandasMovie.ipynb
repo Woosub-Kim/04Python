{
 "cells": [
  {
   "cell_type": "code",
   "execution_count": 1,
   "metadata": {},
   "outputs": [],
   "source": [
    "# corr()\n",
    "# srt.contains()\n",
    "# value_counts()\n",
    "# sort_values()\n",
    "import pandas as pd\n",
    "import numpy as np\n",
    "import matplotlib.pyplot as plt"
   ]
  },
  {
   "cell_type": "code",
   "execution_count": 16,
   "metadata": {},
   "outputs": [
    {
     "data": {
      "text/html": [
       "<div>\n",
       "<style scoped>\n",
       "    .dataframe tbody tr th:only-of-type {\n",
       "        vertical-align: middle;\n",
       "    }\n",
       "\n",
       "    .dataframe tbody tr th {\n",
       "        vertical-align: top;\n",
       "    }\n",
       "\n",
       "    .dataframe thead th {\n",
       "        text-align: right;\n",
       "    }\n",
       "</style>\n",
       "<table border=\"1\" class=\"dataframe\">\n",
       "  <thead>\n",
       "    <tr style=\"text-align: right;\">\n",
       "      <th></th>\n",
       "      <th>영화명</th>\n",
       "      <th>개봉일</th>\n",
       "      <th>영화유형</th>\n",
       "      <th>국적</th>\n",
       "      <th>스크린수</th>\n",
       "      <th>매출액</th>\n",
       "      <th>관객수</th>\n",
       "      <th>장르</th>\n",
       "      <th>등급</th>\n",
       "    </tr>\n",
       "  </thead>\n",
       "  <tbody>\n",
       "    <tr>\n",
       "      <td>1</td>\n",
       "      <td>명량</td>\n",
       "      <td>2014-07-30</td>\n",
       "      <td>개봉영화</td>\n",
       "      <td>한국</td>\n",
       "      <td>1,587</td>\n",
       "      <td>135,748,398,910</td>\n",
       "      <td>17,613,682</td>\n",
       "      <td>사극</td>\n",
       "      <td>15세이상관람가</td>\n",
       "    </tr>\n",
       "    <tr>\n",
       "      <td>2</td>\n",
       "      <td>극한직업</td>\n",
       "      <td>2019-01-23</td>\n",
       "      <td>개봉영화</td>\n",
       "      <td>한국</td>\n",
       "      <td>1,978</td>\n",
       "      <td>139,647,979,516</td>\n",
       "      <td>16,264,944</td>\n",
       "      <td>코미디</td>\n",
       "      <td>15세이상관람가</td>\n",
       "    </tr>\n",
       "    <tr>\n",
       "      <td>3</td>\n",
       "      <td>신과함께-죄와 벌</td>\n",
       "      <td>2017-12-20</td>\n",
       "      <td>개봉영화</td>\n",
       "      <td>한국</td>\n",
       "      <td>1,912</td>\n",
       "      <td>115,698,654,137</td>\n",
       "      <td>14,410,754</td>\n",
       "      <td>판타지</td>\n",
       "      <td>12세이상관람가</td>\n",
       "    </tr>\n",
       "    <tr>\n",
       "      <td>4</td>\n",
       "      <td>국제시장</td>\n",
       "      <td>2014-12-17</td>\n",
       "      <td>개봉영화</td>\n",
       "      <td>한국</td>\n",
       "      <td>966</td>\n",
       "      <td>110,828,014,630</td>\n",
       "      <td>14,245,998</td>\n",
       "      <td>드라마</td>\n",
       "      <td>12세이상관람가</td>\n",
       "    </tr>\n",
       "    <tr>\n",
       "      <td>5</td>\n",
       "      <td>어벤져스: 엔드게임</td>\n",
       "      <td>2019-04-24</td>\n",
       "      <td>개봉영화</td>\n",
       "      <td>미국</td>\n",
       "      <td>2,835</td>\n",
       "      <td>122,182,694,160</td>\n",
       "      <td>13,934,592</td>\n",
       "      <td>액션</td>\n",
       "      <td>12세이상관람가</td>\n",
       "    </tr>\n",
       "  </tbody>\n",
       "</table>\n",
       "</div>"
      ],
      "text/plain": [
       "          영화명         개봉일  영화유형  국적   스크린수              매출액         관객수   장르  \\\n",
       "1          명량  2014-07-30  개봉영화  한국  1,587  135,748,398,910  17,613,682   사극   \n",
       "2        극한직업  2019-01-23  개봉영화  한국  1,978  139,647,979,516  16,264,944  코미디   \n",
       "3   신과함께-죄와 벌  2017-12-20  개봉영화  한국  1,912  115,698,654,137  14,410,754  판타지   \n",
       "4        국제시장  2014-12-17  개봉영화  한국    966  110,828,014,630  14,245,998  드라마   \n",
       "5  어벤져스: 엔드게임  2019-04-24  개봉영화  미국  2,835  122,182,694,160  13,934,592   액션   \n",
       "\n",
       "         등급  \n",
       "1  15세이상관람가  \n",
       "2  15세이상관람가  \n",
       "3  12세이상관람가  \n",
       "4  12세이상관람가  \n",
       "5  12세이상관람가  "
      ]
     },
     "execution_count": 16,
     "metadata": {},
     "output_type": "execute_result"
    }
   ],
   "source": []
  },
  {
   "cell_type": "code",
   "execution_count": 32,
   "metadata": {},
   "outputs": [
    {
     "name": "stdout",
     "output_type": "stream",
     "text": [
      "영화명       0\n",
      "개봉일      18\n",
      "영화유형      0\n",
      "국적        9\n",
      "스크린수      0\n",
      "매출액     227\n",
      "관객수       0\n",
      "장르      101\n",
      "등급       50\n",
      "dtype: int64\n",
      "<class 'pandas.core.frame.DataFrame'>\n",
      "Int64Index: 19704 entries, 1 to 19704\n",
      "Data columns (total 9 columns):\n",
      "영화명     19704 non-null object\n",
      "개봉일     19704 non-null object\n",
      "영화유형    19704 non-null object\n",
      "국적      19704 non-null object\n",
      "스크린수    19704 non-null int64\n",
      "매출액     19704 non-null int64\n",
      "관객수     19704 non-null int64\n",
      "장르      19704 non-null object\n",
      "등급      19704 non-null object\n",
      "dtypes: int64(3), object(6)\n",
      "memory usage: 1.5+ MB\n"
     ]
    }
   ],
   "source": [
    "# From kobis.or.kr\n",
    "#CSV파일 건너뛰어 읽기\n",
    "df = pd.read_csv('./ad/KOBIS_개봉일람_2019-10-26.csv',skiprows=5)\n",
    "df.rename(columns={'전국':'스크린수', '전국.1':'매출액', '전국.2':'관객수','서울':'서울매출액', '서울.1':'서울관객수'}, inplace=True)\n",
    "df.drop(0, inplace=True)\n",
    "df.drop(['순번', '제작사', '수입사', '배급사', '서울매출액', '서울관객수', '감독', '영화구분', '영화형태'], axis=1, inplace=True)\n",
    "# null확인\n",
    "print(df.isnull().sum(axis=0))\n",
    "#  null 0으로 채우기\n",
    "df.fillna('0', inplace=True)\n",
    "# 숫자 데이터 정수형으로\n",
    "df['스크린수'] = df.스크린수.apply(lambda x: int(x.replace(',','')))\n",
    "df['매출액'] = df.매출액.apply(lambda x: int(x.replace(',','')))\n",
    "df['관객수'] = df.관객수.apply(lambda x: int(x.replace(',','')))\n",
    "df.info()"
   ]
  },
  {
   "cell_type": "code",
   "execution_count": 46,
   "metadata": {},
   "outputs": [
    {
     "name": "stdout",
     "output_type": "stream",
     "text": [
      "국적\n",
      "한국     8984898889995\n",
      "미국     7603096955226\n",
      "일본      278292077442\n",
      "영국      170372907804\n",
      "프랑스     130439668878\n",
      "Name: 매출액, dtype: int64\n",
      "국적\n",
      "한국          1.611063e+09\n",
      "미국          1.325736e+09\n",
      "벨기에         9.617898e+08\n",
      "남아프리카공화국    7.712174e+08\n",
      "아이슬란드       4.042822e+08\n",
      "Name: 매출액, dtype: float64\n",
      "국적\n",
      "한국     1621837250\n",
      "미국     1228810827\n",
      "일본       53483206\n",
      "영국       29385938\n",
      "프랑스      21751672\n",
      "Name: 관객수, dtype: int64\n",
      "국적\n",
      "0           349860.888889\n",
      "한국          290808.185404\n",
      "미국          214265.183435\n",
      "벨기에         125539.823529\n",
      "남아프리카공화국    108967.600000\n",
      "Name: 관객수, dtype: float64\n"
     ]
    },
    {
     "data": {
      "text/plain": [
       "<matplotlib.axes._subplots.AxesSubplot at 0x9086308>"
      ]
     },
     "execution_count": 46,
     "metadata": {},
     "output_type": "execute_result"
    },
    {
     "data": {
      "image/png": "[encoded data removed]",
      "text/plain": [
       "<Figure size 432x288 with 1 Axes>"
      ]
     },
     "metadata": {
      "needs_background": "light"
     },
     "output_type": "display_data"
    }
   ],
   "source": [
    "# 국가별 매출액합 상위 5개국\n",
    "print(df.groupby('국적').매출액.sum().sort_values(ascending=False).head())\n",
    "\n",
    "# 매출액\n",
    "print(df.groupby('국적').매출액.mean().sort_values(ascending=False).head())\n",
    "print(df.groupby('국적').관객수.sum().sort_values(ascending=False).head())\n",
    "print(df.groupby('국적').관객수.mean().sort_values(ascending=False).head())\n",
    "\n"
   ]
  },
  {
   "cell_type": "code",
   "execution_count": 73,
   "metadata": {},
   "outputs": [
    {
     "data": {
      "text/plain": [
       "<matplotlib.axes._subplots.AxesSubplot at 0x864e788>"
      ]
     },
     "execution_count": 73,
     "metadata": {},
     "output_type": "execute_result"
    },
    {
     "data": {
      "image/png": "[encoded data removed]",
      "text/plain": [
       "<Figure size 432x288 with 1 Axes>"
      ]
     },
     "metadata": {
      "needs_background": "light"
     },
     "output_type": "display_data"
    }
   ],
   "source": [
    "# matplotlib 한글화 코드\n",
    "import matplotlib as mpl\n",
    "\n",
    "import matplotlib.font_manager as fm\n",
    "\n",
    "\n",
    "\n",
    "mpl.rcParams['axes.unicode_minus'] = False\n",
    "\n",
    "\n",
    "\n",
    "path = 'C:/Windows/Fonts/malgun.ttf'\n",
    "\n",
    "font_name = fm.FontProperties(fname=path, size=50).get_name()\n",
    "\n",
    "plt.rc('font', family=font_name)\n",
    "df.groupby('국적').매출액.sum().sort_values(ascending=False).head().plot(kind='bar')"
   ]
  },
  {
   "cell_type": "code",
   "execution_count": 72,
   "metadata": {},
   "outputs": [
    {
     "data": {
      "text/plain": [
       "<matplotlib.axes._subplots.AxesSubplot at 0xb6fcc08>"
      ]
     },
     "execution_count": 72,
     "metadata": {},
     "output_type": "execute_result"
    },
    {
     "data": {
      "image/png": "[encoded data removed]",
      "text/plain": [
       "<Figure size 432x288 with 1 Axes>"
      ]
     },
     "metadata": {},
     "output_type": "display_data"
    }
   ],
   "source": [
    "df.groupby('국적').매출액.sum().sort_values(ascending=False).head(5).plot(kind='pie')"
   ]
  },
  {
   "cell_type": "code",
   "execution_count": 54,
   "metadata": {},
   "outputs": [
    {
     "name": "stdout",
     "output_type": "stream",
     "text": [
      "    영화명         개봉일  영화유형  국적  스크린수           매출액       관객수   장르        등급\n",
      "2  극한직업  2019-01-23  개봉영화  한국  1978  139647979516  16264944  코미디  15세이상관람가\n",
      "  영화명         개봉일  영화유형  국적  스크린수           매출액       관객수  장르        등급\n",
      "1  명량  2014-07-30  개봉영화  한국  1587  135748398910  17613682  사극  15세이상관람가\n"
     ]
    }
   ],
   "source": [
    "# 매출액이 가장 큰 영화는\n",
    "print(df[df.매출액 == df.매출액.max()])\n",
    "# 관객수가 가장 많았던 영화\n",
    "print(df[df.관객수 == df.관객수.max()])"
   ]
  },
  {
   "cell_type": "code",
   "execution_count": 67,
   "metadata": {},
   "outputs": [
    {
     "name": "stdout",
     "output_type": "stream",
     "text": [
      "국적\n",
      "미국      5735\n",
      "한국      5577\n",
      "일본      3474\n",
      "홍콩       896\n",
      "프랑스      823\n",
      "영국       623\n",
      "중국       381\n",
      "독일       328\n",
      "이탈리아     293\n",
      "캐나다      225\n",
      "Name: 영화명, dtype: int64\n"
     ]
    },
    {
     "data": {
      "text/plain": [
       "<matplotlib.axes._subplots.AxesSubplot at 0xb625f48>"
      ]
     },
     "execution_count": 67,
     "metadata": {},
     "output_type": "execute_result"
    },
    {
     "data": {
      "image/png": "[encoded data removed]",
      "text/plain": [
       "<Figure size 432x288 with 1 Axes>"
      ]
     },
     "metadata": {
      "needs_background": "light"
     },
     "output_type": "display_data"
    }
   ],
   "source": [
    "# 각 국가별 갯수 상위 10개국\n",
    "print(df.groupby('국적').영화명.count().sort_values(ascending=False).head(10))\n",
    "\n",
    "df.groupby('국적').영화명.count().sort_values(ascending=False).head(10).plot(kind='bar')\n"
   ]
  },
  {
   "cell_type": "code",
   "execution_count": 66,
   "metadata": {},
   "outputs": [
    {
     "name": "stdout",
     "output_type": "stream",
     "text": [
      "국적\n",
      "한국          1.611063e+09\n",
      "미국          1.325736e+09\n",
      "벨기에         9.617898e+08\n",
      "남아프리카공화국    7.712174e+08\n",
      "아이슬란드       4.042822e+08\n",
      "인도          3.999998e+08\n",
      "영국          2.734718e+08\n",
      "아일랜드        2.669885e+08\n",
      "페루          1.913412e+08\n",
      "중국          1.770558e+08\n",
      "Name: 매출액, dtype: float64\n"
     ]
    },
    {
     "data": {
      "text/plain": [
       "<matplotlib.axes._subplots.AxesSubplot at 0xb5236c8>"
      ]
     },
     "execution_count": 66,
     "metadata": {},
     "output_type": "execute_result"
    },
    {
     "data": {
      "image/png": "[encoded data removed]",
      "text/plain": [
       "<Figure size 432x288 with 1 Axes>"
      ]
     },
     "metadata": {
      "needs_background": "light"
     },
     "output_type": "display_data"
    }
   ],
   "source": [
    "# 각 국가별 평균매출액 상위10개국\n",
    "print(df.groupby('국적').매출액.mean().sort_values(ascending=False).head(10))\n",
    "df.groupby('국적').매출액.mean().sort_values(ascending=False).head(10).plot(kind='bar')"
   ]
  },
  {
   "cell_type": "code",
   "execution_count": 70,
   "metadata": {},
   "outputs": [
    {
     "data": {
      "text/plain": [
       "172212"
      ]
     },
     "execution_count": 70,
     "metadata": {},
     "output_type": "execute_result"
    }
   ],
   "source": [
    "ubd = int(df[df.영화명=='자전차왕 엄복동'].관객수)\n",
    "ubd"
   ]
  },
  {
   "cell_type": "code",
   "execution_count": 74,
   "metadata": {},
   "outputs": [
    {
     "data": {
      "text/plain": [
       "<matplotlib.axes._subplots.AxesSubplot at 0xb7f1548>"
      ]
     },
     "execution_count": 74,
     "metadata": {},
     "output_type": "execute_result"
    },
    {
     "data": {
      "image/png": "[encoded data removed]",
      "text/plain": [
       "<Figure size 432x288 with 1 Axes>"
      ]
     },
     "metadata": {
      "needs_background": "light"
     },
     "output_type": "display_data"
    }
   ],
   "source": [
    "# 그래프를 통해서 매출액과 관객수/ 매출액과 스크린수의 관계를 보이시오\n",
    "df.plot(x='관객수', y='매출액', kind='scatter')"
   ]
  },
  {
   "cell_type": "code",
   "execution_count": 75,
   "metadata": {},
   "outputs": [
    {
     "data": {
      "text/plain": [
       "<matplotlib.axes._subplots.AxesSubplot at 0xb7ec048>"
      ]
     },
     "execution_count": 75,
     "metadata": {},
     "output_type": "execute_result"
    },
    {
     "data": {
      "image/png": "[encoded data removed]",
      "text/plain": [
       "<Figure size 432x288 with 1 Axes>"
      ]
     },
     "metadata": {
      "needs_background": "light"
     },
     "output_type": "display_data"
    }
   ],
   "source": [
    "df.plot(x='스크린수', y='매출액', kind='scatter')"
   ]
  },
  {
   "cell_type": "code",
   "execution_count": 77,
   "metadata": {},
   "outputs": [
    {
     "data": {
      "text/html": [
       "<div>\n",
       "<style scoped>\n",
       "    .dataframe tbody tr th:only-of-type {\n",
       "        vertical-align: middle;\n",
       "    }\n",
       "\n",
       "    .dataframe tbody tr th {\n",
       "        vertical-align: top;\n",
       "    }\n",
       "\n",
       "    .dataframe thead th {\n",
       "        text-align: right;\n",
       "    }\n",
       "</style>\n",
       "<table border=\"1\" class=\"dataframe\">\n",
       "  <thead>\n",
       "    <tr style=\"text-align: right;\">\n",
       "      <th></th>\n",
       "      <th>영화명</th>\n",
       "      <th>개봉일</th>\n",
       "      <th>영화유형</th>\n",
       "      <th>국적</th>\n",
       "      <th>스크린수</th>\n",
       "      <th>매출액</th>\n",
       "      <th>관객수</th>\n",
       "      <th>장르</th>\n",
       "      <th>등급</th>\n",
       "    </tr>\n",
       "  </thead>\n",
       "  <tbody>\n",
       "    <tr>\n",
       "      <td>1</td>\n",
       "      <td>명량</td>\n",
       "      <td>2014-07-30</td>\n",
       "      <td>개봉영화</td>\n",
       "      <td>한국</td>\n",
       "      <td>1587</td>\n",
       "      <td>135748398910</td>\n",
       "      <td>17613682</td>\n",
       "      <td>사극</td>\n",
       "      <td>15세이상관람가</td>\n",
       "    </tr>\n",
       "    <tr>\n",
       "      <td>2</td>\n",
       "      <td>극한직업</td>\n",
       "      <td>2019-01-23</td>\n",
       "      <td>개봉영화</td>\n",
       "      <td>한국</td>\n",
       "      <td>1978</td>\n",
       "      <td>139647979516</td>\n",
       "      <td>16264944</td>\n",
       "      <td>코미디</td>\n",
       "      <td>15세이상관람가</td>\n",
       "    </tr>\n",
       "    <tr>\n",
       "      <td>3</td>\n",
       "      <td>신과함께-죄와 벌</td>\n",
       "      <td>2017-12-20</td>\n",
       "      <td>개봉영화</td>\n",
       "      <td>한국</td>\n",
       "      <td>1912</td>\n",
       "      <td>115698654137</td>\n",
       "      <td>14410754</td>\n",
       "      <td>판타지</td>\n",
       "      <td>12세이상관람가</td>\n",
       "    </tr>\n",
       "  </tbody>\n",
       "</table>\n",
       "</div>"
      ],
      "text/plain": [
       "         영화명         개봉일  영화유형  국적  스크린수           매출액       관객수   장르  \\\n",
       "1         명량  2014-07-30  개봉영화  한국  1587  135748398910  17613682   사극   \n",
       "2       극한직업  2019-01-23  개봉영화  한국  1978  139647979516  16264944  코미디   \n",
       "3  신과함께-죄와 벌  2017-12-20  개봉영화  한국  1912  115698654137  14410754  판타지   \n",
       "\n",
       "         등급  \n",
       "1  15세이상관람가  \n",
       "2  15세이상관람가  \n",
       "3  12세이상관람가  "
      ]
     },
     "execution_count": 77,
     "metadata": {},
     "output_type": "execute_result"
    }
   ],
   "source": [
    "df.head(3)"
   ]
  },
  {
   "cell_type": "code",
   "execution_count": 97,
   "metadata": {},
   "outputs": [
    {
     "name": "stdout",
     "output_type": "stream",
     "text": [
      "month\n",
      "01    1462\n",
      "02    1401\n",
      "03    1623\n",
      "04    1686\n",
      "05    1630\n",
      "06    1622\n",
      "07    1707\n",
      "08    1731\n",
      "09    1774\n",
      "10    1547\n",
      "11    1796\n",
      "12    1707\n",
      "Name: 영화명, dtype: int64\n"
     ]
    },
    {
     "data": {
      "text/plain": [
       "<matplotlib.axes._subplots.AxesSubplot at 0xf18bf48>"
      ]
     },
     "execution_count": 97,
     "metadata": {},
     "output_type": "execute_result"
    },
    {
     "data": {
      "image/png": "[encoded data removed]",
      "text/plain": [
       "<Figure size 432x288 with 1 Axes>"
      ]
     },
     "metadata": {
      "needs_background": "light"
     },
     "output_type": "display_data"
    }
   ],
   "source": [
    "# 월별 개봉영화 갯수\n",
    "df.drop(df[df.개봉일=='0'].index, inplace=True)\n",
    "df['month'] = df.개봉일.apply(lambda x:x.split('-')[1])\n",
    "df.head(3)\n",
    "print(df.groupby('month').영화명.count())\n",
    "df.groupby('month').영화명.count().plot(kind='bar')"
   ]
  },
  {
   "cell_type": "code",
   "execution_count": 96,
   "metadata": {},
   "outputs": [
    {
     "data": {
      "text/plain": [
       "<matplotlib.axes._subplots.AxesSubplot at 0xfdd8448>"
      ]
     },
     "execution_count": 96,
     "metadata": {},
     "output_type": "execute_result"
    },
    {
     "data": {
      "image/png": "[encoded data removed]",
      "text/plain": [
       "<Figure size 432x288 with 1 Axes>"
      ]
     },
     "metadata": {
      "needs_background": "light"
     },
     "output_type": "display_data"
    }
   ],
   "source": [
    "df.groupby('month').매출액.mean().plot(kind='bar')"
   ]
  },
  {
   "cell_type": "code",
   "execution_count": 98,
   "metadata": {},
   "outputs": [
    {
     "data": {
      "text/plain": [
       "<matplotlib.axes._subplots.AxesSubplot at 0xf70ef88>"
      ]
     },
     "execution_count": 98,
     "metadata": {},
     "output_type": "execute_result"
    },
    {
     "data": {
      "image/png": "[encoded data removed]",
      "text/plain": [
       "<Figure size 432x288 with 1 Axes>"
      ]
     },
     "metadata": {
      "needs_background": "light"
     },
     "output_type": "display_data"
    }
   ],
   "source": [
    "df.groupby('month').관객수.mean().plot(kind='bar')"
   ]
  },
  {
   "cell_type": "code",
   "execution_count": 101,
   "metadata": {},
   "outputs": [
    {
     "data": {
      "text/plain": [
       "<matplotlib.axes._subplots.AxesSubplot at 0xf9d6088>"
      ]
     },
     "execution_count": 101,
     "metadata": {},
     "output_type": "execute_result"
    },
    {
     "data": {
      "image/png": "[encoded data removed]",
      "text/plain": [
       "<Figure size 432x288 with 1 Axes>"
      ]
     },
     "metadata": {
      "needs_background": "light"
     },
     "output_type": "display_data"
    }
   ],
   "source": [
    "# 영화장르별 수익성\n",
    "\n",
    "# 영화장르별 매출액합\n",
    "df.groupby('장르').매출액.sum().plot(kind='bar')\n"
   ]
  },
  {
   "cell_type": "code",
   "execution_count": 105,
   "metadata": {},
   "outputs": [
    {
     "data": {
      "text/plain": [
       "<matplotlib.axes._subplots.AxesSubplot at 0x864e248>"
      ]
     },
     "execution_count": 105,
     "metadata": {},
     "output_type": "execute_result"
    },
    {
     "data": {
      "image/png": "[encoded data removed]",
      "text/plain": [
       "<Figure size 432x288 with 1 Axes>"
      ]
     },
     "metadata": {
      "needs_background": "light"
     },
     "output_type": "display_data"
    }
   ],
   "source": [
    "# 영화장르별 매출액평균\n",
    "df.groupby('장르').매출액.mean().sort_values(ascending=False).head(10).plot(kind='bar')"
   ]
  },
  {
   "cell_type": "code",
   "execution_count": 106,
   "metadata": {},
   "outputs": [
    {
     "data": {
      "text/plain": [
       "<matplotlib.axes._subplots.AxesSubplot at 0xc440988>"
      ]
     },
     "execution_count": 106,
     "metadata": {},
     "output_type": "execute_result"
    },
    {
     "data": {
      "image/png": "[encoded data removed]",
      "text/plain": [
       "<Figure size 432x288 with 1 Axes>"
      ]
     },
     "metadata": {
      "needs_background": "light"
     },
     "output_type": "display_data"
    }
   ],
   "source": [
    "# 영화장르별 매출액평균\n",
    "df.groupby('장르').매출액.mean().sort_values().head(10).plot(kind='bar')"
   ]
  },
  {
   "cell_type": "code",
   "execution_count": 115,
   "metadata": {},
   "outputs": [
    {
     "data": {
      "text/plain": [
       "2701821536.5"
      ]
     },
     "execution_count": 115,
     "metadata": {},
     "output_type": "execute_result"
    }
   ],
   "source": [
    "df.매출액.quantile(0.95)"
   ]
  },
  {
   "cell_type": "code",
   "execution_count": 124,
   "metadata": {},
   "outputs": [
    {
     "data": {
      "text/plain": [
       "<matplotlib.axes._subplots.AxesSubplot at 0x101b9e48>"
      ]
     },
     "execution_count": 124,
     "metadata": {},
     "output_type": "execute_result"
    },
    {
     "data": {
      "image/png": "[encoded data removed]",
      "text/plain": [
       "<Figure size 432x288 with 1 Axes>"
      ]
     },
     "metadata": {
      "needs_background": "light"
     },
     "output_type": "display_data"
    }
   ],
   "source": [
    "df[(df.매출액<df.매출액.quantile(0.99))&(df.매출액>100000000)].groupby('장르').매출액.mean().sort_values(ascending=False).plot(kind='bar')"
   ]
  },
  {
   "cell_type": "code",
   "execution_count": null,
   "metadata": {},
   "outputs": [],
   "source": []
  },
  {
   "cell_type": "code",
   "execution_count": 164,
   "metadata": {},
   "outputs": [
    {
     "name": "stdout",
     "output_type": "stream",
     "text": [
      "그리스\n",
      "             영화명         개봉일  영화유형   국적  스크린수        매출액    관객수   장르  \\\n",
      "3215  나의 사랑, 그리스  2017-04-20  개봉영화  그리스   123  241875000  30181  드라마   \n",
      "\n",
      "            등급 month  year  \n",
      "3215  15세이상관람가    04  2017  \n",
      "기타\n",
      "       영화명         개봉일  영화유형  국적  스크린수         매출액     관객수   장르        등급  \\\n",
      "2068  가버나움  2019-01-24  개봉영화  기타   111  1182486219  142622  드라마  15세이상관람가   \n",
      "\n",
      "     month  year  \n",
      "2068    01  2019  \n",
      "남아프리카공화국\n",
      "                    영화명         개봉일  영화유형        국적  스크린수         매출액     관객수  \\\n",
      "1245  잠베지아: 신비한 나무섬의 비밀  2012-12-25  개봉영화  남아프리카공화국   273  3333947000  472692   \n",
      "\n",
      "         장르     등급 month  year  \n",
      "1245  애니메이션  전체관람가    12  2012  \n",
      "네덜란드\n",
      "         영화명         개봉일  영화유형    국적  스크린수       매출액   관객수      장르        등급  \\\n",
      "4213  킬 미 달링  2016-01-28  개봉영화  네덜란드    58  72912300  9558  멜로/로맨스  15세이상관람가   \n",
      "\n",
      "     month  year  \n",
      "4213    01  2016  \n",
      "노르웨이\n",
      "               영화명         개봉일  영화유형    국적  스크린수        매출액    관객수     장르  \\\n",
      "2815  꼬마영웅 경찰차 프로디  2013-04-11  개봉영화  노르웨이   229  343590000  52154  애니메이션   \n",
      "\n",
      "         등급 month  year  \n",
      "2815  전체관람가    04  2013  \n",
      "뉴질랜드\n",
      "                       영화명         개봉일  영화유형    국적  스크린수        매출액    관객수  \\\n",
      "3091  반지의 제왕 : 반지원정대 (확장판)  2017-01-11  개봉영화  뉴질랜드    74  470027900  35758   \n",
      "\n",
      "       장르        등급 month  year  \n",
      "3091  판타지  12세이상관람가    01  2017  \n",
      "대만\n",
      "          영화명         개봉일  영화유형  국적  스크린수         매출액     관객수      장르  \\\n",
      "1319  장난스런 키스  2019-03-27  개봉영화  대만   532  3501463050  428009  멜로/로맨스   \n",
      "\n",
      "            등급 month  year  \n",
      "1319  12세이상관람가    03  2019  \n",
      "덴마크\n",
      "           영화명         개봉일  영화유형   국적  스크린수         매출액     관객수    장르     등급  \\\n",
      "1916  해양경찰 마르코  2013-02-14  개봉영화  덴마크   276  1143045000  180618  어드벤처  전체관람가   \n",
      "\n",
      "     month  year  \n",
      "1916    02  2013  \n",
      "독일\n",
      "                         영화명         개봉일  영화유형  국적  스크린수          매출액  \\\n",
      "679  레지던트 이블 4: 끝나지 않은 전쟁 3D  2010-09-16  개봉영화  독일   335  14767125516   \n",
      "\n",
      "         관객수      장르       등급 month  year  \n",
      "679  1209538  공포(호러)  청소년관람불가    09  2010  \n",
      "러시아\n",
      "                    영화명         개봉일  영화유형   국적  스크린수         매출액     관객수  \\\n",
      "1060  눈의 여왕 2: 트롤의 마법거울  2014-12-24  개봉영화  러시아   479  4482452600  618598   \n",
      "\n",
      "         장르     등급 month  year  \n",
      "1060  애니메이션  전체관람가    12  2014  \n",
      "루마니아\n",
      "         영화명         개봉일  영화유형    국적  스크린수       매출액   관객수   장르        등급  \\\n",
      "4611  신의 소녀들  2012-12-06  개봉영화  루마니아    14  46562000  6275  드라마  15세이상관람가   \n",
      "\n",
      "     month  year  \n",
      "4611    12  2012  \n",
      "마케도니아\n",
      "       영화명         개봉일  영화유형     국적  스크린수   매출액  관객수   장르       등급 month  year\n",
      "10969  딜레마  2018-05-25  개봉영화  마케도니아     1  2000    1  드라마  청소년관람불가    05  2018\n",
      "말레이시아\n",
      "     영화명         개봉일  영화유형     국적  스크린수        매출액    관객수     장르     등급 month  \\\n",
      "3445  윌리  2018-10-25  개봉영화  말레이시아   162  178555800  22716  애니메이션  전체관람가    10   \n",
      "\n",
      "      year  \n",
      "3445  2018  \n",
      "멕시코\n",
      "            영화명         개봉일  영화유형   국적  스크린수        매출액    관객수   장르     등급  \\\n",
      "2716  언더 더 쎄임 문  2008-10-16  개봉영화  멕시코    67  360506500  58960  드라마  전체관람가   \n",
      "\n",
      "     month  year  \n",
      "2716    10  2008  \n",
      "모로코\n",
      "            영화명         개봉일  영화유형   국적  스크린수   매출액  관객수  장르        등급 month  \\\n",
      "11485  비마나 미스터리  2017-07-27  개봉영화  모로코     1  6000    1  SF  15세이상관람가    07   \n",
      "\n",
      "       year  \n",
      "11485  2017  \n",
      "몰타\n",
      "         영화명         개봉일  영화유형  국적  스크린수     매출액  관객수  장르        등급 month  \\\n",
      "8445  왕좌의 전쟁  2017-06-08  개봉영화  몰타     5  146000   63  액션  15세이상관람가    06   \n",
      "\n",
      "      year  \n",
      "8445  2017  \n",
      "몽고\n",
      "                영화명         개봉일  영화유형  국적  스크린수      매출액   관객수  장르        등급  \\\n",
      "5813  징기스칸 : 제국의 건설  2013-02-08  개봉영화  몽고     1  3817000  1821  전쟁  15세이상관람가   \n",
      "\n",
      "     month  year  \n",
      "5813    02  2013  \n",
      "미국\n",
      "   영화명         개봉일  영화유형  국적  스크린수           매출액       관객수  장르        등급  \\\n",
      "6  아바타  2009-12-17  개봉영화  미국   912  128447097523  13624328  SF  12세이상관람가   \n",
      "\n",
      "  month  year  \n",
      "6    12  2009  \n",
      "베네수엘라\n",
      "        영화명         개봉일  영화유형     국적  스크린수      매출액  관객수  장르        등급 month  \\\n",
      "6878  신의 전사  2014-04-17  개봉영화  베네수엘라     5  3834000  552  액션  15세이상관람가    04   \n",
      "\n",
      "      year  \n",
      "6878  2014  \n",
      "베트남\n",
      "          영화명         개봉일  영화유형   국적  스크린수       매출액   관객수   장르        등급  \\\n",
      "4619  하얀 아오자이  2010-02-25  개봉영화  베트남    22  37242726  6229  드라마  15세이상관람가   \n",
      "\n",
      "     month  year  \n",
      "4619    02  2010  \n",
      "벨기에\n",
      "            영화명         개봉일  영화유형   국적  스크린수          매출액      관객수     장르  \\\n",
      "586  새미의 어드벤쳐 2  2012-08-01  개봉영화  벨기에   486  10805555000  1452872  애니메이션   \n",
      "\n",
      "        등급 month  year  \n",
      "586  전체관람가    08  2012  \n",
      "보스니아\n",
      "        영화명         개봉일  영화유형    국적  스크린수       매출액   관객수   장르        등급  \\\n",
      "5269  그르바비차  2008-01-03  개봉영화  보스니아     1  22129000  3238  드라마  15세이상관람가   \n",
      "\n",
      "     month  year  \n",
      "5269    01  2008  \n",
      "부탄\n",
      "         영화명         개봉일  영화유형  국적  스크린수      매출액   관객수   장르        등급 month  \\\n",
      "6159  바라: 축복  2014-06-05  개봉영화  부탄     8  9240000  1346  드라마  15세이상관람가    06   \n",
      "\n",
      "      year  \n",
      "6159  2014  \n",
      "불가리아\n",
      "            영화명         개봉일  영화유형    국적  스크린수      매출액   관객수      장르       등급  \\\n",
      "5928  포르노그래픽 러브  2013-08-09  개봉영화  불가리아     1  3447000  1651  멜로/로맨스  청소년관람불가   \n",
      "\n",
      "     month  year  \n",
      "5928    08  2013  \n",
      "브라질\n",
      "     영화명         개봉일  영화유형   국적  스크린수        매출액    관객수     장르     등급 month  \\\n",
      "3515  리노  2019-03-07  개봉영화  브라질   322  153622020  20513  애니메이션  전체관람가    03   \n",
      "\n",
      "      year  \n",
      "3515  2019  \n",
      "세르비아\n",
      "     영화명         개봉일  영화유형    국적  스크린수     매출액  관객수   장르       등급 month  year\n",
      "8992  클립  2013-10-31  개봉영화  세르비아     1  250000   50  드라마  청소년관람불가    10  2013\n",
      "스웨덴\n",
      "                    영화명         개봉일  영화유형   국적  스크린수         매출액     관객수  \\\n",
      "1702  창문 넘어 도망친 100세 노인  2014-06-18  개봉영화  스웨덴   300  1824795453  240990   \n",
      "\n",
      "        장르        등급 month  year  \n",
      "1702  어드벤처  15세이상관람가    06  2014  \n",
      "스위스\n",
      "      영화명         개봉일  영화유형   국적  스크린수        매출액    관객수   장르     등급 month  \\\n",
      "3098  비투스  2008-04-09  개봉영화  스위스     8  231058500  35354  드라마  전체관람가    04   \n",
      "\n",
      "      year  \n",
      "3098  2008  \n",
      "스페인\n",
      "         영화명         개봉일  영화유형   국적  스크린수         매출액     관객수  장르        등급  \\\n",
      "1056  더 임파서블  2013-01-17  개봉영화  스페인   408  4444581500  622572  액션  12세이상관람가   \n",
      "\n",
      "     month  year  \n",
      "1056    01  2013  \n",
      "슬로바키아\n",
      "                영화명         개봉일  영화유형     국적  스크린수      매출액  관객수   장르  \\\n",
      "8015  우리 선생님을 고발합니다  2017-02-13  개봉영화  슬로바키아     1  1111000  130  코미디   \n",
      "\n",
      "            등급 month  year  \n",
      "8015  15세이상관람가    02  2017  \n",
      "싱가포르\n",
      "            영화명         개봉일  영화유형    국적  스크린수       매출액   관객수   장르        등급  \\\n",
      "4527  우리가족: 라멘샵  2019-01-31  개봉영화  싱가포르    44  59780350  6869  드라마  12세이상관람가   \n",
      "\n",
      "     month  year  \n",
      "4527    01  2019  \n",
      "아랍에미리트연합국정부\n",
      "     영화명         개봉일  영화유형           국적  스크린수       매출액   관객수    장르        등급  \\\n",
      "5537  디브  2016-09-01  개봉영화  아랍에미리트연합국정부     5  12870400  2371  어드벤처  15세이상관람가   \n",
      "\n",
      "     month  year  \n",
      "5537    09  2016  \n",
      "아르헨티나\n",
      "            영화명         개봉일  영화유형     국적  스크린수         매출액     관객수     장르  \\\n",
      "2069  장난감이 살아있다  2016-09-07  개봉영화  아르헨티나   294  1109230600  142577  애니메이션   \n",
      "\n",
      "         등급 month  year  \n",
      "2069  전체관람가    09  2016  \n",
      "아이슬란드\n",
      "              영화명         개봉일  영화유형     국적  스크린수         매출액     관객수     장르  \\\n",
      "940  토르: 마법망치의 전설  2012-02-09  개봉영화  아이슬란드   383  5529185000  765315  애니메이션   \n",
      "\n",
      "        등급 month  year  \n",
      "940  전체관람가    02  2012  \n",
      "아일랜드\n",
      "         영화명         개봉일  영화유형    국적  스크린수         매출액     관객수   장르        등급  \\\n",
      "1123  싱 스트리트  2016-05-19  개봉영화  아일랜드   494  4488377672  560578  드라마  15세이상관람가   \n",
      "\n",
      "     month  year  \n",
      "1123    05  2016  \n",
      "에스토니아\n",
      "       영화명         개봉일  영화유형     국적  스크린수      매출액  관객수  장르        등급 month  \\\n",
      "6536  1944  2015-12-23  개봉영화  에스토니아     5  4420000  880  전쟁  15세이상관람가    12   \n",
      "\n",
      "      year  \n",
      "6536  2015  \n",
      "영국\n",
      "        영화명         개봉일  영화유형  국적  스크린수          매출액      관객수      장르  \\\n",
      "210  어바웃 타임  2013-12-05  개봉영화  영국   568  24867023000  3375735  멜로/로맨스   \n",
      "\n",
      "           등급 month  year  \n",
      "210  15세이상관람가    12  2013  \n",
      "오스트리아\n",
      "                   영화명         개봉일  영화유형     국적  스크린수        매출액    관객수   장르  \\\n",
      "2865  에곤 쉴레: 욕망이 그린 그림  2016-12-22  개봉영화  오스트리아    50  392999100  48985  드라마   \n",
      "\n",
      "           등급 month  year  \n",
      "2865  청소년관람불가    12  2016  \n",
      "우루과이\n",
      "          영화명         개봉일  영화유형    국적  스크린수       매출액   관객수   장르        등급  \\\n",
      "5230  아빠의 화장실  2009-06-25  개봉영화  우루과이     1  23732074  3378  드라마  12세이상관람가   \n",
      "\n",
      "     month  year  \n",
      "5230    06  2009  \n",
      "우크라이나\n",
      "       영화명         개봉일  영화유형     국적  스크린수       매출액    관객수   장르       등급  \\\n",
      "4134  트라이브  2015-01-29  개봉영화  우크라이나    30  80321400  10368  드라마  청소년관람불가   \n",
      "\n",
      "     month  year  \n",
      "4134    01  2015  \n",
      "이라크\n",
      "       영화명         개봉일  영화유형   국적  스크린수      매출액   관객수   장르        등급 month  \\\n",
      "6402  킥 오프  2010-07-08  개봉영화  이라크     8  7457790  1025  드라마  12세이상관람가    07   \n",
      "\n",
      "      year  \n",
      "6402  2010  \n",
      "이란\n",
      "              영화명         개봉일  영화유형  국적  스크린수       매출액    관객수   장르        등급  \\\n",
      "3994  씨민과 나데르의 별거  2011-10-13  개봉영화  이란    17  89295500  11879  드라마  12세이상관람가   \n",
      "\n",
      "     month  year  \n",
      "3994    10  2011  \n",
      "이스라엘\n",
      "     영화명         개봉일  영화유형    국적  스크린수        매출액    관객수   장르     등급 month  \\\n",
      "3022  누들  2008-08-14  개봉영화  이스라엘    11  269604449  40094  드라마  전체관람가    08   \n",
      "\n",
      "      year  \n",
      "3022  2008  \n",
      "이탈리아\n",
      "               영화명         개봉일  영화유형    국적  스크린수         매출액     관객수   장르  \\\n",
      "1855  콜 미 바이 유어 네임  2018-03-22  개봉영화  이탈리아   192  1657199988  198229  드라마   \n",
      "\n",
      "           등급 month  year  \n",
      "1855  청소년관람불가    03  2018  \n",
      "인도\n",
      "    영화명         개봉일  영화유형  국적  스크린수         매출액     관객수   장르     등급 month  \\\n",
      "867  블랙  2009-08-27  개봉영화  인도   248  6254367609  874913  드라마  전체관람가    08   \n",
      "\n",
      "     year  \n",
      "867  2009  \n",
      "인도네시아\n",
      "               영화명         개봉일  영화유형     국적  스크린수        매출액    관객수  장르  \\\n",
      "3477  레이드 : 첫번째 습격  2012-05-17  개봉영화  인도네시아   120  163320500  21705  액션   \n",
      "\n",
      "           등급 month  year  \n",
      "3477  청소년관람불가    05  2012  \n",
      "일본\n",
      "         영화명         개봉일  영화유형  국적  스크린수          매출액      관객수     장르  \\\n",
      "185  너의 이름은.  2017-01-04  개봉영화  일본   947  29248867156  3637122  애니메이션   \n",
      "\n",
      "           등급 month  year  \n",
      "185  12세이상관람가    01  2017  \n",
      "중국\n",
      "                 영화명         개봉일  영화유형  국적  스크린수          매출액      관객수  장르  \\\n",
      "291  적벽대전 2 : 최후의 결전  2009-01-22  개봉영화  중국   426  17910684413  2713031  액션   \n",
      "\n",
      "           등급 month  year  \n",
      "291  15세이상관람가    01  2009  \n",
      "체코\n",
      "        영화명         개봉일  영화유형  국적  스크린수        매출액    관객수     장르     등급 month  \\\n",
      "3153  태양 아래  2016-04-27  개봉영화  체코   120  206495400  33008  다큐멘터리  전체관람가    04   \n",
      "\n",
      "      year  \n",
      "3153  2016  \n",
      "칠레\n",
      "     영화명         개봉일  영화유형  국적  스크린수        매출액    관객수   장르        등급 month  \\\n",
      "3306  재키  2017-01-25  개봉영화  칠레    97  209835243  26758  드라마  15세이상관람가    01   \n",
      "\n",
      "      year  \n",
      "3306  2017  \n",
      "카자흐스탄\n",
      "         영화명         개봉일  영화유형     국적  스크린수      매출액  관객수  장르        등급 month  \\\n",
      "7382  엄마의 유산  2015-02-12  개봉영화  카자흐스탄     2  1496000  264  가족  12세이상관람가    02   \n",
      "\n",
      "      year  \n",
      "7382  2015  \n",
      "캐나다\n",
      "           영화명         개봉일  영화유형   국적  스크린수         매출액     관객수   장르       등급  \\\n",
      "1033  눈먼자들의 도시  2008-11-20  개봉영화  캐나다   238  4356692000  645218  드라마  청소년관람불가   \n",
      "\n",
      "     month  year  \n",
      "1033    11  2008  \n",
      "콜롬비아\n",
      "            영화명         개봉일  영화유형    국적  스크린수       매출액   관객수    장르     등급  \\\n",
      "5434  릴라와 마법의 책  2018-11-08  개봉영화  콜롬비아    24  14141000  2698  어드벤처  전체관람가   \n",
      "\n",
      "     month  year  \n",
      "5434    11  2018  \n",
      "쿠바\n",
      "             영화명         개봉일  영화유형  국적  스크린수      매출액  관객수     장르        등급  \\\n",
      "6467  체 게바라 : 뉴맨  2012-11-29  개봉영화  쿠바     3  6157000  961  다큐멘터리  15세이상관람가   \n",
      "\n",
      "     month  year  \n",
      "6467    11  2012  \n",
      "크로아티아\n",
      "          영화명         개봉일  영화유형     국적  스크린수      매출액  관객수   장르       등급  \\\n",
      "6829  신부의 아이들  2014-04-17  개봉영화  크로아티아     5  4427000  581  코미디  청소년관람불가   \n",
      "\n",
      "     month  year  \n",
      "6829    04  2014  \n",
      "태국\n",
      "     영화명         개봉일  영화유형  국적  스크린수        매출액     관객수      장르        등급  \\\n",
      "2253  바디  2008-05-29  개봉영화  태국   160  716431000  110686  공포(호러)  15세이상관람가   \n",
      "\n",
      "     month  year  \n"
     ]
    },
    {
     "name": "stdout",
     "output_type": "stream",
     "text": [
      "2253    05  2008  \n",
      "터키\n",
      "      영화명         개봉일  영화유형  국적  스크린수        매출액    관객수   장르        등급 month  \\\n",
      "2963  아일라  2018-06-21  개봉영화  터키   371  331882900  43612  드라마  15세이상관람가    06   \n",
      "\n",
      "      year  \n",
      "2963  2018  \n",
      "팔레스타인\n",
      "               영화명         개봉일  영화유형     국적  스크린수       매출액   관객수   장르  \\\n",
      "5280  노래로 쏘아 올린 기적  2017-08-17  개봉영화  팔레스타인    13  20481200  3182  드라마   \n",
      "\n",
      "            등급 month  year  \n",
      "5280  12세이상관람가    08  2017  \n",
      "페루\n",
      "                 영화명         개봉일  영화유형  국적  스크린수        매출액    관객수     장르  \\\n",
      "2343  로덴시아: 마법왕국의 전설  2013-10-02  개봉영화  페루   221  632768500  98575  애니메이션   \n",
      "\n",
      "         등급 month  year  \n",
      "2343  전체관람가    10  2013  \n",
      "포르투갈\n",
      "             영화명         개봉일  영화유형    국적  스크린수       매출액   관객수  장르       등급  \\\n",
      "4849  나폴레옹 토레스전투  2013-11-14  개봉영화  포르투갈     5  10528000  5032  전쟁  청소년관람불가   \n",
      "\n",
      "     month  year  \n",
      "4849    11  2013  \n",
      "폴란드\n",
      "       영화명         개봉일  영화유형   국적  스크린수        매출액    관객수      장르        등급  \\\n",
      "3304  콜드 워  2019-02-07  개봉영화  폴란드    65  220783373  26784  멜로/로맨스  15세이상관람가   \n",
      "\n",
      "     month  year  \n",
      "3304    02  2019  \n",
      "프랑스\n",
      "       영화명         개봉일  영화유형   국적  스크린수          매출액      관객수  장르       등급  \\\n",
      "354  테이큰 2  2012-09-27  개봉영화  프랑스   682  17581098553  2308596  액션  청소년관람불가   \n",
      "\n",
      "    month  year  \n",
      "354    09  2012  \n",
      "핀란드\n",
      "                영화명         개봉일  영화유형   국적  스크린수         매출액     관객수     장르  \\\n",
      "1346  니코: 산타비행단의 모험  2012-12-25  개봉영화  핀란드   306  2786834000  407264  애니메이션   \n",
      "\n",
      "         등급 month  year  \n",
      "1346  전체관람가    12  2012  \n",
      "필리핀\n",
      "       영화명         개봉일  영화유형   국적  스크린수    매출액  관객수  장르       등급 month  year\n",
      "9224  무간지옥  2018-04-05  개봉영화  필리핀     5  57000   30  범죄  청소년관람불가    04  2018\n",
      "한국\n",
      "    영화명         개봉일  영화유형  국적  스크린수           매출액       관객수   장르        등급  \\\n",
      "2  극한직업  2019-01-23  개봉영화  한국  1978  139647979516  16264944  코미디  15세이상관람가   \n",
      "\n",
      "  month  year  \n",
      "2    01  2019  \n",
      "헝가리\n",
      "         영화명         개봉일  영화유형   국적  스크린수        매출액    관객수   장르       등급  \\\n",
      "3426  사울의 아들  2016-02-25  개봉영화  헝가리    50  185784643  23148  드라마  청소년관람불가   \n",
      "\n",
      "     month  year  \n",
      "3426    02  2016  \n",
      "호주\n",
      "          영화명         개봉일  영화유형  국적  스크린수         매출액     관객수     장르     등급  \\\n",
      "1899  해피 피트 2  2012-02-02  개봉영화  호주   315  1459727000  185420  애니메이션  전체관람가   \n",
      "\n",
      "     month  year  \n",
      "1899    02  2012  \n",
      "홍콩\n",
      "       영화명         개봉일  영화유형  국적  스크린수         매출액     관객수  장르        등급  \\\n",
      "1513  검우강호  2010-10-14  개봉영화  홍콩   343  2281559914  318157  액션  15세이상관람가   \n",
      "\n",
      "     month  year  \n",
      "1513    10  2010  \n"
     ]
    }
   ],
   "source": [
    "nattop = dict(df.groupby('국적').매출액.max())\n",
    "for n in nattop:\n",
    "    if nattop[n]!=0:\n",
    "        print(n)\n",
    "        print(df[(df.국적==n)&(df.매출액==nattop[n])])\n"
   ]
  },
  {
   "cell_type": "code",
   "execution_count": 163,
   "metadata": {},
   "outputs": [
    {
     "name": "stdout",
     "output_type": "stream",
     "text": [
      "SF\n",
      "6    아바타\n",
      "Name: 영화명, dtype: object\n",
      "가족\n",
      "575    토이 스토리 3\n",
      "Name: 영화명, dtype: object\n",
      "공연\n",
      "1457    러브 유어셀프 인 서울\n",
      "Name: 영화명, dtype: object\n",
      "공포(호러)\n",
      "140    연가시\n",
      "Name: 영화명, dtype: object\n",
      "기타\n",
      "1468    브링 더 소울 : 더 무비\n",
      "Name: 영화명, dtype: object\n",
      "다큐멘터리\n",
      "122    님아, 그 강을 건너지 마오\n",
      "Name: 영화명, dtype: object\n",
      "드라마\n",
      "4    국제시장\n",
      "Name: 영화명, dtype: object\n",
      "멜로/로맨스\n",
      "65    늑대소년\n",
      "Name: 영화명, dtype: object\n",
      "뮤지컬\n",
      "358    맘마미아!2\n",
      "Name: 영화명, dtype: object\n",
      "미스터리\n",
      "61    곡성\n",
      "Name: 영화명, dtype: object\n",
      "범죄\n",
      "28    검사외전\n",
      "Name: 영화명, dtype: object\n",
      "사극\n",
      "1    명량\n",
      "Name: 영화명, dtype: object\n",
      "서부극(웨스턴)\n",
      "64    좋은 놈, 나쁜 놈, 이상한 놈\n",
      "Name: 영화명, dtype: object\n",
      "성인물(에로)\n",
      "5864    아메리카파이: 19금 여배우들\n",
      "Name: 영화명, dtype: object\n",
      "스릴러\n",
      "86    숨바꼭질\n",
      "Name: 영화명, dtype: object\n",
      "애니메이션\n",
      "24    겨울왕국\n",
      "Name: 영화명, dtype: object\n",
      "액션\n",
      "5    어벤져스: 엔드게임\n",
      "Name: 영화명, dtype: object\n",
      "어드벤처\n",
      "12    알라딘\n",
      "Name: 영화명, dtype: object\n",
      "전쟁\n",
      "58    인천상륙작전\n",
      "Name: 영화명, dtype: object\n",
      "코미디\n",
      "2    극한직업\n",
      "Name: 영화명, dtype: object\n",
      "판타지\n",
      "3    신과함께-죄와 벌\n",
      "Name: 영화명, dtype: object\n"
     ]
    }
   ],
   "source": [
    "gentop = dict(df.groupby('장르').매출액.max())\n",
    "for g in gentop:\n",
    "    if gentop[g]!=0 and g!='0':\n",
    "        print(g)\n",
    "        print(df[(df.장르==g)&(df.매출액==gentop[g])].영화명)"
   ]
  },
  {
   "cell_type": "code",
   "execution_count": 142,
   "metadata": {},
   "outputs": [
    {
     "data": {
      "text/html": [
       "<div>\n",
       "<style scoped>\n",
       "    .dataframe tbody tr th:only-of-type {\n",
       "        vertical-align: middle;\n",
       "    }\n",
       "\n",
       "    .dataframe tbody tr th {\n",
       "        vertical-align: top;\n",
       "    }\n",
       "\n",
       "    .dataframe thead th {\n",
       "        text-align: right;\n",
       "    }\n",
       "</style>\n",
       "<table border=\"1\" class=\"dataframe\">\n",
       "  <thead>\n",
       "    <tr style=\"text-align: right;\">\n",
       "      <th></th>\n",
       "      <th>영화명</th>\n",
       "      <th>개봉일</th>\n",
       "      <th>영화유형</th>\n",
       "      <th>국적</th>\n",
       "      <th>스크린수</th>\n",
       "      <th>매출액</th>\n",
       "      <th>관객수</th>\n",
       "      <th>장르</th>\n",
       "      <th>등급</th>\n",
       "      <th>month</th>\n",
       "    </tr>\n",
       "  </thead>\n",
       "  <tbody>\n",
       "    <tr>\n",
       "      <td>1</td>\n",
       "      <td>명량</td>\n",
       "      <td>2014-07-30</td>\n",
       "      <td>개봉영화</td>\n",
       "      <td>한국</td>\n",
       "      <td>1587</td>\n",
       "      <td>135748398910</td>\n",
       "      <td>17613682</td>\n",
       "      <td>사극</td>\n",
       "      <td>15세이상관람가</td>\n",
       "      <td>07</td>\n",
       "    </tr>\n",
       "    <tr>\n",
       "      <td>2</td>\n",
       "      <td>극한직업</td>\n",
       "      <td>2019-01-23</td>\n",
       "      <td>개봉영화</td>\n",
       "      <td>한국</td>\n",
       "      <td>1978</td>\n",
       "      <td>139647979516</td>\n",
       "      <td>16264944</td>\n",
       "      <td>코미디</td>\n",
       "      <td>15세이상관람가</td>\n",
       "      <td>01</td>\n",
       "    </tr>\n",
       "    <tr>\n",
       "      <td>3</td>\n",
       "      <td>신과함께-죄와 벌</td>\n",
       "      <td>2017-12-20</td>\n",
       "      <td>개봉영화</td>\n",
       "      <td>한국</td>\n",
       "      <td>1912</td>\n",
       "      <td>115698654137</td>\n",
       "      <td>14410754</td>\n",
       "      <td>판타지</td>\n",
       "      <td>12세이상관람가</td>\n",
       "      <td>12</td>\n",
       "    </tr>\n",
       "    <tr>\n",
       "      <td>4</td>\n",
       "      <td>국제시장</td>\n",
       "      <td>2014-12-17</td>\n",
       "      <td>개봉영화</td>\n",
       "      <td>한국</td>\n",
       "      <td>966</td>\n",
       "      <td>110828014630</td>\n",
       "      <td>14245998</td>\n",
       "      <td>드라마</td>\n",
       "      <td>12세이상관람가</td>\n",
       "      <td>12</td>\n",
       "    </tr>\n",
       "    <tr>\n",
       "      <td>5</td>\n",
       "      <td>어벤져스: 엔드게임</td>\n",
       "      <td>2019-04-24</td>\n",
       "      <td>개봉영화</td>\n",
       "      <td>미국</td>\n",
       "      <td>2835</td>\n",
       "      <td>122182694160</td>\n",
       "      <td>13934592</td>\n",
       "      <td>액션</td>\n",
       "      <td>12세이상관람가</td>\n",
       "      <td>04</td>\n",
       "    </tr>\n",
       "  </tbody>\n",
       "</table>\n",
       "</div>"
      ],
      "text/plain": [
       "          영화명         개봉일  영화유형  국적  스크린수           매출액       관객수   장르  \\\n",
       "1          명량  2014-07-30  개봉영화  한국  1587  135748398910  17613682   사극   \n",
       "2        극한직업  2019-01-23  개봉영화  한국  1978  139647979516  16264944  코미디   \n",
       "3   신과함께-죄와 벌  2017-12-20  개봉영화  한국  1912  115698654137  14410754  판타지   \n",
       "4        국제시장  2014-12-17  개봉영화  한국   966  110828014630  14245998  드라마   \n",
       "5  어벤져스: 엔드게임  2019-04-24  개봉영화  미국  2835  122182694160  13934592   액션   \n",
       "\n",
       "         등급 month  \n",
       "1  15세이상관람가    07  \n",
       "2  15세이상관람가    01  \n",
       "3  12세이상관람가    12  \n",
       "4  12세이상관람가    12  \n",
       "5  12세이상관람가    04  "
      ]
     },
     "execution_count": 142,
     "metadata": {},
     "output_type": "execute_result"
    }
   ],
   "source": [
    "df.head()"
   ]
  },
  {
   "cell_type": "code",
   "execution_count": 149,
   "metadata": {
    "collapsed": true
   },
   "outputs": [
    {
     "name": "stdout",
     "output_type": "stream",
     "text": [
      "year\n",
      "1962       1\n",
      "1968       1\n",
      "1971       3\n",
      "1972       3\n",
      "1973       4\n",
      "1974       2\n",
      "1975       1\n",
      "1976       1\n",
      "1977       3\n",
      "1978       4\n",
      "1979      15\n",
      "1980     112\n",
      "1981     120\n",
      "1982     128\n",
      "1983     127\n",
      "1984      98\n",
      "1985     116\n",
      "1986     133\n",
      "1987     160\n",
      "1988     236\n",
      "1989     336\n",
      "1990     358\n",
      "1991     362\n",
      "1992     412\n",
      "1993     424\n",
      "1994     434\n",
      "1995     365\n",
      "1996     372\n",
      "1997     328\n",
      "1998     284\n",
      "1999     273\n",
      "2000     327\n",
      "2001     285\n",
      "2002     297\n",
      "2003     257\n",
      "2004     267\n",
      "2005     297\n",
      "2006     345\n",
      "2007     391\n",
      "2008     380\n",
      "2009     361\n",
      "2010     427\n",
      "2011     439\n",
      "2012     631\n",
      "2013     905\n",
      "2014    1095\n",
      "2015    1202\n",
      "2016    1569\n",
      "2017    1764\n",
      "2018    1863\n",
      "2019    1368\n",
      "Name: 영화명, dtype: int64\n",
      "year\n",
      "2009    3.204051e+09\n",
      "2011    2.792910e+09\n",
      "2008    2.642987e+09\n",
      "2010    2.545375e+09\n",
      "2012    2.305891e+09\n",
      "2013    1.725861e+09\n",
      "2014    1.534787e+09\n",
      "2015    1.375233e+09\n",
      "2016    1.092846e+09\n",
      "2019    1.025367e+09\n",
      "2017    1.022192e+09\n",
      "2018    9.292399e+08\n",
      "2007    1.164132e+05\n",
      "Name: 매출액, dtype: float64\n"
     ]
    }
   ],
   "source": [
    "# 연도별 개봉영화 갯수\n",
    "df['year'] = df.개봉일.apply(lambda x:x.split('-')[0])\n",
    "\n",
    "print(df.groupby('year').영화명.count())\n",
    "# 연도별 영화 평균 매출\n",
    "print(df.groupby('year').매출액.mean().sort_values(ascending=False).head(13))"
   ]
  },
  {
   "cell_type": "code",
   "execution_count": 150,
   "metadata": {},
   "outputs": [
    {
     "data": {
      "text/plain": [
       "<matplotlib.axes._subplots.AxesSubplot at 0x12720c48>"
      ]
     },
     "execution_count": 150,
     "metadata": {},
     "output_type": "execute_result"
    },
    {
     "data": {
      "image/png": "[encoded data removed]",
      "text/plain": [
       "<Figure size 432x288 with 1 Axes>"
      ]
     },
     "metadata": {
      "needs_background": "light"
     },
     "output_type": "display_data"
    }
   ],
   "source": [
    "df.groupby('year').영화명.count().plot(kind='bar')"
   ]
  },
  {
   "cell_type": "code",
   "execution_count": 156,
   "metadata": {
    "scrolled": true
   },
   "outputs": [
    {
     "data": {
      "text/plain": [
       "<matplotlib.axes._subplots.AxesSubplot at 0x12b9a608>"
      ]
     },
     "execution_count": 156,
     "metadata": {},
     "output_type": "execute_result"
    },
    {
     "data": {
      "image/png": "[encoded data removed]",
      "text/plain": [
       "<Figure size 432x288 with 1 Axes>"
      ]
     },
     "metadata": {
      "needs_background": "light"
     },
     "output_type": "display_data"
    }
   ],
   "source": [
    "df.groupby('year').매출액.sum().plot(kind='bar')"
   ]
  },
  {
   "cell_type": "code",
   "execution_count": 155,
   "metadata": {},
   "outputs": [
    {
     "data": {
      "text/plain": [
       "<matplotlib.axes._subplots.AxesSubplot at 0xf073908>"
      ]
     },
     "execution_count": 155,
     "metadata": {},
     "output_type": "execute_result"
    },
    {
     "data": {
      "image/png": "[encoded data removed]",
      "text/plain": [
       "<Figure size 432x288 with 1 Axes>"
      ]
     },
     "metadata": {
      "needs_background": "light"
     },
     "output_type": "display_data"
    }
   ],
   "source": [
    "df.groupby('year').매출액.mean().plot(kind='bar')"
   ]
  },
  {
   "cell_type": "code",
   "execution_count": 157,
   "metadata": {},
   "outputs": [
    {
     "data": {
      "text/plain": [
       "<matplotlib.axes._subplots.AxesSubplot at 0x12cf6948>"
      ]
     },
     "execution_count": 157,
     "metadata": {},
     "output_type": "execute_result"
    },
    {
     "data": {
      "image/png": "[encoded data removed]",
      "text/plain": [
       "<Figure size 432x288 with 1 Axes>"
      ]
     },
     "metadata": {
      "needs_background": "light"
     },
     "output_type": "display_data"
    }
   ],
   "source": [
    "df[df.국적=='한국'].groupby('year').매출액.mean().plot(kind='bar')"
   ]
  },
  {
   "cell_type": "code",
   "execution_count": 174,
   "metadata": {},
   "outputs": [
    {
     "data": {
      "text/plain": [
       "<matplotlib.axes._subplots.AxesSubplot at 0x14abd988>"
      ]
     },
     "execution_count": 174,
     "metadata": {},
     "output_type": "execute_result"
    },
    {
     "data": {
      "image/png": "[encoded data removed]",
      "text/plain": [
       "<Figure size 432x288 with 1 Axes>"
      ]
     },
     "metadata": {
      "needs_background": "light"
     },
     "output_type": "display_data"
    }
   ],
   "source": [
    "df[df.국적=='미국'].groupby('year').매출액.mean().plot(kind='bar', rot=45)\n"
   ]
  },
  {
   "cell_type": "code",
   "execution_count": null,
   "metadata": {},
   "outputs": [],
   "source": []
  }
 ],
 "metadata": {
  "kernelspec": {
   "display_name": "Python 3",
   "language": "python",
   "name": "python3"
  },
  "language_info": {
   "codemirror_mode": {
    "name": "ipython",
    "version": 3
   },
   "file_extension": ".py",
   "mimetype": "text/x-python",
   "name": "python",
   "nbconvert_exporter": "python",
   "pygments_lexer": "ipython3",
   "version": "3.7.4"
  }
 },
 "nbformat": 4,
 "nbformat_minor": 2
}
