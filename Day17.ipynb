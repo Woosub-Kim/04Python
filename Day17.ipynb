{
 "cells": [
  {
   "cell_type": "code",
   "execution_count": null,
   "metadata": {},
   "outputs": [],
   "source": [
    "# 파이썬 삼항식\n",
    "a = 10\n",
    "b = 20\n",
    "\n",
    "result1 = a==b and a-b or a+b\n",
    "result2 = a-b if a==b else a+b\n",
    "\n",
    "print(result1)\n",
    "print(result2)\n",
    "\n",
    "a = 20\n",
    "b = 20\n",
    "\n",
    "result3 = a==b and str(a-b) or str(a+b) #0은 false로 인식한다\n",
    "result4 = a-b if a==b else a+b\n",
    "\n",
    "print(int(result3))\n",
    "print(result4)"
   ]
  }
 ],
 "metadata": {
  "kernelspec": {
   "display_name": "Python 3",
   "language": "python",
   "name": "python3"
  },
  "language_info": {
   "codemirror_mode": {
    "name": "ipython",
    "version": 3
   },
   "file_extension": ".py",
   "mimetype": "text/x-python",
   "name": "python",
   "nbconvert_exporter": "python",
   "pygments_lexer": "ipython3",
   "version": "3.7.4"
  }
 },
 "nbformat": 4,
 "nbformat_minor": 4
}
