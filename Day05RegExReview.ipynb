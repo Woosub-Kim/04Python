{
 "cells": [
  {
   "cell_type": "code",
   "execution_count": null,
   "metadata": {},
   "outputs": [],
   "source": []
  },
  {
   "cell_type": "code",
   "execution_count": 1,
   "metadata": {},
   "outputs": [
    {
     "name": "stdout",
     "output_type": "stream",
     "text": [
      "010-1234-5678\n",
      "['010-1234-5678', '010-8888-7777', '232-9898-7777']\n"
     ]
    },
    {
     "data": {
      "text/plain": [
       "'\\n\\\\d: 임의의 숫자\\n\\\\w: 문자 숫자, 밑줄글자\\n\\\\s: 빈칸, 탭, 줄바꿈문자\\n'"
      ]
     },
     "execution_count": 1,
     "metadata": {},
     "output_type": "execute_result"
    }
   ],
   "source": [
    "import re\n",
    "#re객체 만들기\n",
    "regex1 = re.compile(r'\\d\\d\\d-\\d\\d\\d\\d-\\d\\d\\d\\d')\n",
    "#search() 메소드\n",
    "print(regex1.search('010-1234-5678 내 전화번호야').group())\n",
    "#findall() 메소드\n",
    "phonenum = \"a: 010-1234-5678, b: 010-8888-7777, c: 232-9898-7777\"\n",
    "print(regex1.findall(phonenum))\n",
    "#참고\n",
    "\"\"\"\n",
    "\\d: 임의의 숫자\n",
    "\\w: 문자 숫자, 밑줄글자\n",
    "\\s: 빈칸, 탭, 줄바꿈문자\n",
    "\"\"\""
   ]
  },
  {
   "cell_type": "code",
   "execution_count": null,
   "metadata": {},
   "outputs": [],
   "source": [
    "import re\n",
    "re1 = re.cimpile(r'')"
   ]
  },
  {
   "cell_type": "code",
   "execution_count": 4,
   "metadata": {},
   "outputs": [
    {
     "name": "stdout",
     "output_type": "stream",
     "text": [
      "<re.Match object; span=(0, 6), match='batman'>\n",
      "<re.Match object; span=(0, 8), match='batwoman'>\n",
      "None\n",
      "None\n",
      "None\n",
      "++++++++++++++++++++++\n",
      "<re.Match object; span=(0, 6), match='batman'>\n",
      "<re.Match object; span=(0, 8), match='batwoman'>\n",
      "<re.Match object; span=(0, 10), match='batwowoman'>\n",
      "<re.Match object; span=(0, 12), match='batwowowoman'>\n",
      "<re.Match object; span=(0, 14), match='batwowowowoman'>\n",
      "++++++++++++++++++++++\n",
      "None\n",
      "<re.Match object; span=(0, 8), match='batwoman'>\n",
      "<re.Match object; span=(0, 10), match='batwowoman'>\n",
      "<re.Match object; span=(0, 12), match='batwowowoman'>\n",
      "<re.Match object; span=(0, 14), match='batwowowowoman'>\n",
      "++++++++++++++++++++++\n",
      "None\n",
      "None\n",
      "<re.Match object; span=(0, 10), match='batwowoman'>\n",
      "<re.Match object; span=(0, 12), match='batwowowoman'>\n",
      "None\n"
     ]
    }
   ],
   "source": [
    "# ?,*,+,{},\n",
    "regex2 = re.compile(r'bat(wo)?man')\n",
    "regex3 = re.compile(r'bat(wo)*man')\n",
    "regex4 = re.compile(r'bat(wo)+man')\n",
    "regex5 = re.compile(r'bat(wo){2,3}man')\n",
    "\n",
    "batman = 'batman'\n",
    "batwoman = 'batwoman'\n",
    "batwo2man = 'batwowoman'\n",
    "batwo3man = 'batwowowoman'\n",
    "batwo4man = 'batwowowowoman'\n",
    "# ?는 0또는 1개를 의미한다\n",
    "print(regex2.search(batman))\n",
    "print(regex2.search(batwoman))\n",
    "print(regex2.search(batwo2man))\n",
    "print(regex2.search(batwo3man))\n",
    "print(regex2.search(batwo4man))\n",
    "print('++++++++++++++++++++++')\n",
    "# *은 0이상의 정수개를 의미한다.\n",
    "print(regex3.search(batman))\n",
    "print(regex3.search(batwoman))\n",
    "print(regex3.search(batwo2man))\n",
    "print(regex3.search(batwo3man))\n",
    "print(regex3.search(batwo4man))\n",
    "print('++++++++++++++++++++++')\n",
    "# +는 1이상의 정수개를 의미한다\n",
    "print(regex4.search(batman))\n",
    "print(regex4.search(batwoman))\n",
    "print(regex4.search(batwo2man))\n",
    "print(regex4.search(batwo3man))\n",
    "print(regex4.search(batwo4man))\n",
    "print('++++++++++++++++++++++')\n",
    "#{}로 갯수(범위)를 지정할 수 있다\n",
    "print(regex5.search(batman))\n",
    "print(regex5.search(batwoman))\n",
    "print(regex5.search(batwo2man))\n",
    "print(regex5.search(batwo3man))\n",
    "print(regex5.search(batwo4man))"
   ]
  },
  {
   "cell_type": "code",
   "execution_count": 5,
   "metadata": {},
   "outputs": [
    {
     "name": "stdout",
     "output_type": "stream",
     "text": [
      "['o']\n",
      "['p', 'y', 't', 'h', 'n']\n"
     ]
    }
   ],
   "source": [
    "#사용자 정의 클래스\n",
    "#[]를 사용 ^는 부정을 의미\n",
    "moregex= re.compile(r'[aeiouAEIOU]')\n",
    "jaregex = re.compile(r'[^aeiouAEIOU]')\n",
    "print(moregex.findall('python'))\n",
    "print(jaregex.findall('python'))"
   ]
  },
  {
   "cell_type": "code",
   "execution_count": 6,
   "metadata": {},
   "outputs": [
    {
     "name": "stdout",
     "output_type": "stream",
     "text": [
      "[' a', ' b', ' c']\n",
      "@naver.com\n"
     ]
    }
   ],
   "source": [
    "#  .: 줄바꿈을 제외한 모든 문자 하나\n",
    "# .*: 모든 문자열\n",
    "initialregex = re.compile(r' .')\n",
    "print(initialregex.findall(' a b c'))\n",
    "domainregex = re.compile(r'@.*')\n",
    "print(domainregex.search('woosubgo@naver.com').group())"
   ]
  },
  {
   "cell_type": "code",
   "execution_count": 7,
   "metadata": {},
   "outputs": [
    {
     "data": {
      "text/plain": [
       "'피의자 아무개씨가(를) 검거되었다'"
      ]
     },
     "execution_count": 7,
     "metadata": {},
     "output_type": "execute_result"
    }
   ],
   "source": [
    "# sub()메소드 문자열 대체하기\n",
    "nameRegex = re.compile(r'피의자 \\w+')\n",
    "nameRegex.sub('피의자 아무개씨가(를)', '피의자 김모씨가 검거되었다')"
   ]
  }
 ],
 "metadata": {
  "kernelspec": {
   "display_name": "Python 3",
   "language": "python",
   "name": "python3"
  },
  "language_info": {
   "codemirror_mode": {
    "name": "ipython",
    "version": 3
   },
   "file_extension": ".py",
   "mimetype": "text/x-python",
   "name": "python",
   "nbconvert_exporter": "python",
   "pygments_lexer": "ipython3",
   "version": "3.7.4"
  }
 },
 "nbformat": 4,
 "nbformat_minor": 2
}
