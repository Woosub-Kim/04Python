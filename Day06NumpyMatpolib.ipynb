{
 "cells": [
  {
   "cell_type": "markdown",
   "metadata": {},
   "source": [
    "# Numpy"
   ]
  },
  {
   "cell_type": "code",
   "execution_count": 1,
   "metadata": {},
   "outputs": [
    {
     "name": "stdout",
     "output_type": "stream",
     "text": [
      "(5,)\n",
      "(2, 5)\n",
      "int32\n",
      "[0. 0. 0. 0. 0. 0. 0. 0. 0. 0.]\n",
      "[1. 1. 1. 1. 1. 1. 1. 1. 1. 1.]\n",
      "[3 4 5 6 7 8 9]\n",
      "[[ 2  4  6  8 10]\n",
      " [12 14 16 18 20]]\n",
      "[ 2  4  6  8 10]\n",
      "[0 0 0 0 0]\n",
      "[ 1  4  9 16 25]\n",
      "[1. 1. 1. 1. 1.]\n",
      "[ 5 10 15 20 25]\n",
      "[ 1  4  9 16 25]\n",
      "2\n",
      "[ True  True False False False  True False  True]\n",
      "[-1.03535877 -0.29986192 -0.47026096 -0.04221324  1.32912318]\n",
      "[[-0.4292983   0.30298696]\n",
      " [ 0.57707587  0.07747693]]\n",
      "23\n",
      "30\n",
      "[[ 1  2  3  4  5]\n",
      " [ 6  7  8  9 10]]\n",
      "0\n",
      "[[ 1  4  9 16 25]\n",
      " [ 6 14 24 36 50]]\n",
      "[ 1  3  6 10 15 21 28 36 45 55]\n",
      "[[ 1  3  6 10 15]\n",
      " [ 6 13 21 30 40]]\n",
      "[[ 1  2  3  4  5]\n",
      " [ 7  9 11 13 15]]\n",
      "[[1 9 8 5]\n",
      " [3 2 6 7]\n",
      " [5 4 9 7]]\n",
      "[[1 5 8 9]\n",
      " [2 3 6 7]\n",
      " [4 5 7 9]]\n",
      "[[4 5 7 9]\n",
      " [2 3 6 7]\n",
      " [1 5 8 9]]\n",
      "[[1 2 6 5]\n",
      " [3 4 8 7]\n",
      " [5 9 9 7]]\n",
      "[[1 5 8 9]\n",
      " [2 3 6 7]\n",
      " [4 5 7 9]]\n"
     ]
    }
   ],
   "source": [
    "# numpy 복습\n",
    "import numpy as np\n",
    "\n",
    "# array\n",
    "data1 = [1,2,3,4,5]\n",
    "data2 = [6,7,8,9,10]\n",
    "arr1 = np.array(data1)\n",
    "arr2 = np.array([data1, data2])\n",
    "print(arr1.shape)\n",
    "print(arr2.shape)\n",
    "print(arr1.dtype)\n",
    "\n",
    "#zeros() ones() arrange()메소드\n",
    "print(np.zeros(10))\n",
    "print(np.ones(10))\n",
    "print(np.arange(3,10))\n",
    "\n",
    "# array의 연산\n",
    "print(arr2+arr2)\n",
    "print(arr1+arr1)\n",
    "print(arr1-arr1)\n",
    "print(arr1*arr1)\n",
    "print(arr1/arr1)\n",
    "print(arr1*5)\n",
    "print(arr1**2)\n",
    "\n",
    "# array의 브로드캐스트(서로 다른 크기의 array간의 연산)\n",
    "#array([10, 11, 12])+array([[11, 13, 15], [14, 16, 18]]) \n",
    "# =>array([10,11,12],[10,11,12])로 변환되어 연산\n",
    "#array의 인덱싱\n",
    "print(arr2[0][1])\n",
    "\n",
    "# array 마스크\n",
    "names = np.array(['Beomwoo','Beomwoo','Kim','Joan','Lee','Beomwoo','Park','Beomwoo'])\n",
    "names_Beomwoo_mask = (names == 'Beomwoo')\n",
    "print(names_Beomwoo_mask)\n",
    "\n",
    "# 난수\n",
    "# randn() 표준 정규분포에서 array형태로 난수 출력\n",
    "print(np.random.randn(5))#인수에 따라 array의 모양이 달라진다\n",
    "print(np.random.randn(2,2))\n",
    "# rand() 0~1사이의 균일 분포에서 array형태로 난수 출력\n",
    "# randint()해당 범위 안의 정수중에서 한개를 출력\n",
    "print(np.random.randint(1,46))\n",
    "# 리스트의 원소 중 하나를 선택하는 코드\n",
    "yours = np.random.choice(['가위', '바위', '보'])\n",
    "\n",
    "# array 하나 혹은 정수 하나를 매개변수로 입력할 수 있는 numpu함수들\n",
    "# abs(), sqrt(), sqaure, exp()(e**x를 구함), log(), log10(), log(2)\n",
    "# sign()(원소의 부호), ceil(), floor(), isnan() (nan이면 True)\n",
    "# cos(), cosh(), sin(), sinh(), tan(), tanh()\n",
    "print(np.abs(-30))\n",
    "print(np.abs(arr2))\n",
    "print(np.sign(0))\n",
    "# array 두개에 적용되는 함수\n",
    "# add(), subtract(), multiply(), divide(), maximum(), minimum()\n",
    "print(np.multiply(arr1,arr2))\n",
    "\n",
    "# 통계 함수\n",
    "# sum(), mean(), std()표준편차, var()분산, min()최솟값, max()최댓값\n",
    "# argmin()최솟값의 인덱스, argmax()최댓값의 인덱스\n",
    "# cumsum(), cumprod() 누적합/누적곱\n",
    "print(np.cumsum(arr2))\n",
    "print(np.cumsum(arr2, axis=1))#열단위(가로로)\n",
    "print(np.cumsum(arr2, axis=0))#행단위(세로로)\n",
    "\n",
    "#sort()\n",
    "arr4 = np.array([[1,9,8,5],[3,2,6,7],[5,4,9,7]])\n",
    "print(arr4)\n",
    "print(np.sort(arr4))\n",
    "print(np.sort(arr4)[::-1])\n",
    "print(np.sort(arr4, axis=0))\n",
    "print(np.sort(arr4, axis=1))"
   ]
  },
  {
   "cell_type": "markdown",
   "metadata": {},
   "source": [
    "# Matpolib"
   ]
  },
  {
   "cell_type": "code",
   "execution_count": 2,
   "metadata": {},
   "outputs": [],
   "source": [
    "#Matpolib\n",
    "import matplotlib.pyplot as plt"
   ]
  },
  {
   "cell_type": "code",
   "execution_count": null,
   "metadata": {},
   "outputs": [],
   "source": [
    "# 한글\n",
    "import matplotlib as mpl\n",
    "import matplotlib.pyplot as plt    \n",
    "import matplotlib.font_manager as fm\n",
    "mpl.rcParams['axes.unicode_minus'] = False\n",
    "path = 'C:/windows/Fonts/malgun.ttf'\n",
    "font_name = fm.FontProperties(fname=path, size=50).get_name()\n",
    "plt.rc('font', family=font_name)"
   ]
  },
  {
   "cell_type": "code",
   "execution_count": 1,
   "metadata": {},
   "outputs": [
    {
     "ename": "NameError",
     "evalue": "name 'plt' is not defined",
     "output_type": "error",
     "traceback": [
      "\u001b[1;31m---------------------------------------------------------------------------\u001b[0m",
      "\u001b[1;31mNameError\u001b[0m                                 Traceback (most recent call last)",
      "\u001b[1;32m<ipython-input-1-7e38048c3f35>\u001b[0m in \u001b[0;36m<module>\u001b[1;34m\u001b[0m\n\u001b[0;32m      1\u001b[0m \u001b[1;31m#plot()\u001b[0m\u001b[1;33m\u001b[0m\u001b[1;33m\u001b[0m\u001b[1;33m\u001b[0m\u001b[0m\n\u001b[1;32m----> 2\u001b[1;33m \u001b[0mplt\u001b[0m\u001b[1;33m.\u001b[0m\u001b[0mfigure\u001b[0m\u001b[1;33m(\u001b[0m\u001b[1;33m)\u001b[0m\u001b[1;33m\u001b[0m\u001b[1;33m\u001b[0m\u001b[0m\n\u001b[0m\u001b[0;32m      3\u001b[0m \u001b[0mx\u001b[0m \u001b[1;33m=\u001b[0m \u001b[1;33m[\u001b[0m\u001b[1;36m1\u001b[0m\u001b[1;33m,\u001b[0m\u001b[1;36m2\u001b[0m\u001b[1;33m,\u001b[0m\u001b[1;36m3\u001b[0m\u001b[1;33m,\u001b[0m\u001b[1;36m4\u001b[0m\u001b[1;33m,\u001b[0m\u001b[1;36m5\u001b[0m\u001b[1;33m]\u001b[0m\u001b[1;33m\u001b[0m\u001b[1;33m\u001b[0m\u001b[0m\n\u001b[0;32m      4\u001b[0m \u001b[0my\u001b[0m \u001b[1;33m=\u001b[0m \u001b[1;33m[\u001b[0m\u001b[1;36m6\u001b[0m\u001b[1;33m,\u001b[0m\u001b[1;36m7\u001b[0m\u001b[1;33m,\u001b[0m\u001b[1;36m8\u001b[0m\u001b[1;33m,\u001b[0m\u001b[1;36m9\u001b[0m\u001b[1;33m,\u001b[0m\u001b[1;36m10\u001b[0m\u001b[1;33m]\u001b[0m\u001b[1;33m\u001b[0m\u001b[1;33m\u001b[0m\u001b[0m\n\u001b[0;32m      5\u001b[0m \u001b[0mplt\u001b[0m\u001b[1;33m.\u001b[0m\u001b[0mplot\u001b[0m\u001b[1;33m(\u001b[0m\u001b[0mx\u001b[0m\u001b[1;33m,\u001b[0m\u001b[0my\u001b[0m\u001b[1;33m)\u001b[0m\u001b[1;33m\u001b[0m\u001b[1;33m\u001b[0m\u001b[0m\n",
      "\u001b[1;31mNameError\u001b[0m: name 'plt' is not defined"
     ]
    }
   ],
   "source": [
    "#plot()\n",
    "plt.figure()\n",
    "x = [1,2,3,4,5]\n",
    "y = [6,7,8,9,10]\n",
    "plt.plot(x,y)"
   ]
  },
  {
   "cell_type": "code",
   "execution_count": 5,
   "metadata": {},
   "outputs": [
    {
     "data": {
      "text/plain": [
       "<matplotlib.legend.Legend at 0x7c3bc88>"
      ]
     },
     "execution_count": 5,
     "metadata": {},
     "output_type": "execute_result"
    },
    {
     "data": {
      "image/png": "[encoded data removed]",
      "text/plain": [
       "<Figure size 288x432 with 1 Axes>"
      ]
     },
     "metadata": {
      "needs_background": "light"
     },
     "output_type": "display_data"
    }
   ],
   "source": [
    "# 디자인\n",
    "plt.figure(figsize=(4,6))\n",
    "plt.plot(x,y,color = 'red',linestyle='dotted', label = 'Line1')\n",
    "#속성 뜻???\n",
    "plt.annotate('Line1', xytext=(10,10), xy=(10,10),arrowprops=dict(facecolor='yellow', shrink=0.1))\n",
    "plt.xlabel('X axis')\n",
    "plt.ylabel('Y axis')\n",
    "plt.legend(fancybox = True, shadow=True, loc='upper right')\n",
    "#plt.savefig('matpolib.jpg')\n"
   ]
  },
  {
   "cell_type": "code",
   "execution_count": 8,
   "metadata": {},
   "outputs": [
    {
     "data": {
      "text/plain": [
       "<matplotlib.collections.PathCollection at 0x8636d48>"
      ]
     },
     "execution_count": 8,
     "metadata": {},
     "output_type": "execute_result"
    },
    {
     "data": {
      "image/png": "[encoded data removed]",
      "text/plain": [
       "<Figure size 432x288 with 1 Axes>"
      ]
     },
     "metadata": {
      "needs_background": "light"
     },
     "output_type": "display_data"
    }
   ],
   "source": [
    "#scatter()\n",
    "plt.figure()\n",
    "#plt.scatter(x,y)\n",
    "plt.scatter(x,y, c='g', marker='x',s=100, alpha=0.5)"
   ]
  },
  {
   "cell_type": "code",
   "execution_count": 9,
   "metadata": {},
   "outputs": [
    {
     "data": {
      "text/plain": [
       "<BarContainer object of 5 artists>"
      ]
     },
     "execution_count": 9,
     "metadata": {},
     "output_type": "execute_result"
    },
    {
     "data": {
      "image/png": "[encoded data removed]",
      "text/plain": [
       "<Figure size 432x288 with 1 Axes>"
      ]
     },
     "metadata": {
      "needs_background": "light"
     },
     "output_type": "display_data"
    }
   ],
   "source": [
    "#bar()\n",
    "plt.bar(x,y, color='g', width=0.5)"
   ]
  },
  {
   "cell_type": "code",
   "execution_count": 10,
   "metadata": {},
   "outputs": [
    {
     "data": {
      "image/png": "[encoded data removed]",
      "text/plain": [
       "<Figure size 432x288 with 1 Axes>"
      ]
     },
     "metadata": {
      "needs_background": "light"
     },
     "output_type": "display_data"
    }
   ],
   "source": [
    "#hist()\n",
    "z = [1,1,1,2,2,3,4,5,5,5,7,8,9,3,3,3,4,4,1,1,5,5,2,2,7,6]\n",
    "plt.hist(z, bins=100)\n",
    "plt.show()"
   ]
  },
  {
   "cell_type": "code",
   "execution_count": 15,
   "metadata": {},
   "outputs": [
    {
     "data": {
      "image/png": "[encoded data removed]",
      "text/plain": [
       "<Figure size 432x288 with 1 Axes>"
      ]
     },
     "metadata": {
      "needs_background": "light"
     },
     "output_type": "display_data"
    }
   ],
   "source": [
    "#boxplot()\n",
    "import numpy as np\n",
    "data = np.array([[6,25,152,50],[4,23,57,17],[6,22,52,19]])\n",
    "plt.boxplot(data)\n",
    "plt.show()"
   ]
  },
  {
   "cell_type": "code",
   "execution_count": null,
   "metadata": {},
   "outputs": [],
   "source": []
  }
 ],
 "metadata": {
  "kernelspec": {
   "display_name": "Python 3",
   "language": "python",
   "name": "python3"
  },
  "language_info": {
   "codemirror_mode": {
    "name": "ipython",
    "version": 3
   },
   "file_extension": ".py",
   "mimetype": "text/x-python",
   "name": "python",
   "nbconvert_exporter": "python",
   "pygments_lexer": "ipython3",
   "version": "3.7.4"
  }
 },
 "nbformat": 4,
 "nbformat_minor": 2
}
